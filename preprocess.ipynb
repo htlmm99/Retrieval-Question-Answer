{
  "cells": [
    {
      "cell_type": "code",
      "execution_count": 21,
      "metadata": {
        "id": "oBB8FYTTU71b",
        "colab": {
          "base_uri": "https://localhost:8080/"
        },
        "outputId": "c79fc0a4-982f-4ba2-a6d7-3f3931fd2c9e"
      },
      "outputs": [
        {
          "output_type": "stream",
          "name": "stdout",
          "text": [
            "Mounted at /content/drive\n"
          ]
        }
      ],
      "source": [
        "from google.colab import drive\n",
        "drive.mount('/content/drive')"
      ]
    },
    {
      "cell_type": "code",
      "execution_count": null,
      "metadata": {
        "id": "5conkXWkVBJN"
      },
      "outputs": [],
      "source": [
        "import json\n",
        "questions = []\n",
        "data_path = \"/content/drive/MyDrive/Tài liệu học kỳ/Học kỳ 20222/Đồ án tốt nghiệp/zac2021-ltr-data/train_question_answer.json\"\n",
        "with open(data_path) as json_file:\n",
        "    questions_json = json.load(json_file)\n",
        "    questions = questions_json['items']\n",
        "# for question in questions_json['items']:\n",
        "#     label = question[\"relevant_articles\"][0]['law_id'] + \"###\" + question[\"relevant_articles\"][0]['article_id']\n",
        "#     q = question['question']\n",
        "#     id = question['question_id']\n",
        "#     questions.append([id, q, label])"
      ]
    },
    {
      "cell_type": "code",
      "execution_count": null,
      "metadata": {
        "colab": {
          "base_uri": "https://localhost:8080/"
        },
        "id": "72cfQDT_VeGm",
        "outputId": "0b44734b-3745-4934-8f73-ddbdbb985bb2"
      },
      "outputs": [
        {
          "data": {
            "text/plain": [
              "{'question': 'Công an xã xử phạt lỗi không mang bằng lái xe có đúng không?',\n",
              " 'question_id': '0637bf82c8b290c7875c5bfddbf91df5',\n",
              " 'relevant_articles': [{'article_id': '7', 'law_id': '47/2011/tt-bca'}]}"
            ]
          },
          "execution_count": 30,
          "metadata": {},
          "output_type": "execute_result"
        }
      ],
      "source": [
        "questions[0]"
      ]
    },
    {
      "cell_type": "markdown",
      "metadata": {
        "id": "J7VYQoFkXvZT"
      },
      "source": [
        "## Chia train test từ file Question.json\n"
      ]
    },
    {
      "cell_type": "code",
      "execution_count": null,
      "metadata": {
        "colab": {
          "base_uri": "https://localhost:8080/"
        },
        "id": "M0t5cx8SVonk",
        "outputId": "8f0be40b-3614-4e44-98f2-2adc935f3597"
      },
      "outputs": [
        {
          "name": "stdout",
          "output_type": "stream",
          "text": [
            "Số câu hỏi tập train:  2716\n",
            "Số câu hỏi tập test:  480\n"
          ]
        }
      ],
      "source": [
        "questions_train = questions[:int(0.85*len(questions))]\n",
        "questions_test = questions[int(0.85*len(questions)) : ]\n",
        "print(\"Số câu hỏi tập train: \", len(questions_train))\n",
        "print(\"Số câu hỏi tập test: \", len(questions_test))"
      ]
    },
    {
      "cell_type": "code",
      "execution_count": null,
      "metadata": {
        "colab": {
          "base_uri": "https://localhost:8080/"
        },
        "id": "KG_WILArVxdk",
        "outputId": "5e8bf73e-817c-406c-f53d-0174b2b06b1b"
      },
      "outputs": [
        {
          "data": {
            "text/plain": [
              "{'question': 'Thời hạn hiệu lực quyết định công bố hoạt động bến thủy nội địa phục vụ thi công công trình chính được quy định như thế nào?',\n",
              " 'question_id': '181790aebab8ff9a9ce377a90fe0527c',\n",
              " 'relevant_articles': [{'article_id': '19', 'law_id': '08/2021/nđ-cp'}]}"
            ]
          },
          "execution_count": 32,
          "metadata": {},
          "output_type": "execute_result"
        }
      ],
      "source": [
        "questions_train[2715]"
      ]
    },
    {
      "cell_type": "code",
      "execution_count": null,
      "metadata": {
        "colab": {
          "base_uri": "https://localhost:8080/"
        },
        "id": "P22-fCQoWVCE",
        "outputId": "32b2a167-5f3e-4406-e362-cb5d1ff29ca6"
      },
      "outputs": [
        {
          "data": {
            "text/plain": [
              "{'question': 'Những dịch vụ nào được cung cấp trực tuyến trong việc kiểm soát hộ chiếu công dân Việt Nam?',\n",
              " 'question_id': '142e0483fd375f557561ace15e2aea83',\n",
              " 'relevant_articles': [{'article_id': '8', 'law_id': '77/2020/nđ-cp'}]}"
            ]
          },
          "execution_count": 33,
          "metadata": {},
          "output_type": "execute_result"
        }
      ],
      "source": [
        "questions_test[0]"
      ]
    },
    {
      "cell_type": "code",
      "execution_count": null,
      "metadata": {
        "id": "EwAnDdnDWomj"
      },
      "outputs": [],
      "source": [
        "import codecs\n",
        "import os\n",
        "dest_path = '/content/drive/MyDrive/Tài liệu học kỳ/Học kỳ 20222/Đồ án tốt nghiệp/Training Data'\n",
        "file_name = 'questions_train.json'\n",
        "\n",
        "file_path = os.path.join(dest_path, file_name)\n",
        "with codecs.open(file_path, \"w\", encoding='utf8') as outfile:\n",
        "        json.dump(questions_train , outfile, ensure_ascii=False)"
      ]
    },
    {
      "cell_type": "code",
      "execution_count": null,
      "metadata": {
        "id": "SMhlcW2QXm1s"
      },
      "outputs": [],
      "source": [
        "import codecs\n",
        "import os\n",
        "dest_path = '/content/drive/MyDrive/Tài liệu học kỳ/Học kỳ 20222/Đồ án tốt nghiệp/Training Data'\n",
        "file_name = 'questions_test.json'\n",
        "\n",
        "file_path = os.path.join(dest_path, file_name)\n",
        "with codecs.open(file_path, \"w\", encoding='utf8') as outfile:\n",
        "        json.dump(questions_test , outfile, ensure_ascii=False)"
      ]
    },
    {
      "cell_type": "markdown",
      "metadata": {
        "id": "kQo8KyLdaWmK"
      },
      "source": [
        "## Các functions xử lý"
      ]
    },
    {
      "cell_type": "code",
      "execution_count": null,
      "metadata": {
        "colab": {
          "base_uri": "https://localhost:8080/"
        },
        "id": "fVBdI3M6aeAK",
        "outputId": "568fb464-7cb3-449f-b5f7-5ab54f01b7e1"
      },
      "outputs": [
        {
          "name": "stdout",
          "output_type": "stream",
          "text": [
            "Collecting underthesea\n",
            "  Downloading underthesea-1.3.4-py3-none-any.whl (7.6 MB)\n",
            "\u001b[K     |████████████████████████████████| 7.6 MB 12.2 MB/s \n",
            "\u001b[?25hRequirement already satisfied: nltk in /usr/local/lib/python3.7/dist-packages (from underthesea) (3.2.5)\n",
            "Collecting unidecode\n",
            "  Downloading Unidecode-1.3.4-py3-none-any.whl (235 kB)\n",
            "\u001b[K     |████████████████████████████████| 235 kB 61.1 MB/s \n",
            "\u001b[?25hRequirement already satisfied: joblib in /usr/local/lib/python3.7/dist-packages (from underthesea) (1.1.0)\n",
            "Requirement already satisfied: Click>=6.0 in /usr/local/lib/python3.7/dist-packages (from underthesea) (7.1.2)\n",
            "Requirement already satisfied: scikit-learn in /usr/local/lib/python3.7/dist-packages (from underthesea) (1.0.2)\n",
            "Requirement already satisfied: PyYAML in /usr/local/lib/python3.7/dist-packages (from underthesea) (3.13)\n",
            "Requirement already satisfied: tqdm in /usr/local/lib/python3.7/dist-packages (from underthesea) (4.64.0)\n",
            "Collecting python-crfsuite>=0.9.6\n",
            "  Downloading python_crfsuite-0.9.8-cp37-cp37m-manylinux_2_17_x86_64.manylinux2014_x86_64.whl (965 kB)\n",
            "\u001b[K     |████████████████████████████████| 965 kB 63.1 MB/s \n",
            "\u001b[?25hCollecting underthesea-core==0.0.4_alpha.10\n",
            "  Downloading underthesea_core-0.0.4_alpha.10-cp37-cp37m-manylinux2010_x86_64.whl (581 kB)\n",
            "\u001b[K     |████████████████████████████████| 581 kB 57.9 MB/s \n",
            "\u001b[?25hRequirement already satisfied: requests in /usr/local/lib/python3.7/dist-packages (from underthesea) (2.23.0)\n",
            "Requirement already satisfied: six in /usr/local/lib/python3.7/dist-packages (from nltk->underthesea) (1.15.0)\n",
            "Requirement already satisfied: idna<3,>=2.5 in /usr/local/lib/python3.7/dist-packages (from requests->underthesea) (2.10)\n",
            "Requirement already satisfied: urllib3!=1.25.0,!=1.25.1,<1.26,>=1.21.1 in /usr/local/lib/python3.7/dist-packages (from requests->underthesea) (1.24.3)\n",
            "Requirement already satisfied: chardet<4,>=3.0.2 in /usr/local/lib/python3.7/dist-packages (from requests->underthesea) (3.0.4)\n",
            "Requirement already satisfied: certifi>=2017.4.17 in /usr/local/lib/python3.7/dist-packages (from requests->underthesea) (2021.10.8)\n",
            "Requirement already satisfied: numpy>=1.14.6 in /usr/local/lib/python3.7/dist-packages (from scikit-learn->underthesea) (1.21.6)\n",
            "Requirement already satisfied: threadpoolctl>=2.0.0 in /usr/local/lib/python3.7/dist-packages (from scikit-learn->underthesea) (3.1.0)\n",
            "Requirement already satisfied: scipy>=1.1.0 in /usr/local/lib/python3.7/dist-packages (from scikit-learn->underthesea) (1.4.1)\n",
            "Installing collected packages: unidecode, underthesea-core, python-crfsuite, underthesea\n",
            "Successfully installed python-crfsuite-0.9.8 underthesea-1.3.4 underthesea-core-0.0.4a10 unidecode-1.3.4\n"
          ]
        }
      ],
      "source": [
        "!pip install underthesea"
      ]
    },
    {
      "cell_type": "code",
      "execution_count": null,
      "metadata": {
        "id": "Pwd4EFo1XqQ7"
      },
      "outputs": [],
      "source": [
        "import string\n",
        "from underthesea import word_tokenize\n",
        "import os\n",
        "import json"
      ]
    },
    {
      "cell_type": "code",
      "execution_count": null,
      "metadata": {
        "id": "pr7rVtbPacXS"
      },
      "outputs": [],
      "source": [
        "# Tiến xử lý văn bản\n",
        "from underthesea import word_tokenize\n",
        "def remove_stopword(w):\n",
        "    stop_word = [\"1\", \"2\", \"3\", \"4\", \"5\", \"6\", \"7\", \"8\", \"9\", \"10\" ,\n",
        "            \"của\", \"và\", \"các\", \"có\", \"được\", \"theo\", \"tại\", \"trong\", \"về\", \n",
        "            \"hoặc\", \"người\",  \"này\", \"khoản\", \"cho\", \"không\", \"từ\", \"phải\", \n",
        "            \"ngày\", \"việc\", \"sau\",  \"để\",  \"đến\", \"bộ\",  \"với\", \"là\", \"năm\", \n",
        "            \"khi\", \"số\", \"trên\", \"khác\", \"đã\", \"thì\", \"thuộc\", \"điểm\", \"đồng\",\n",
        "            \"do\", \"một\", \"bị\", \"vào\", \"lại\", \"ở\", \"nếu\", \"làm\", \"đây\", \n",
        "            \"như\", \"đó\", \"mà\", \"nơi\", \"”\", \"“\"]\n",
        "    return w not in stop_word\n",
        "\n",
        "def remove_punctuation(w):\n",
        "    return w not in string.punctuation\n",
        "\n",
        "def lower_case(w):\n",
        "    return w.lower()"
      ]
    },
    {
      "cell_type": "code",
      "execution_count": null,
      "metadata": {
        "id": "3hPROthka0mo"
      },
      "outputs": [],
      "source": [
        "# BM25 Tokenizer\n",
        "def bm25_tokenizer(text):\n",
        "    tokens = word_tokenize(text)\n",
        "    tokens = list(map(lower_case, tokens))\n",
        "    tokens = list(filter(remove_punctuation, tokens))\n",
        "    tokens = list(filter(remove_stopword, tokens))\n",
        "    return tokens"
      ]
    },
    {
      "cell_type": "code",
      "execution_count": null,
      "metadata": {
        "id": "DKGOPC6Sa90C"
      },
      "outputs": [],
      "source": [
        "# Chỉ số F2\n",
        "def calculate_f2(precision, recall):        \n",
        "    return (5 * precision * recall) / (4 * precision + recall + 1e-20)"
      ]
    },
    {
      "cell_type": "markdown",
      "metadata": {
        "id": "WgzPrjkWbHMy"
      },
      "source": [
        "## BM25 train"
      ]
    },
    {
      "cell_type": "code",
      "execution_count": null,
      "metadata": {
        "colab": {
          "base_uri": "https://localhost:8080/"
        },
        "id": "Go2qK2x-hU4_",
        "outputId": "4dcf7539-88ac-4b75-dcf9-c95e81074b84"
      },
      "outputs": [
        {
          "name": "stdout",
          "output_type": "stream",
          "text": [
            "Collecting rank_bm25\n",
            "  Downloading rank_bm25-0.2.2-py3-none-any.whl (8.6 kB)\n",
            "Requirement already satisfied: numpy in /usr/local/lib/python3.7/dist-packages (from rank_bm25) (1.21.6)\n",
            "Installing collected packages: rank-bm25\n",
            "Successfully installed rank-bm25-0.2.2\n"
          ]
        }
      ],
      "source": [
        "!pip install rank_bm25"
      ]
    },
    {
      "cell_type": "code",
      "execution_count": null,
      "metadata": {
        "id": "Rme8JxODbk37"
      },
      "outputs": [],
      "source": [
        "import os\n",
        "import json\n",
        "import pickle\n",
        "import numpy as np\n",
        "from tqdm import tqdm\n",
        "from rank_bm25 import *\n",
        "dest_path = '/content/drive/MyDrive/Tài liệu học kỳ/Học kỳ 20222/Đồ án tốt nghiệp/Training Data'\n",
        "legal_corpus_path = \"/content/drive/MyDrive/Tài liệu học kỳ/Học kỳ 20222/Đồ án tốt nghiệp/zac2021-ltr-data/legal_corpus.json\"\n",
        "model_path = '/content/drive/MyDrive/Tài liệu học kỳ/Học kỳ 20222/Đồ án tốt nghiệp/Model'"
      ]
    },
    {
      "cell_type": "code",
      "execution_count": null,
      "metadata": {
        "colab": {
          "base_uri": "https://localhost:8080/"
        },
        "id": "wu8zsFUPbUdY",
        "outputId": "2bd191dd-8cd2-48d6-9230-02496cfdf353"
      },
      "outputs": [
        {
          "name": "stdout",
          "output_type": "stream",
          "text": [
            "{'law_id': '01/2009/tt-bnn', 'articles': [{'article_id': '1', 'title': 'Điều 1. Phạm vi áp dụng', 'text': 'Thông tư này hướng dẫn tuần tra, canh gác bảo vệ đê Điều trong mùa lũ đối với các tuyến đê sông được phân loại, phân cấp theo quy định tại Điều 4 của Luật Đê Điều.'}, {'article_id': '2', 'title': 'Điều 2. Tổ chức lực lượng', 'text': '1. Hàng năm trước mùa mưa, lũ, Ủy ban nhân dân cấp xã nơi có đê phải tổ chức lực lượng lao động tại địa phương để tuần tra, canh gác đê và thường trực trên các điếm canh đê hoặc nhà dân khu vực gần đê (đối với những khu vực chưa có điếm canh đê), khi có báo động lũ từ cấp I trở lên đối với tuyến sông có đê (sau đây gọi tắt là lực lượng tuần tra, canh gác đê).\\n2. Lực lượng tuần tra, canh gác đê được tổ chức thành các đội, do Ủy ban nhân dân cấp xã ra quyết định thành lập; từ 01 đến 02 kilômét đê thành lập 01 đội; mỗi đội có từ 12 đến 18 người, trong đó có 01 đội trưởng và 01 hoặc 02 đội phó. Danh sách thành viên đội tuần tra, canh gác đê được niêm yết tại điếm canh đê thuộc địa bàn được phân công.\\n3. Khi lũ, bão có diễn biến phức tạp, kéo dài ngày, Uỷ ban nhân dân cấp xã có thể quyết định việc bổ sung thêm thành viên cho đội tuần tra, canh gác đê.'}, {'article_id': '3', 'title': 'Điều 3. Tiêu chuẩn của các thành viên thuộc lực lượng tuần tra, canh gác đê', 'text': '1. Là người khoẻ mạnh, tháo vát, đủ khả năng đảm đương những công việc nặng nhọc, kể cả lúc mưa to, gió lớn, đêm tối.\\n2. Có tinh thần trách nhiệm, chịu đựng gian khổ, khắc phục khó khăn, quen sông nước và biết bơi, có kiến thức, kinh nghiệm hộ đê, phòng, chống lụt, bão.'}, {'article_id': '4', 'title': 'Điều 4. Nhiệm vụ của lực lượng tuần tra, canh gác đê', 'text': '1. Chấp hành sự phân công của Ban chỉ huy phòng, chống lụt, bão các cấp và chịu sự hướng dẫn về chuyên môn nghiệp vụ của cơ quan chuyên trách quản lý đê Điều.\\n2. Tuần tra, canh gác và thường trực trên các điếm canh đê, khi có báo động lũ từ cấp I trở lên đối với tuyến sông có đê. Theo dõi diễn biến của đê Điều; phát hiện kịp thời những hư hỏng của đê Điều và báo cáo ngay cho Ban chỉ huy chống lụt bão xã, cán bộ chuyên trách quản lý đê Điều phụ trách tuyến đê đó và khẩn trương tiến hành xử lý giờ đầu theo đúng kỹ thuật đã được hướng dẫn.\\n3. Tham gia xử lý sự cố và tu sửa kịp thời những hư hỏng của đê Điều, dưới sự hướng dẫn về kỹ thuật của cán bộ chuyên trách quản lý đê Điều hoặc ý kiến chỉ đạo của cấp trên.\\n4. Canh gác, kiểm tra phát hiện và ngăn chặn kịp thời những hành vi vi phạm pháp Luật về đê Điều và phòng, chống lụt, bão và báo cáo ngay cán bộ chuyên trách quản lý đê Điều.\\n5. Đeo phù hiệu khi làm nhiệm vụ.'}, {'article_id': '5', 'title': 'Điều 5. Phù hiệu của lực lượng tuần tra, canh gác đê', 'text': 'Phù hiệu của lực lượng tuần tra, canh gác đê là một băng đỏ rộng 10cm, có ký hiệu “KTĐ” màu vàng.\\nPhù hiệu được đeo trên khuỷu tay áo bên trái, chữ “KTĐ” hướng ra phía ngoài.'}, {'article_id': '6', 'title': 'Điều 6. Trang bị dụng cụ, sổ sách', 'text': '1. Lực lượng tuần tra, canh gác đê được trang bị:\\n- Dụng cụ thông tin, liên lạc, phương tiện phục vụ công tác tuần tra, canh gác đê; dụng cụ ứng cứu như đèn, đuốc, mai, cuốc, xẻng, đầm, vồ… và các dụng cụ cần thiết khác phù hợp với từng địa phương;\\n- Sổ sách để ghi chép tình hình diễn biến của đê, kè bảo vệ đê, cống qua đê, công trình quản lý khác; tiếp nhận chỉ thị, nhận xét của cấp trên, phân công, bố trí người tuần tra, canh gác hàng ngày.\\n2. Số lượng dụng cụ, sổ sách tối thiểu được trang bị cho mỗi đội tuần tra, canh gác đê như sau:\\na) Về dụng cụ:\\n- Áo phao:\\xa0\\xa0\\xa0\\xa0\\xa0\\xa0\\xa0\\xa0\\xa0\\xa0\\xa0\\xa0\\xa0\\xa0\\xa0\\xa0\\xa0\\xa0\\xa0\\xa0\\xa0\\xa0\\xa0\\xa0\\xa0\\xa0\\xa0\\xa0\\xa0\\xa0\\xa0\\xa0\\xa0\\xa0\\xa0\\xa0\\xa0\\xa0\\xa0\\xa0\\xa0\\xa0\\xa0\\xa0 06 cái;\\n- Áo đi mưa:\\xa0\\xa0\\xa0\\xa0\\xa0\\xa0\\xa0\\xa0\\xa0\\xa0\\xa0\\xa0\\xa0\\xa0\\xa0\\xa0\\xa0\\xa0\\xa0\\xa0\\xa0\\xa0\\xa0\\xa0\\xa0\\xa0\\xa0\\xa0\\xa0\\xa0\\xa0\\xa0\\xa0\\xa0\\xa0\\xa0\\xa0\\xa0\\xa0\\xa0\\xa0 18 cái;\\n- Xe cải tiến:\\xa0\\xa0\\xa0\\xa0\\xa0\\xa0\\xa0\\xa0\\xa0\\xa0\\xa0\\xa0\\xa0\\xa0\\xa0\\xa0\\xa0\\xa0\\xa0\\xa0\\xa0\\xa0\\xa0\\xa0\\xa0\\xa0\\xa0\\xa0\\xa0\\xa0\\xa0\\xa0\\xa0\\xa0\\xa0\\xa0\\xa0\\xa0\\xa0\\xa0\\xa0 02 chiếc;\\n- Quang gánh :\\xa0\\xa0\\xa0\\xa0\\xa0\\xa0\\xa0\\xa0\\xa0\\xa0\\xa0\\xa0\\xa0\\xa0\\xa0\\xa0\\xa0\\xa0\\xa0\\xa0\\xa0\\xa0\\xa0\\xa0\\xa0\\xa0\\xa0\\xa0\\xa0\\xa0\\xa0\\xa0\\xa0\\xa0\\xa0\\xa0\\xa0\\xa0 10 đôi;\\n- Xẻng:\\xa0\\xa0\\xa0\\xa0\\xa0\\xa0\\xa0\\xa0\\xa0\\xa0\\xa0\\xa0\\xa0\\xa0\\xa0\\xa0\\xa0\\xa0\\xa0\\xa0\\xa0\\xa0\\xa0\\xa0\\xa0\\xa0\\xa0\\xa0\\xa0\\xa0\\xa0\\xa0\\xa0\\xa0\\xa0\\xa0\\xa0\\xa0\\xa0\\xa0\\xa0\\xa0\\xa0\\xa0\\xa0\\xa0\\xa0\\xa0\\xa0 06 cái;\\n- Cuốc:\\xa0\\xa0\\xa0\\xa0\\xa0\\xa0\\xa0\\xa0\\xa0\\xa0\\xa0\\xa0\\xa0\\xa0\\xa0\\xa0\\xa0\\xa0\\xa0\\xa0\\xa0\\xa0\\xa0\\xa0\\xa0\\xa0\\xa0\\xa0\\xa0\\xa0\\xa0\\xa0\\xa0\\xa0\\xa0\\xa0\\xa0\\xa0\\xa0\\xa0\\xa0\\xa0\\xa0\\xa0\\xa0\\xa0\\xa0\\xa0\\xa0 06 cái;\\n- Mai đào đất:\\xa0\\xa0\\xa0\\xa0\\xa0\\xa0\\xa0\\xa0\\xa0\\xa0\\xa0\\xa0\\xa0\\xa0\\xa0\\xa0\\xa0\\xa0\\xa0\\xa0\\xa0\\xa0\\xa0\\xa0\\xa0\\xa0\\xa0\\xa0\\xa0\\xa0\\xa0\\xa0\\xa0\\xa0\\xa0\\xa0\\xa0\\xa0\\xa0 02 cái;\\n- Xè beng:\\xa0\\xa0\\xa0\\xa0\\xa0\\xa0\\xa0\\xa0\\xa0\\xa0\\xa0\\xa0\\xa0\\xa0\\xa0\\xa0\\xa0\\xa0\\xa0\\xa0\\xa0\\xa0\\xa0\\xa0\\xa0\\xa0\\xa0\\xa0\\xa0\\xa0\\xa0\\xa0\\xa0\\xa0\\xa0\\xa0\\xa0\\xa0\\xa0\\xa0\\xa0\\xa0\\xa0\\xa0\\xa0 01 cái;\\n- Dao:\\xa0\\xa0\\xa0\\xa0\\xa0\\xa0\\xa0\\xa0\\xa0\\xa0\\xa0\\xa0\\xa0\\xa0\\xa0\\xa0\\xa0\\xa0\\xa0\\xa0\\xa0\\xa0\\xa0\\xa0\\xa0\\xa0\\xa0\\xa0\\xa0\\xa0\\xa0\\xa0\\xa0\\xa0\\xa0\\xa0\\xa0\\xa0\\xa0\\xa0\\xa0\\xa0\\xa0\\xa0\\xa0\\xa0\\xa0\\xa0\\xa0\\xa0 10 con;\\n- Vồ:\\xa0\\xa0\\xa0\\xa0\\xa0\\xa0\\xa0\\xa0\\xa0\\xa0\\xa0\\xa0\\xa0\\xa0\\xa0\\xa0\\xa0\\xa0\\xa0\\xa0\\xa0\\xa0\\xa0\\xa0\\xa0\\xa0\\xa0\\xa0\\xa0\\xa0\\xa0\\xa0\\xa0\\xa0\\xa0\\xa0\\xa0\\xa0\\xa0\\xa0\\xa0\\xa0\\xa0\\xa0\\xa0\\xa0\\xa0\\xa0\\xa0\\xa0\\xa0\\xa0 05 cái;\\n- Đèn bão:\\xa0\\xa0\\xa0\\xa0\\xa0\\xa0\\xa0\\xa0\\xa0\\xa0\\xa0\\xa0\\xa0\\xa0\\xa0\\xa0\\xa0\\xa0\\xa0\\xa0\\xa0\\xa0\\xa0\\xa0\\xa0\\xa0\\xa0\\xa0\\xa0\\xa0\\xa0\\xa0\\xa0\\xa0\\xa0\\xa0\\xa0\\xa0\\xa0\\xa0\\xa0\\xa0\\xa0\\xa0 05 cái;\\n- Đèn ắc quy hoặc đèn pin:\\xa0\\xa0\\xa0\\xa0\\xa0\\xa0\\xa0\\xa0\\xa0\\xa0\\xa0\\xa0\\xa0\\xa0\\xa0\\xa0\\xa0\\xa0\\xa0\\xa0 05 cái;\\n- Trống hoặc kẻng:\\xa0\\xa0\\xa0\\xa0\\xa0\\xa0\\xa0\\xa0\\xa0\\xa0\\xa0\\xa0\\xa0\\xa0\\xa0\\xa0\\xa0\\xa0\\xa0\\xa0\\xa0\\xa0\\xa0\\xa0\\xa0\\xa0\\xa0\\xa0\\xa0\\xa0\\xa0\\xa0 01 cái;\\n- Biển tín hiệu báo động lũ:\\xa0\\xa0\\xa0\\xa0\\xa0\\xa0\\xa0\\xa0\\xa0\\xa0\\xa0\\xa0\\xa0\\xa0\\xa0\\xa0\\xa0\\xa0\\xa0\\xa0 01 bộ;\\n- Đèn tín hiệu báo động lũ:\\xa0\\xa0\\xa0\\xa0\\xa0\\xa0\\xa0\\xa0\\xa0\\xa0\\xa0\\xa0\\xa0\\xa0\\xa0\\xa0\\xa0\\xa0\\xa0\\xa0\\xa0 01 bộ;\\n- Tiêu, bảng báo hiệu hư hỏng: \\xa0\\xa0\\xa0\\xa0\\xa0\\xa0\\xa0\\xa0\\xa0\\xa0\\xa0\\xa0\\xa0\\xa0 20 cái;\\n- Dầu hỏa:\\xa0\\xa0\\xa0\\xa0\\xa0\\xa0\\xa0\\xa0\\xa0\\xa0\\xa0\\xa0\\xa0\\xa0\\xa0\\xa0\\xa0\\xa0\\xa0\\xa0\\xa0\\xa0\\xa0\\xa0\\xa0\\xa0\\xa0\\xa0\\xa0\\xa0\\xa0\\xa0 \\xa0\\xa0\\xa0\\xa0\\xa0\\xa0\\xa0\\xa0\\xa0\\xa0\\xa0 10 lít.\\nb) Về sổ sách:\\n- Sổ ghi danh sách, phân công người tuần tra canh gác theo từng ca, kíp trong ngày; ghi chỉ thị, ý kiến của cấp trên và những nội dung đã báo cáo với cấp trên trong ngày.\\n- Sổ nhật ký ghi chép diễn biến của đê, kè bảo vệ đê, cống qua đê và công trình quản lý khác;\\nNhững sổ sách trên phải giữ gìn cẩn thận, ghi chép rõ ràng và thường xuyên để ở trụ sở của đội (điếm canh đê hoặc nhà dân khu vực gần đê - đối với những khu vực chưa có điếm canh đê); nếu không có lệnh của đội trưởng thì không được mang sổ sách đi nơi khác.\\nc) Dụng cụ, sổ sách trên được để tại trụ sở của đội và được bàn giao giữa các kíp trực.\\n3. Kinh phí mua sắm dụng cụ, sổ sách quy định tại khoản 2 của Điều này lấy trong quỹ phòng, chống lụt, bão hoặc ngân sách hàng năm của địa phương.\\n4. Ủy ban nhân dân cấp huyện có đê, trước mùa lũ chịu trách nhiệm mua sắm dụng cụ, sổ sách quy định tại khoản 2 Điều này để cấp cho các đội tuần tra, canh gác đê.\\n5. Sau mùa lũ, đội trưởng các đội tuần tra, canh gác đê có trách nhiệm tổng hợp, thống kê và trao trả số dụng cụ quy định tại điểm a khoản 2 Điều này để bảo quản theo hướng dẫn của Ủy ban nhân dân cấp huyện.\\n6. Các loại sổ sách quy định tại điểm b khoản 2 Điều này, đội trưởng đội tuần tra, canh gác đê có trách nhiệm bàn giao cho đội chuyên trách quản lý đê Điều để xử lý và bảo quản.\\n7. Việc giao nhận các dụng cụ và sổ sách trên đây phải được lập biên bản để quản lý, theo dõi.'}, {'article_id': '7', 'title': 'Điều 7. Tín hiệu, cấp báo động lũ', 'text': '1. Khi báo động lũ ở cấp I trở lên, đội tuần tra, canh gác đê phải báo tín hiệu cấp báo động lũ tại các điếm canh đê, như sau:\\na) - Báo động lũ ở cấp I: 01 đèn màu xanh (ban ngày có thể bổ sung 01 biển hoặc cờ, hình tam giác màu đỏ để dễ nhận biết);\\n- Báo động lũ ở cấp II:\\xa0\\xa0\\xa0 02 đèn màu xanh (ban ngày có thể bổ sung 02 biển hoặc cờ, hình tam giác màu đỏ để dễ nhận biết);\\n- Báo động lũ ở cấp III: 03 đèn màu xanh (ban ngày có thể bổ sung 03 biển hoặc cờ, hình tam giác màu đỏ để dễ nhận biết).\\nb) Các biển (hoặc cờ), đèn báo hiệu được treo theo chiều dọc, với chiều cao thích hợp để mọi người trong khu vực nhìn thấy được.\\n2. Trường hợp khẩn cấp xảy ra sự cố nguy hiểm đe dọa đến an toàn của đê Điều, cần phải huy động lực lượng ứng cứu thì đội trưởng hoặc đội phó của đội tuần tra, canh gác đê cho đánh trống (hoặc kẻng) liên hồi để báo động.'}, {'article_id': '8', 'title': 'Điều 8. Quy định chế độ tuần tra, canh gác bảo vệ đê Điều', 'text': '1. Báo động lũ ở cấp I:\\nBố trí ngày 02 người, đêm 04 người. Ban ngày ít nhất sau 04 giờ có 01 kíp đi tuần, mỗi kíp có 01 người. Ban đêm ít nhất sau 04 giờ có 01 kíp đi tuần, mỗi kíp 02 người.\\n2. Báo động lũ ở cấp II:\\na) Bố trí ngày 04 người, đêm 06 người. Ban ngày ít nhất sau 02 giờ có 01 kíp đi tuần, mỗi kíp 02 người. Ban đêm ít nhất sau 02 giờ có 01 kíp đi tuần, mỗi kíp 03 người;\\nb) Trường hợp có tin bão khẩn cấp đổ bộ vào khu vực: bố trí ngày 06 người, đêm 12 người, chia thành các kíp, mỗi kíp 03 người; tùy theo diễn biến của bão, lũ và đặc điểm của tuyến đê, Ban chỉ huy phòng, chống lụt, bão cấp xã quyết định việc tăng cường số lần kiểm tra so với quy định tại điểm a khoản 2 Điều này.\\n3. Báo động lũ ở cấp III trở lên:\\na) Bố trí ngày 06 người, đêm 12 người, chia thành các kíp, mỗi kíp 03 người, không phân biệt ngày đêm các kíp phải liên tục thay phiên nhau kiểm tra;\\nb) Đối với các vị trí xung yếu của đê, kè bảo vệ đê, cống qua đê, bố trí thêm lực lượng để kiểm tra, phát hiện sự cố và báo cáo kịp thời.'}, {'article_id': '9', 'title': 'Điều 9. Nội dung tuần tra, canh gác đê', 'text': '1. Phạm vi tuần tra:\\na) Báo động lũ ở cấp I, bố trí người tuần tra như sau:\\n- Lượt đi: 01 người (ban ngày), 02 người (ban đêm) kiểm tra mặt đê, mái đê phía sông, khu vực hành lang bảo vệ đê phía sông;\\n- Lượt về: 01 người (ban ngày), 02 người (ban đêm) kiểm tra mái đê phía đồng, khu vực hành lang bảo vệ đê phía đồng, mặt ruộng, hồ ao gần chân đê phía đồng;\\nb) Báo động lũ ở cấp II, bố trí người tuần tra như sau:\\n- Lượt đi: 01 người kiểm tra mặt đê, mái đê phía sông, khu vực hành lang bảo vệ đê phía sông; 01 người (ban ngày), 02 người (ban đêm) kiểm tra mái đê phía đồng, khu vực hành lang bảo vệ đê phía đồng, mặt ruộng, hồ ao gần chân đê phía đồng;\\n- Lượt về: 01 người (ban ngày), 02 người (ban đêm) kiểm tra mặt đê, mái đê phía sông, khu vực hành lang bảo vệ đê phía sông; 01 người kiểm tra mái đê phía đồng, khu vực hành lang bảo vệ đê phía đồng, mặt ruộng, hồ ao gần chân đê phía đồng;\\nc) Báo động lũ ở cấp II và có tin bão khẩn cấp đổ bộ vào khu vực hoặc báo động lũ ở cấp III trở lên, bố trí người tuần tra như sau:\\n- Lượt đi: 02 người kiểm tra mái đê, khu vực hành lang bảo vệ đê phía đồng, mặt ruộng, hồ ao gần chân đê phía đồng; 01 người kiểm tra mặt đê.\\n- Lượt về: 02 người kiểm tra phía đồng; 01 người kiểm tra mặt đê, mái đê và khu vực hành lang bảo vệ đê phía sông.\\nd) Mỗi kíp tuần tra phải kiểm tra vượt quá phạm vi phụ trách về hai phía, mỗi phía 50m. Đối với những khu vực đã từng xảy ra sự cố hư hỏng, phải kiểm tra quan sát rộng hơn để phát hiện sự cố.\\n2. Người tuần tra, canh gác phải phát hiện kịp thời những hư hỏng của đê.\\n3. Khi phát hiện có hư hỏng, người tuần tra phải tiến hành các công việc sau:\\na) Xác định loại hư hỏng, vị trí, đặc điểm, kích thước của loại hư hỏng;\\nb) Xác định mực nước sông so với mặt đê tại vị trí phát sinh hư hỏng;\\nc) Đánh dấu bằng cách ghi bảng, cắm tiêu báo hiệu vị trí hư hỏng; nếu sự cố nghiêm trọng, phải cấm người, vật, xe cơ giới đi qua và bố trí người canh gác tại chỗ để theo dõi thường xuyên diễn biến của hư hỏng;\\nd) Báo cáo kịp thời và cụ thể tình hình hư hỏng cho đội trưởng hoặc đội phó, cán bộ chuyên trách quản lý đê Điều và Ban Chỉ huy phòng, chống lụt, bão xã.'}, {'article_id': '10', 'title': 'Điều 10. Nội dung tuần tra canh gác cống qua đê', 'text': '1. Khi lũ ở báo động I trở lên, đội tuần tra, canh gác đê phải phân công người theo dõi chặt chẽ diễn biến của các cống qua đê, ngăn chặn kịp thời những hành vi sử dụng cống trái phép trong mùa lũ.\\n2. Người tuần tra, canh gác phải kiểm tra kỹ phần tiếp giáp giữa thân cống, tường cánh gà của cống với đê; cánh cống, bộ phận đóng mở cánh cống, cửa cống, thân cống và khu vực thượng, hạ lưu cống để phát hiện kịp thời những sự cố xảy ra.\\n3. Khi phát hiện có hư hỏng của cống, người tuần tra, canh gác phải tiến hành các công việc như đối với quy định tại khoản 3 Điều 9 của Thông tư này.'}, {'article_id': '11', 'title': 'Điều 11. Nội dung tuần tra canh gác kè bảo vệ đê', 'text': '1. Khi mái kè chưa bị ngập nước:\\na) Kiểm tra mái kè; quan sát dòng chảy khu vực kè.\\nb) Nếu phát hiện thấy hư hỏng phải:\\n- Xác định vị trí, loại hư hỏng, đặc điểm và kích thước hư hỏng, mực nước sông so với đỉnh kè;\\n- Đánh dấu bằng cách ghi bảng, cắm tiêu, bảng báo hiệu vị trí hư hỏng; thường xuyên theo dõi diễn biến của hư hỏng;\\n- Báo cáo kịp thời và cụ thể tình hình hư hỏng cho đội trưởng, đội phó, cán bộ chuyên trách quản lý đê Điều và Ban Chỉ huy phòng, chống lụt, bão xã.\\n2. Khi kè bị ngập nước:\\na) Tại những kè xung yếu, khi nước chưa ngập đỉnh kè, đội tuần tra, canh gác đê có nhiệm vụ cắm các hàng tiêu để quan sát sự xói lở của kè; các hàng tiêu có thể được cắm như sau:\\n- Cắm tiêu dọc theo kè cách đỉnh kè 01 mét và vượt quá đầu và đuôi kè từ 20 mét đến 30 mét. Những vị trí xung yếu của kè cắm ít nhất từ 02 hàng tiêu trở lên. Khoảng cách giữa các tiêu từ 03 mét đến 04 mét, hàng nọ cách hàng kia từ 02 mét đến 2,5 mét. Tiêu cắm so le nhau;\\n- Tiêu có thể được làm bằng tre, nứa hoặc gỗ …; dài từ 04 mét đến 05 mét; cắm sâu xuống đất và được đánh số thứ tự đầu đến đuôi kè.\\nb) Theo dõi chặt chẽ các hàng tiêu đã cắm, khi phát hiện tiêu bị đổ phải kiểm tra và báo cáo ngay với đội trưởng, đội phó, cán bộ chuyên trách quản lý đê Điều và Ban Chỉ huy phòng, chống lụt, bão xã.\\n3. Khi lũ rút: Khi nước đã rút khỏi bãi và mái kè, người tuần tra phải xem xét tỷ mỉ từng bộ phận của kè, phát hiện hư hỏng xảy ra.\\n4. Sau mỗi đợt lũ các đội trưởng phải tập hợp tình hình diễn biến và hư hỏng của kè, báo cáo cán bộ chuyên trách quản lý đê Điều và Ban Chỉ huy phòng, chống lụt, bão xã.'}, {'article_id': '12', 'title': 'Điều 12. Chế độ báo cáo', 'text': '1. Người tuần tra, canh gác đê trong khi làm nhiệm vụ phát hiện thấy \\xa0có hư hỏng của đê Điều phải tìm mọi cách nhanh chóng báo cáo cán bộ chuyên trách quản lý đê Điều và Ban Chỉ huy phòng, chống lụt, bão xã để tiến hành xử lý kịp thời.\\n2. Nội dung báo cáo:\\n- Thời gian phát hiện hư hỏng;\\n- Vị trí, đặc điểm, kích thước, diễn biến của hư hỏng và mức độ nguy hiểm;\\n- Đề xuất biện pháp xử lý.\\n3. Trường hợp xét thấy hư hỏng có khả năng diễn biến xấu, đội trưởng phải cử người tăng cường, theo dõi tại chỗ và cứ 30 phút phải báo cáo một lần.\\nTrường hợp hư hỏng có nguy cơ đe dọa an toàn của công trình, phải tiến hành xử lý gấp nhằm ngăn chặn và hạn chế hư hỏng phát triển thêm đồng thời phát tín hiệu báo động theo quy định khoản 2 Điều 7 của Thông tư này. Trong khi chờ lực lượng ứng cứu, những người được phân công theo dõi tuyệt đối không được rời vị trí được giao.\\n4. Khi có sự cố xảy ra, ngoài việc theo dõi và tham gia xử lý, các đội tuần tra, canh gác đê vẫn phải bảo đảm chế độ tuần tra, canh gác đối với toàn bộ đoạn đê được phân công phụ trách.'}, {'article_id': '13', 'title': 'Điều 13. Quy định về bàn giao giữa các kíp trực', 'text': 'Sau mỗi đợt kiểm tra, các kíp tuần tra, canh gác đê phải ghi chép đầy đủ tình hình diễn biến và hư hỏng đê Điều vào sổ nhật ký tuần tra, canh gác theo mẫu quy định và bàn giao đầy đủ cho kíp sau. Người thay mặt kíp giao và nhận phải ký và ghi rõ họ tên, ngày giờ vào sổ. Sau mỗi ngày đội trưởng và cán bộ chuyên trách quản lý đê Điều ký xác nhận tình hình trong ngày để theo dõi và làm cơ sở cho việc chi trả thù lao theo quy định.'}, {'article_id': '14', 'title': 'Điều 14. Chế độ, chính sách đối với lực lượng tuần tra, canh gác đê', 'text': '1. Người tuần tra, canh gác đê được hưởng thù lao, mức thù lao cho lực lượng này do Ủy ban nhân dân cấp tỉnh quy định, theo hướng dẫn của Bộ Tài chính và Bộ Nông nghiệp và Phát triển nông thôn.\\n2. Trước mùa lũ hàng năm các thành viên đội tuần tra, canh gác đê được tập trung huấn luyện, hướng dẫn nghiệp vụ tuần tra canh gác, hộ đê, phòng, chống, lụt, bão. Những ngày dự huấn luyện được coi như trực tiếp làm nhiệm vụ và được hưởng mức thù lao theo quy định ở khoản 1 Điều này.\\n3. Người bị thương, người bị thiệt hại tính mạng trong khi làm nhiệm vụ được xét hưởng chế độ, chính sách như đối với lực lượng vũ trang tham gia hộ đê theo quy định của pháp Luật.'}, {'article_id': '15', 'title': 'Điều 15. Khen thưởng, kỷ Luật', 'text': '1. Những đơn vị và cá nhân thực hiện tốt quy định tại Thông tư \\xa0này và có thành tích xuất sắc trong công tác tuần tra, canh gác đê sẽ được khen thưởng.\\n2. Những đơn vị và cá nhân vi phạm quy định tại Thông tư này tuỳ theo lỗi nặng nhẹ sẽ bị thi hành kỷ Luật từ cảnh cáo đến truy tố trước pháp Luật của Nhà nước.'}, {'article_id': '16', 'title': 'Điều 16. Trách nhiệm của Uỷ ban nhân dân cấp huyện, cấp xã nơi có đê', 'text': '1. Trách nhiệm của Uỷ ban nhân dân cấp huyện nơi có đê:\\na) Hướng dẫn các xã có đê tổ chức lực lượng tuần tra, canh gác đê; hướng dẫn hoạt động và kiểm tra, đôn đốc công tác tuần tra, canh gác.\\nb) Chủ trì, tổ chức chỉ đạo các đơn vị, phối hợp với cơ quan chuyên trách quản lý đê Điều huấn luyện nghiệp vụ tuần tra, canh gác, hộ đê, phòng, chống lụt, bão cho lực lượng tuần tra, canh gác đê.\\nc) Trang bị và hướng dẫn việc quản lý sử dụng các dụng cụ, sổ sách cho các đội tuần tra, canh gác đê theo quy định tại khoản 2 Điều 6 của Thông tư này.\\n2. Trách nhiệm của Uỷ ban nhân dân cấp xã nơi có đê\\na) Tổ chức lực lượng tuần tra, canh gác đê trong mùa lũ ở các tuyến đê thuộc địa bàn.\\nb) Trực tiếp quản lý và chỉ đạo lực lượng tuần tra, canh gác đê theo các quy định tại Thông tư này.'}, {'article_id': '17', 'title': 'Điều 17. Trách nhiệm của Sở Nông nghiệp và Phát triển nông thôn', 'text': '1. Tham mưu cho Ủy ban nhân dân cấp tỉnh, phối hợp với các đơn vị xây dựng và trình duyệt mức thù lao và các chế độ chính sách đối với lực lượng tuần tra, canh gác đê.\\n2. Phối hợp với Uỷ ban nhân dân cấp huyện, cấp xã để tổ chức, hướng dẫn hoạt động của lực lượng tuần tra, canh gác đê; chỉ đạo lực lượng chuyên trách quản lý đê Điều trực tiếp hướng dẫn chuyên môn, nghiệp vụ cho lực lượng này trước và trong mùa lũ.\\n3. Khi có báo động lũ từ cấp I trở lên, Sở Nông nghiệp và Phát triển nông thôn phải chỉ đạo, tổ chức kiểm tra, đôn đốc công tác tuần tra, canh gác ở các tuyến đê.'}]}\n",
            "<class 'list'>\n"
          ]
        }
      ],
      "source": [
        "# Import data văn bản pháp luật\n",
        "\n",
        "legal_corpus_path = \"/content/drive/MyDrive/Tài liệu học kỳ/Học kỳ 20222/Đồ án tốt nghiệp/zac2021-ltr-data/legal_corpus.json\"\n",
        "with open(legal_corpus_path) as json_file:\n",
        "    data = json.load(json_file)\n",
        "print(data[0])\n",
        "print(type(data))"
      ]
    },
    {
      "cell_type": "code",
      "execution_count": null,
      "metadata": {
        "colab": {
          "base_uri": "https://localhost:8080/"
        },
        "id": "q-B50fvRtQbK",
        "outputId": "70d61833-3bd8-429b-d69d-d8c4b1b0ba70"
      },
      "outputs": [
        {
          "name": "stderr",
          "output_type": "stream",
          "text": [
            "100%|██████████| 3271/3271 [00:00<00:00, 15988.98it/s]\n"
          ]
        },
        {
          "name": "stdout",
          "output_type": "stream",
          "text": [
            "61425\n",
            "Create legal dict from raw data\n"
          ]
        }
      ],
      "source": [
        "# Tạo file legal_dict\n",
        "save_dict = {}\n",
        "count = 0\n",
        "for law_article in tqdm(data):\n",
        "    law_id = law_article[\"law_id\"]\n",
        "    law_articles = law_article[\"articles\"]\n",
        "    \n",
        "    for sub_article in law_articles:\n",
        "        article_id = sub_article[\"article_id\"]\n",
        "        article_title = sub_article[\"title\"]\n",
        "        article_text = sub_article[\"text\"]\n",
        "        article_full = article_title + \". \" + article_text\n",
        "        article_full = article_full.replace(\"\\n\", \" \")\n",
        "        concat_id = law_id + \"_\" + article_id\n",
        "        if concat_id not in save_dict:\n",
        "            count += 1\n",
        "            save_dict[concat_id] = {\"title\": article_title, \"text\": article_text}\n",
        "print(count)\n",
        "print(\"Create legal dict from raw data\")\n",
        "with open(os.path.join(dest_path, \"legal_dict.json\"), \"w\") as outfile:\n",
        "        json.dump(save_dict, outfile)"
      ]
    },
    {
      "cell_type": "code",
      "execution_count": null,
      "metadata": {
        "colab": {
          "base_uri": "https://localhost:8080/"
        },
        "id": "_W8oG_KebBFq",
        "outputId": "d7a3ec11-f5d7-4174-818e-cd93e5634937"
      },
      "outputs": [
        {
          "name": "stdout",
          "output_type": "stream",
          "text": [
            "Process documents\n"
          ]
        },
        {
          "name": "stderr",
          "output_type": "stream",
          "text": [
            "100%|██████████| 3271/3271 [18:15<00:00,  2.99it/s]\n"
          ]
        }
      ],
      "source": [
        "print(\"Process documents\")\n",
        "documents = []\n",
        "doc_refers = []\n",
        "for law_article in tqdm(data):\n",
        "    law_id = law_article[\"law_id\"]\n",
        "    law_articles = law_article[\"articles\"]\n",
        "    \n",
        "    for sub_article in law_articles:\n",
        "        article_id = sub_article[\"article_id\"]\n",
        "        article_title = sub_article[\"title\"]\n",
        "        article_text = sub_article[\"text\"]\n",
        "        article_full = article_title + \" \" + article_text\n",
        "            \n",
        "        tokens = bm25_tokenizer(article_full)\n",
        "        documents.append(tokens)\n",
        "        doc_refers.append([law_id, article_id, article_full])"
      ]
    },
    {
      "cell_type": "code",
      "execution_count": null,
      "metadata": {
        "id": "q38SB7fVcUCA"
      },
      "outputs": [],
      "source": [
        "# Lưu file token và văn bản pháp luật\n",
        "dest_path = '/content/drive/MyDrive/Tài liệu học kỳ/Học kỳ 20222/Đồ án tốt nghiệp/Training Data'\n",
        "with open(os.path.join(dest_path, \"documents_bm25token\"), \"wb\") as documents_file:\n",
        "    pickle.dump(documents, documents_file)\n",
        "with open(os.path.join(dest_path,\"doc_refers_saved\"), \"wb\") as doc_refer_file:\n",
        "    pickle.dump(doc_refers, doc_refer_file)"
      ]
    },
    {
      "cell_type": "code",
      "execution_count": null,
      "metadata": {
        "id": "D0ayQ94VdKsK"
      },
      "outputs": [],
      "source": [
        "# Đọc file\n",
        "dest_path = '/content/drive/MyDrive/Tài liệu học kỳ/Học kỳ 20222/Đồ án tốt nghiệp/Training Data'\n",
        "with open(os.path.join(dest_path, \"documents_bm25token\"), \"rb\") as documents_file:\n",
        "    documents = pickle.load(documents_file)\n",
        "with open(os.path.join(dest_path,\"doc_refers_saved\"), \"rb\") as doc_refer_file:\n",
        "    doc_refers = pickle.load(doc_refer_file)"
      ]
    },
    {
      "cell_type": "code",
      "execution_count": null,
      "metadata": {
        "id": "6nAFkBWIeFJB"
      },
      "outputs": [],
      "source": [
        "# Khởi tạo BM25 với token thông thường\n",
        "# Setup tham số BM25\n",
        "bm25_k1 = 0.4\n",
        "bm25_b = 0.6\n",
        "bm25 = BM25Plus(documents, k1=bm25_k1, b=bm25_b)\n",
        "# Lưu model\n",
        "with open(os.path.join(model_path, \"bm25_Plus_with_tokenizer_stopword_manual\"), \"wb\") as bm_file:\n",
        "    pickle.dump(bm25, bm_file)"
      ]
    },
    {
      "cell_type": "markdown",
      "metadata": {
        "id": "pmhUTq1dNL4D"
      },
      "source": [
        "### Đánh giá Training question với top 5\n"
      ]
    },
    {
      "cell_type": "code",
      "execution_count": null,
      "metadata": {
        "colab": {
          "base_uri": "https://localhost:8080/"
        },
        "id": "_UFTdUbJdamZ",
        "outputId": "457550ed-3d8e-4412-9283-1eb9a846bd14"
      },
      "outputs": [
        {
          "name": "stderr",
          "output_type": "stream",
          "text": [
            "2716it [12:58,  3.49it/s]\n"
          ]
        }
      ],
      "source": [
        "# Đánh giá Training question với top 5\n",
        "top_k_bm25 = 5\n",
        "total_f2 = 0\n",
        "total_precision = 0\n",
        "total_recall = 0\n",
        "questions_train_path = os.path.join(dest_path, \"questions_train.json\")\n",
        "with open(questions_train_path) as json_file:\n",
        "    questions_train = json.load(json_file)\n",
        "for idx, item in tqdm(enumerate(questions_train)):\n",
        "    question_id = item[\"question_id\"]\n",
        "    question = item[\"question\"]\n",
        "    relevant_articles = item[\"relevant_articles\"]\n",
        "    actual_positive = len(relevant_articles)\n",
        "    # Tokenizer câu query\n",
        "    tokenized_query = bm25_tokenizer(question)\n",
        "    doc_scores = bm25.get_scores(tokenized_query)\n",
        "    # Lấy top N. N lớn: giảm precision, tăng recall. N nhỏ: tăng precision, giảm recall\n",
        "    # argpartition sắp xếp lại\n",
        "    predictions = np.argpartition(doc_scores, len(doc_scores) - top_k_bm25)[-top_k_bm25:]\n",
        "    # Trick to balance precision and recall\n",
        "    if doc_scores[predictions[1]] - doc_scores[predictions[0]] >= 2.7:\n",
        "        predictions = [predictions[1]]\n",
        "    true_positive = 0\n",
        "    false_positive = 0\n",
        "    for idx, idx_pred in enumerate(predictions):\n",
        "        pred = doc_refers[idx_pred]\n",
        "        # Remove prediction with too low score: 20\n",
        "        if doc_scores[idx_pred] >= 20:\n",
        "            for article in relevant_articles:\n",
        "                if pred[0] == article[\"law_id\"] and pred[1] == article[\"article_id\"]:\n",
        "                    true_positive += 1\n",
        "                else:\n",
        "                    false_positive += 1\n",
        "    precision = true_positive/(true_positive + false_positive + 1e-20)\n",
        "    recall = true_positive/actual_positive\n",
        "    f2 = calculate_f2(precision, recall)\n",
        "    total_precision += precision\n",
        "    total_recall += recall\n",
        "    total_f2 += f2"
      ]
    },
    {
      "cell_type": "code",
      "execution_count": null,
      "metadata": {
        "colab": {
          "base_uri": "https://localhost:8080/"
        },
        "id": "lQAAg0ZfhPtI",
        "outputId": "7484fa79-8c49-46e2-d7f3-68aa1640faba"
      },
      "outputs": [
        {
          "name": "stdout",
          "output_type": "stream",
          "text": [
            "Average F2: \t\t\t\t0.3869371488572473\n",
            "Average Precision: 0.15870765832105574\n",
            "Average Recall: 0.6721894943544428\n",
            "\n"
          ]
        }
      ],
      "source": [
        "k = len(questions_train)\n",
        "print(f\"Average F2: \\t\\t\\t\\t{total_f2/k}\")\n",
        "print(f\"Average Precision: {total_precision/k}\")\n",
        "print(f\"Average Recall: {total_recall/k}\\n\")"
      ]
    },
    {
      "cell_type": "code",
      "execution_count": null,
      "metadata": {
        "colab": {
          "base_uri": "https://localhost:8080/"
        },
        "id": "DYDte9IqlkwG",
        "outputId": "0084cc55-7f47-421c-f63b-5252cdd7615e"
      },
      "outputs": [
        {
          "name": "stderr",
          "output_type": "stream",
          "text": [
            "480it [02:17,  3.49it/s]\n"
          ]
        }
      ],
      "source": [
        "# Đánh giá Test question với top 5\n",
        "top_k_bm25 = 50\n",
        "total_f2 = 0\n",
        "total_precision = 0\n",
        "total_recall = 0\n",
        "questions_test_path = os.path.join(dest_path, \"questions_test.json\")\n",
        "with open(questions_test_path) as json_file:\n",
        "    questions_test = json.load(json_file)\n",
        "for idx, item in tqdm(enumerate(questions_test)):\n",
        "    question_id = item[\"question_id\"]\n",
        "    question = item[\"question\"]\n",
        "    relevant_articles = item[\"relevant_articles\"]\n",
        "    actual_positive = len(relevant_articles)\n",
        "    # Tokenizer câu query\n",
        "    tokenized_query = bm25_tokenizer(question)\n",
        "    doc_scores = bm25.get_scores(tokenized_query)\n",
        "    # Lấy top N. N lớn: giảm precision, tăng recall. N nhỏ: tăng precision, giảm recall\n",
        "    # argpartition sắp xếp lại\n",
        "    predictions = np.argpartition(doc_scores, len(doc_scores) - top_k_bm25)[-top_k_bm25:]\n",
        "    # Trick to balance precision and recall\n",
        "    # if doc_scores[predictions[1]] - doc_scores[predictions[0]] >= 2.7:\n",
        "    #     predictions = [predictions[1]]\n",
        "    true_positive = 0\n",
        "    false_positive = 0\n",
        "    for idx, idx_pred in enumerate(predictions):\n",
        "        pred = doc_refers[idx_pred]\n",
        "        # Remove prediction with too low score: 20\n",
        "        # if doc_scores[idx_pred] >= 20:\n",
        "        for article in relevant_articles:\n",
        "            if pred[0] == article[\"law_id\"] and pred[1] == article[\"article_id\"]:\n",
        "                true_positive += 1\n",
        "            else:\n",
        "                false_positive += 1\n",
        "    precision = true_positive/(true_positive + false_positive + 1e-20)\n",
        "    recall = true_positive/actual_positive\n",
        "    f2 = calculate_f2(precision, recall)\n",
        "    total_precision += precision\n",
        "    total_recall += recall\n",
        "    total_f2 += f2"
      ]
    },
    {
      "cell_type": "code",
      "execution_count": null,
      "metadata": {
        "colab": {
          "base_uri": "https://localhost:8080/"
        },
        "id": "awPUEnxLnxP8",
        "outputId": "a4826395-84a3-440f-b888-8b9121e8208b"
      },
      "outputs": [
        {
          "name": "stdout",
          "output_type": "stream",
          "text": [
            "Average F2: \t\t\t\t0.08339763374485626\n",
            "Average Precision: 0.018013888888888687\n",
            "Average Recall: 0.9006944444444444\n",
            "\n"
          ]
        }
      ],
      "source": [
        "k = len(questions_test)\n",
        "print(f\"Average F2: \\t\\t\\t\\t{total_f2/k}\")\n",
        "print(f\"Average Precision: {total_precision/k}\")\n",
        "print(f\"Average Recall: {total_recall/k}\\n\")"
      ]
    },
    {
      "cell_type": "markdown",
      "metadata": {
        "id": "lf49DQ_tq5ys"
      },
      "source": [
        "## Tạo các cặp Negative pair từ BM25 với top20 và top50\n"
      ]
    },
    {
      "cell_type": "code",
      "execution_count": null,
      "metadata": {
        "id": "c6Y37FtdoYcs"
      },
      "outputs": [],
      "source": [
        "with open(os.path.join(model_path, \"bm25_Plus_with_tokenizer_stopword_manual\"), \"rb\") as bm_file:\n",
        "    bm25 = pickle.load(bm_file)\n",
        "with open(os.path.join(dest_path,\"doc_refers_saved\"), \"rb\") as doc_refer_file:\n",
        "    doc_refers = pickle.load(doc_refer_file)"
      ]
    },
    {
      "cell_type": "code",
      "execution_count": null,
      "metadata": {
        "colab": {
          "base_uri": "https://localhost:8080/"
        },
        "id": "vXZmfQJErp3o",
        "outputId": "c1a10285-3b00-4fd6-b0dd-7935c3437da8"
      },
      "outputs": [
        {
          "name": "stderr",
          "output_type": "stream",
          "text": [
            "2716it [14:44,  3.07it/s]\n"
          ]
        }
      ],
      "source": [
        "save_pairs = []\n",
        "top_k = 50 #20\n",
        "questions_train_path = os.path.join(dest_path, \"questions_train.json\")\n",
        "with open(questions_train_path) as json_file:\n",
        "    questions_train = json.load(json_file)\n",
        "doc_data = json.load(open(os.path.join(dest_path, \"legal_dict.json\")))\n",
        "\n",
        "for idx, item in tqdm(enumerate(questions_train)):\n",
        "      question_id = item[\"question_id\"]\n",
        "      question = item[\"question\"]\n",
        "      relevant_articles = item[\"relevant_articles\"]\n",
        "      actual_positive = len(relevant_articles)\n",
        "      \n",
        "      tokenized_query = bm25_tokenizer(question)\n",
        "      doc_scores = bm25.get_scores(tokenized_query)\n",
        "\n",
        "      predictions = np.argpartition(doc_scores, len(doc_scores) - top_k)[-top_k:]\n",
        "      # Save positive pairs\n",
        "      for article in relevant_articles:\n",
        "          save_dict = {}\n",
        "          save_dict[\"question\"] = question\n",
        "          concat_id = article[\"law_id\"] + \"_\" + article[\"article_id\"]\n",
        "          save_dict[\"document\"] = doc_data[concat_id][\"title\"] + \" \" + doc_data[concat_id][\"text\"]\n",
        "          save_dict[\"relevant\"] = 1\n",
        "          save_pairs.append(save_dict)\n",
        "\n",
        "      # Save negative pairs\n",
        "      for idx, idx_pred in enumerate(predictions):\n",
        "          pred = doc_refers[idx_pred]\n",
        "\n",
        "          check = 0\n",
        "          for article in relevant_articles:\n",
        "              if pred[0] == article[\"law_id\"] and pred[1] == article[\"article_id\"]:\n",
        "                  check += 1\n",
        "\n",
        "          if check == 0:\n",
        "              save_dict = {}\n",
        "              save_dict[\"question\"] = question\n",
        "              concat_id = pred[0] + \"_\" + pred[1]\n",
        "              save_dict[\"document\"] = doc_data[concat_id][\"title\"] + \" \" + doc_data[concat_id][\"text\"]\n",
        "              save_dict[\"relevant\"] = 0\n",
        "              save_pairs.append(save_dict)"
      ]
    },
    {
      "cell_type": "code",
      "execution_count": null,
      "metadata": {
        "colab": {
          "base_uri": "https://localhost:8080/"
        },
        "id": "lOg2tlUwutPh",
        "outputId": "f08ef4b8-03f2-450f-f525-80ff61dd516d"
      },
      "outputs": [
        {
          "name": "stdout",
          "output_type": "stream",
          "text": [
            "54697\n"
          ]
        }
      ],
      "source": [
        "#  with open(os.path.join(dest_path, f\"bm_25_pairs_top{top_k}\"), \"wb\") as pair_file:\n",
        "#         pickle.dump(save_pairs, pair_file)\n",
        "# print(len(save_pairs))"
      ]
    },
    {
      "cell_type": "code",
      "execution_count": null,
      "metadata": {
        "colab": {
          "base_uri": "https://localhost:8080/"
        },
        "id": "ooAqn1UUvMDf",
        "outputId": "02d0f74d-ece7-4803-cf27-5d9a22003f62"
      },
      "outputs": [
        {
          "name": "stdout",
          "output_type": "stream",
          "text": [
            "136024\n"
          ]
        }
      ],
      "source": [
        " with open(os.path.join(dest_path, f\"bm_25_pairs_top{top_k}\"), \"wb\") as pair_file:\n",
        "        pickle.dump(save_pairs, pair_file)\n",
        "print(len(save_pairs))"
      ]
    },
    {
      "cell_type": "markdown",
      "metadata": {
        "id": "tuGC_V6y1_ju"
      },
      "source": [
        "## Train Negative pair với Sentence Transformer"
      ]
    },
    {
      "cell_type": "code",
      "execution_count": 3,
      "metadata": {
        "colab": {
          "base_uri": "https://localhost:8080/"
        },
        "id": "FlUoKfLp3Bxl",
        "outputId": "1f6822ce-c898-41f7-ce95-aca25326e971"
      },
      "outputs": [
        {
          "metadata": {
            "tags": null
          },
          "name": "stdout",
          "output_type": "stream",
          "text": [
            "Looking in indexes: https://pypi.org/simple, https://us-python.pkg.dev/colab-wheels/public/simple/\n",
            "Collecting sentence_transformers\n",
            "  Downloading sentence-transformers-2.2.0.tar.gz (79 kB)\n",
            "\u001b[K     |████████████████████████████████| 79 kB 4.0 MB/s \n",
            "\u001b[?25hCollecting transformers<5.0.0,>=4.6.0\n",
            "  Downloading transformers-4.19.2-py3-none-any.whl (4.2 MB)\n",
            "\u001b[K     |████████████████████████████████| 4.2 MB 14.2 MB/s \n",
            "\u001b[?25hRequirement already satisfied: tqdm in /usr/local/lib/python3.7/dist-packages (from sentence_transformers) (4.64.0)\n",
            "Requirement already satisfied: torch>=1.6.0 in /usr/local/lib/python3.7/dist-packages (from sentence_transformers) (1.11.0+cu113)\n",
            "Requirement already satisfied: torchvision in /usr/local/lib/python3.7/dist-packages (from sentence_transformers) (0.12.0+cu113)\n",
            "Requirement already satisfied: numpy in /usr/local/lib/python3.7/dist-packages (from sentence_transformers) (1.21.6)\n",
            "Requirement already satisfied: scikit-learn in /usr/local/lib/python3.7/dist-packages (from sentence_transformers) (1.0.2)\n",
            "Requirement already satisfied: scipy in /usr/local/lib/python3.7/dist-packages (from sentence_transformers) (1.4.1)\n",
            "Requirement already satisfied: nltk in /usr/local/lib/python3.7/dist-packages (from sentence_transformers) (3.2.5)\n",
            "Collecting sentencepiece\n",
            "  Downloading sentencepiece-0.1.96-cp37-cp37m-manylinux_2_17_x86_64.manylinux2014_x86_64.whl (1.2 MB)\n",
            "\u001b[K     |████████████████████████████████| 1.2 MB 50.2 MB/s \n",
            "\u001b[?25hCollecting huggingface-hub\n",
            "  Downloading huggingface_hub-0.7.0-py3-none-any.whl (86 kB)\n",
            "\u001b[K     |████████████████████████████████| 86 kB 6.7 MB/s \n",
            "\u001b[?25hRequirement already satisfied: typing-extensions in /usr/local/lib/python3.7/dist-packages (from torch>=1.6.0->sentence_transformers) (4.2.0)\n",
            "Requirement already satisfied: packaging>=20.0 in /usr/local/lib/python3.7/dist-packages (from transformers<5.0.0,>=4.6.0->sentence_transformers) (21.3)\n",
            "Requirement already satisfied: requests in /usr/local/lib/python3.7/dist-packages (from transformers<5.0.0,>=4.6.0->sentence_transformers) (2.23.0)\n",
            "Requirement already satisfied: filelock in /usr/local/lib/python3.7/dist-packages (from transformers<5.0.0,>=4.6.0->sentence_transformers) (3.7.0)\n",
            "Requirement already satisfied: importlib-metadata in /usr/local/lib/python3.7/dist-packages (from transformers<5.0.0,>=4.6.0->sentence_transformers) (4.11.3)\n",
            "Collecting tokenizers!=0.11.3,<0.13,>=0.11.1\n",
            "  Downloading tokenizers-0.12.1-cp37-cp37m-manylinux_2_12_x86_64.manylinux2010_x86_64.whl (6.6 MB)\n",
            "\u001b[K     |████████████████████████████████| 6.6 MB 63.3 MB/s \n",
            "\u001b[?25hRequirement already satisfied: regex!=2019.12.17 in /usr/local/lib/python3.7/dist-packages (from transformers<5.0.0,>=4.6.0->sentence_transformers) (2019.12.20)\n",
            "Collecting pyyaml>=5.1\n",
            "  Downloading PyYAML-6.0-cp37-cp37m-manylinux_2_5_x86_64.manylinux1_x86_64.manylinux_2_12_x86_64.manylinux2010_x86_64.whl (596 kB)\n",
            "\u001b[K     |████████████████████████████████| 596 kB 56.5 MB/s \n",
            "\u001b[?25hRequirement already satisfied: pyparsing!=3.0.5,>=2.0.2 in /usr/local/lib/python3.7/dist-packages (from packaging>=20.0->transformers<5.0.0,>=4.6.0->sentence_transformers) (3.0.9)\n",
            "Requirement already satisfied: zipp>=0.5 in /usr/local/lib/python3.7/dist-packages (from importlib-metadata->transformers<5.0.0,>=4.6.0->sentence_transformers) (3.8.0)\n",
            "Requirement already satisfied: six in /usr/local/lib/python3.7/dist-packages (from nltk->sentence_transformers) (1.15.0)\n",
            "Requirement already satisfied: chardet<4,>=3.0.2 in /usr/local/lib/python3.7/dist-packages (from requests->transformers<5.0.0,>=4.6.0->sentence_transformers) (3.0.4)\n",
            "Requirement already satisfied: urllib3!=1.25.0,!=1.25.1,<1.26,>=1.21.1 in /usr/local/lib/python3.7/dist-packages (from requests->transformers<5.0.0,>=4.6.0->sentence_transformers) (1.24.3)\n",
            "Requirement already satisfied: certifi>=2017.4.17 in /usr/local/lib/python3.7/dist-packages (from requests->transformers<5.0.0,>=4.6.0->sentence_transformers) (2022.5.18.1)\n",
            "Requirement already satisfied: idna<3,>=2.5 in /usr/local/lib/python3.7/dist-packages (from requests->transformers<5.0.0,>=4.6.0->sentence_transformers) (2.10)\n",
            "Requirement already satisfied: joblib>=0.11 in /usr/local/lib/python3.7/dist-packages (from scikit-learn->sentence_transformers) (1.1.0)\n",
            "Requirement already satisfied: threadpoolctl>=2.0.0 in /usr/local/lib/python3.7/dist-packages (from scikit-learn->sentence_transformers) (3.1.0)\n",
            "Requirement already satisfied: pillow!=8.3.*,>=5.3.0 in /usr/local/lib/python3.7/dist-packages (from torchvision->sentence_transformers) (7.1.2)\n",
            "Building wheels for collected packages: sentence-transformers\n",
            "  Building wheel for sentence-transformers (setup.py) ... \u001b[?25l\u001b[?25hdone\n",
            "  Created wheel for sentence-transformers: filename=sentence_transformers-2.2.0-py3-none-any.whl size=120747 sha256=61f6515290a6a95241041a0772b05960e08ff88db082c6b122fdb3b619906492\n",
            "  Stored in directory: /root/.cache/pip/wheels/83/c0/df/b6873ab7aac3f2465aa9144b6b4c41c4391cfecc027c8b07e7\n",
            "Successfully built sentence-transformers\n",
            "Installing collected packages: pyyaml, tokenizers, huggingface-hub, transformers, sentencepiece, sentence-transformers\n",
            "  Attempting uninstall: pyyaml\n",
            "    Found existing installation: PyYAML 3.13\n",
            "    Uninstalling PyYAML-3.13:\n",
            "      Successfully uninstalled PyYAML-3.13\n",
            "Successfully installed huggingface-hub-0.7.0 pyyaml-6.0 sentence-transformers-2.2.0 sentencepiece-0.1.96 tokenizers-0.12.1 transformers-4.19.2\n"
          ]
        }
      ],
      "source": [
        "!pip install sentence_transformers"
      ]
    },
    {
      "cell_type": "code",
      "execution_count": 4,
      "metadata": {
        "id": "5qezc5Wu28g-"
      },
      "outputs": [],
      "source": [
        "from sentence_transformers import SentenceTransformer, models, InputExample, losses, LoggingHandler\n",
        "from torch.utils.data import DataLoader\n",
        "import pickle\n",
        "from sentence_transformers import evaluation\n",
        "import logging\n",
        "import argparse\n",
        "import os"
      ]
    },
    {
      "cell_type": "code",
      "execution_count": 5,
      "metadata": {
        "id": "L9J8L1y72K9u"
      },
      "outputs": [],
      "source": [
        "# Tham số\n",
        "top_k = 20\n",
        "max_seq_length = 256\n",
        "# tập validation \n",
        "num_val = 50*50\n",
        "# fit training\n",
        "epochs = 5\n",
        "batch_size = 32\n",
        "lr = 1e-5\n",
        "model_path = '/content/drive/MyDrive/Tài liệu học kỳ/Học kỳ 20222/Đồ án tốt nghiệp/Model'\n",
        "dest_path = '/content/drive/MyDrive/Tài liệu học kỳ/Học kỳ 20222/Đồ án tốt nghiệp/Training Data'\n"
      ]
    },
    {
      "cell_type": "code",
      "execution_count": 6,
      "metadata": {
        "colab": {
          "base_uri": "https://localhost:8080/",
          "height": 301,
          "referenced_widgets": [
            "f9c9d0f699724ea8850c87b0c4bf50fd",
            "d6e77240136e46f3b7a580e45aacd814",
            "0f35055a9c9746408ca3b85e6299827d",
            "14e58234d4574384b1e7b111bedb94e3",
            "5de51b5e1a0945ea9522145e62df2838",
            "1c4d4fd671334718a3cf87079533abfa",
            "52e8ab6c402f4860a46d3a6531c61ead",
            "812c3aa967524621852d041a9926389d",
            "5cfd6c5ecd204b34a3c29cbb3a99604c",
            "6f2d6030fe3649d2b30aabc0fd5ddf6a",
            "c775e609bfa54c73b1bed035541e3539",
            "cbad7671fc0843fb84eb50ebd6c4db17",
            "da0dbbd100cc44c9a1ca96446341ae9e",
            "2526133cf8ce49118046ef16b4981f60",
            "daff7d4d73e149ae8360d47e718edf56",
            "6b945dc989fc484b9bb3ac0db5c89d32",
            "8dbb490e979d4395b371da9dd4d7747d",
            "5f728fac364340b29f635e553b8f7f5a",
            "233e352ecb05463592fe264fc24409a8",
            "c155a7cf60984a46bd379ad771277ebd",
            "0d0740894a964331a9981b6eb5aca663",
            "cb9b23b87fcb4444bb43bb0a442b4668",
            "74ac215f26574ab79c50224d99595d16",
            "d567813e2bd74325b45300e2112e43f1",
            "56a747e5c995405ba19952dd51e3c826",
            "373a0b505d4c456c860221c98ff676a5",
            "3ebb2d6574ab4d8798fdef78d3ffe86f",
            "6a2f91cba3854cdebc88068ac4fbc8ce",
            "6d37d12df6c141a1b868041c53ea378b",
            "b9710e5871144adba704885f5f9cc7f2",
            "1ab1fc09759d4bd69bec47f7cd559113",
            "c57aad35437946f99e57e332f6c5b926",
            "4ce5a24c41c74544bce4bc26abc1e3a9",
            "6016ec21b2fb4b25bea8929606985c2d",
            "adbb8fd87d844836bf4c35cf7bd1466d",
            "95e740e0b7e54f56839150452f9b5492",
            "5d050b6db2b14a7a8562c121ce9b0da3",
            "e772ad9948e44f1ca09dd64b402a72f7",
            "d030144f8765492eb13958728fe6cc50",
            "70bc59ca8a064640a956d55b37cce9b2",
            "ca7e2cf37e144a76ac55a287d5668ad3",
            "42c3419e638f40d4a74bfa357110f7d8",
            "45992ac16a164e0f8a4bc271324bbe49",
            "5142b5ab73104651a0fb8b32e0a9b0be"
          ]
        },
        "id": "scKN41wk3Rvn",
        "outputId": "292d6f7e-f70e-4c59-d43d-67c121ec23f6"
      },
      "outputs": [
        {
          "output_type": "display_data",
          "data": {
            "text/plain": [
              "Downloading:   0%|          | 0.00/557 [00:00<?, ?B/s]"
            ],
            "application/vnd.jupyter.widget-view+json": {
              "version_major": 2,
              "version_minor": 0,
              "model_id": "f9c9d0f699724ea8850c87b0c4bf50fd"
            }
          },
          "metadata": {}
        },
        {
          "output_type": "display_data",
          "data": {
            "text/plain": [
              "Downloading:   0%|          | 0.00/518M [00:00<?, ?B/s]"
            ],
            "application/vnd.jupyter.widget-view+json": {
              "version_major": 2,
              "version_minor": 0,
              "model_id": "cbad7671fc0843fb84eb50ebd6c4db17"
            }
          },
          "metadata": {}
        },
        {
          "output_type": "stream",
          "name": "stderr",
          "text": [
            "Some weights of the model checkpoint at vinai/phobert-base were not used when initializing RobertaModel: ['lm_head.layer_norm.bias', 'lm_head.layer_norm.weight', 'lm_head.bias', 'lm_head.dense.bias', 'lm_head.dense.weight', 'lm_head.decoder.weight', 'lm_head.decoder.bias']\n",
            "- This IS expected if you are initializing RobertaModel from the checkpoint of a model trained on another task or with another architecture (e.g. initializing a BertForSequenceClassification model from a BertForPreTraining model).\n",
            "- This IS NOT expected if you are initializing RobertaModel from the checkpoint of a model that you expect to be exactly identical (initializing a BertForSequenceClassification model from a BertForSequenceClassification model).\n"
          ]
        },
        {
          "output_type": "display_data",
          "data": {
            "text/plain": [
              "Downloading:   0%|          | 0.00/874k [00:00<?, ?B/s]"
            ],
            "application/vnd.jupyter.widget-view+json": {
              "version_major": 2,
              "version_minor": 0,
              "model_id": "74ac215f26574ab79c50224d99595d16"
            }
          },
          "metadata": {}
        },
        {
          "output_type": "display_data",
          "data": {
            "text/plain": [
              "Downloading:   0%|          | 0.00/1.08M [00:00<?, ?B/s]"
            ],
            "application/vnd.jupyter.widget-view+json": {
              "version_major": 2,
              "version_minor": 0,
              "model_id": "6016ec21b2fb4b25bea8929606985c2d"
            }
          },
          "metadata": {}
        },
        {
          "output_type": "stream",
          "name": "stderr",
          "text": [
            "Special tokens have been added in the vocabulary, make sure the associated word embeddings are fine-tuned or trained.\n"
          ]
        },
        {
          "output_type": "stream",
          "name": "stdout",
          "text": [
            "SentenceTransformer(\n",
            "  (0): Transformer({'max_seq_length': 256, 'do_lower_case': False}) with Transformer model: RobertaModel \n",
            "  (1): Pooling({'word_embedding_dimension': 768, 'pooling_mode_cls_token': False, 'pooling_mode_mean_tokens': True, 'pooling_mode_max_tokens': False, 'pooling_mode_mean_sqrt_len_tokens': False})\n",
            ")\n"
          ]
        }
      ],
      "source": [
        "word_embedding_model = models.Transformer(\"vinai/phobert-base\", max_seq_length=max_seq_length)\n",
        "pooling_model = models.Pooling(word_embedding_model.get_word_embedding_dimension())\n",
        "model = SentenceTransformer(modules=[word_embedding_model, pooling_model])\n",
        "print(model)"
      ]
    },
    {
      "cell_type": "code",
      "execution_count": 7,
      "metadata": {
        "colab": {
          "base_uri": "https://localhost:8080/"
        },
        "id": "Y1JNX4hJzZAI",
        "outputId": "d2248eae-b006-42c0-8b5b-487facbf6216"
      },
      "outputs": [
        {
          "output_type": "stream",
          "name": "stdout",
          "text": [
            "There are 54697 pair sentences.\n",
            "52197\n"
          ]
        }
      ],
      "source": [
        "with open(\"/content/drive/MyDrive/Tài liệu học kỳ/Học kỳ 20222/Đồ án tốt nghiệp/Training Data/bm_25_pairs_top20\", \"rb\") as pair_file:\n",
        "    pairs = pickle.load(pair_file)\n",
        "print(f\"There are {len(pairs)} pair sentences.\")\n",
        "train_examples = []\n",
        "sent1 = []\n",
        "sent2 = []\n",
        "scores = []\n",
        "num_train = len(pairs) - num_val\n",
        "print(num_train)\n"
      ]
    },
    {
      "cell_type": "code",
      "execution_count": 8,
      "metadata": {
        "colab": {
          "base_uri": "https://localhost:8080/"
        },
        "id": "gRnjCsWQ4Wdc",
        "outputId": "8d6092fc-0cba-4492-ee07-c167dfbebbaa"
      },
      "outputs": [
        {
          "output_type": "stream",
          "name": "stdout",
          "text": [
            "Number of sample for training:  52198\n"
          ]
        }
      ],
      "source": [
        "for idx, pair in enumerate(pairs):\n",
        "    relevant = float(pair[\"relevant\"])\n",
        "    question = pair[\"question\"]\n",
        "    document = pair[\"document\"]\n",
        "    if idx <= num_train:\n",
        "        example = InputExample(texts=[question, document], label=relevant)\n",
        "        train_examples.append(example)\n",
        "    else:\n",
        "        sent1.append(question)\n",
        "        sent2.append(document)\n",
        "        scores.append(relevant)\n",
        "\n",
        "print(\"Number of sample for training: \", len(train_examples))"
      ]
    },
    {
      "cell_type": "code",
      "execution_count": 9,
      "metadata": {
        "id": "5WzM_aJ_6NTM"
      },
      "outputs": [],
      "source": [
        "train_dataloader = DataLoader(train_examples, shuffle=True, batch_size=batch_size)\n",
        "train_loss = losses.ContrastiveLoss(model)\n",
        "evaluator = evaluation.BinaryClassificationEvaluator(sent1, sent2, scores)"
      ]
    },
    {
      "cell_type": "code",
      "execution_count": 11,
      "metadata": {
        "colab": {
          "base_uri": "https://localhost:8080/",
          "height": 263,
          "referenced_widgets": [
            "0e72d5e6f5b94b6bbe3e9986372d733d",
            "9c3dc696ad08418bbd96b965b31ee7ac",
            "26ae66a4bdeb4950aa59a01eed565526",
            "90327e9c51ca4a6ba4e813517210e1a4",
            "a16300a642e046c58b2cbad9de1342c9",
            "d8d16462e80a49978406b457464dce95",
            "c27a6c0cf04a4cb98153432c7c0be0d8",
            "b7ab3490ef874eafb6221131ff154613",
            "e66854245eaa4ce69ca2667cd9a01d0e",
            "d38812ae88cb48a999351ff3e5079938",
            "a59cd619b3174d7c87efd3df1add8937",
            "1fc74fb37a2d4159a6a5ca1b16f03120",
            "3d074da0c09b481d8eb8d31aaef5251f",
            "04ce087ea2cb4428a7c60f5b45d8c383",
            "d1005494ba08465384922dbf911bfc9d",
            "18a99df853ae4894a96a743942671c37",
            "bc6097d28b8941bb87c00ceb419f5ebd",
            "7da56ae2f6a744c9b9e049a8e781c6f2",
            "726ba83dd4d041089b132abbc5501f2d",
            "0eec3737e5c349aeb1f463f2c4d9e0f7",
            "e594ae43d9ab4c558f55cbf6f04f3e67",
            "c95321139377407ea9ba984631de02b4",
            "61bbb63689fe42a9bd36463cecfdda3d",
            "6ab1daa30dc84c89b82c68e367399668",
            "7dc6cf89e6334eaaacaea7f10a46fa2a",
            "6406cc4baabe4860b518d5ee396b85e6",
            "f33f3045a8bc4028a9bddb7a5bff33be",
            "a0f9083008fe4b52a1a75456f14096df",
            "c1f403fb233d4a5ea4b3e30293b5e41c",
            "21d9dc4d8ea24acaa874e077bbea3e65",
            "d08d5769bc824d6ba3b46ce7218be8a0",
            "78009b58157a43b7ae9ab35ae8589a9d",
            "6eca4093bbd746d889308c0910c4e575",
            "e61a29c24e0b4166848d345a212f74cd",
            "64812e6ab48549d8bf290bedcadeba0d",
            "0721ca900bf24a13ad4c32434958e444",
            "50d4392dfd8747be8c6a81208bb99244",
            "5feb7522d3b042cba1a35b3b5bdef859",
            "b4432845a73d4f10bdcffa73b9af7b58",
            "f92ab3d8a13f4485829be90da7ef1865",
            "f4cac11ad48744d69022f70627a0fb41",
            "bb5de55793ef49039ab8398084df18af",
            "d7a84e7af98c4de79650e2eab7dc9a0c",
            "bd2f49d78d9a4b69baedd21254c386a3",
            "606fcac0c26942e5b98be066230aacc6",
            "5ba0bcb87dfc432f855e77ed2ed60548",
            "8ebefe6f7ff343a68ac1f4ac8345a00a",
            "ea013eb724e3436984d45eeaa6460906",
            "235be755030543d0a9594940c792ead3",
            "cee2cce7f5e04c8b80f8b0da8a1b1c17",
            "304f0fc812ca4d7abc1c90b703ae79ef",
            "be9fab77aa8a45aab90a980669cf1a14",
            "941780ce689242a88e9ed89b6f1fc1c6",
            "62dd740d97ec4858b75f7ffec3addbbb",
            "930cf9945d8e4567a029de686c49023e",
            "e4d64e6d39754400830f3267f32c1606",
            "dd6055010bc34a9389cb57666fa8fa30",
            "a0cf2bd5e92a4935896fabadc51039c5",
            "05715a6d22414185aee5a6122b5da801",
            "ea17030b019f47c094619a12636a63c8",
            "5fef433e1a2c41b498f68081a17d99be",
            "e944f2088abd49219a6ba75dbc60d186",
            "58be1662185142078be600b0fcd42360",
            "86976f37f7ea470fa4843be0b4e59cf1",
            "edf4317dc8894942b0a2a0af0488687b",
            "be0e4d9887cf417d952899fbf54b14eb"
          ]
        },
        "id": "unehce236Y1j",
        "outputId": "4d35811a-2221-440c-b60b-4066ceae4ce6"
      },
      "outputs": [
        {
          "output_type": "stream",
          "name": "stderr",
          "text": [
            "/usr/local/lib/python3.7/dist-packages/transformers/optimization.py:309: FutureWarning: This implementation of AdamW is deprecated and will be removed in a future version. Use the PyTorch implementation torch.optim.AdamW instead, or set `no_deprecation_warning=True` to disable this warning\n",
            "  FutureWarning,\n"
          ]
        },
        {
          "output_type": "display_data",
          "data": {
            "text/plain": [
              "Epoch:   0%|          | 0/5 [00:00<?, ?it/s]"
            ],
            "application/vnd.jupyter.widget-view+json": {
              "version_major": 2,
              "version_minor": 0,
              "model_id": "0e72d5e6f5b94b6bbe3e9986372d733d"
            }
          },
          "metadata": {}
        },
        {
          "output_type": "display_data",
          "data": {
            "text/plain": [
              "Iteration:   0%|          | 0/1632 [00:00<?, ?it/s]"
            ],
            "application/vnd.jupyter.widget-view+json": {
              "version_major": 2,
              "version_minor": 0,
              "model_id": "1fc74fb37a2d4159a6a5ca1b16f03120"
            }
          },
          "metadata": {}
        },
        {
          "output_type": "display_data",
          "data": {
            "text/plain": [
              "Iteration:   0%|          | 0/1632 [00:00<?, ?it/s]"
            ],
            "application/vnd.jupyter.widget-view+json": {
              "version_major": 2,
              "version_minor": 0,
              "model_id": "61bbb63689fe42a9bd36463cecfdda3d"
            }
          },
          "metadata": {}
        },
        {
          "output_type": "display_data",
          "data": {
            "text/plain": [
              "Iteration:   0%|          | 0/1632 [00:00<?, ?it/s]"
            ],
            "application/vnd.jupyter.widget-view+json": {
              "version_major": 2,
              "version_minor": 0,
              "model_id": "e61a29c24e0b4166848d345a212f74cd"
            }
          },
          "metadata": {}
        },
        {
          "output_type": "display_data",
          "data": {
            "text/plain": [
              "Iteration:   0%|          | 0/1632 [00:00<?, ?it/s]"
            ],
            "application/vnd.jupyter.widget-view+json": {
              "version_major": 2,
              "version_minor": 0,
              "model_id": "606fcac0c26942e5b98be066230aacc6"
            }
          },
          "metadata": {}
        },
        {
          "output_type": "display_data",
          "data": {
            "text/plain": [
              "Iteration:   0%|          | 0/1632 [00:00<?, ?it/s]"
            ],
            "application/vnd.jupyter.widget-view+json": {
              "version_major": 2,
              "version_minor": 0,
              "model_id": "e4d64e6d39754400830f3267f32c1606"
            }
          },
          "metadata": {}
        }
      ],
      "source": [
        "output_path = os.path.join(dest_path, \"pho_bert_base_with_pair_top_20_constractive_loss\")\n",
        "os.makedirs(output_path, exist_ok=True)\n",
        "model.fit(train_objectives=[(train_dataloader, train_loss)], \n",
        "            epochs=epochs, \n",
        "            warmup_steps=1000,\n",
        "            optimizer_params={'lr': 1e-5},\n",
        "            save_best_model=True,\n",
        "            evaluator=evaluator,\n",
        "            evaluation_steps=num_val,\n",
        "            output_path=output_path,\n",
        "            use_amp=True,\n",
        "            show_progress_bar=True)"
      ]
    },
    {
      "cell_type": "code",
      "source": [
        "model"
      ],
      "metadata": {
        "colab": {
          "base_uri": "https://localhost:8080/"
        },
        "id": "jArOkF-K78oS",
        "outputId": "faed8ce5-5f17-4ab4-928e-f0c2df0dc8e2"
      },
      "execution_count": null,
      "outputs": [
        {
          "output_type": "execute_result",
          "data": {
            "text/plain": [
              "SentenceTransformer(\n",
              "  (0): Transformer({'max_seq_length': 256, 'do_lower_case': False}) with Transformer model: RobertaModel \n",
              "  (1): Pooling({'word_embedding_dimension': 768, 'pooling_mode_cls_token': False, 'pooling_mode_mean_tokens': True, 'pooling_mode_max_tokens': False, 'pooling_mode_mean_sqrt_len_tokens': False})\n",
              ")"
            ]
          },
          "metadata": {},
          "execution_count": 10
        }
      ]
    },
    {
      "cell_type": "code",
      "source": [
        ""
      ],
      "metadata": {
        "id": "Ge7xnYVILACN"
      },
      "execution_count": null,
      "outputs": []
    },
    {
      "cell_type": "markdown",
      "metadata": {
        "id": "flGXjlZ4Ee-Q"
      },
      "source": [
        "## Thử nghiệm sinh ra answer với question và context"
      ]
    },
    {
      "cell_type": "code",
      "execution_count": null,
      "metadata": {
        "colab": {
          "base_uri": "https://localhost:8080/",
          "height": 194,
          "referenced_widgets": [
            "0679d5d7e28f4629a275814e5fe7ce11",
            "d5f9b932a74048838d8d551536eac5ec",
            "14ca63e16469436b93679daf7908cfbc",
            "2e9312262e344bf7b09a85440e2707c9",
            "4ff2abd81fab4df29e17f28082cf0c9c",
            "7e2881a1ee20417e84ca16cf6a3db3e3",
            "f513f440ff0e419991e99080d583851f",
            "655e3ac9915644eab0ff28e8c1a6af97",
            "8e5035d5d73c404183e3f3529f08656b",
            "0508828316614dd09eb0711593a0d531",
            "66dccd0b111445799255c07d3d2774be",
            "844c53701af043f1940d975721576807",
            "642d94d2a1d64fc0b5c033126a0940bd",
            "a0dff078a4e04fab8e25ed4aa6360f16",
            "b949057065854dad9436439ade8b81cc",
            "bd0c0bd362904668b1eca039827a3d7c",
            "d87716f61d574e9db9d801bf26c0e1fb",
            "deec94c6ceb14fb4b3097969aaf30bad",
            "034b8a6f790a4710a22c86ae9343b950",
            "fe8ef96bd021437388dbc9e7e0e3e104",
            "b74ec19063be48d2ad107d03c9e6f079",
            "b50d93d47dfe44989675a429d321c4cf",
            "4b16c7e398644a76b66b4f76efe156c0",
            "ca717599ea3a436f9e1d8f512f899536",
            "be258d852b07488aa4d0e39f3b52d530",
            "95886c991e164ebda03f9fe0755a6fe7",
            "a2b36beacdac440b82cdfec0bf81caf9",
            "089270610f804990aa5244f0e3d4efb5",
            "3029a2167ebe453b9295999ecf0b42a6",
            "b6c1e8df855e4538ac3ab0a56072a67d",
            "9ea1c960dcd64a45936594ec7b6416e6",
            "6370e63a7aa044c1a4c575932d894fdc",
            "4c60cfc7e52b4721bf705dbc550ee744",
            "f53fdfb7eb6d4db9ae3cc4ff40eb04fa",
            "325c6461c4df44e68db30db35eaec8ac",
            "af446ab8e5134d898695c1a6343d7be5",
            "aba3b00991b14babbff37eae078be759",
            "76e6dbf75efc4c83ada094ca282fe885",
            "2374ba318a144754970f308b684e8b3f",
            "217d2a2410e942ac9f62fe693f937718",
            "da76ef6a9c224100a7ed07fe37673215",
            "31bdf325c0ac485db466daab0cf0b412",
            "cef35ba71ea44da4aba415b84cc09354",
            "0b799aae39f64f4da9a53a9ae63bede3",
            "7771df5cbb2b4f02aa8dc9dcf5092bbc",
            "783a97b301b2409a8b14043542ce0455",
            "a5241242436e4b8e8e1fcfd0ada55df7",
            "117a3c66cb304a29ab86ca03ad0da1fe",
            "0785cedc05bc4786bd9002a0ac060404",
            "2baec8d9ca9140dcaf5c179eedd33cf7",
            "4549af855555495591483a8e1003feb5",
            "2502b1a10f3b4974bb6b21ce942dbb5d",
            "a2d7f290ae3946f1a724396aecb20e41",
            "b81ead8ba83541008b2518e8948c974d",
            "600ac169c1844305ab2533f3d1fef657"
          ]
        },
        "id": "5HEHlJk3_2ax",
        "outputId": "d43c5254-1d93-4e08-e45d-4a7b32ee0c26"
      },
      "outputs": [
        {
          "data": {
            "application/vnd.jupyter.widget-view+json": {
              "model_id": "0679d5d7e28f4629a275814e5fe7ce11",
              "version_major": 2,
              "version_minor": 0
            },
            "text/plain": [
              "Downloading:   0%|          | 0.00/688 [00:00<?, ?B/s]"
            ]
          },
          "metadata": {},
          "output_type": "display_data"
        },
        {
          "data": {
            "application/vnd.jupyter.widget-view+json": {
              "model_id": "844c53701af043f1940d975721576807",
              "version_major": 2,
              "version_minor": 0
            },
            "text/plain": [
              "Downloading:   0%|          | 0.00/1.03G [00:00<?, ?B/s]"
            ]
          },
          "metadata": {},
          "output_type": "display_data"
        },
        {
          "data": {
            "application/vnd.jupyter.widget-view+json": {
              "model_id": "4b16c7e398644a76b66b4f76efe156c0",
              "version_major": 2,
              "version_minor": 0
            },
            "text/plain": [
              "Downloading:   0%|          | 0.00/398 [00:00<?, ?B/s]"
            ]
          },
          "metadata": {},
          "output_type": "display_data"
        },
        {
          "data": {
            "application/vnd.jupyter.widget-view+json": {
              "model_id": "f53fdfb7eb6d4db9ae3cc4ff40eb04fa",
              "version_major": 2,
              "version_minor": 0
            },
            "text/plain": [
              "Downloading:   0%|          | 0.00/8.66M [00:00<?, ?B/s]"
            ]
          },
          "metadata": {},
          "output_type": "display_data"
        },
        {
          "data": {
            "application/vnd.jupyter.widget-view+json": {
              "model_id": "7771df5cbb2b4f02aa8dc9dcf5092bbc",
              "version_major": 2,
              "version_minor": 0
            },
            "text/plain": [
              "Downloading:   0%|          | 0.00/239 [00:00<?, ?B/s]"
            ]
          },
          "metadata": {},
          "output_type": "display_data"
        },
        {
          "name": "stdout",
          "output_type": "stream",
          "text": [
            "pipeline: {'score': 0.578204870223999, 'start': 45, 'end': 68, 'answer': 'xử lý ngôn ngữ tự nhiên'}\n"
          ]
        }
      ],
      "source": [
        "from transformers import pipeline\n",
        "# model_checkpoint = \"nguyenvulebinh/vi-mrc-large\"\n",
        "model_checkpoint = \"nguyenvulebinh/vi-mrc-base\"\n",
        "nlp = pipeline('question-answering', model=model_checkpoint,\n",
        "                   tokenizer=model_checkpoint)\n",
        "QA_input = {\n",
        "  'question': \"Bình là chuyên gia về gì ?\",\n",
        "  'context': \"Bình Nguyễn là một người đam mê với lĩnh vực xử lý ngôn ngữ tự nhiên . Anh nhận chứng chỉ Google Developer Expert năm 2020\"\n",
        "}\n",
        "res = nlp(QA_input)\n",
        "print('pipeline: {}'.format(res))"
      ]
    },
    {
      "cell_type": "code",
      "execution_count": null,
      "metadata": {
        "id": "Bf08UWd9FOkm"
      },
      "outputs": [],
      "source": [
        "import os\n",
        "import json\n",
        "from tqdm import tqdm\n",
        "\n",
        "dest_path = '/content/drive/MyDrive/Tài liệu học kỳ/Học kỳ 20222/Đồ án tốt nghiệp/Training Data'\n",
        "\n",
        "questions_test_path = os.path.join(dest_path, \"questions_test.json\")\n",
        "with open(questions_test_path) as json_file:\n",
        "    questions_test = json.load(json_file)"
      ]
    },
    {
      "cell_type": "code",
      "execution_count": null,
      "metadata": {
        "colab": {
          "base_uri": "https://localhost:8080/"
        },
        "id": "rAvzgk1nGcsR",
        "outputId": "d76c7305-bc4c-4ab4-efb2-1aef5726d094"
      },
      "outputs": [
        {
          "name": "stdout",
          "output_type": "stream",
          "text": [
            "{'law_id': '01/2009/tt-bnn', 'articles': [{'article_id': '1', 'title': 'Điều 1. Phạm vi áp dụng', 'text': 'Thông tư này hướng dẫn tuần tra, canh gác bảo vệ đê Điều trong mùa lũ đối với các tuyến đê sông được phân loại, phân cấp theo quy định tại Điều 4 của Luật Đê Điều.'}, {'article_id': '2', 'title': 'Điều 2. Tổ chức lực lượng', 'text': '1. Hàng năm trước mùa mưa, lũ, Ủy ban nhân dân cấp xã nơi có đê phải tổ chức lực lượng lao động tại địa phương để tuần tra, canh gác đê và thường trực trên các điếm canh đê hoặc nhà dân khu vực gần đê (đối với những khu vực chưa có điếm canh đê), khi có báo động lũ từ cấp I trở lên đối với tuyến sông có đê (sau đây gọi tắt là lực lượng tuần tra, canh gác đê).\\n2. Lực lượng tuần tra, canh gác đê được tổ chức thành các đội, do Ủy ban nhân dân cấp xã ra quyết định thành lập; từ 01 đến 02 kilômét đê thành lập 01 đội; mỗi đội có từ 12 đến 18 người, trong đó có 01 đội trưởng và 01 hoặc 02 đội phó. Danh sách thành viên đội tuần tra, canh gác đê được niêm yết tại điếm canh đê thuộc địa bàn được phân công.\\n3. Khi lũ, bão có diễn biến phức tạp, kéo dài ngày, Uỷ ban nhân dân cấp xã có thể quyết định việc bổ sung thêm thành viên cho đội tuần tra, canh gác đê.'}, {'article_id': '3', 'title': 'Điều 3. Tiêu chuẩn của các thành viên thuộc lực lượng tuần tra, canh gác đê', 'text': '1. Là người khoẻ mạnh, tháo vát, đủ khả năng đảm đương những công việc nặng nhọc, kể cả lúc mưa to, gió lớn, đêm tối.\\n2. Có tinh thần trách nhiệm, chịu đựng gian khổ, khắc phục khó khăn, quen sông nước và biết bơi, có kiến thức, kinh nghiệm hộ đê, phòng, chống lụt, bão.'}, {'article_id': '4', 'title': 'Điều 4. Nhiệm vụ của lực lượng tuần tra, canh gác đê', 'text': '1. Chấp hành sự phân công của Ban chỉ huy phòng, chống lụt, bão các cấp và chịu sự hướng dẫn về chuyên môn nghiệp vụ của cơ quan chuyên trách quản lý đê Điều.\\n2. Tuần tra, canh gác và thường trực trên các điếm canh đê, khi có báo động lũ từ cấp I trở lên đối với tuyến sông có đê. Theo dõi diễn biến của đê Điều; phát hiện kịp thời những hư hỏng của đê Điều và báo cáo ngay cho Ban chỉ huy chống lụt bão xã, cán bộ chuyên trách quản lý đê Điều phụ trách tuyến đê đó và khẩn trương tiến hành xử lý giờ đầu theo đúng kỹ thuật đã được hướng dẫn.\\n3. Tham gia xử lý sự cố và tu sửa kịp thời những hư hỏng của đê Điều, dưới sự hướng dẫn về kỹ thuật của cán bộ chuyên trách quản lý đê Điều hoặc ý kiến chỉ đạo của cấp trên.\\n4. Canh gác, kiểm tra phát hiện và ngăn chặn kịp thời những hành vi vi phạm pháp Luật về đê Điều và phòng, chống lụt, bão và báo cáo ngay cán bộ chuyên trách quản lý đê Điều.\\n5. Đeo phù hiệu khi làm nhiệm vụ.'}, {'article_id': '5', 'title': 'Điều 5. Phù hiệu của lực lượng tuần tra, canh gác đê', 'text': 'Phù hiệu của lực lượng tuần tra, canh gác đê là một băng đỏ rộng 10cm, có ký hiệu “KTĐ” màu vàng.\\nPhù hiệu được đeo trên khuỷu tay áo bên trái, chữ “KTĐ” hướng ra phía ngoài.'}, {'article_id': '6', 'title': 'Điều 6. Trang bị dụng cụ, sổ sách', 'text': '1. Lực lượng tuần tra, canh gác đê được trang bị:\\n- Dụng cụ thông tin, liên lạc, phương tiện phục vụ công tác tuần tra, canh gác đê; dụng cụ ứng cứu như đèn, đuốc, mai, cuốc, xẻng, đầm, vồ… và các dụng cụ cần thiết khác phù hợp với từng địa phương;\\n- Sổ sách để ghi chép tình hình diễn biến của đê, kè bảo vệ đê, cống qua đê, công trình quản lý khác; tiếp nhận chỉ thị, nhận xét của cấp trên, phân công, bố trí người tuần tra, canh gác hàng ngày.\\n2. Số lượng dụng cụ, sổ sách tối thiểu được trang bị cho mỗi đội tuần tra, canh gác đê như sau:\\na) Về dụng cụ:\\n- Áo phao:\\xa0\\xa0\\xa0\\xa0\\xa0\\xa0\\xa0\\xa0\\xa0\\xa0\\xa0\\xa0\\xa0\\xa0\\xa0\\xa0\\xa0\\xa0\\xa0\\xa0\\xa0\\xa0\\xa0\\xa0\\xa0\\xa0\\xa0\\xa0\\xa0\\xa0\\xa0\\xa0\\xa0\\xa0\\xa0\\xa0\\xa0\\xa0\\xa0\\xa0\\xa0\\xa0\\xa0\\xa0 06 cái;\\n- Áo đi mưa:\\xa0\\xa0\\xa0\\xa0\\xa0\\xa0\\xa0\\xa0\\xa0\\xa0\\xa0\\xa0\\xa0\\xa0\\xa0\\xa0\\xa0\\xa0\\xa0\\xa0\\xa0\\xa0\\xa0\\xa0\\xa0\\xa0\\xa0\\xa0\\xa0\\xa0\\xa0\\xa0\\xa0\\xa0\\xa0\\xa0\\xa0\\xa0\\xa0\\xa0\\xa0 18 cái;\\n- Xe cải tiến:\\xa0\\xa0\\xa0\\xa0\\xa0\\xa0\\xa0\\xa0\\xa0\\xa0\\xa0\\xa0\\xa0\\xa0\\xa0\\xa0\\xa0\\xa0\\xa0\\xa0\\xa0\\xa0\\xa0\\xa0\\xa0\\xa0\\xa0\\xa0\\xa0\\xa0\\xa0\\xa0\\xa0\\xa0\\xa0\\xa0\\xa0\\xa0\\xa0\\xa0\\xa0 02 chiếc;\\n- Quang gánh :\\xa0\\xa0\\xa0\\xa0\\xa0\\xa0\\xa0\\xa0\\xa0\\xa0\\xa0\\xa0\\xa0\\xa0\\xa0\\xa0\\xa0\\xa0\\xa0\\xa0\\xa0\\xa0\\xa0\\xa0\\xa0\\xa0\\xa0\\xa0\\xa0\\xa0\\xa0\\xa0\\xa0\\xa0\\xa0\\xa0\\xa0\\xa0 10 đôi;\\n- Xẻng:\\xa0\\xa0\\xa0\\xa0\\xa0\\xa0\\xa0\\xa0\\xa0\\xa0\\xa0\\xa0\\xa0\\xa0\\xa0\\xa0\\xa0\\xa0\\xa0\\xa0\\xa0\\xa0\\xa0\\xa0\\xa0\\xa0\\xa0\\xa0\\xa0\\xa0\\xa0\\xa0\\xa0\\xa0\\xa0\\xa0\\xa0\\xa0\\xa0\\xa0\\xa0\\xa0\\xa0\\xa0\\xa0\\xa0\\xa0\\xa0\\xa0 06 cái;\\n- Cuốc:\\xa0\\xa0\\xa0\\xa0\\xa0\\xa0\\xa0\\xa0\\xa0\\xa0\\xa0\\xa0\\xa0\\xa0\\xa0\\xa0\\xa0\\xa0\\xa0\\xa0\\xa0\\xa0\\xa0\\xa0\\xa0\\xa0\\xa0\\xa0\\xa0\\xa0\\xa0\\xa0\\xa0\\xa0\\xa0\\xa0\\xa0\\xa0\\xa0\\xa0\\xa0\\xa0\\xa0\\xa0\\xa0\\xa0\\xa0\\xa0\\xa0 06 cái;\\n- Mai đào đất:\\xa0\\xa0\\xa0\\xa0\\xa0\\xa0\\xa0\\xa0\\xa0\\xa0\\xa0\\xa0\\xa0\\xa0\\xa0\\xa0\\xa0\\xa0\\xa0\\xa0\\xa0\\xa0\\xa0\\xa0\\xa0\\xa0\\xa0\\xa0\\xa0\\xa0\\xa0\\xa0\\xa0\\xa0\\xa0\\xa0\\xa0\\xa0\\xa0 02 cái;\\n- Xè beng:\\xa0\\xa0\\xa0\\xa0\\xa0\\xa0\\xa0\\xa0\\xa0\\xa0\\xa0\\xa0\\xa0\\xa0\\xa0\\xa0\\xa0\\xa0\\xa0\\xa0\\xa0\\xa0\\xa0\\xa0\\xa0\\xa0\\xa0\\xa0\\xa0\\xa0\\xa0\\xa0\\xa0\\xa0\\xa0\\xa0\\xa0\\xa0\\xa0\\xa0\\xa0\\xa0\\xa0\\xa0\\xa0 01 cái;\\n- Dao:\\xa0\\xa0\\xa0\\xa0\\xa0\\xa0\\xa0\\xa0\\xa0\\xa0\\xa0\\xa0\\xa0\\xa0\\xa0\\xa0\\xa0\\xa0\\xa0\\xa0\\xa0\\xa0\\xa0\\xa0\\xa0\\xa0\\xa0\\xa0\\xa0\\xa0\\xa0\\xa0\\xa0\\xa0\\xa0\\xa0\\xa0\\xa0\\xa0\\xa0\\xa0\\xa0\\xa0\\xa0\\xa0\\xa0\\xa0\\xa0\\xa0\\xa0 10 con;\\n- Vồ:\\xa0\\xa0\\xa0\\xa0\\xa0\\xa0\\xa0\\xa0\\xa0\\xa0\\xa0\\xa0\\xa0\\xa0\\xa0\\xa0\\xa0\\xa0\\xa0\\xa0\\xa0\\xa0\\xa0\\xa0\\xa0\\xa0\\xa0\\xa0\\xa0\\xa0\\xa0\\xa0\\xa0\\xa0\\xa0\\xa0\\xa0\\xa0\\xa0\\xa0\\xa0\\xa0\\xa0\\xa0\\xa0\\xa0\\xa0\\xa0\\xa0\\xa0\\xa0\\xa0 05 cái;\\n- Đèn bão:\\xa0\\xa0\\xa0\\xa0\\xa0\\xa0\\xa0\\xa0\\xa0\\xa0\\xa0\\xa0\\xa0\\xa0\\xa0\\xa0\\xa0\\xa0\\xa0\\xa0\\xa0\\xa0\\xa0\\xa0\\xa0\\xa0\\xa0\\xa0\\xa0\\xa0\\xa0\\xa0\\xa0\\xa0\\xa0\\xa0\\xa0\\xa0\\xa0\\xa0\\xa0\\xa0\\xa0\\xa0 05 cái;\\n- Đèn ắc quy hoặc đèn pin:\\xa0\\xa0\\xa0\\xa0\\xa0\\xa0\\xa0\\xa0\\xa0\\xa0\\xa0\\xa0\\xa0\\xa0\\xa0\\xa0\\xa0\\xa0\\xa0\\xa0 05 cái;\\n- Trống hoặc kẻng:\\xa0\\xa0\\xa0\\xa0\\xa0\\xa0\\xa0\\xa0\\xa0\\xa0\\xa0\\xa0\\xa0\\xa0\\xa0\\xa0\\xa0\\xa0\\xa0\\xa0\\xa0\\xa0\\xa0\\xa0\\xa0\\xa0\\xa0\\xa0\\xa0\\xa0\\xa0\\xa0 01 cái;\\n- Biển tín hiệu báo động lũ:\\xa0\\xa0\\xa0\\xa0\\xa0\\xa0\\xa0\\xa0\\xa0\\xa0\\xa0\\xa0\\xa0\\xa0\\xa0\\xa0\\xa0\\xa0\\xa0\\xa0 01 bộ;\\n- Đèn tín hiệu báo động lũ:\\xa0\\xa0\\xa0\\xa0\\xa0\\xa0\\xa0\\xa0\\xa0\\xa0\\xa0\\xa0\\xa0\\xa0\\xa0\\xa0\\xa0\\xa0\\xa0\\xa0\\xa0 01 bộ;\\n- Tiêu, bảng báo hiệu hư hỏng: \\xa0\\xa0\\xa0\\xa0\\xa0\\xa0\\xa0\\xa0\\xa0\\xa0\\xa0\\xa0\\xa0\\xa0 20 cái;\\n- Dầu hỏa:\\xa0\\xa0\\xa0\\xa0\\xa0\\xa0\\xa0\\xa0\\xa0\\xa0\\xa0\\xa0\\xa0\\xa0\\xa0\\xa0\\xa0\\xa0\\xa0\\xa0\\xa0\\xa0\\xa0\\xa0\\xa0\\xa0\\xa0\\xa0\\xa0\\xa0\\xa0\\xa0 \\xa0\\xa0\\xa0\\xa0\\xa0\\xa0\\xa0\\xa0\\xa0\\xa0\\xa0 10 lít.\\nb) Về sổ sách:\\n- Sổ ghi danh sách, phân công người tuần tra canh gác theo từng ca, kíp trong ngày; ghi chỉ thị, ý kiến của cấp trên và những nội dung đã báo cáo với cấp trên trong ngày.\\n- Sổ nhật ký ghi chép diễn biến của đê, kè bảo vệ đê, cống qua đê và công trình quản lý khác;\\nNhững sổ sách trên phải giữ gìn cẩn thận, ghi chép rõ ràng và thường xuyên để ở trụ sở của đội (điếm canh đê hoặc nhà dân khu vực gần đê - đối với những khu vực chưa có điếm canh đê); nếu không có lệnh của đội trưởng thì không được mang sổ sách đi nơi khác.\\nc) Dụng cụ, sổ sách trên được để tại trụ sở của đội và được bàn giao giữa các kíp trực.\\n3. Kinh phí mua sắm dụng cụ, sổ sách quy định tại khoản 2 của Điều này lấy trong quỹ phòng, chống lụt, bão hoặc ngân sách hàng năm của địa phương.\\n4. Ủy ban nhân dân cấp huyện có đê, trước mùa lũ chịu trách nhiệm mua sắm dụng cụ, sổ sách quy định tại khoản 2 Điều này để cấp cho các đội tuần tra, canh gác đê.\\n5. Sau mùa lũ, đội trưởng các đội tuần tra, canh gác đê có trách nhiệm tổng hợp, thống kê và trao trả số dụng cụ quy định tại điểm a khoản 2 Điều này để bảo quản theo hướng dẫn của Ủy ban nhân dân cấp huyện.\\n6. Các loại sổ sách quy định tại điểm b khoản 2 Điều này, đội trưởng đội tuần tra, canh gác đê có trách nhiệm bàn giao cho đội chuyên trách quản lý đê Điều để xử lý và bảo quản.\\n7. Việc giao nhận các dụng cụ và sổ sách trên đây phải được lập biên bản để quản lý, theo dõi.'}, {'article_id': '7', 'title': 'Điều 7. Tín hiệu, cấp báo động lũ', 'text': '1. Khi báo động lũ ở cấp I trở lên, đội tuần tra, canh gác đê phải báo tín hiệu cấp báo động lũ tại các điếm canh đê, như sau:\\na) - Báo động lũ ở cấp I: 01 đèn màu xanh (ban ngày có thể bổ sung 01 biển hoặc cờ, hình tam giác màu đỏ để dễ nhận biết);\\n- Báo động lũ ở cấp II:\\xa0\\xa0\\xa0 02 đèn màu xanh (ban ngày có thể bổ sung 02 biển hoặc cờ, hình tam giác màu đỏ để dễ nhận biết);\\n- Báo động lũ ở cấp III: 03 đèn màu xanh (ban ngày có thể bổ sung 03 biển hoặc cờ, hình tam giác màu đỏ để dễ nhận biết).\\nb) Các biển (hoặc cờ), đèn báo hiệu được treo theo chiều dọc, với chiều cao thích hợp để mọi người trong khu vực nhìn thấy được.\\n2. Trường hợp khẩn cấp xảy ra sự cố nguy hiểm đe dọa đến an toàn của đê Điều, cần phải huy động lực lượng ứng cứu thì đội trưởng hoặc đội phó của đội tuần tra, canh gác đê cho đánh trống (hoặc kẻng) liên hồi để báo động.'}, {'article_id': '8', 'title': 'Điều 8. Quy định chế độ tuần tra, canh gác bảo vệ đê Điều', 'text': '1. Báo động lũ ở cấp I:\\nBố trí ngày 02 người, đêm 04 người. Ban ngày ít nhất sau 04 giờ có 01 kíp đi tuần, mỗi kíp có 01 người. Ban đêm ít nhất sau 04 giờ có 01 kíp đi tuần, mỗi kíp 02 người.\\n2. Báo động lũ ở cấp II:\\na) Bố trí ngày 04 người, đêm 06 người. Ban ngày ít nhất sau 02 giờ có 01 kíp đi tuần, mỗi kíp 02 người. Ban đêm ít nhất sau 02 giờ có 01 kíp đi tuần, mỗi kíp 03 người;\\nb) Trường hợp có tin bão khẩn cấp đổ bộ vào khu vực: bố trí ngày 06 người, đêm 12 người, chia thành các kíp, mỗi kíp 03 người; tùy theo diễn biến của bão, lũ và đặc điểm của tuyến đê, Ban chỉ huy phòng, chống lụt, bão cấp xã quyết định việc tăng cường số lần kiểm tra so với quy định tại điểm a khoản 2 Điều này.\\n3. Báo động lũ ở cấp III trở lên:\\na) Bố trí ngày 06 người, đêm 12 người, chia thành các kíp, mỗi kíp 03 người, không phân biệt ngày đêm các kíp phải liên tục thay phiên nhau kiểm tra;\\nb) Đối với các vị trí xung yếu của đê, kè bảo vệ đê, cống qua đê, bố trí thêm lực lượng để kiểm tra, phát hiện sự cố và báo cáo kịp thời.'}, {'article_id': '9', 'title': 'Điều 9. Nội dung tuần tra, canh gác đê', 'text': '1. Phạm vi tuần tra:\\na) Báo động lũ ở cấp I, bố trí người tuần tra như sau:\\n- Lượt đi: 01 người (ban ngày), 02 người (ban đêm) kiểm tra mặt đê, mái đê phía sông, khu vực hành lang bảo vệ đê phía sông;\\n- Lượt về: 01 người (ban ngày), 02 người (ban đêm) kiểm tra mái đê phía đồng, khu vực hành lang bảo vệ đê phía đồng, mặt ruộng, hồ ao gần chân đê phía đồng;\\nb) Báo động lũ ở cấp II, bố trí người tuần tra như sau:\\n- Lượt đi: 01 người kiểm tra mặt đê, mái đê phía sông, khu vực hành lang bảo vệ đê phía sông; 01 người (ban ngày), 02 người (ban đêm) kiểm tra mái đê phía đồng, khu vực hành lang bảo vệ đê phía đồng, mặt ruộng, hồ ao gần chân đê phía đồng;\\n- Lượt về: 01 người (ban ngày), 02 người (ban đêm) kiểm tra mặt đê, mái đê phía sông, khu vực hành lang bảo vệ đê phía sông; 01 người kiểm tra mái đê phía đồng, khu vực hành lang bảo vệ đê phía đồng, mặt ruộng, hồ ao gần chân đê phía đồng;\\nc) Báo động lũ ở cấp II và có tin bão khẩn cấp đổ bộ vào khu vực hoặc báo động lũ ở cấp III trở lên, bố trí người tuần tra như sau:\\n- Lượt đi: 02 người kiểm tra mái đê, khu vực hành lang bảo vệ đê phía đồng, mặt ruộng, hồ ao gần chân đê phía đồng; 01 người kiểm tra mặt đê.\\n- Lượt về: 02 người kiểm tra phía đồng; 01 người kiểm tra mặt đê, mái đê và khu vực hành lang bảo vệ đê phía sông.\\nd) Mỗi kíp tuần tra phải kiểm tra vượt quá phạm vi phụ trách về hai phía, mỗi phía 50m. Đối với những khu vực đã từng xảy ra sự cố hư hỏng, phải kiểm tra quan sát rộng hơn để phát hiện sự cố.\\n2. Người tuần tra, canh gác phải phát hiện kịp thời những hư hỏng của đê.\\n3. Khi phát hiện có hư hỏng, người tuần tra phải tiến hành các công việc sau:\\na) Xác định loại hư hỏng, vị trí, đặc điểm, kích thước của loại hư hỏng;\\nb) Xác định mực nước sông so với mặt đê tại vị trí phát sinh hư hỏng;\\nc) Đánh dấu bằng cách ghi bảng, cắm tiêu báo hiệu vị trí hư hỏng; nếu sự cố nghiêm trọng, phải cấm người, vật, xe cơ giới đi qua và bố trí người canh gác tại chỗ để theo dõi thường xuyên diễn biến của hư hỏng;\\nd) Báo cáo kịp thời và cụ thể tình hình hư hỏng cho đội trưởng hoặc đội phó, cán bộ chuyên trách quản lý đê Điều và Ban Chỉ huy phòng, chống lụt, bão xã.'}, {'article_id': '10', 'title': 'Điều 10. Nội dung tuần tra canh gác cống qua đê', 'text': '1. Khi lũ ở báo động I trở lên, đội tuần tra, canh gác đê phải phân công người theo dõi chặt chẽ diễn biến của các cống qua đê, ngăn chặn kịp thời những hành vi sử dụng cống trái phép trong mùa lũ.\\n2. Người tuần tra, canh gác phải kiểm tra kỹ phần tiếp giáp giữa thân cống, tường cánh gà của cống với đê; cánh cống, bộ phận đóng mở cánh cống, cửa cống, thân cống và khu vực thượng, hạ lưu cống để phát hiện kịp thời những sự cố xảy ra.\\n3. Khi phát hiện có hư hỏng của cống, người tuần tra, canh gác phải tiến hành các công việc như đối với quy định tại khoản 3 Điều 9 của Thông tư này.'}, {'article_id': '11', 'title': 'Điều 11. Nội dung tuần tra canh gác kè bảo vệ đê', 'text': '1. Khi mái kè chưa bị ngập nước:\\na) Kiểm tra mái kè; quan sát dòng chảy khu vực kè.\\nb) Nếu phát hiện thấy hư hỏng phải:\\n- Xác định vị trí, loại hư hỏng, đặc điểm và kích thước hư hỏng, mực nước sông so với đỉnh kè;\\n- Đánh dấu bằng cách ghi bảng, cắm tiêu, bảng báo hiệu vị trí hư hỏng; thường xuyên theo dõi diễn biến của hư hỏng;\\n- Báo cáo kịp thời và cụ thể tình hình hư hỏng cho đội trưởng, đội phó, cán bộ chuyên trách quản lý đê Điều và Ban Chỉ huy phòng, chống lụt, bão xã.\\n2. Khi kè bị ngập nước:\\na) Tại những kè xung yếu, khi nước chưa ngập đỉnh kè, đội tuần tra, canh gác đê có nhiệm vụ cắm các hàng tiêu để quan sát sự xói lở của kè; các hàng tiêu có thể được cắm như sau:\\n- Cắm tiêu dọc theo kè cách đỉnh kè 01 mét và vượt quá đầu và đuôi kè từ 20 mét đến 30 mét. Những vị trí xung yếu của kè cắm ít nhất từ 02 hàng tiêu trở lên. Khoảng cách giữa các tiêu từ 03 mét đến 04 mét, hàng nọ cách hàng kia từ 02 mét đến 2,5 mét. Tiêu cắm so le nhau;\\n- Tiêu có thể được làm bằng tre, nứa hoặc gỗ …; dài từ 04 mét đến 05 mét; cắm sâu xuống đất và được đánh số thứ tự đầu đến đuôi kè.\\nb) Theo dõi chặt chẽ các hàng tiêu đã cắm, khi phát hiện tiêu bị đổ phải kiểm tra và báo cáo ngay với đội trưởng, đội phó, cán bộ chuyên trách quản lý đê Điều và Ban Chỉ huy phòng, chống lụt, bão xã.\\n3. Khi lũ rút: Khi nước đã rút khỏi bãi và mái kè, người tuần tra phải xem xét tỷ mỉ từng bộ phận của kè, phát hiện hư hỏng xảy ra.\\n4. Sau mỗi đợt lũ các đội trưởng phải tập hợp tình hình diễn biến và hư hỏng của kè, báo cáo cán bộ chuyên trách quản lý đê Điều và Ban Chỉ huy phòng, chống lụt, bão xã.'}, {'article_id': '12', 'title': 'Điều 12. Chế độ báo cáo', 'text': '1. Người tuần tra, canh gác đê trong khi làm nhiệm vụ phát hiện thấy \\xa0có hư hỏng của đê Điều phải tìm mọi cách nhanh chóng báo cáo cán bộ chuyên trách quản lý đê Điều và Ban Chỉ huy phòng, chống lụt, bão xã để tiến hành xử lý kịp thời.\\n2. Nội dung báo cáo:\\n- Thời gian phát hiện hư hỏng;\\n- Vị trí, đặc điểm, kích thước, diễn biến của hư hỏng và mức độ nguy hiểm;\\n- Đề xuất biện pháp xử lý.\\n3. Trường hợp xét thấy hư hỏng có khả năng diễn biến xấu, đội trưởng phải cử người tăng cường, theo dõi tại chỗ và cứ 30 phút phải báo cáo một lần.\\nTrường hợp hư hỏng có nguy cơ đe dọa an toàn của công trình, phải tiến hành xử lý gấp nhằm ngăn chặn và hạn chế hư hỏng phát triển thêm đồng thời phát tín hiệu báo động theo quy định khoản 2 Điều 7 của Thông tư này. Trong khi chờ lực lượng ứng cứu, những người được phân công theo dõi tuyệt đối không được rời vị trí được giao.\\n4. Khi có sự cố xảy ra, ngoài việc theo dõi và tham gia xử lý, các đội tuần tra, canh gác đê vẫn phải bảo đảm chế độ tuần tra, canh gác đối với toàn bộ đoạn đê được phân công phụ trách.'}, {'article_id': '13', 'title': 'Điều 13. Quy định về bàn giao giữa các kíp trực', 'text': 'Sau mỗi đợt kiểm tra, các kíp tuần tra, canh gác đê phải ghi chép đầy đủ tình hình diễn biến và hư hỏng đê Điều vào sổ nhật ký tuần tra, canh gác theo mẫu quy định và bàn giao đầy đủ cho kíp sau. Người thay mặt kíp giao và nhận phải ký và ghi rõ họ tên, ngày giờ vào sổ. Sau mỗi ngày đội trưởng và cán bộ chuyên trách quản lý đê Điều ký xác nhận tình hình trong ngày để theo dõi và làm cơ sở cho việc chi trả thù lao theo quy định.'}, {'article_id': '14', 'title': 'Điều 14. Chế độ, chính sách đối với lực lượng tuần tra, canh gác đê', 'text': '1. Người tuần tra, canh gác đê được hưởng thù lao, mức thù lao cho lực lượng này do Ủy ban nhân dân cấp tỉnh quy định, theo hướng dẫn của Bộ Tài chính và Bộ Nông nghiệp và Phát triển nông thôn.\\n2. Trước mùa lũ hàng năm các thành viên đội tuần tra, canh gác đê được tập trung huấn luyện, hướng dẫn nghiệp vụ tuần tra canh gác, hộ đê, phòng, chống, lụt, bão. Những ngày dự huấn luyện được coi như trực tiếp làm nhiệm vụ và được hưởng mức thù lao theo quy định ở khoản 1 Điều này.\\n3. Người bị thương, người bị thiệt hại tính mạng trong khi làm nhiệm vụ được xét hưởng chế độ, chính sách như đối với lực lượng vũ trang tham gia hộ đê theo quy định của pháp Luật.'}, {'article_id': '15', 'title': 'Điều 15. Khen thưởng, kỷ Luật', 'text': '1. Những đơn vị và cá nhân thực hiện tốt quy định tại Thông tư \\xa0này và có thành tích xuất sắc trong công tác tuần tra, canh gác đê sẽ được khen thưởng.\\n2. Những đơn vị và cá nhân vi phạm quy định tại Thông tư này tuỳ theo lỗi nặng nhẹ sẽ bị thi hành kỷ Luật từ cảnh cáo đến truy tố trước pháp Luật của Nhà nước.'}, {'article_id': '16', 'title': 'Điều 16. Trách nhiệm của Uỷ ban nhân dân cấp huyện, cấp xã nơi có đê', 'text': '1. Trách nhiệm của Uỷ ban nhân dân cấp huyện nơi có đê:\\na) Hướng dẫn các xã có đê tổ chức lực lượng tuần tra, canh gác đê; hướng dẫn hoạt động và kiểm tra, đôn đốc công tác tuần tra, canh gác.\\nb) Chủ trì, tổ chức chỉ đạo các đơn vị, phối hợp với cơ quan chuyên trách quản lý đê Điều huấn luyện nghiệp vụ tuần tra, canh gác, hộ đê, phòng, chống lụt, bão cho lực lượng tuần tra, canh gác đê.\\nc) Trang bị và hướng dẫn việc quản lý sử dụng các dụng cụ, sổ sách cho các đội tuần tra, canh gác đê theo quy định tại khoản 2 Điều 6 của Thông tư này.\\n2. Trách nhiệm của Uỷ ban nhân dân cấp xã nơi có đê\\na) Tổ chức lực lượng tuần tra, canh gác đê trong mùa lũ ở các tuyến đê thuộc địa bàn.\\nb) Trực tiếp quản lý và chỉ đạo lực lượng tuần tra, canh gác đê theo các quy định tại Thông tư này.'}, {'article_id': '17', 'title': 'Điều 17. Trách nhiệm của Sở Nông nghiệp và Phát triển nông thôn', 'text': '1. Tham mưu cho Ủy ban nhân dân cấp tỉnh, phối hợp với các đơn vị xây dựng và trình duyệt mức thù lao và các chế độ chính sách đối với lực lượng tuần tra, canh gác đê.\\n2. Phối hợp với Uỷ ban nhân dân cấp huyện, cấp xã để tổ chức, hướng dẫn hoạt động của lực lượng tuần tra, canh gác đê; chỉ đạo lực lượng chuyên trách quản lý đê Điều trực tiếp hướng dẫn chuyên môn, nghiệp vụ cho lực lượng này trước và trong mùa lũ.\\n3. Khi có báo động lũ từ cấp I trở lên, Sở Nông nghiệp và Phát triển nông thôn phải chỉ đạo, tổ chức kiểm tra, đôn đốc công tác tuần tra, canh gác ở các tuyến đê.'}]}\n",
            "<class 'list'>\n"
          ]
        }
      ],
      "source": [
        "legal_corpus_path = \"/content/drive/MyDrive/Tài liệu học kỳ/Học kỳ 20222/Đồ án tốt nghiệp/zac2021-ltr-data/legal_corpus.json\"\n",
        "with open(legal_corpus_path) as json_file:\n",
        "    data = json.load(json_file)\n",
        "print(data[0])\n",
        "print(type(data))"
      ]
    },
    {
      "cell_type": "code",
      "execution_count": null,
      "metadata": {
        "colab": {
          "base_uri": "https://localhost:8080/"
        },
        "id": "xC20MUphHKXo",
        "outputId": "6847aecf-11f7-44e3-9dcf-5ec5372d2d88"
      },
      "outputs": [
        {
          "name": "stderr",
          "output_type": "stream",
          "text": [
            " 93%|█████████▎| 3034/3271 [00:00<00:00, 832603.92it/s]\n"
          ]
        }
      ],
      "source": [
        "for law_article in tqdm(data):\n",
        "    law_id = law_article[\"law_id\"]\n",
        "    if law_id == questions_test[0]['relevant_articles'][0]['law_id']:\n",
        "      law_articles = law_article[\"articles\"]\n",
        "      break\n",
        "for sub_article in law_articles:\n",
        "  article_id = sub_article[\"article_id\"]\n",
        "  if article_id == questions_test[0]['relevant_articles'][0]['article_id']:\n",
        "    article_title = sub_article[\"title\"]\n",
        "    article_text = sub_article[\"text\"]\n",
        "    article_full = article_title + \". \" + article_text\n",
        "    article_full = article_full.replace(\"\\n\", \" \")\n",
        "    break\n",
        "context = article_full"
      ]
    },
    {
      "cell_type": "code",
      "execution_count": null,
      "metadata": {
        "colab": {
          "base_uri": "https://localhost:8080/"
        },
        "id": "IlSccG2LIjNP",
        "outputId": "572222ad-408b-441f-8c32-c3f419792624"
      },
      "outputs": [
        {
          "name": "stdout",
          "output_type": "stream",
          "text": [
            "Điều 8. Cung cấp dịch vụ công trực tuyến. 1. Dịch vụ công trực tuyến phục vụ cấp, quản lý, kiểm soát hộ chiếu của công dân Việt Nam được triển khai trên Cổng dịch vụ công của Bộ Công an, Bộ Ngoại giao theo chức năng, nhiệm vụ được phân công và liên kết, tích hợp thông tin với cổng dịch vụ công quốc gia. 2. Dịch vụ công trực tuyến nêu tại khoản 1 Điều này cho phép tiếp nhận thông tin khai tờ khai đề nghị cấp hộ chiếu, đặt lịch hẹn và hỗ trợ cung cấp thông tin hướng dẫn trình tự thực hiện cấp hộ chiếu; tra cứu trạng thái, kết quả xử lý đề nghị cấp hộ chiếu.\n"
          ]
        }
      ],
      "source": [
        "print(context)"
      ]
    },
    {
      "cell_type": "code",
      "execution_count": null,
      "metadata": {
        "colab": {
          "base_uri": "https://localhost:8080/"
        },
        "id": "yq17WHzWGfjn",
        "outputId": "c7c7135a-9aee-4845-87a4-b3ea6a724748"
      },
      "outputs": [
        {
          "name": "stdout",
          "output_type": "stream",
          "text": [
            "{'article_id': '1', 'title': 'Điều 1. Phạm vi áp dụng', 'text': 'Thông tư này hướng dẫn tuần tra, canh gác bảo vệ đê Điều trong mùa lũ đối với các tuyến đê sông được phân loại, phân cấp theo quy định tại Điều 4 của Luật Đê Điều.'}\n"
          ]
        }
      ],
      "source": [
        "context = data['law_id' == '77/2020/nđ-cp']['articles']['article_id' == '8']\n",
        "print(context)"
      ]
    },
    {
      "cell_type": "code",
      "execution_count": null,
      "metadata": {
        "colab": {
          "base_uri": "https://localhost:8080/"
        },
        "id": "2l5abIJaGM_I",
        "outputId": "4ab99050-90ba-49c0-a103-7891b829cf93"
      },
      "outputs": [
        {
          "data": {
            "text/plain": [
              "{'question': 'Những dịch vụ nào được cung cấp trực tuyến trong việc kiểm soát hộ chiếu công dân Việt Nam?',\n",
              " 'question_id': '142e0483fd375f557561ace15e2aea83',\n",
              " 'relevant_articles': [{'article_id': '8', 'law_id': '77/2020/nđ-cp'}]}"
            ]
          },
          "execution_count": 10,
          "metadata": {},
          "output_type": "execute_result"
        }
      ],
      "source": [
        "questions_test[0]"
      ]
    },
    {
      "cell_type": "code",
      "execution_count": null,
      "metadata": {
        "colab": {
          "base_uri": "https://localhost:8080/"
        },
        "id": "UZiR4jjKF7PH",
        "outputId": "60174758-fd83-48a6-920f-6cbb820d9d1d"
      },
      "outputs": [
        {
          "name": "stderr",
          "output_type": "stream",
          "text": [
            " 19%|█▉        | 618/3271 [00:00<00:00, 365699.76it/s]\n",
            "/usr/local/lib/python3.7/dist-packages/transformers/tokenization_utils_base.py:707: VisibleDeprecationWarning: Creating an ndarray from ragged nested sequences (which is a list-or-tuple of lists-or-tuples-or ndarrays with different lengths or shapes) is deprecated. If you meant to do this, you must specify 'dtype=object' when creating the ndarray.\n",
            "  tensor = as_tensor(value)\n",
            "/usr/local/lib/python3.7/dist-packages/transformers/pipelines/question_answering.py:300: VisibleDeprecationWarning: Creating an ndarray from ragged nested sequences (which is a list-or-tuple of lists-or-tuples-or ndarrays with different lengths or shapes) is deprecated. If you meant to do this, you must specify 'dtype=object' when creating the ndarray.\n",
            "  for span_id in range(num_spans)\n"
          ]
        },
        {
          "name": "stdout",
          "output_type": "stream",
          "text": [
            "{'question': 'Quay đầu xe trên cầu thì bị phạt bao nhiêu?', 'context': 'Điều 5. Xử phạt người điều khiển xe ô tô và các loại xe tương tự xe ô tô vi phạm quy tắc giao thông đường bộ. 1. Phạt tiền từ 200.000 đồng đến 400.000 đồng đối với người điều khiển xe thực hiện một trong các hành vi vi phạm sau đây: a) Không chấp hành hiệu lệnh, chỉ dẫn của biển báo hiệu, vạch kẻ đường, trừ các hành vi vi phạm quy định tại điểm a, điểm d, điểm g, điểm h, điểm i, điểm k khoản 2; điểm a, điểm d, điểm đ, điểm e, điểm k, điểm l, điểm o, điểm r, điểm s khoản 3; điểm b, điểm c, điểm d, điểm đ, điểm I khoản 4; điểm a, điểm c, điểm d, điểm đ, điểm e, điểm g, điểm i khoản 5; điểm a, điểm b khoản 6; điểm a, điểm c khoản 7; điểm a khoản 8 Điều này; b) Chuyển hướng không nhường quyền đi trước cho: Người đi bộ, xe lăn của người khuyết tật qua đường tại nơi có vạch kẻ đường dành cho người đi bộ; xe thô sơ đang đi trên phần đường dành cho xe thô sơ; c) Chuyển hướng không nhường đường cho: Các xe đi ngược chiều; người đi bộ, xe lăn của người khuyết tật đang qua đường tại nơi không có vạch kẻ đường cho người đi bộ; d) Khi dừng xe, đỗ xe không có tín hiệu báo cho người điều khiển phương tiện khác biết; đ) Khi đỗ xe chiếm một phần đường xe chạy không đặt ngay báo hiệu nguy hiểm theo quy định, trừ hành vi vi phạm quy định tại điểm c khoản 6 Điều này và trường hợp đỗ xe tại vị trí quy định được phép đỗ xe; e) Không gắn biển báo hiệu ở phía trước xe kéo, phía sau xe được kéo; điều khiển xe kéo rơ moóc không có biển báo hiệu theo quy định; g) Bấm còi trong đô thị và khu đông dân cư trong thời gian từ 22 giờ ngày hôm trước đến 05 giờ ngày hôm sau, trừ các xe ưu tiên đang đi làm nhiệm vụ theo quy định. 2. Phạt tiền từ 400.000 đồng đến 600.000 đồng đối với người điều khiển xe thực hiện một trong các hành vi vi phạm sau đây: a) Chuyển làn đường không đúng nơi cho phép hoặc không có tín hiệu báo trước, trừ các hành vi vi phạm quy định tại điểm g khoản 5 Điều này; b) Điều khiển xe chạy tốc độ thấp hơn các xe khác đi cùng chiều mà không đi về bên phải phần đường xe chạy, trừ trường hợp các xe khác đi cùng chiều chạy quá tốc độ quy định; c) Chở người trên buồng lái quá số lượng quy định; d) Không tuân thủ các quy định về nhường đường tại nơi đường bộ giao nhau, trừ các hành vi vi phạm quy định tại điểm m, điểm n khoản 3 Điều này; đ) Điều khiển xe có liên quan trực tiếp đến vụ tai nạn giao thông mà không dừng lại, không giữ nguyên hiện trường, không tham gia cấp cứu người bị nạn, trừ hành vi vi phạm quy định tại điểm b khoản 8 Điều này; e) Xe được quyền ưu tiên lắp đặt, sử dụng thiết bị phát tín hiệu ưu tiên không đúng quy định hoặc sử dụng thiết bị phát tín hiệu ưu tiên mà không có giấy phép của cơ quan có thẩm quyền cấp hoặc có giấy phép của cơ quan có thẩm quyền cấp nhưng không còn giá trị sử dụng theo quy định; g) Dừng xe, đỗ xe trên phần đường xe chạy ở đoạn đường ngoài đô thị nơi có lề đường rộng; dừng xe, đỗ xe không sát mép đường phía bên phải theo chiều đi ở nơi đường có lề đường hẹp hoặc không có lề đường; dừng xe, đỗ xe ngược với chiều lưu thông của làn đường; dừng xe, đỗ xe trên dải phân cách cố định ở giữa hai phần đường xe chạy; đỗ xe trên dốc không chèn bánh; mở cửa xe, để cửa xe mở không bảo đảm an toàn; h) Dừng xe không sát theo lề đường, hè phố phía bên phải theo chiều đi hoặc bánh xe gần nhất cách lề đường, hè phố quá 0,25 m; dừng xe trên đường xe điện, đường dành riêng cho xe buýt; dừng xe trên miệng cống thoát nước, miệng hầm của đường điện thoại, điện cao thế, chỗ dành riêng cho xe chữa cháy lấy nước; rời vị trí lái, tắt máy khi dừng xe; dừng xe, đỗ xe không đúng vị trí quy định ở những đoạn có bố trí nơi dừng xe, đỗ xe; dừng xe, đỗ xe trên phần đường dành cho người đi bộ qua đường; dừng xe nơi có biển “Cấm dừng xe và đỗ xe”, trừ hành vi vi phạm quy định tại điểm i khoản 4, điểm b khoản 6 Điều này; i) Quay đầu xe trái quy định trong khu dân cư; k) Quay đầu xe ở phần đường dành cho người đi bộ qua đường, trên cầu, đầu cầu, ngầm, gầm cầu vượt, trừ trường hợp tổ chức giao thông tại những khu vực này có bố trí nơi quay đầu xe. 3. Phạt tiền từ 800.000 đồng đến 1.000.000 đồng đối với người điều khiển xe thực hiện một trong các hành vi vi phạm sau đây: a) Điều khiển xe chạy quá tốc độ quy định từ 05 km/h đến dưới 10 km/h; b) Bấm còi, rú ga liên tục; bấm còi hơi, sử dụng đèn chiếu xa trong đô thị, khu đông dân cư, trừ các xe ưu tiên đang đi làm nhiệm vụ theo quy định; c) Chuyển hướng không giảm tốc độ hoặc không có tín hiệu báo hướng rẽ (trừ trường hợp điều khiển xe đi theo hướng cong của đoạn đường bộ ở nơi đường không giao nhau cùng mức); d) Không tuân thủ các quy định về dừng xe, đỗ xe tại nơi đường bộ giao nhau cùng mức với đường sắt; dừng xe, đỗ xe trong phạm vi an toàn của đường sắt, trừ hành vi vi phạm quy định tại điểm b khoản 2, điểm b khoản 3 Điều 49 Nghị định này; đ) Dừng xe, đỗ xe tại vị trí: nơi đường bộ giao nhau hoặc trong phạm vi 05 m tính từ mép đường giao nhau; điểm dừng đón, trả khách của xe buýt; trước cổng hoặc trong phạm vi 05 m hai bên cổng trụ sở cơ quan, tổ chức có bố trí đường cho xe ô tô ra vào; nơi phần đường có bề rộng chỉ đủ cho một làn xe; che khuất biển báo hiệu đường bộ; nơi mở dải phân cách giữa; e) Đỗ xe không sát theo lề đường, hè phố phía bên phải theo chiều đi hoặc bánh xe gần nhất cách lề đường, hè phố quá 0,25 m; đỗ xe trên đường xe điện, đường dành riêng cho xe buýt; đỗ xe trên miệng cống thoát nước, miệng hầm của đường điện thoại, điện cao thế, chỗ dành riêng cho xe chữa cháy lấy nước; đỗ, để xe ở hè phố trái quy định của pháp luật; đỗ xe nơi có biển “Cấm đỗ xe” hoặc biển “Cấm dừng xe và đỗ xe”, trừ hành vi vi phạm quy định tại điểm i khoản 4, điểm b khoản 6 Điều này; g) Không sử dụng hoặc sử dụng không đủ đèn chiếu sáng trong thời gian từ 19 giờ ngày hôm trước đến 05 giờ ngày hôm sau, khi sương mù, thời tiết xấu hạn chế tầm nhìn; sử dụng đèn chiếu xa khi tránh xe đi ngược chiều; h) Điều khiển xe ô tô kéo theo xe khác, vật khác (trừ trường hợp kéo theo một rơ moóc, sơ mi rơ moóc hoặc một xe ô tô, xe máy chuyên dùng khác khi xe này không tự chạy được); điều khiển xe ô tô đẩy xe khác, vật khác; điều khiển xe kéo rơ moóc, sơ mi rơ moóc kéo thêm rơ moóc hoặc xe khác, vật khác; không nối chắc chắn, an toàn giữa xe kéo và xe được kéo khi kéo nhau; i) Chở người trên xe được kéo, trừ người điều khiển; k) Quay đầu xe tại nơi đường bộ giao nhau cùng mức với đường sắt; quay đầu xe tại nơi đường hẹp, đường dốc, đoạn đường cong tầm nhìn bị che khuất, nơi có biển báo “Cấm quay đầu xe”; l) Không giữ khoảng cách an toàn để xảy ra va chạm với xe chạy liền trước hoặc không giữ khoảng cách theo quy định của biển báo hiệu “Cự ly tối thiểu giữa hai xe”, trừ các hành vi vi phạm quy định tại điểm g khoản 5 Điều này; m) Không giảm tốc độ và nhường đường khi điều khiển xe chạy từ trong ngõ, đường nhánh ra đường chính; n) Không nhường đường cho xe đi trên đường ưu tiên, đường chính từ bất kỳ hướng nào tới tại nơi đường giao nhau; o) Lùi xe ở đường một chiều, đường có biển “Cấm đi ngược chiều”, khu vực cấm dừng, trên phần đường dành cho người đi bộ qua đường, nơi đường bộ giao nhau, nơi đường bộ giao nhau cùng mức với đường sắt, nơi tầm nhìn bị che khuất; lùi xe không quan sát hoặc không có tín hiệu báo trước, trừ hành vi vi phạm quy định tại điểm a khoản 8 Điều này; p) Không thắt dây an toàn khi điều khiển xe chạy trên đường; q) Chở người trên xe ô tô không thắt dây an toàn (tại vị trí có trang bị dây an toàn) khi xe đang chạy; r) Chạy trong hầm đường bộ không sử dụng đèn chiếu sáng gần; s) Điều khiển xe chạy dưới tốc độ tối thiểu trên những đoạn đường bộ có quy định tốc độ tối thiểu cho phép. 4. Phạt tiền từ 1.000.000 đồng đến 2.000.000 đồng đối với người điều khiển xe thực hiện một trong các hành vi vi phạm sau đây: a) Dùng tay sử dụng điện thoại di động khi đang điều khiển xe chạy trên đường; b) Đi vào khu vực cấm, đường có biển báo hiệu có nội dung cấm đi vào đối với loại phương tiện đang điều khiển, trừ các hành vi vi phạm quy định tại điểm c khoản 5, điểm a khoản 8 Điều này và các trường hợp xe ưu tiên đang đi làm nhiệm vụ khẩn cấp theo quy định; c) Điều khiển xe không đủ điều kiện để thu phí theo hình thức điện tử tự động không dừng đi vào làn đường dành riêng thu phí theo hình thức điện tử tự động không dừng tại các trạm thu phí; d) Dừng xe, đỗ xe tại vị trí: Bên trái đường một chiều hoặc bên trái (theo hướng lưu thông) của đường đôi; trên đoạn đường cong hoặc gần đầu dốc nơi tầm nhìn bị che khuất; trên cầu, gầm cầu vượt, song song với một xe khác đang dừng, đỗ, trừ hành vi vi phạm quy định tại điểm b khoản 6 Điều này; đ) Dừng xe, đỗ xe, quay đầu xe trái quy định gây ùn tắc giao thông; e) Xe không được quyền ưu tiên lắp đặt, sử dụng thiết bị phát tín hiệu của xe được quyền ưu tiên; g) Không thực hiện biện pháp bảo đảm an toàn theo quy định khi xe ô tô bị hư hỏng ngay tại nơi đường bộ giao nhau cùng mức với đường sắt; h) Không nhường đường cho xe xin vượt khi có đủ điều kiện an toàn; i) Lùi xe, quay đầu xe trong hầm đường bộ; dừng xe, đỗ xe, vượt xe trong hầm đường bộ không đúng nơi quy định. 5. Phạt tiền từ 3.000.000 đồng đến 5.000.000 đồng đối với người điều khiển xe thực hiện một trong các hành vi vi phạm sau đây: a) Không chấp hành hiệu lệnh của đèn tín hiệu giao thông; b) Không chấp hành hiệu lệnh, hướng dẫn của người điều khiển giao thông hoặc người kiểm soát giao thông; c) Đi ngược chiều của đường một chiều, đi ngược chiều trên đường có biển “Cấm đi ngược chiều”, trừ các hành vi vi phạm quy định tại điểm a khoản 8 Điều này và các trường hợp xe ưu tiên đang đi làm nhiệm vụ khẩn cấp theo quy định; d) Vượt xe trong những trường hợp không được vượt, vượt xe tại đoạn đường có biển báo hiệu có nội dung cấm vượt (đối với loại phương tiện đang điều khiển); không có báo hiệu trước khi vượt; vượt bên phải xe khác trong trường hợp không được phép, trừ trường hợp tại đoạn đường có nhiều làn đường cho xe đi cùng chiều được phân biệt bằng vạch kẻ phân làn đường mà xe chạy trên làn đường bên phải chạy nhanh hơn xe đang chạy trên làn đường bên trái; đ) Điều khiển xe không đi bên phải theo chiều đi của mình; đi không đúng phần đường hoặc làn đường quy định (làn cùng chiều hoặc làn ngược chiều) trừ hành vi quy định tại điểm c khoản 4 Điều này; điều khiển xe đi qua dải phân cách cố định ở giữa hai phần đường xe chạy; điều khiển xe đi trên hè phố, trừ trường hợp điều khiển xe đi qua hè phố để vào nhà; e) Tránh xe đi ngược chiều không đúng quy định, trừ hành vi vi phạm sử dụng đèn chiếu xa khi tránh xe đi ngược chiều quy định tại điểm g khoản 3 Điều này; không nhường đường cho xe đi ngược chiều theo quy định tại nơi đường hẹp, đường dốc, nơi có chướng ngại vật; g) Không tuân thủ các quy định khi vào hoặc ra đường cao tốc; điều khiển xe chạy ở làn dừng xe khẩn cấp hoặc phần lề đường của đường cao tốc; chuyển làn đường không đúng nơi cho phép hoặc không có tín hiệu báo trước khi chạy trên đường cao tốc; không tuân thủ quy định về khoảng cách an toàn đối với xe chạy liền trước khi chạy trên đường cao tốc; h) Không nhường đường hoặc gây cản trở xe được quyền ưu tiên đang phát tín hiệu ưu tiên đi làm nhiệm vụ; i) Điều khiển xe chạy quá tốc độ quy định từ 10 km/h đến 20 km/h. 6. Phạt tiền từ 6.000.000 đồng đến 8.000.000 đồng đối với người điều khiển xe thực hiện một trong các hành vi vi phạm sau đây: a) Điều khiển xe chạy quá tốc độ quy định trên 20 km/h đến 35 km/h; b) Dừng xe, đỗ xe trên đường cao tốc không đúng nơi quy định; không có báo hiệu để người lái xe khác biết khi buộc phải dừng xe, đỗ xe trên đường cao tốc không đúng nơi quy định; quay đầu xe trên đường cao tốc; c) Điều khiển xe trên đường mà trong máu hoặc hơi thở có nồng độ cồn nhưng chưa vượt quá 50 miligam/100 mililít máu hoặc chưa vượt quá 0,25 miligam/1 lít khí thở. 7. Phạt tiền từ 10.000.000 đồng đến 12.000.000 đồng đối với người điều khiển xe thực hiện một trong các hành vi vi phạm sau đây: a) Không chú ý quan sát, điều khiển xe chạy quá tốc độ quy định gây tai nạn giao thông; dừng xe, đỗ xe, quay đầu xe, lùi xe, tránh xe, vượt xe, chuyển hướng, chuyển làn đường không đúng quy định gây tai nạn giao thông; không đi đúng phần đường, làn đường, không giữ khoảng cách an toàn giữa hai xe theo quy định gây tai nạn giao thông hoặc đi vào đường có biển báo hiệu có nội dung cấm đi vào đối với loại phương tiện đang điều khiển, đi ngược chiều của đường một chiều, đi ngược chiều trên đường có biển “Cấm đi ngược chiều” gây tai nạn giao thông, trừ các hành vi vi phạm quy định tại điểm a khoản 8 Điều này; b) Điều khiển xe lạng lách, đánh võng; chạy quá tốc độ đuổi nhau trên đường bộ; dùng chân điều khiển vô lăng xe khi xe đang chạy trên đường; c) Điều khiển xe chạy quá tốc độ quy định trên 35 km/h. 8. Phạt tiền từ 16.000.000 đồng đến 18.000.000 đồng đối với người điều khiển xe thực hiện một trong các hành vi vi phạm sau đây: a) Điều khiển xe đi ngược chiều trên đường cao tốc, lùi xe trên đường cao tốc, trừ các xe ưu tiên đang đi làm nhiệm vụ khẩn cấp theo quy định; b) Gây tai nạn giao thông không dừng lại, không giữ nguyên hiện trường, bỏ trốn không đến trình báo với cơ quan có thẩm quyền, không tham gia cấp cứu người bị nạn; c) Điều khiển xe trên đường mà trong máu hoặc hơi thở có nồng độ cồn vượt quá 50 miligam đến 80 miligam/100 mililít máu hoặc vượt quá 0,25 miligam đến 0,4 miligam/1 lít khí thở. 9. Phạt tiền từ 18.000.000 đồng đến 20.000.000 đồng đối với hành vi vi phạm quy định tại điểm b khoản 7 Điều này mà không chấp hành hiệu lệnh dừng xe của người thi hành công vụ hoặc gây tai nạn giao thông. 10. Phạt tiền từ 30.000.000 đồng đến 40.000.000 đồng đối với người điều khiển xe thực hiện một trong các hành vi vi phạm sau đây: a) Điều khiển xe trên đường mà trong máu hoặc hơi thở có nồng độ cồn vượt quá 80 miligam/100 mililít máu hoặc vượt quá 0,4 miligam/1 lít khí thở; b) Không chấp hành yêu cầu kiểm tra về nồng độ cồn của người thi hành công vụ; c) Điều khiển xe trên đường mà trong cơ thể có chất ma túy; d) Không chấp hành yêu cầu kiểm tra về chất ma túy của người thi hành công vụ. 11. Ngoài việc bị phạt tiền, người điều khiển xe thực hiện hành vi vi phạm còn bị áp dụng các hình thức xử phạt bổ sung sau đây: a) Thực hiện hành vi quy định tại điểm e khoản 4 Điều này bị tịch thu thiết bị phát tín hiệu ưu tiên lắp đặt sử dụng trái quy định; b) Thực hiện hành vi quy định tại điểm đ khoản 2; điểm h, điểm i khoản 3; khoản 4; điểm a, điểm b, điểm d, điểm đ, điểm g, điểm h, điểm i khoản 5 Điều này bị tước quyền sử dụng Giấy phép lái xe từ 01 tháng đến 03 tháng; c) Thực hiện hành vi quy định tại điểm c khoản 5; điểm a, điểm b khoản 6; khoản 7 Điều này bị tước quyền sử dụng Giấy phép lái xe từ 02 tháng đến 04 tháng. Thực hiện hành vi quy định tại một trong các điểm, khoản sau của Điều này mà gây tai nạn giao thông thì bị tước quyền sử dụng Giấy phép lái xe từ 02 tháng đến 04 tháng: điểm a, điểm d, điểm đ, điểm e, điểm g khoản 1; điểm b, điểm d, điểm g khoản 2; điểm b, điểm g, điểm h, điểm m, điểm n, điểm r, điểm s khoản 3; điểm a, điểm c, điểm e, điểm g, điểm h khoản 4; điểm a, điểm b, điểm e, điểm g, điểm h khoản 5 Điều này; d) Thực hiện hành vi quy định tại khoản 9 Điều này hoặc tái phạm hành vi quy định tại điểm b khoản 7 Điều này, bị tước quyền sử dụng Giấy phép lái xe từ 03 tháng đến 05 tháng; đ) Thực hiện hành vi quy định tại điểm a, điểm b khoản 8 Điều này bị tước quyền sử dụng Giấy phép lái xe từ 05 tháng đến 07 tháng; e) Thực hiện hành vi quy định tại điểm c khoản 6 Điều này bị tước quyền sử dụng Giấy phép lái xe từ 10 tháng đến 12 tháng; g) Thực hiện hành vi quy định tại điểm c khoản 8 Điều này bị tước quyền sử dụng Giấy phép lái xe từ 16 tháng đến 18 tháng; h) Thực hiện hành vi quy định tại khoản 10 Điều này bị tước quyền sử dụng Giấy phép lái xe từ 22 tháng đến 24 tháng.'}\n",
            "pipeline: {'score': 0.4580858647823334, 'start': 4017, 'end': 4051, 'answer': 'từ 800.000 đồng đến 1.000.000 đồng'}\n"
          ]
        }
      ],
      "source": [
        "question = questions_test[100]\n",
        "for law_article in tqdm(data):\n",
        "    law_id = law_article[\"law_id\"]\n",
        "    if law_id == question['relevant_articles'][0]['law_id']:\n",
        "      law_articles = law_article[\"articles\"]\n",
        "      break\n",
        "for sub_article in law_articles:\n",
        "  article_id = sub_article[\"article_id\"]\n",
        "  if article_id == question['relevant_articles'][0]['article_id']:\n",
        "    article_title = sub_article[\"title\"]\n",
        "    article_text = sub_article[\"text\"]\n",
        "    article_full = article_title + \". \" + article_text\n",
        "    article_full = article_full.replace(\"\\n\", \" \")\n",
        "    break\n",
        "context = article_full\n",
        "QA_input = {\n",
        "  'question': question['question'],\n",
        "  'context': context\n",
        "}\n",
        "\n",
        "print(QA_input)\n",
        "res = nlp(QA_input)\n",
        "print('pipeline: {}'.format(res))"
      ]
    },
    {
      "cell_type": "markdown",
      "metadata": {
        "id": "IMkkBBBZKkl2"
      },
      "source": [
        "## FAISS\n"
      ]
    },
    {
      "cell_type": "code",
      "execution_count": null,
      "metadata": {
        "colab": {
          "base_uri": "https://localhost:8080/"
        },
        "id": "CV8utnd8Nwzs",
        "outputId": "a042846d-f8f3-490f-f0ec-9491ec7ed505"
      },
      "outputs": [
        {
          "output_type": "stream",
          "name": "stdout",
          "text": [
            "Looking in indexes: https://pypi.org/simple, https://us-python.pkg.dev/colab-wheels/public/simple/\n",
            "Collecting faiss-cpu\n",
            "  Downloading faiss_cpu-1.7.2-cp37-cp37m-manylinux_2_17_x86_64.manylinux2014_x86_64.whl (8.6 MB)\n",
            "\u001b[K     |████████████████████████████████| 8.6 MB 4.0 MB/s \n",
            "\u001b[?25hInstalling collected packages: faiss-cpu\n",
            "Successfully installed faiss-cpu-1.7.2\n"
          ]
        }
      ],
      "source": [
        "!pip install faiss-cpu"
      ]
    },
    {
      "cell_type": "markdown",
      "metadata": {
        "id": "EQ82Q65BLGCF"
      },
      "source": [
        "### Thử nghiệm"
      ]
    },
    {
      "cell_type": "code",
      "execution_count": null,
      "metadata": {
        "id": "2NWBxU5JIqFX"
      },
      "outputs": [],
      "source": [
        "import requests\n",
        "from io import StringIO\n",
        "import pandas as pd"
      ]
    },
    {
      "cell_type": "code",
      "execution_count": null,
      "metadata": {
        "colab": {
          "base_uri": "https://localhost:8080/",
          "height": 206
        },
        "id": "yCn-sggDKkIV",
        "outputId": "5f203642-55db-4434-db0f-82d976c148b5"
      },
      "outputs": [
        {
          "data": {
            "text/html": [
              "\n",
              "  <div id=\"df-ce52fbab-ebe1-438a-9601-f4a7ea0ac12d\">\n",
              "    <div class=\"colab-df-container\">\n",
              "      <div>\n",
              "<style scoped>\n",
              "    .dataframe tbody tr th:only-of-type {\n",
              "        vertical-align: middle;\n",
              "    }\n",
              "\n",
              "    .dataframe tbody tr th {\n",
              "        vertical-align: top;\n",
              "    }\n",
              "\n",
              "    .dataframe thead th {\n",
              "        text-align: right;\n",
              "    }\n",
              "</style>\n",
              "<table border=\"1\" class=\"dataframe\">\n",
              "  <thead>\n",
              "    <tr style=\"text-align: right;\">\n",
              "      <th></th>\n",
              "      <th>pair_ID</th>\n",
              "      <th>sentence_A</th>\n",
              "      <th>sentence_B</th>\n",
              "      <th>relatedness_score</th>\n",
              "      <th>entailment_judgment</th>\n",
              "    </tr>\n",
              "  </thead>\n",
              "  <tbody>\n",
              "    <tr>\n",
              "      <th>0</th>\n",
              "      <td>1</td>\n",
              "      <td>A group of kids is playing in a yard and an ol...</td>\n",
              "      <td>A group of boys in a yard is playing and a man...</td>\n",
              "      <td>4.5</td>\n",
              "      <td>NEUTRAL</td>\n",
              "    </tr>\n",
              "    <tr>\n",
              "      <th>1</th>\n",
              "      <td>2</td>\n",
              "      <td>A group of children is playing in the house an...</td>\n",
              "      <td>A group of kids is playing in a yard and an ol...</td>\n",
              "      <td>3.2</td>\n",
              "      <td>NEUTRAL</td>\n",
              "    </tr>\n",
              "    <tr>\n",
              "      <th>2</th>\n",
              "      <td>3</td>\n",
              "      <td>The young boys are playing outdoors and the ma...</td>\n",
              "      <td>The kids are playing outdoors near a man with ...</td>\n",
              "      <td>4.7</td>\n",
              "      <td>ENTAILMENT</td>\n",
              "    </tr>\n",
              "    <tr>\n",
              "      <th>3</th>\n",
              "      <td>5</td>\n",
              "      <td>The kids are playing outdoors near a man with ...</td>\n",
              "      <td>A group of kids is playing in a yard and an ol...</td>\n",
              "      <td>3.4</td>\n",
              "      <td>NEUTRAL</td>\n",
              "    </tr>\n",
              "    <tr>\n",
              "      <th>4</th>\n",
              "      <td>9</td>\n",
              "      <td>The young boys are playing outdoors and the ma...</td>\n",
              "      <td>A group of kids is playing in a yard and an ol...</td>\n",
              "      <td>3.7</td>\n",
              "      <td>NEUTRAL</td>\n",
              "    </tr>\n",
              "  </tbody>\n",
              "</table>\n",
              "</div>\n",
              "      <button class=\"colab-df-convert\" onclick=\"convertToInteractive('df-ce52fbab-ebe1-438a-9601-f4a7ea0ac12d')\"\n",
              "              title=\"Convert this dataframe to an interactive table.\"\n",
              "              style=\"display:none;\">\n",
              "        \n",
              "  <svg xmlns=\"http://www.w3.org/2000/svg\" height=\"24px\"viewBox=\"0 0 24 24\"\n",
              "       width=\"24px\">\n",
              "    <path d=\"M0 0h24v24H0V0z\" fill=\"none\"/>\n",
              "    <path d=\"M18.56 5.44l.94 2.06.94-2.06 2.06-.94-2.06-.94-.94-2.06-.94 2.06-2.06.94zm-11 1L8.5 8.5l.94-2.06 2.06-.94-2.06-.94L8.5 2.5l-.94 2.06-2.06.94zm10 10l.94 2.06.94-2.06 2.06-.94-2.06-.94-.94-2.06-.94 2.06-2.06.94z\"/><path d=\"M17.41 7.96l-1.37-1.37c-.4-.4-.92-.59-1.43-.59-.52 0-1.04.2-1.43.59L10.3 9.45l-7.72 7.72c-.78.78-.78 2.05 0 2.83L4 21.41c.39.39.9.59 1.41.59.51 0 1.02-.2 1.41-.59l7.78-7.78 2.81-2.81c.8-.78.8-2.07 0-2.86zM5.41 20L4 18.59l7.72-7.72 1.47 1.35L5.41 20z\"/>\n",
              "  </svg>\n",
              "      </button>\n",
              "      \n",
              "  <style>\n",
              "    .colab-df-container {\n",
              "      display:flex;\n",
              "      flex-wrap:wrap;\n",
              "      gap: 12px;\n",
              "    }\n",
              "\n",
              "    .colab-df-convert {\n",
              "      background-color: #E8F0FE;\n",
              "      border: none;\n",
              "      border-radius: 50%;\n",
              "      cursor: pointer;\n",
              "      display: none;\n",
              "      fill: #1967D2;\n",
              "      height: 32px;\n",
              "      padding: 0 0 0 0;\n",
              "      width: 32px;\n",
              "    }\n",
              "\n",
              "    .colab-df-convert:hover {\n",
              "      background-color: #E2EBFA;\n",
              "      box-shadow: 0px 1px 2px rgba(60, 64, 67, 0.3), 0px 1px 3px 1px rgba(60, 64, 67, 0.15);\n",
              "      fill: #174EA6;\n",
              "    }\n",
              "\n",
              "    [theme=dark] .colab-df-convert {\n",
              "      background-color: #3B4455;\n",
              "      fill: #D2E3FC;\n",
              "    }\n",
              "\n",
              "    [theme=dark] .colab-df-convert:hover {\n",
              "      background-color: #434B5C;\n",
              "      box-shadow: 0px 1px 3px 1px rgba(0, 0, 0, 0.15);\n",
              "      filter: drop-shadow(0px 1px 2px rgba(0, 0, 0, 0.3));\n",
              "      fill: #FFFFFF;\n",
              "    }\n",
              "  </style>\n",
              "\n",
              "      <script>\n",
              "        const buttonEl =\n",
              "          document.querySelector('#df-ce52fbab-ebe1-438a-9601-f4a7ea0ac12d button.colab-df-convert');\n",
              "        buttonEl.style.display =\n",
              "          google.colab.kernel.accessAllowed ? 'block' : 'none';\n",
              "\n",
              "        async function convertToInteractive(key) {\n",
              "          const element = document.querySelector('#df-ce52fbab-ebe1-438a-9601-f4a7ea0ac12d');\n",
              "          const dataTable =\n",
              "            await google.colab.kernel.invokeFunction('convertToInteractive',\n",
              "                                                     [key], {});\n",
              "          if (!dataTable) return;\n",
              "\n",
              "          const docLinkHtml = 'Like what you see? Visit the ' +\n",
              "            '<a target=\"_blank\" href=https://colab.research.google.com/notebooks/data_table.ipynb>data table notebook</a>'\n",
              "            + ' to learn more about interactive tables.';\n",
              "          element.innerHTML = '';\n",
              "          dataTable['output_type'] = 'display_data';\n",
              "          await google.colab.output.renderOutput(dataTable, element);\n",
              "          const docLink = document.createElement('div');\n",
              "          docLink.innerHTML = docLinkHtml;\n",
              "          element.appendChild(docLink);\n",
              "        }\n",
              "      </script>\n",
              "    </div>\n",
              "  </div>\n",
              "  "
            ],
            "text/plain": [
              "   pair_ID                                         sentence_A  \\\n",
              "0        1  A group of kids is playing in a yard and an ol...   \n",
              "1        2  A group of children is playing in the house an...   \n",
              "2        3  The young boys are playing outdoors and the ma...   \n",
              "3        5  The kids are playing outdoors near a man with ...   \n",
              "4        9  The young boys are playing outdoors and the ma...   \n",
              "\n",
              "                                          sentence_B  relatedness_score  \\\n",
              "0  A group of boys in a yard is playing and a man...                4.5   \n",
              "1  A group of kids is playing in a yard and an ol...                3.2   \n",
              "2  The kids are playing outdoors near a man with ...                4.7   \n",
              "3  A group of kids is playing in a yard and an ol...                3.4   \n",
              "4  A group of kids is playing in a yard and an ol...                3.7   \n",
              "\n",
              "  entailment_judgment  \n",
              "0             NEUTRAL  \n",
              "1             NEUTRAL  \n",
              "2          ENTAILMENT  \n",
              "3             NEUTRAL  \n",
              "4             NEUTRAL  "
            ]
          },
          "execution_count": 51,
          "metadata": {},
          "output_type": "execute_result"
        }
      ],
      "source": [
        "res = requests.get('https://raw.githubusercontent.com/brmson/dataset-sts/master/data/sts/sick2014/SICK_train.txt')\n",
        "# create dataframe\n",
        "data = pd.read_csv(StringIO(res.text), sep='\\t')\n",
        "data.head()"
      ]
    },
    {
      "cell_type": "code",
      "execution_count": null,
      "metadata": {
        "colab": {
          "base_uri": "https://localhost:8080/"
        },
        "id": "EkYFn8hFLLCU",
        "outputId": "6f2dd1ec-9658-4b0b-a447-703ba41917a8"
      },
      "outputs": [
        {
          "data": {
            "text/plain": [
              "['A group of kids is playing in a yard and an old man is standing in the background',\n",
              " 'A group of children is playing in the house and there is no man standing in the background',\n",
              " 'The young boys are playing outdoors and the man is smiling nearby',\n",
              " 'The kids are playing outdoors near a man with a smile',\n",
              " 'The young boys are playing outdoors and the man is smiling nearby']"
            ]
          },
          "execution_count": 52,
          "metadata": {},
          "output_type": "execute_result"
        }
      ],
      "source": [
        "# we take all samples from both sentence A and B\n",
        "sentences = data['sentence_A'].tolist()\n",
        "sentences[:5]"
      ]
    },
    {
      "cell_type": "code",
      "execution_count": null,
      "metadata": {
        "colab": {
          "base_uri": "https://localhost:8080/"
        },
        "id": "80-8EmbYLM_9",
        "outputId": "94ddf955-7b7b-4253-e0d7-4e0ff65f3ab4"
      },
      "outputs": [
        {
          "data": {
            "text/plain": [
              "4802"
            ]
          },
          "execution_count": 53,
          "metadata": {},
          "output_type": "execute_result"
        }
      ],
      "source": [
        "# we take all samples from both sentence A and B\n",
        "sentences = data['sentence_A'].tolist()\n",
        "sentence_b = data['sentence_B'].tolist()\n",
        "sentences.extend(sentence_b)  # merge them\n",
        "len(set(sentences))  # together we have ~4.5K unique sentences"
      ]
    },
    {
      "cell_type": "code",
      "execution_count": null,
      "metadata": {
        "id": "CQiathf9LOkk"
      },
      "outputs": [],
      "source": [
        "urls = [\n",
        "    'https://raw.githubusercontent.com/brmson/dataset-sts/master/data/sts/semeval-sts/2012/MSRpar.train.tsv',\n",
        "    'https://raw.githubusercontent.com/brmson/dataset-sts/master/data/sts/semeval-sts/2012/MSRpar.test.tsv',\n",
        "    'https://raw.githubusercontent.com/brmson/dataset-sts/master/data/sts/semeval-sts/2012/OnWN.test.tsv',\n",
        "    'https://raw.githubusercontent.com/brmson/dataset-sts/master/data/sts/semeval-sts/2013/OnWN.test.tsv',\n",
        "    'https://raw.githubusercontent.com/brmson/dataset-sts/master/data/sts/semeval-sts/2014/OnWN.test.tsv',\n",
        "    'https://raw.githubusercontent.com/brmson/dataset-sts/master/data/sts/semeval-sts/2014/images.test.tsv',\n",
        "    'https://raw.githubusercontent.com/brmson/dataset-sts/master/data/sts/semeval-sts/2015/images.test.tsv'\n",
        "]"
      ]
    },
    {
      "cell_type": "code",
      "execution_count": null,
      "metadata": {
        "colab": {
          "base_uri": "https://localhost:8080/"
        },
        "id": "yNqbegMlLSCc",
        "outputId": "d6cf686c-175c-4f73-9ee4-8e1feb9dc6ad"
      },
      "outputs": [
        {
          "name": "stderr",
          "output_type": "stream",
          "text": [
            "/usr/local/lib/python3.7/dist-packages/IPython/core/interactiveshell.py:2882: FutureWarning: The error_bad_lines argument has been deprecated and will be removed in a future version.\n",
            "\n",
            "\n",
            "  exec(code_obj, self.user_global_ns, self.user_ns)\n",
            "b'Skipping line 191: expected 3 fields, saw 4\\nSkipping line 206: expected 3 fields, saw 4\\nSkipping line 295: expected 3 fields, saw 4\\nSkipping line 695: expected 3 fields, saw 4\\nSkipping line 699: expected 3 fields, saw 4\\n'\n",
            "b'Skipping line 104: expected 3 fields, saw 4\\nSkipping line 181: expected 3 fields, saw 4\\nSkipping line 317: expected 3 fields, saw 4\\nSkipping line 412: expected 3 fields, saw 5\\nSkipping line 508: expected 3 fields, saw 4\\n'\n"
          ]
        }
      ],
      "source": [
        "# each of these dataset have the same structure, so we loop through each creating our sentences data\n",
        "for url in urls:\n",
        "    res = requests.get(url)\n",
        "    # extract to dataframe\n",
        "    data = pd.read_csv(StringIO(res.text), sep='\\t', header=None, error_bad_lines=False)\n",
        "    # add to columns 1 and 2 to sentences list\n",
        "    sentences.extend(data[1].tolist())\n",
        "    sentences.extend(data[2].tolist())"
      ]
    },
    {
      "cell_type": "code",
      "execution_count": null,
      "metadata": {
        "colab": {
          "base_uri": "https://localhost:8080/"
        },
        "id": "nzl53Q8HLTVk",
        "outputId": "e3e0e621-2fbd-4a06-f7d2-b0478b4d3b74"
      },
      "outputs": [
        {
          "data": {
            "text/plain": [
              "4802"
            ]
          },
          "execution_count": 54,
          "metadata": {},
          "output_type": "execute_result"
        }
      ],
      "source": [
        "len(set(sentences))\n"
      ]
    },
    {
      "cell_type": "code",
      "execution_count": null,
      "metadata": {
        "id": "aTS3RyTJLVuU"
      },
      "outputs": [],
      "source": [
        "\n",
        "# remove duplicates and NaN\n",
        "sentences = [word for word in list(set(sentences)) if type(word) is str]"
      ]
    },
    {
      "cell_type": "code",
      "execution_count": null,
      "metadata": {
        "colab": {
          "base_uri": "https://localhost:8080/"
        },
        "id": "oU876WUnLXoE",
        "outputId": "803b84b1-c123-4c23-c4af-ecbb4a3abcc1"
      },
      "outputs": [
        {
          "data": {
            "text/plain": [
              "(4802, 768)"
            ]
          },
          "execution_count": 56,
          "metadata": {},
          "output_type": "execute_result"
        }
      ],
      "source": [
        "from sentence_transformers import SentenceTransformer\n",
        "# initialize sentence transformer model\n",
        "model = SentenceTransformer('bert-base-nli-mean-tokens')\n",
        "# create sentence embeddings\n",
        "sentence_embeddings = model.encode(sentences)\n",
        "sentence_embeddings.shape"
      ]
    },
    {
      "cell_type": "code",
      "execution_count": null,
      "metadata": {
        "colab": {
          "base_uri": "https://localhost:8080/"
        },
        "id": "Up46qatJPA0r",
        "outputId": "662351e2-8043-4874-b48f-13223e2d5688"
      },
      "outputs": [
        {
          "data": {
            "text/plain": [
              "numpy.ndarray"
            ]
          },
          "execution_count": 57,
          "metadata": {},
          "output_type": "execute_result"
        }
      ],
      "source": [
        "type(sentence_embeddings)"
      ]
    },
    {
      "cell_type": "code",
      "execution_count": null,
      "metadata": {
        "id": "Tl2K0JyZLce8"
      },
      "outputs": [],
      "source": [
        "import faiss\n"
      ]
    },
    {
      "cell_type": "code",
      "execution_count": null,
      "metadata": {
        "colab": {
          "base_uri": "https://localhost:8080/"
        },
        "id": "pseqo7FQLede",
        "outputId": "803ebec7-6e1d-470c-c953-7ed734383a66"
      },
      "outputs": [
        {
          "data": {
            "text/plain": [
              "768"
            ]
          },
          "execution_count": 61,
          "metadata": {},
          "output_type": "execute_result"
        }
      ],
      "source": [
        "d = sentence_embeddings.shape[1]\n",
        "d"
      ]
    },
    {
      "cell_type": "code",
      "execution_count": null,
      "metadata": {
        "colab": {
          "base_uri": "https://localhost:8080/"
        },
        "id": "y3gyDWGBPStk",
        "outputId": "810475bf-7eb5-44d8-98d6-673280e32cc8"
      },
      "outputs": [
        {
          "data": {
            "text/plain": [
              "True"
            ]
          },
          "execution_count": 62,
          "metadata": {},
          "output_type": "execute_result"
        }
      ],
      "source": [
        "index = faiss.IndexFlatL2(d)\n",
        "index.is_trained"
      ]
    },
    {
      "cell_type": "code",
      "execution_count": null,
      "metadata": {
        "colab": {
          "base_uri": "https://localhost:8080/"
        },
        "id": "YVDNW0noPPeE",
        "outputId": "34a94835-ae3e-494d-994f-ba204253852d"
      },
      "outputs": [
        {
          "data": {
            "text/plain": [
              "4802"
            ]
          },
          "execution_count": 63,
          "metadata": {},
          "output_type": "execute_result"
        }
      ],
      "source": [
        "index.add(sentence_embeddings)\n",
        "index.ntotal"
      ]
    },
    {
      "cell_type": "code",
      "execution_count": null,
      "metadata": {
        "colab": {
          "base_uri": "https://localhost:8080/"
        },
        "id": "RTCecsLsPYOf",
        "outputId": "78da26c4-28e0-44ea-f3f5-aa78e44343fe"
      },
      "outputs": [
        {
          "name": "stdout",
          "output_type": "stream",
          "text": [
            "[[ 374 1364 2060   13]]\n",
            "CPU times: user 7.41 ms, sys: 0 ns, total: 7.41 ms\n",
            "Wall time: 6.7 ms\n"
          ]
        }
      ],
      "source": [
        "%%time\n",
        "k = 4\n",
        "xq = model.encode([\"Someone sprints with a football\"])\n",
        "D, I = index.search(xq, k)  # search\n",
        "print(I)"
      ]
    },
    {
      "cell_type": "code",
      "execution_count": null,
      "metadata": {
        "colab": {
          "base_uri": "https://localhost:8080/"
        },
        "id": "7rrGmMMfPZlt",
        "outputId": "07408af4-55bf-4b62-e1c6-5a8019f12b21"
      },
      "outputs": [
        {
          "data": {
            "text/plain": [
              "374     The ice skating rink placed outdoors is full o...\n",
              "1364                           A person is brushing a cat\n",
              "2060                  An onion is being sliced by a woman\n",
              "13      The player is dunking the basketball into the ...\n",
              "Name: sentence_A, dtype: object"
            ]
          },
          "execution_count": 68,
          "metadata": {},
          "output_type": "execute_result"
        }
      ],
      "source": [
        "data['sentence_A'].iloc[[ 374, 1364, 2060 ,  13]]"
      ]
    },
    {
      "cell_type": "markdown",
      "metadata": {
        "id": "D8ksl5VMMhQX"
      },
      "source": [
        "### Ứng dụng"
      ]
    },
    {
      "cell_type": "code",
      "execution_count": null,
      "metadata": {
        "colab": {
          "base_uri": "https://localhost:8080/"
        },
        "id": "zJvWICGlWoF-",
        "outputId": "096106f1-dffd-4f76-e277-d5c1fb564c5b"
      },
      "outputs": [
        {
          "name": "stdout",
          "output_type": "stream",
          "text": [
            "Collecting sentence_transformers\n",
            "  Downloading sentence-transformers-2.2.0.tar.gz (79 kB)\n",
            "\u001b[K     |████████████████████████████████| 79 kB 4.7 MB/s \n",
            "\u001b[?25hCollecting transformers<5.0.0,>=4.6.0\n",
            "  Downloading transformers-4.19.2-py3-none-any.whl (4.2 MB)\n",
            "\u001b[K     |████████████████████████████████| 4.2 MB 18.0 MB/s \n",
            "\u001b[?25hRequirement already satisfied: tqdm in /usr/local/lib/python3.7/dist-packages (from sentence_transformers) (4.64.0)\n",
            "Requirement already satisfied: torch>=1.6.0 in /usr/local/lib/python3.7/dist-packages (from sentence_transformers) (1.11.0+cu113)\n",
            "Requirement already satisfied: torchvision in /usr/local/lib/python3.7/dist-packages (from sentence_transformers) (0.12.0+cu113)\n",
            "Requirement already satisfied: numpy in /usr/local/lib/python3.7/dist-packages (from sentence_transformers) (1.21.6)\n",
            "Requirement already satisfied: scikit-learn in /usr/local/lib/python3.7/dist-packages (from sentence_transformers) (1.0.2)\n",
            "Requirement already satisfied: scipy in /usr/local/lib/python3.7/dist-packages (from sentence_transformers) (1.4.1)\n",
            "Requirement already satisfied: nltk in /usr/local/lib/python3.7/dist-packages (from sentence_transformers) (3.2.5)\n",
            "Collecting sentencepiece\n",
            "  Downloading sentencepiece-0.1.96-cp37-cp37m-manylinux_2_17_x86_64.manylinux2014_x86_64.whl (1.2 MB)\n",
            "\u001b[K     |████████████████████████████████| 1.2 MB 48.1 MB/s \n",
            "\u001b[?25hCollecting huggingface-hub\n",
            "  Downloading huggingface_hub-0.6.0-py3-none-any.whl (84 kB)\n",
            "\u001b[K     |████████████████████████████████| 84 kB 3.3 MB/s \n",
            "\u001b[?25hRequirement already satisfied: typing-extensions in /usr/local/lib/python3.7/dist-packages (from torch>=1.6.0->sentence_transformers) (4.2.0)\n",
            "Collecting tokenizers!=0.11.3,<0.13,>=0.11.1\n",
            "  Downloading tokenizers-0.12.1-cp37-cp37m-manylinux_2_12_x86_64.manylinux2010_x86_64.whl (6.6 MB)\n",
            "\u001b[K     |████████████████████████████████| 6.6 MB 35.6 MB/s \n",
            "\u001b[?25hRequirement already satisfied: requests in /usr/local/lib/python3.7/dist-packages (from transformers<5.0.0,>=4.6.0->sentence_transformers) (2.23.0)\n",
            "Requirement already satisfied: importlib-metadata in /usr/local/lib/python3.7/dist-packages (from transformers<5.0.0,>=4.6.0->sentence_transformers) (4.11.3)\n",
            "Requirement already satisfied: filelock in /usr/local/lib/python3.7/dist-packages (from transformers<5.0.0,>=4.6.0->sentence_transformers) (3.7.0)\n",
            "Collecting pyyaml>=5.1\n",
            "  Downloading PyYAML-6.0-cp37-cp37m-manylinux_2_5_x86_64.manylinux1_x86_64.manylinux_2_12_x86_64.manylinux2010_x86_64.whl (596 kB)\n",
            "\u001b[K     |████████████████████████████████| 596 kB 49.5 MB/s \n",
            "\u001b[?25hRequirement already satisfied: regex!=2019.12.17 in /usr/local/lib/python3.7/dist-packages (from transformers<5.0.0,>=4.6.0->sentence_transformers) (2019.12.20)\n",
            "Requirement already satisfied: packaging>=20.0 in /usr/local/lib/python3.7/dist-packages (from transformers<5.0.0,>=4.6.0->sentence_transformers) (21.3)\n",
            "Requirement already satisfied: pyparsing!=3.0.5,>=2.0.2 in /usr/local/lib/python3.7/dist-packages (from packaging>=20.0->transformers<5.0.0,>=4.6.0->sentence_transformers) (3.0.9)\n",
            "Requirement already satisfied: zipp>=0.5 in /usr/local/lib/python3.7/dist-packages (from importlib-metadata->transformers<5.0.0,>=4.6.0->sentence_transformers) (3.8.0)\n",
            "Requirement already satisfied: six in /usr/local/lib/python3.7/dist-packages (from nltk->sentence_transformers) (1.15.0)\n",
            "Requirement already satisfied: idna<3,>=2.5 in /usr/local/lib/python3.7/dist-packages (from requests->transformers<5.0.0,>=4.6.0->sentence_transformers) (2.10)\n",
            "Requirement already satisfied: urllib3!=1.25.0,!=1.25.1,<1.26,>=1.21.1 in /usr/local/lib/python3.7/dist-packages (from requests->transformers<5.0.0,>=4.6.0->sentence_transformers) (1.24.3)\n",
            "Requirement already satisfied: chardet<4,>=3.0.2 in /usr/local/lib/python3.7/dist-packages (from requests->transformers<5.0.0,>=4.6.0->sentence_transformers) (3.0.4)\n",
            "Requirement already satisfied: certifi>=2017.4.17 in /usr/local/lib/python3.7/dist-packages (from requests->transformers<5.0.0,>=4.6.0->sentence_transformers) (2021.10.8)\n",
            "Requirement already satisfied: joblib>=0.11 in /usr/local/lib/python3.7/dist-packages (from scikit-learn->sentence_transformers) (1.1.0)\n",
            "Requirement already satisfied: threadpoolctl>=2.0.0 in /usr/local/lib/python3.7/dist-packages (from scikit-learn->sentence_transformers) (3.1.0)\n",
            "Requirement already satisfied: pillow!=8.3.*,>=5.3.0 in /usr/local/lib/python3.7/dist-packages (from torchvision->sentence_transformers) (7.1.2)\n",
            "Building wheels for collected packages: sentence-transformers\n",
            "  Building wheel for sentence-transformers (setup.py) ... \u001b[?25l\u001b[?25hdone\n",
            "  Created wheel for sentence-transformers: filename=sentence_transformers-2.2.0-py3-none-any.whl size=120747 sha256=e56ae01e9ec2851a1fc746f8b0cdf18a9f920fdc86d5f6caaf1a28b24c6ea879\n",
            "  Stored in directory: /root/.cache/pip/wheels/83/c0/df/b6873ab7aac3f2465aa9144b6b4c41c4391cfecc027c8b07e7\n",
            "Successfully built sentence-transformers\n",
            "Installing collected packages: pyyaml, tokenizers, huggingface-hub, transformers, sentencepiece, sentence-transformers\n",
            "  Attempting uninstall: pyyaml\n",
            "    Found existing installation: PyYAML 3.13\n",
            "    Uninstalling PyYAML-3.13:\n",
            "      Successfully uninstalled PyYAML-3.13\n",
            "Successfully installed huggingface-hub-0.6.0 pyyaml-6.0 sentence-transformers-2.2.0 sentencepiece-0.1.96 tokenizers-0.12.1 transformers-4.19.2\n"
          ]
        }
      ],
      "source": [
        "!pip install sentence_transformers"
      ]
    },
    {
      "cell_type": "code",
      "execution_count": null,
      "metadata": {
        "id": "3Ktp2BQtMytG"
      },
      "outputs": [],
      "source": [
        "import faiss\n",
        "import pickle\n",
        "from sentence_transformers import SentenceTransformer, models, InputExample, losses, LoggingHandler\n",
        "from torch.utils.data import DataLoader\n",
        "import pickle\n",
        "from sentence_transformers import evaluation\n",
        "import logging\n",
        "import argparse\n",
        "import os"
      ]
    },
    {
      "cell_type": "code",
      "execution_count": null,
      "metadata": {
        "id": "uHNvYQlGLgIr"
      },
      "outputs": [],
      "source": [
        "# Đọc file\n",
        "dest_path = '/content/drive/MyDrive/Tài liệu học kỳ/Học kỳ 20222/Đồ án tốt nghiệp/Training Data'\n",
        "with open(os.path.join(dest_path, \"documents_bm25token\"), \"rb\") as documents_file:\n",
        "    documents = pickle.load(documents_file)\n",
        "with open(os.path.join(dest_path,\"doc_refers_saved\"), \"rb\") as doc_refer_file:\n",
        "    doc_refers = pickle.load(doc_refer_file)"
      ]
    },
    {
      "cell_type": "code",
      "source": [
        "doc_refers[0]"
      ],
      "metadata": {
        "colab": {
          "base_uri": "https://localhost:8080/"
        },
        "id": "kC_Qxoo7eDOO",
        "outputId": "8a4671d8-69b1-4460-fc7e-17b5602d5a5f"
      },
      "execution_count": null,
      "outputs": [
        {
          "output_type": "execute_result",
          "data": {
            "text/plain": [
              "['01/2009/tt-bnn',\n",
              " '1',\n",
              " 'Điều 1. Phạm vi áp dụng Thông tư này hướng dẫn tuần tra, canh gác bảo vệ đê Điều trong mùa lũ đối với các tuyến đê sông được phân loại, phân cấp theo quy định tại Điều 4 của Luật Đê Điều.']"
            ]
          },
          "metadata": {},
          "execution_count": 17
        }
      ]
    },
    {
      "cell_type": "code",
      "execution_count": null,
      "metadata": {
        "colab": {
          "base_uri": "https://localhost:8080/"
        },
        "id": "6oqd7rAjP-UD",
        "outputId": "8c548a80-83d9-42f0-f701-a353ae114984"
      },
      "outputs": [
        {
          "output_type": "execute_result",
          "data": {
            "text/plain": [
              "['01/2009/tt-bnn',\n",
              " '2',\n",
              " 'Điều 2. Tổ chức lực lượng 1. Hàng năm trước mùa mưa, lũ, Ủy ban nhân dân cấp xã nơi có đê phải tổ chức lực lượng lao động tại địa phương để tuần tra, canh gác đê và thường trực trên các điếm canh đê hoặc nhà dân khu vực gần đê (đối với những khu vực chưa có điếm canh đê), khi có báo động lũ từ cấp I trở lên đối với tuyến sông có đê (sau đây gọi tắt là lực lượng tuần tra, canh gác đê).\\n2. Lực lượng tuần tra, canh gác đê được tổ chức thành các đội, do Ủy ban nhân dân cấp xã ra quyết định thành lập; từ 01 đến 02 kilômét đê thành lập 01 đội; mỗi đội có từ 12 đến 18 người, trong đó có 01 đội trưởng và 01 hoặc 02 đội phó. Danh sách thành viên đội tuần tra, canh gác đê được niêm yết tại điếm canh đê thuộc địa bàn được phân công.\\n3. Khi lũ, bão có diễn biến phức tạp, kéo dài ngày, Uỷ ban nhân dân cấp xã có thể quyết định việc bổ sung thêm thành viên cho đội tuần tra, canh gác đê.']"
            ]
          },
          "metadata": {},
          "execution_count": 18
        }
      ],
      "source": [
        "doc_refers[1]"
      ]
    },
    {
      "cell_type": "code",
      "execution_count": null,
      "metadata": {
        "colab": {
          "base_uri": "https://localhost:8080/"
        },
        "id": "mUiZgE4oQPZ0",
        "outputId": "e74a2852-f4ac-4085-9cd4-006c48f6868b"
      },
      "outputs": [
        {
          "output_type": "execute_result",
          "data": {
            "text/plain": [
              "60703"
            ]
          },
          "metadata": {},
          "execution_count": 19
        }
      ],
      "source": [
        "sentences = []\n",
        "for item in doc_refers:\n",
        "  sentences.append(item[2])\n",
        "len(set(sentences))"
      ]
    },
    {
      "cell_type": "code",
      "execution_count": null,
      "metadata": {
        "id": "Jx3J3BqoQfl-"
      },
      "outputs": [],
      "source": [
        "sentences = [word for word in list(set(sentences)) if type(word) is str]"
      ]
    },
    {
      "cell_type": "code",
      "execution_count": null,
      "metadata": {
        "colab": {
          "base_uri": "https://localhost:8080/"
        },
        "id": "t56o4ke6GO_X",
        "outputId": "b6fb755f-968e-492e-e98c-dd150151cd40"
      },
      "outputs": [
        {
          "output_type": "execute_result",
          "data": {
            "text/plain": [
              "60703"
            ]
          },
          "metadata": {},
          "execution_count": 21
        }
      ],
      "source": [
        "len(set(sentences))"
      ]
    },
    {
      "cell_type": "code",
      "execution_count": null,
      "metadata": {
        "colab": {
          "base_uri": "https://localhost:8080/"
        },
        "id": "qgi0Wm64FsaO",
        "outputId": "8ff65c15-8b82-45b2-903a-f7f3a3565062"
      },
      "outputs": [
        {
          "output_type": "stream",
          "name": "stdout",
          "text": [
            "['Điều 15. Phối hợp với các khoa hệ ngoại 1. Các khoa thuộc hệ ngoại có trách nhiệm:\\n- Lập hồ sơ bệnh án, thăm khám và làm các xét nghiệm hoặc thủ thuật cần thiết để chẩn đoán và chỉ định phương pháp phẫu thuật.\\n- Tổ chức đưa người bệnh dự kiến phẫu thuật theo kế hoạch tới khoa gây mê - hồi sức để khám trước mổ. Trường hợp người bệnh nặng hoặc tình huống cấp cứu thì thông báo để khoa gây mê - hồi sức cử bác sỹ đến khám.\\n- Lập kế hoạch phẫu thuật và thông báo với khoa gây mê - hồi sức đầy đủ các thông tin: họ tên người bệnh, tuổi, giới, số buồng bệnh, chẩn đoán, dự kiến phương pháp và thời gian phẫu thuật, họ tên các phẫu thuật viên, mã số hồ sơ theo dõi (nếu quản lý trên hệ thống máy tính).\\n- Bác sĩ phẫu thuật có trách nhiệm theo dõi, thăm khám, phối hợp thực hiện các phác đồ điều trị và xử trí những bất thường liên quan đến phẫu thuật đã thực hiện trên người bệnh.\\n2. Khoa gây mê - hồi sức có trách nhiệm:\\n- Khám người bệnh trước khi phẫu thuật, ra y lệnh điều trị bổ sung trước khi phẫu thuật (nếu cần);\\n- Quyết định phương pháp gây mê phù hợp với từng người bệnh;\\n- Dự kiến lịch phẫu thuật theo tính chất ưu tiên phù hợp với tình trạng của người bệnh.\\n- Phối hợp với các khoa liên quan để bố trí kíp gây mê và kíp phẫu thuật phù hợp;\\n- Bác sĩ phụ trách kíp gây mê - hồi sức được quyền từ chối gây mê trong trường hợp không tuân thủ nguyên tắc trên đây và trường hợp đe dọa an toàn trong gây mê và chịu trách nhiệm về quyết định của mình.\\n3. Khi chưa có sự thống nhất giữa bác sĩ phẫu thuật và bác sĩ gây mê - hồi sức trước và trong khi phẫu thuật cần tổ chức hội chẩn theo quy định.\\n4. Trong trường hợp cấp cứu khẩn cấp, các quyết định, y lệnh có thể được trao đổi trực tiếp và hoàn thiện bằng văn bản sau khi cấp cứu người bệnh. Những quyết định quan trọng cần phải có người làm chứng thứ 3 để bảo đảm tính khách quan.', 'Điều 16. Nhiệm vụ của sỹ quan máy lạnh 1. Sỹ quan máy lạnh chịu sự quản lý và điều hành trực tiếp của máy trưởng. Sỹ quan máy lạnh có nhiệm vụ sau đây:\\na) Bảo đảm tình trạng kỹ thuật, chế độ làm việc bình thường của các máy móc, thiết bị làm lạnh trên tàu; trực ca theo chế độ làm việc của hệ thống làm lạnh trên tàu;\\nb) Trực tiếp quản lý, khai thác công suất máy và bảo đảm tình trạng kỹ thuật, chế độ hoạt động của máy móc, thiết bị làm lạnh, hệ thống làm mát bằng không khí và hệ thống điều hòa nhiệt độ trên tàu theo đúng quy định;\\nc) Phụ trách và điều hành công việc của các thợ máy lạnh;\\nd) Lập và trình máy trưởng kế hoạch sửa chữa, bảo quản máy móc, thiết bị làm lạnh; tổ chức thực hiện kế hoạch đã phê duyệt;\\nđ) Lập dự trù vật tư kỹ thuật và chịu trách nhiệm quản lý, sử dụng các vật tư kỹ thuật được cấp;\\ne) Theo dõi, ghi chép nhật ký vận hành máy lạnh; phân công chế độ trực ca, lập kế hoạch làm việc và nghỉ ngơi cho thợ máy lạnh;\\ng) Quản lý hồ sơ, tài liệu kỹ thuật của hệ thống máy lạnh trên tàu.\\n2. Trường hợp không bố trí sỹ quan máy lạnh thì nhiệm vụ của sỹ quan máy lạnh do máy hai đảm nhiệm.', 'Điều 3. Cơ sở vật chất, trang thiết bị tập luyện 1. Cơ sở vật chất\\na) Sàn tập có diện tích ít nhất từ 60m2 trở lên, mặt sàn bằng phẳng, không trơn trượt;\\nb) Ánh sáng bảo đảm từ 200 lux trở lên;\\nc) Có túi sơ cứu theo quy định của Bộ Y tế;\\nd) Có khu vực thay đồ, gửi đồ và nhà vệ sinh;\\nđ) Có sổ theo dõi võ sinh tham gia tập luyện;\\ne) Có bảng nội quy bao gồm những nội dung chủ yếu sau: Đối tượng tham gia tập luyện, trang phục tập luyện, giờ tập luyện, biện pháp bảo đảm an toàn khi tập luyện.\\n2. Trang thiết bị\\na) Găng tập luyện: 01 đôi/01 người;\\nb) Mũ bảo vệ: 01 chiếc/01 người;\\nc) Bao đấm (bao cát), gối đấm;\\nd) Dụng cụ đỡ đòn (lăm pơ);\\nđ) Bịt răng, bảo vệ bộ hạ (kuki), băng đa, dây nhảy: 01 chiếc/ 01 người.', 'Điều 25. Hiệu lực thi hành 1. Nghị định này có hiệu lực thi hành từ ngày 01 tháng 5 năm 2018.\\n2. Nghị định này thay thế Nghị định số 26/2005/NĐ-CP ngày 02 tháng 3 năm 2005 của Chính phủ về Hội đồng định giá tài sản trong tố tụng hình sự hết hiệu lực thi hành.\\n3. Trường hợp những vụ việc do Hội đồng định giá các cấp đang tiến hành định giá theo quy định tại Nghị định số 26/2005/NĐ-CP ngày 02 tháng 3 năm 2005 của Chính phủ về Hội đồng định giá tài sản trong tố tụng hình sự trước ngày Nghị định này có hiệu lực thi hành, tiếp tục thực hiện theo quy định tại Nghị định số 26/2005/NĐ-CP.', 'Điều 43. Ứng dụng khoa học và công nghệ trong dự án đầu tư, chương trình phát triển kinh tế - xã hội sử dụng ngân sách nhà nước 1. Dự án đầu tư, chương trình phát triển kinh tế - xã hội sử dụng ngân sách nhà nước phải lập hạng mục chi cho ứng dụng, nghiên cứu và phát triển phục vụ xây dựng căn cứ khoa học trong giai đoạn chuẩn bị đầu tư, thực hiện đầu tư và giải quyết vấn đề khoa học và công nghệ phát sinh trong quá trình thực hiện.\\n2. Khi lập dự toán kinh phí của dự án đầu tư, chương trình phát triển kinh tế - xã hội sử dụng ngân sách nhà nước, chủ đầu tư có trách nhiệm lập dự toán kinh phí dành cho các hoạt động ứng dụng, nghiên cứu và phát triển quy định tại Khoản 1 Điều này. Tỷ lệ kinh phí dành cho hoạt động ứng dụng, nghiên cứu và phát triển trong tổng dự toán kinh phí của dự án đầu tư, chương trình phát triển kinh tế - xã hội do chủ đầu tư quyết định.\\n3. Chủ đầu tư có trách nhiệm định kỳ hằng năm, đột xuất theo yêu cầu và khi kết thúc dự án đầu tư, chương trình phát triển kinh tế - xã hội do Quốc hội quyết định chủ trương đầu tư, Chính phủ, Thủ tướng Chính phủ, Bộ, cơ quan ngang Bộ, cơ quan thuộc Chính phủ quyết định đầu tư, trực tiếp đầu tư và dự án đầu tư có điều kiện, gửi báo cáo đến Bộ Khoa học và Công nghệ về việc sử dụng kinh phí dành cho hoạt động khoa học và công nghệ.\\n4. Chủ đầu tư có trách nhiệm định kỳ hằng năm, đột xuất theo yêu cầu và khi kết thúc dự án đầu tư, chương trình phát triển kinh tế - xã hội do Ủy ban nhân dân cấp tỉnh, cấp huyện quyết định đầu tư gửi báo cáo đến Sở Khoa học và Công nghệ về việc sử dụng kinh phí dành cho hoạt động khoa học và công nghệ để tổng hợp báo cáo Bộ Khoa học và Công nghệ.\\n5. Bộ Khoa học và Công nghệ tổng hợp, báo cáo Thủ tướng Chính phủ về việc sử dụng kinh phí dành cho hoạt động khoa học và công nghệ trong các dự án đầu tư, chương trình phát triển kinh tế - xã hội quy định tại Khoản 3 và Khoản 4 Điều này.', 'Điều 13. Tịch thu, nộp ngân sách nhà nước tiền đã đặt để bảo đảm Thủ tục tịch thu, nộp ngân sách nhà nước tiền đã đặt để bảo đảm được thực hiện như việc tịch thu sung quỹ nhà nước đối với vật chứng vụ án theo quy định của pháp luật hiện hành.', 'Điều 12. Trách nhiệm hướng dẫn tổ chức thực hiện 1. Cục Phát triển thị trường và doanh nghiệp khoa học và công nghệ có trách nhiệm:\\na) Phổ biến, hướng dẫn áp dụng, tiếp nhận và xử lý yêu cầu, kiến nghị của các tổ chức, cá nhân trong quá trình thực hiện Thông tư này;\\nb) Hướng dẫn thành lập các trung tâm xúc tiến và hỗ trợ chuyển giao công nghệ tại các tổ chức khoa học và công nghệ; đào tạo kỹ năng thương mại hóa kết quả nghiên cứu cho tổ chức, cá nhân được giao quyền đối với kết quả nghiên cứu;\\nc) Hỗ trợ các dự án ứng dụng, thương mại hóa kết quả nghiên cứu, dự án thành lập các trung tâm xúc tiến và hỗ trợ chuyển giao công nghệ, trung tâm hỗ trợ định giá tài sản trí tuệ, trung tâm hỗ trợ đổi mới sáng tạo, cơ sở ươm tạo công nghệ, ươm tạo doanh nghiệp khoa học và công nghệ theo Chương trình phát triển thị trường khoa học và công nghệ đến năm 2020, Chương trình hỗ trợ phát triển doanh nghiệp khoa học và công nghệ và tổ chức khoa học và công nghệ công lập thực hiện cơ chế tự chủ, tự chịu trách nhiệm;\\nd) Chủ trì, phối hợp với các đơn vị liên quan đôn đốc, kiểm tra, giám sát và định kỳ báo cáo Bộ trưởng Bộ Khoa học và Công nghệ tình hình thực hiện quy định giao quyền sở hữu, quyền sử dụng kết quả nghiên cứu tại các bộ, ngành, địa phương.\\n2. Tổ chức thực hiện chức năng đầu mối thông tin khoa học và công nghệ quy định tại các điều 25, 26, 27 Nghị định số 11/2014/2014/NĐ-CP ngày 18 tháng 02 năm 2014 của Chính phủ về hoạt động thông tin khoa học và công nghệ có trách nhiệm cung cấp thông tin, số liệu về việc giao quyền và ứng dụng, thương mại hóa kết quả nghiên cứu cho Cục Phát triển thị trường và doanh nghiệp khoa học và công nghệ để báo cáo Bộ trưởng Bộ Khoa học và Công nghệ tình hình thực hiện quy định giao quyền và hiệu quả thu được từ ứng dụng, thương mại hóa kết quả nghiên cứu.', 'Điều 7. Trách nhiệm của chủ phương tiện, thuyền viên, người lái phương tiện vận tải hành khách ngang sông 1. Chủ phương tiện vận tải hành khách ngang sông có trách nhiệm trang bị áo phao, dụng cụ nổi cá nhân trên phương tiện phải bảo đảm đầy đủ về số lượng và có chất lượng phù hợp với tiêu chuẩn, yêu cầu kỹ thuật theo quy định.\\n2. Thuyền viên, người lái phương tiện vận tải khách ngang sông có trách nhiệm:\\na) Trước khi cho phương tiện rời bến phải phát cho mỗi hành khách đi trên phương tiện một (01) áo phao hoặc một (01) dụng cụ nổi cá nhân để sử dụng;\\nb) Hướng dẫn và yêu cầu hành khách trên phương tiện mặc áo phao hoặc cầm (đeo) dụng cụ nổi cá nhân theo đúng quy cách trong suốt hành trình của phương tiện.\\n3. Từ chối chuyên chở đối với những hành khách không tuân thủ việc mặc áo phao hoặc sử dụng dụng cụ nổi cá nhân theo hướng dẫn.\\n4. Chịu trách nhiệm liên quan đến sự cố hoặc tai nạn giao thông xảy ra trong quá trình vận tải hành khách ngang sông khi hành khách không mặc áo phao hoặc cầm (đeo) dụng cụ nổi cá nhân theo đúng quy cách.', 'Điều 27. Nhiệm vụ, quyền hạn của Thanh tra huyện 1. Trong quản lý nhà nước về thanh tra thuộc phạm vi quản lý nhà nước của Ủy ban nhân dân cấp huyện, Thanh tra huyện có nhiệm vụ, quyền hạn sau đây:\\na) Xây dựng kế hoạch thanh tra trình Chủ tịch Ủy ban nhân dân cấp huyện phê duyệt và tổ chức thực hiện kế hoạch đó;\\nb) Báo cáo kết quả về công tác thanh tra;\\nc) Theo dõi, đôn đốc, kiểm tra việc thực hiện kết luận, kiến nghị, quyết định xử lý về thanh tra của Chủ tịch Ủy ban nhân dân cấp huyện, Thanh tra huyện.\\n2. Trong hoạt động thanh tra, Thanh tra huyện có nhiệm vụ, quyền hạn sau đây:\\na) Thanh tra việc thực hiện chính sách, pháp luật và nhiệm vụ, quyền hạn của cơ quan chuyên môn thuộc Ủy ban nhân dân cấp huyện, của Ủy ban nhân dân cấp xã;\\nb) Thanh tra vụ việc phức tạp, có liên quan đến trách nhiệm của nhiều cơ quan chuyên môn thuộc Ủy ban nhân dân cấp huyện, Ủy ban nhân dân cấp xã;\\nc) Thanh tra vụ việc khác do Chủ tịch Ủy ban nhân dân cấp huyện giao.\\n3. Giúp Ủy ban nhân dân cấp huyện quản lý nhà nước về công tác giải quyết khiếu nại, tố cáo; thực hiện nhiệm vụ giải quyết khiếu nại, tố cáo theo quy định của pháp luật về khiếu nại, tố cáo.\\n4. Giúp Ủy ban nhân dân cấp huyện quản lý nhà nước về công tác phòng, chống tham nhũng; thực hiện nhiệm vụ phòng, chống tham nhũng theo quy định của pháp luật về phòng, chống tham nhũng.', 'Điều 1. Phạm vi điều chỉnh Thông tư này quy định việc xây dựng, thẩm định kế hoạch tác động vào thời tiết theo quy định tại khoản 8 Điều 44 của Luật khí tượng thủy văn.', 'Điều 10. Thông báo tuyển chọn, giao trực tiếp tổ chức chủ trì dự án 1. Cục Sở hữu trí tuệ có trách nhiệm thông báo tuyển chọn, giao trực tiếp tổ chức chủ trì dự án Trung ương quản lý trên Cổng Thông tin điện tử của Bộ Khoa học và Công nghệ, Cục Sở hữu trí tuệ, Báo Khoa học và Phát triển và Báo Diễn đàn doanh nghiệp (báo điện tử hoặc báo in).\\n2. Sở Khoa học và Công nghệ có trách nhiệm thông báo tuyển chọn, giao trực tiếp tổ chức chủ trì dự án địa phương mình quản lý trên Cổng Thông tin điện tử của Bộ Khoa học và Công nghệ, Sở Khoa học và Công nghệ, báo điện tử hoặc báo in của địa phương.\\n3. Thông báo tuyển chọn, giao trực tiếp tổ chức chủ trì dự án gồm các thông tin cơ bản sau đây: Tên dự án; định hướng mục tiêu dự án; sản phẩm, yêu cầu đối với sản phẩm dự án; yêu cầu về hồ sơ đăng ký tuyển chọn, giao trực tiếp tổ chức chủ trì dự án; thời gian và địa chỉ nộp hồ sơ.', 'Điều 1. Phạm vi điều chỉnh Thông tư này quy định về trang phục, phù hiệu, cấp hiệu, biển hiệu của công chức, viên chức, nhân viên Cảng vụ đường thủy nội địa (trừ nhân viên bảo vệ) và cờ hiệu Cảng vụ đường thủy nội địa.', 'Điều 9. Chế độ hưu trí 1. Người lao động quy định tại khoản 1 Điều 2 của Nghị định này được hưởng lương hưu khi đáp ứng điều kiện hưởng lương hưu theo quy định tại khoản 1 Điều 54 của Luật bảo hiểm xã hội và Điều 6 của Nghị định số 115/2015/NĐ-CP.\\n2. Mức hưởng\\na) Mức lương hưu hàng tháng thực hiện theo quy định tại khoản 2 Điều 56 của Luật bảo hiểm xã hội và khoản 1 và khoản 2 Điều 7 của Nghị định số 115/2015/NĐ-CP;\\nb) Trợ cấp một lần khi nghỉ hưu thực hiện theo quy định tại Điều 58 của Luật bảo hiểm xã hội;\\nc) Mức bình quân tiền lương tháng đóng bảo hiểm xã hội để tính lương hưu, trợ cấp một lần thực hiện theo quy định tại khoản 2 Điều 62 của Luật bảo hiểm xã hộii.\\n3. Điều chỉnh tiền lương đã đóng bảo hiểm xã hội thực hiện theo quy định tại khoản 2 Điều 63 của Luật bảo hiểm xã hội.\\n4. Điều chỉnh lương hưu thực hiện theo quy định tại Điều 57 của Luật bảo hiểm xã hội và khoản 2 Điều 10 của Nghị định số 115/2015/NĐ-CP.\\n5. Thời điểm hưởng lương hưu thực hiện theo quy định tại khoản 1 và khoản 3 Điều 59 của Luật bảo hiểm xã hội.\\n6. Các trường hợp hưởng bảo hiểm xã hội một lần\\nNgười lao động quy định tại khoản 1 Điều 2 của Nghị định này mà có yêu cầu thì được hưởng bảo hiểm xã hội một lần nếu thuộc một trong các trường hợp sau đây:\\na) Đủ tuổi hưởng lương hưu theo quy định tại khoản 1 Điều này mà chưa đủ 20 năm đóng bảo hiểm xã hội;\\nb) Người đang bị mắc một trong những bệnh nguy hiểm đến tính mạng như ung thư, bại liệt, xơ gan cổ chướng, phong, lao nặng, nhiễm HIV đã chuyển sang giai đoạn AIDS và những bệnh khác theo quy định của Bộ Y tế;\\nc) Người lao động đủ điều kiện hưởng lương hưu theo quy định tại khoản 1 Điều này nhưng không tiếp tục cư trú tại Việt Nam;\\nd) Người lao động khi chấm dứt hợp đồng lao động hoặc giấy phép lao động, chứng chỉ hành nghề, giấy phép hành nghề hết hiệu lực mà không được gia hạn.\\n7. Mức hưởng bảo hiểm xã hội một lần thực hiện theo quy định tại điểm b khoản 2 Điều 60 của Luật bảo hiểm xã hội.\\n8. Thời điểm tính hưởng bảo hiểm xã hội một lần là thời điểm ghi trong quyết định của cơ quan bảo hiểm xã hội. Việc điều chỉnh tiền lương đã đóng bảo hiểm xã hội để tính hưởng bảo hiểm xã hội một lần căn cứ vào thời điểm ghi trong Quyết định của cơ quan bảo hiểm xã hội.\\n9. Bảo lưu thời gian đóng bảo hiểm xã hội\\nNgười lao động khi nghỉ việc mà chưa đủ điều kiện hưởng lương hưu theo quy định tại khoản 1 Điều này hoặc chưa hưởng bảo hiểm xã hội một lần theo quy định tại khoản 6 Điều này thì được bảo lưu thời gian đóng bảo hiểm xã hội.\\n10. Tạm dừng, hưởng tiếp lương hưu, trợ cấp bảo hiểm xã hội hàng tháng\\na) Các trường hợp tạm dừng, hưởng tiếp lương hưu, trợ cấp bảo hiểm xã hội hàng tháng thực hiện theo quy định tại khoản 1 Điều 64 của Luật bảo hiểm xã hội;\\nb) Lương hưu, trợ cấp bảo hiểm xã hội hằng tháng được tiếp tục thực hiện khi người xuất cảnh trở lại và cư trú tại Việt Nam. Trường hợp có quyết định có hiệu lực pháp luật của Tòa án hủy bỏ quyết định tuyên bố mất tích thì ngoài việc tiếp tục được hưởng lương hưu, trợ cấp còn được truy lĩnh tiền lương hưu, trợ cấp bảo hiểm xã hội hằng tháng kể từ thời điểm dừng hưởng;\\nc) Cơ quan bảo hiểm xã hội khi quyết định tạm dừng hưởng theo quy định tại điểm a khoản này phải thông báo bằng văn bản và nêu rõ lý do. Trong thời hạn 30 ngày kể từ ngày tạm dừng hưởng, cơ quan bảo hiểm xã hội phải ra quyết định giải quyết hưởng; trường hợp quyết định chấm dứt hưởng bảo hiểm xã hội thì phải nêu rõ lý do.', 'Điều 41. Thanh toán chi phí cưỡng chế Cá nhân, tổ chức bị cưỡng chế phải chịu mọi chi phí cho các hoạt động cưỡng chế. Nếu cá nhân, tổ chức không tự nguyện hoàn trả hoặc hoàn trả chưa đủ chi phí cưỡng chế thì người có thẩm quyền ra quyết định cưỡng chế có thể ra quyết định cưỡng chế bằng các biện pháp quy định tại các Điểm a, b và c Khoản 2 Điều 86 Luật xử lý vi phạm hành chính.', 'Điều 59. Nghĩa vụ của tổ chức, cá nhân có thuốc thử lâm sàng 1. Phải xin phép và được Bộ trưởng Bộ Y tế đồng ý bằng văn bản trước khi thử lâm sàng.\\n2. Bồi thường thiệt hại cho người tham gia thử lâm sàng nếu có rủi ro xảy ra do thử lâm sàng theo quy định của pháp luật.\\n3. Ký kết hợp đồng về việc thử thuốc trên lâm sàng với tổ chức nhận thử thuốc trên lâm sàng.', 'Điều 14. Hành vi vi phạm quy định của công chứng viên về công chứng bản dịch 1. Phạt tiền từ 3.000.000 đồng đến 7.000.000 đồng đối với một trong các hành vi sau:\\na) Công chứng bản dịch trong trường hợp giấy tờ, văn bản được yêu cầu dịch đã bị tẩy xoá, sửa chữa, thêm, bớt hoặc bị hư hỏng, cũ nát không thể xác định rõ nội dung;\\nb) Không tiếp nhận bản chính giấy tờ, văn bản cần dịch, kiểm tra và giao cho người phiên dịch là cộng tác viên của tổ chức mình.\\n2. Phạt tiền từ 7.000.000 đồng đến 10.000.000 đồng đối với hành vi công chứng bản dịch mà thiếu chữ ký của công chứng viên hoặc thiếu chữ ký của người dịch vào từng trang của bản dịch hoặc không đính kèm bản sao của bản chính.\\n3. Phạt tiền từ 10.000.000 đồng đến 15.000.000 đồng đối với một trong các hành vi sau:\\na) Công chứng bản dịch có mục đích hoặc nội dung vi phạm pháp luật hoặc trái đạo đức xã hội;\\nb) Công chứng bản dịch liên quan đến tài sản, lợi ích của bản thân mình hoặc của những người thân thích là vợ, chồng; cha đẻ, mẹ đẻ, cha nuôi, mẹ nuôi; cha đẻ, mẹ đẻ, cha nuôi, mẹ nuôi của vợ hoặc chồng; con đẻ, con nuôi, con dâu, con rể; ông nội, bà nội, ông ngoại, bà ngoại; anh, chị, em ruột; anh, chị, em ruột của vợ hoặc chồng; cháu là con của con đẻ, con nuôi;\\nc) Công chứng bản dịch trong trường hợp biết hoặc phải biết bản chính được cấp sai thẩm quyền hoặc không hợp lệ; bản chính giả; giấy tờ, văn bản được yêu cầu dịch thuộc bí mật nhà nước; giấy tờ, văn bản bị cấm phổ biến theo quy định;\\nd) Công chứng bản dịch do người phiên dịch không phải là cộng tác viên của tổ chức hành nghề công chứng nơi mình đang hành nghề thực hiện;\\nđ) Công chứng bản dịch không có bản chính;\\ne) Công chứng bản dịch không chính xác với nội dung giấy tờ, văn bản cần dịch.\\n4. Hình thức xử phạt bổ sung:\\na) Tước quyền sử dụng thẻ công chứng viên từ 01 tháng đến 03 tháng đối với hành vi vi phạm quy định tại các điểm b và d khoản 3 Điều này;\\nb) Tước quyền sử dụng thẻ công chứng viên từ 03 tháng đến 06 tháng đối với hành vi vi phạm quy định tại các điểm a, c, đ và e khoản 3 Điều này.\\n5. Biện pháp khắc phục hậu quả:\\na) Buộc nộp lại số lợi bất hợp pháp có được do thực hiện hành vi vi phạm quy định tại khoản 3 Điều này;\\nb) Buộc tổ chức hành nghề công chứng đang lưu trữ hồ sơ công chứng thông báo trên cổng thông tin điện tử của Sở Tư pháp nơi đặt trụ sở về bản dịch đã được công chứng quy định tại các điểm c, đ và e khoản 3 Điều này.', 'Điều 1. Phạm vi điều chỉnh Thông tư này hướng dẫn thủ tục cấp Giấy thông hành biên giới Việt Nam - Cămpuchia (sau đây viết gọn là giấy thông hành biên giới); quy định đối tượng được cấp giấy thông hành biên giới; thời hạn và phạm vi sử dụng giấy thông hành biên giới; giá trị sử dụng của giấy thông hành biên giới và ban hành mẫu “Giấy thông hành biên giới” và mẫu “Tờ khai đề nghị cấp giấy thông hành biên giới” (mẫu TK6).', 'Điều 12. Người giữ vị trí phụ trách quản lý lĩnh vực chuyên môn của tổ chức liên quan đến hoạt động vận tải hàng không 1. Tham gia tổ chức hoạt động vận tải theo đúng quy định của pháp luật, tài liệu hướng dẫn liên quan đến hoạt động vận tải hàng không.\\n2. Chịu trách nhiệm trước pháp luật, cơ quan nhà nước có thẩm quyền và Thủ trưởng của tổ chức về hoạt động của mình.', 'Điều 11. Vi phạm quy định về chào bán, chuyển nhượng cổ phần 1. Phạt tiền từ 150.000.000 đồng đến 200.000.000 đồng đối với hành vi chuyển nhượng cổ phần trong thời gian đảm nhiệm chức vụ quy định tại khoản 1 Điều 56 Luật Các tổ chức tín dụng.\\n2. Phạt tiền từ 250.000.000 đồng đến 300.000.000 đồng đối với hành vi chuyển nhượng cổ phần trong thời gian xử lý hậu quả theo nghị quyết của Đại hội đồng cổ đông hoặc theo quyết định của Ngân hàng Nhà nước do trách nhiệm cá nhân thành viên Hội đồng quản trị, thành viên Ban kiểm soát, Tổng giám đốc (Giám đốc) trừ một trong các trường hợp quy định tại các điểm a, b và c khoản 2 Điều 56 Luật Các tổ chức tín dụng.\\n3. Biện pháp khắc phục hậu quả:\\na) Buộc khôi phục lại số cổ phần đã chuyển nhượng quy định tại Điều này trong thời gian tối đa 06 tháng kể từ ngày quyết định xử phạt vi phạm hành chính có hiệu lực;\\nb) Đề nghị hoặc yêu cầu cấp có thẩm quyền xem xét, áp dụng biện pháp đình chỉ từ 01 tháng đến 03 tháng hoặc miễn nhiệm chức danh quản trị, điều hành, kiểm soát; không cho đảm nhiệm chức vụ quản trị, điều hành, kiểm soát tại các tổ chức tín dụng, chi nhánh ngân hàng nước ngoài đối với cá nhân vi phạm và/hoặc cá nhân chịu trách nhiệm đối với hành vi vi phạm quy định tại Điều này.\\nYêu cầu tổ chức tín dụng, chi nhánh ngân hàng nước ngoài cách chức và thực hiện các biện pháp xử lý khác theo quy định của pháp luật đối với cá nhân vi phạm thuộc thẩm quyền của tổ chức tín dụng, chi nhánh ngân hàng nước ngoài.', 'Điều 14. Áp dụng quy chuẩn, tiêu chuẩn chuyên môn trong hoạt động giám định tư pháp trong lĩnh vực giao thông vận tải Quy chuẩn, tiêu chuẩn chuyên môn áp dụng đối với hoạt động giám định tư pháp trong lĩnh vực giao thông vận tải là các quy chuẩn kỹ thuật quốc gia, tiêu chuẩn được áp dụng trong lĩnh vực giao thông vận tải.']\n"
          ]
        }
      ],
      "source": [
        "print(sentences[:20])"
      ]
    },
    {
      "cell_type": "code",
      "execution_count": null,
      "metadata": {
        "colab": {
          "base_uri": "https://localhost:8080/",
          "height": 450,
          "referenced_widgets": [
            "b22ac4f5b8ca4a28ad11dd84890e2193",
            "7a2f050e4add4bff878c92695f0aa07e",
            "4d7d06ef41ac440cacce583d7ca046a6",
            "900369e3f4544596859fe641f1685d6e",
            "bd7416d3ff104e0b9b906977eb6f6117",
            "c84e0d1747f6495ebd291dbbfa9ecbe1",
            "cfc43d9740494360b1637410a66867a9",
            "6d6e7564a74041a5b2ec4a45275a4d65",
            "07ea1d2c46124156b346f748f561a15e",
            "1821efad23a84a149f9c028ff225e4f4",
            "03dd88595b2f496cb4ad039294942525",
            "3d77848062744ee39bea546188755448",
            "db910439d1f4422b89f0a7ea91eecf6b",
            "cb3adba8b9ea4dc1a377764edefac59e",
            "ba4119ad7c4140899c6c570a140603c8",
            "1c3519a59c28498da88038486a6b8002",
            "72b081f0ca2a46e1a762f59b499cfbad",
            "a15fdff7e11946418d1622cc7fc55a87",
            "b6c8c78f5d69433792a43a5baf4bc75d",
            "154269b46a724ee09716cc2e6e37d462",
            "fa8b8f3b034144b49eeb73162da854da",
            "539c1eecf028497194bc467a1f583e1e",
            "1a5f9f0f9f1c4289ae90afe9e2b08ea7",
            "fd6939799ec84d689883335b4ccd250e",
            "24b720a7a23e4f72bb050c335773b0b7",
            "468759a406664060b5eb774dfa35b332",
            "9fb74c1c08be40ec9e6d092176b32d66",
            "7afefd32e69d49e6a0accce2072107a5",
            "8169b3d5b79349c78193cddfaeb35bb0",
            "54ef089d3dd84727a8152580ba289c11",
            "509625b182764d9284ad75ff92220b96",
            "0f2d79d14baf419098f4857a93d0cdcc",
            "068f0e5144874378ab537bb3fa04d27f",
            "a4201e608654450f912944757bb9d794",
            "74091f94f3df4812ae0f31b63e0a0cc3",
            "7469afe33f974e11810690300d0ca833",
            "5a75f6af750b4673a67e5c47bc82ea4b",
            "3251f1c199114400a6de887337bc1cf0",
            "06d20d609e0641a385849741dba7f4fd",
            "383712e715784b27bd2859bd9d060149",
            "4530ade1762b47aaad9cf81ba9161a59",
            "5bdb7a786f4e405c8fb9c4e051d7a53b",
            "1317ca6ee55d4a2da7e94cb53457b2cd",
            "cc90a4b3d92c459098bdff0d4c569275",
            "2873dc047f454b0783aea8e1e070df5b",
            "5ecf7c71d6bf4b758c5a32d2b55e0166",
            "9d71aa8007584c16be3ff8d1c883eb15",
            "cc72c5f4063a4021bd132cb2a18eee92",
            "978b75e108ce4639ae698d778086cd3b",
            "624f350af3684647b684903a5223fec6",
            "927c738d185b48b1ae27ff9011e62c1d",
            "38a98db91a6e40a4a1604730620dd487",
            "6bf9e4b7179c4fffa03cee6d2978f728",
            "5b5f07d7deb4413bb14ff96d6aca607d",
            "b27faebaaf4d419788ad1cdf7d7b5618",
            "bf4e0ce8ad154abb9b85f5635f0d8847",
            "7f53fbba1e024f8095fd2da16eae8172",
            "d37191eb14964682ae8d955711717454",
            "b31fe5e5ba1345b79a0162c12e12c803",
            "9a7c3a1c4c4448aea03a75a3d7b766b9",
            "e5e4a8b5b35846f78140c286a03f22bc",
            "309f4377e743471e8d7c225cd8574c92",
            "b32b68ad185840dcbbd5198f9db90882",
            "9df924f4dc2f48c796062da4d4e89364",
            "94c74f62cac84389ab3c3ae5298c58d1",
            "5ce3f7f5448f4807b44ea51626be8f48",
            "e28fb890819244e79b6ab2e454b950c9",
            "3af6c0c17969454f961069714c4df734",
            "fda3522d5d1243deb3c0b2c9e827f34b",
            "99953428b7e144bf9fe3a741c2981c39",
            "0be6bc3b16e84a3cb3e9790260b9dfdb",
            "ace6bb23179f4eb58b54cacf4a272500",
            "f0f5deaaf6fb496d9ac68aa80ad97a28",
            "60895c75daba4073a96332f7b617f6f1",
            "0a86c6a22372494fb4f8b5e18376e35b",
            "e7d037601ee347a8ab2f4f379553a053",
            "6096380c3bc94403bc7f6b473106cd5f",
            "79a37b99e65644c6ac8bbf73cbdcfd3d",
            "670199059d0848f1b86c847a7a823529",
            "7f7395d11236492d84df0dc1b397f278",
            "ee928d4db6ce4ac89775a94d963f5ec4",
            "9f426c0155f54c74a78ca663397b82c7",
            "aa2087786c8e497f8c7d0c1d95b48100",
            "6d12edb40ceb44abbe75940baa5a2a62",
            "af43f94f638f4bc9b9657ecb6ef8ce1c",
            "eecaa295ba284a2081bb094fe996edd7",
            "dfb9ff1874f14c30b920414ec8667df8",
            "134002cdae534cb093d61e2d07d204c3",
            "48a9509f54eb4b78a749bb030dc53ff8",
            "e0e34cb08fa04e7298016e3e7fd6b9eb",
            "a2a9eb8e17074d5db4f1cab6ef805d14",
            "4bbe5a4cbaa44da88b9540fa728b394e",
            "dfb0c427bd574babb74c18f5d32edd8d",
            "0c25f846d7014daa876cd53dd0eb9b67",
            "d105fc0f7aa44d9c94982a55756bcafc",
            "4e6a4b12f7854935a774fc53dc535b12",
            "97cd434663cc467cbc3fb9076ea61365",
            "1b5dd8ccd7444cd3a90aeae1a5e87e3e",
            "e71cbc4a92bf407f9764b4ae5ccaf36a",
            "3cdfe2e891494effbcc7ef3af4970374",
            "7f3b1795e32f435b9f4ec7f7bb118484",
            "9e2a01681553418294cb5d028db28e7d",
            "8e679292cd62468cae20f8f13a4ff8a3",
            "682a83f0c78946a4add07e8836daa99d",
            "545c7fa82cea400db89e18a4eae1e199",
            "679300d86a364d06a5d3267ef338153f",
            "bcb93b2727f145d2957095f3c161e1b9",
            "89729ae9f8ee460bb4d4f04e3ae547a7",
            "0650b8f4b1484338939011ea8238fcba",
            "7932562887734ca08721c66435e2b5e7",
            "d88c4ad404cb4b77b315bb5b34cff6eb",
            "a11d951a7ad34fc0be3b585166ba611f",
            "e1ff291842c344f287b3837d1e3d555d",
            "91a49e86ca494ec28a96a789926c5853",
            "c30b82f4ca604169b843a9775d15a680",
            "3550ab1680c24058a8e8878df01fbfed",
            "feb14dd040fc49ae9576870f6a88f3b6",
            "fc0613cbcca84862a7fce2f91b9dec10",
            "d1b368038173420bbcbbce620fb07a2e",
            "627408a4ca19471590efde2d58802cf7",
            "169ac27561c04b8193c6812a0aafacb7",
            "62b504213c7f402baeafbce8fd08f109",
            "dafb84a6ac094b59b1845d5f4cda3003",
            "c839013d24ee4c47a490e29312aabc86",
            "a0eb99f1d9794fcea157871b1b2836d4",
            "ca9f4a1f927845eca010dc6174386dc8",
            "f3b9bfb5a71d4cb9a8ed3d644aa23b06",
            "dc1588cf7fd843fbaf488cf863329ca4",
            "61f4c9efaa404ddc84dfdd95116ea731",
            "3133217c4ee749b18146b051d2c9eeed",
            "e3d57956de5d42c8964812fe023e6475",
            "ef9b43eb610740d7839b5ff9ab8ddefa",
            "c98ce63490274bd18a55eac86921a3f1",
            "071ecbcadb3d462f81a44a9c238c4a0e",
            "1dd86ce0662145cd83861201fb429a64",
            "9ab4a1ae763b496a8496142a9a0e3b33",
            "a51d8eb3e3c04ee29860f68c3adc295c",
            "2bef942a20fe4e978bc7b1b3f09d6f90",
            "9379e29031e8474288a5629250e58193",
            "e8e92c6fae6d41a7b92e009718665289",
            "9cd521805dd446538b347976a4abe12d",
            "1714f1652a634e7688dc1a81aa3d5ac4",
            "54dfcfa9e7824907b0128f9b327b6927"
          ]
        },
        "id": "b1DAcQAqGYcY",
        "outputId": "737612d3-1db0-412e-ac65-8f38a99f3cdc"
      },
      "outputs": [
        {
          "data": {
            "application/vnd.jupyter.widget-view+json": {
              "model_id": "b22ac4f5b8ca4a28ad11dd84890e2193",
              "version_major": 2,
              "version_minor": 0
            },
            "text/plain": [
              "Downloading:   0%|          | 0.00/391 [00:00<?, ?B/s]"
            ]
          },
          "metadata": {},
          "output_type": "display_data"
        },
        {
          "data": {
            "application/vnd.jupyter.widget-view+json": {
              "model_id": "3d77848062744ee39bea546188755448",
              "version_major": 2,
              "version_minor": 0
            },
            "text/plain": [
              "Downloading:   0%|          | 0.00/190 [00:00<?, ?B/s]"
            ]
          },
          "metadata": {},
          "output_type": "display_data"
        },
        {
          "data": {
            "application/vnd.jupyter.widget-view+json": {
              "model_id": "1a5f9f0f9f1c4289ae90afe9e2b08ea7",
              "version_major": 2,
              "version_minor": 0
            },
            "text/plain": [
              "Downloading:   0%|          | 0.00/3.95k [00:00<?, ?B/s]"
            ]
          },
          "metadata": {},
          "output_type": "display_data"
        },
        {
          "data": {
            "application/vnd.jupyter.widget-view+json": {
              "model_id": "a4201e608654450f912944757bb9d794",
              "version_major": 2,
              "version_minor": 0
            },
            "text/plain": [
              "Downloading:   0%|          | 0.00/2.00 [00:00<?, ?B/s]"
            ]
          },
          "metadata": {},
          "output_type": "display_data"
        },
        {
          "data": {
            "application/vnd.jupyter.widget-view+json": {
              "model_id": "2873dc047f454b0783aea8e1e070df5b",
              "version_major": 2,
              "version_minor": 0
            },
            "text/plain": [
              "Downloading:   0%|          | 0.00/625 [00:00<?, ?B/s]"
            ]
          },
          "metadata": {},
          "output_type": "display_data"
        },
        {
          "data": {
            "application/vnd.jupyter.widget-view+json": {
              "model_id": "bf4e0ce8ad154abb9b85f5635f0d8847",
              "version_major": 2,
              "version_minor": 0
            },
            "text/plain": [
              "Downloading:   0%|          | 0.00/122 [00:00<?, ?B/s]"
            ]
          },
          "metadata": {},
          "output_type": "display_data"
        },
        {
          "data": {
            "application/vnd.jupyter.widget-view+json": {
              "model_id": "e28fb890819244e79b6ab2e454b950c9",
              "version_major": 2,
              "version_minor": 0
            },
            "text/plain": [
              "Downloading:   0%|          | 0.00/229 [00:00<?, ?B/s]"
            ]
          },
          "metadata": {},
          "output_type": "display_data"
        },
        {
          "data": {
            "application/vnd.jupyter.widget-view+json": {
              "model_id": "79a37b99e65644c6ac8bbf73cbdcfd3d",
              "version_major": 2,
              "version_minor": 0
            },
            "text/plain": [
              "Downloading:   0%|          | 0.00/438M [00:00<?, ?B/s]"
            ]
          },
          "metadata": {},
          "output_type": "display_data"
        },
        {
          "data": {
            "application/vnd.jupyter.widget-view+json": {
              "model_id": "48a9509f54eb4b78a749bb030dc53ff8",
              "version_major": 2,
              "version_minor": 0
            },
            "text/plain": [
              "Downloading:   0%|          | 0.00/53.0 [00:00<?, ?B/s]"
            ]
          },
          "metadata": {},
          "output_type": "display_data"
        },
        {
          "data": {
            "application/vnd.jupyter.widget-view+json": {
              "model_id": "3cdfe2e891494effbcc7ef3af4970374",
              "version_major": 2,
              "version_minor": 0
            },
            "text/plain": [
              "Downloading:   0%|          | 0.00/112 [00:00<?, ?B/s]"
            ]
          },
          "metadata": {},
          "output_type": "display_data"
        },
        {
          "data": {
            "application/vnd.jupyter.widget-view+json": {
              "model_id": "d88c4ad404cb4b77b315bb5b34cff6eb",
              "version_major": 2,
              "version_minor": 0
            },
            "text/plain": [
              "Downloading:   0%|          | 0.00/466k [00:00<?, ?B/s]"
            ]
          },
          "metadata": {},
          "output_type": "display_data"
        },
        {
          "data": {
            "application/vnd.jupyter.widget-view+json": {
              "model_id": "62b504213c7f402baeafbce8fd08f109",
              "version_major": 2,
              "version_minor": 0
            },
            "text/plain": [
              "Downloading:   0%|          | 0.00/399 [00:00<?, ?B/s]"
            ]
          },
          "metadata": {},
          "output_type": "display_data"
        },
        {
          "data": {
            "application/vnd.jupyter.widget-view+json": {
              "model_id": "c98ce63490274bd18a55eac86921a3f1",
              "version_major": 2,
              "version_minor": 0
            },
            "text/plain": [
              "Downloading:   0%|          | 0.00/232k [00:00<?, ?B/s]"
            ]
          },
          "metadata": {},
          "output_type": "display_data"
        },
        {
          "output_type": "execute_result",
          "data": {
            "text/plain": [
              "(60703, 768)"
            ]
          },
          "metadata": {},
          "execution_count": 15
        }
      ],
      "source": [
        "from sentence_transformers import SentenceTransformer\n",
        "# initialize sentence transformer model\n",
        "model = SentenceTransformer('bert-base-nli-mean-tokens')\n",
        "# create sentence embeddings\n",
        "sentence_embeddings = model.encode(sentences)\n",
        "sentence_embeddings.shape"
      ]
    },
    {
      "cell_type": "code",
      "source": [
        "import numpy as np\n",
        "np.savetxt('/content/drive/MyDrive/Tài liệu học kỳ/Học kỳ 20222/Đồ án tốt nghiệp/Training Data/token_corpus_faiss_bert-base-nli-mean-tokens.out', sentence_embeddings)   # X is an array"
      ],
      "metadata": {
        "id": "pQqCkfMXUlsk"
      },
      "execution_count": null,
      "outputs": []
    },
    {
      "cell_type": "code",
      "source": [
        "import faiss\n",
        "d = sentence_embeddings.shape[1]\n",
        "index = faiss.IndexFlatL2(d)\n",
        "index.is_trained"
      ],
      "metadata": {
        "colab": {
          "base_uri": "https://localhost:8080/"
        },
        "id": "R1uwiWqTVi7a",
        "outputId": "65d36019-3826-4e3d-c540-e86fc058864f"
      },
      "execution_count": null,
      "outputs": [
        {
          "output_type": "execute_result",
          "data": {
            "text/plain": [
              "True"
            ]
          },
          "metadata": {},
          "execution_count": 24
        }
      ]
    },
    {
      "cell_type": "code",
      "source": [
        "index.add(sentence_embeddings)\n",
        "index.ntotal"
      ],
      "metadata": {
        "colab": {
          "base_uri": "https://localhost:8080/"
        },
        "id": "3xPdXZydXREH",
        "outputId": "eec49018-8157-4b84-9c01-74165d062884"
      },
      "execution_count": null,
      "outputs": [
        {
          "output_type": "execute_result",
          "data": {
            "text/plain": [
              "60703"
            ]
          },
          "metadata": {},
          "execution_count": 25
        }
      ]
    },
    {
      "cell_type": "code",
      "source": [
        "%%time\n",
        "k = 4\n",
        "xq = model.encode([\"Những dịch vụ nào được cung cấp trực tuyến trong việc kiểm soát hộ chiếu công dân Việt Nam?\"])\n",
        "D, I = index.search(xq, k)  # search\n",
        "print(I)"
      ],
      "metadata": {
        "colab": {
          "base_uri": "https://localhost:8080/"
        },
        "id": "rDHmqT2BXZve",
        "outputId": "67b44020-3687-467e-d363-84e1b07b7e6f"
      },
      "execution_count": null,
      "outputs": [
        {
          "output_type": "stream",
          "name": "stdout",
          "text": [
            "[[  626 15794 20305  6898]]\n",
            "CPU times: user 621 ms, sys: 6 ms, total: 627 ms\n",
            "Wall time: 647 ms\n"
          ]
        }
      ]
    },
    {
      "cell_type": "code",
      "source": [
        "#data['sentence_A'].iloc[[ 374, 1364, 2060 ,  13]]\n",
        "for i in I: \n",
        "  for x in i:\n",
        "    print(doc_refers[x])\n",
        "    print(sentences[x])"
      ],
      "metadata": {
        "colab": {
          "base_uri": "https://localhost:8080/"
        },
        "id": "CoGFC58bXwlM",
        "outputId": "f6906302-cc29-430f-a106-466afcfb25a8"
      },
      "execution_count": null,
      "outputs": [
        {
          "output_type": "stream",
          "name": "stdout",
          "text": [
            "['01/2015/tt-nhnn', '18', 'Điều 18. Báo cáo Hàng tháng, chậm nhất vào ngày 12 tháng liền kề sau tháng báo cáo, tổ chức tín dụng, chi nhánh ngân hàng nước ngoài báo cáo Ngân hàng Nhà nước Việt Nam (Vụ Chính sách tiền tệ) về hoạt động kinh doanh, cung ứng và sử dụng sản phẩm phái sinh lãi suất theo các biểu số 01 và 02 ban hành kèm theo Thông này.']\n",
            "Điều 1. Phạm vi điều chỉnh Thông tư này quy định quy trình tuần tra, kiểm tra, kiểm soát của Cảnh sát biển Việt Nam.\n",
            "['11/2021/nđ-cp', '27', 'Điều 27. Nội dung thẩm định hồ sơ đề nghị giao, công nhận, trả lại khu vực biển, gia hạn, sửa đổi, bổ sung Quyết định giao khu vực biển 1. Nội dung thẩm định hồ sơ đề nghị giao khu vực biển:\\na) Tính đầy đủ về hình thức và nội dung của hồ sơ;\\nb) Sự phù hợp của khu vực biển đề nghị giao với quy hoạch quy định tại khoản 3 Điều 5 Nghị định này; trường hợp chưa có quy hoạch phải bảo đảm phù hợp với nội dung quy định tại các điểm a, b và điểm c khoản 4 Điều 5 Nghị định này;\\nc) Sự phù hợp của hoạt động khai thác, sử dụng tài nguyên biển dự kiến thực hiện với nhiệm vụ đảm bảo quốc phòng, an ninh; bảo vệ chủ quyền, quyền chủ quyền, quyền tài phán và lợi ích quốc gia trên biển; bảo đảm quyền tiếp cận của người dân với biển trong khu vực biển đề nghị giao;\\nd) Những mâu thuẫn, xung đột giữa hoạt động khai thác, sử dụng tài nguyên biển dự kiến thực hiện với các hoạt động khai thác, sử dụng tài nguyên biển hợp pháp khác đang được phép tiến hành trong khu vực biển đề nghị giao (nếu có);\\nđ) Tính phù hợp của các giải pháp bảo vệ môi trường khi khai thác, sử dụng tài nguyên biển ở khu vực biển đề nghị giao.\\n2. Nội dung thẩm định hồ sơ đề nghị công nhận, gia hạn, sửa đổi, bổ sung Quyết định giao khu vực biển:\\na) Tính đầy đủ về hình thức và nội dung của hồ sơ;\\nb) Sự phù hợp của khu vực biển đề nghị giao với quy hoạch quy định tại khoản 3 Điều 5 Nghị định này; trường hợp chưa có quy hoạch phải bảo đảm phù hợp với nội dung quy định tại các điểm a, b và điểm c khoản 4 Điều 5 Nghị định này;\\nc) Việc thực hiện nghĩa vụ tài chính và các nghĩa vụ khác theo quy định của pháp luật của tổ chức, cá nhân trong quá trình sử dụng khu vực biển;\\nd) Sự phù hợp của hoạt động khai thác, sử dụng tài nguyên biển dự kiến thực hiện với nhiệm vụ đảm bảo quốc phòng, an ninh; bảo vệ chủ quyền, quyền chủ quyền, quyền tài phán và lợi ích quốc gia trên biển; bảo đảm quyền tiếp cận của người dân với biển đối với trường hợp gia hạn thời hạn giao khu vực biển.\\n3. Nội dung thẩm định hồ sơ đề nghị trả lại khu vực biển:\\na) Tính đầy đủ về hình thức và nội dung của hồ sơ;\\nb) Việc thực hiện các quy định của pháp luật trong khai thác, sử dụng tài nguyên và công tác bảo vệ môi trường của tổ chức, cá nhân tại khu vực biển đề nghị trả lại;\\nc) Việc thực hiện nghĩa vụ tài chính và các nghĩa vụ khác theo quy định của pháp luật của tổ chức, cá nhân khi trả lại khu vực biển.']\n",
            "Điều 1. Phạm vi điều chỉnh Thông tư này quy định về kiểm tra an toàn đối với công-te-nơ được vận chuyển qua cảng biển Việt Nam.\n",
            "['147/2020/tt-bca', '2', 'Điều 2. Đối tượng áp dụng Thông tư này áp dụng đối với:\\n1. Công an các đơn vị, địa phương.\\n2. Doanh nghiệp, hộ kinh doanh (sau đây gọi là cơ sở) kinh doanh dịch vụ karaoke, dịch vụ vũ trường; cơ quan, tổ chức, cá nhân khác có liên quan đến việc bảo đảm an toàn phòng cháy và chữa cháy đối với cơ sở kinh doanh dịch vụ karaoke, dịch vụ vũ trường.']\n",
            "Điều 1. Phạm vi điều chỉnh Nghị định này quy định việc xử lý hàng hóa do người vận chuyển lưu giữ tại cảng biển Việt Nam.\n",
            "['06/2021/nđ-cp', '29', 'Điều 29. Trách nhiệm của các chủ thể trong bảo hành công trình xây dựng 1. Trong thời gian bảo hành công trình xây dựng, khi phát hiện hư hỏng, khiếm khuyết của công trình thì chủ đầu tư, chủ sở hữu hoặc người quản lý, sử dụng công trình thông báo cho chủ đầu tư để yêu cầu nhà thầu thi công xây dựng công trình, nhà thầu cung ứng thiết bị thực hiện bảo hành.\\n2. Nhà thầu thi công xây dựng, nhà thầu cung ứng thiết bị thực hiện bảo hành phần công việc do mình thực hiện sau khi nhận được thông báo yêu cầu bảo hành của chủ đầu tư, chủ sở hữu hoặc người quản lý, sử dụng công trình đối với các hư hỏng phát sinh trong thời gian bảo hành và phải chịu mọi chi phí liên quan đến thực hiện bảo hành.\\n3. Nhà thầu thi công xây dựng công trình, nhà thầu cung ứng thiết bị có quyền từ chối bảo hành trong các trường hợp hư hỏng, khiếm khuyết phát sinh không phải do lỗi của nhà thầu gây ra hoặc do nguyên nhân bất khả kháng được quy định trong hợp đồng xây dựng. Trường hợp hư hỏng, khiếm khuyết phát sinh do lỗi của nhà thầu mà nhà thầu không thực hiện bảo hành thì chủ đầu tư có quyền sử dụng tiền bảo hành để thuê tổ chức, cá nhân khác thực hiện bảo hành. Chủ đầu tư, chủ sở hữu hoặc người quản lý, sử dụng công trình có trách nhiệm thực hiện đúng quy định về vận hành, bảo trì công trình xây dựng trong quá trình khai thác, sử dụng công trình.\\n4. Chủ đầu tư có trách nhiệm kiểm tra, nghiệm thu việc thực hiện bảo hành của nhà thầu thi công xây dựng công trình, nhà thầu cung ứng thiết bị.\\n5. Xác nhận hoàn thành việc bảo hành công trình xây dựng:\\na) Khi kết thúc thời gian bảo hành, nhà thầu thi công xây dựng công trình và nhà thầu cung ứng thiết bị lập báo cáo hoàn thành công tác bảo hành gửi chủ đầu tư. Chủ đầu tư có trách nhiệm xác nhận hoàn thành việc bảo hành công trình xây dựng cho nhà thầu bằng văn bản và hoàn trả tiền bảo hành (hoặc giải tỏa thư bảo lãnh bảo hành của ngân hàng có giá trị tương đương) cho các nhà thầu trong trường hợp kết quả kiểm tra, nghiệm thu việc thực hiện bảo hành của nhà thầu thi công xây dựng công trình, nhà thầu cung ứng thiết bị tại khoản 4 Điều này đạt yêu cầu;\\nb) Chủ sở hữu hoặc người quản lý, sử dụng công trình có trách nhiệm tham gia xác nhận hoàn thành bảo hành công trình xây dựng cho nhà thầu thi công xây dựng công trình và nhà thầu cung ứng thiết bị khi có yêu cầu của chủ đầu tư.\\n6. Nhà thầu khảo sát xây dựng, nhà thầu thiết kế xây dựng công trình, nhà thầu thi công xây dựng công trình, nhà thầu cung ứng thiết bị công trình và các nhà thầu khác có liên quan chịu trách nhiệm về chất lượng đối với phần công việc do mình thực hiện kể cả sau thời gian bảo hành.\\n7. Đối với công trình nhà ở, nội dung, yêu cầu, trách nhiệm, hình thức, giá trị và thời hạn bảo hành thực hiện theo quy định của pháp luật về nhà ở.']\n",
            "Điều 1. Phạm vi điều chỉnh Nghị định này quy định về tiêu chí, quy trình đánh giá, phân loại cảng biển Việt Nam.\n"
          ]
        }
      ]
    },
    {
      "cell_type": "markdown",
      "metadata": {
        "id": "qnbwrHrsHFWy"
      },
      "source": [
        "### Thử nghiệm 1 model phobert khác"
      ]
    },
    {
      "cell_type": "code",
      "execution_count": null,
      "metadata": {
        "id": "4cPNg0XWHEsT",
        "colab": {
          "base_uri": "https://localhost:8080/"
        },
        "outputId": "7819f734-91b6-4fc3-917b-e76992924076"
      },
      "outputs": [
        {
          "output_type": "stream",
          "name": "stderr",
          "text": [
            "WARNING:root:No sentence-transformers model found with name /root/.cache/torch/sentence_transformers/VoVanPhuc_sup-SimCSE-VietNamese-phobert-base. Creating a new one with MEAN pooling.\n",
            "Some weights of the model checkpoint at /root/.cache/torch/sentence_transformers/VoVanPhuc_sup-SimCSE-VietNamese-phobert-base were not used when initializing RobertaModel: ['mlp.dense.weight', 'mlp.dense.bias']\n",
            "- This IS expected if you are initializing RobertaModel from the checkpoint of a model trained on another task or with another architecture (e.g. initializing a BertForSequenceClassification model from a BertForPreTraining model).\n",
            "- This IS NOT expected if you are initializing RobertaModel from the checkpoint of a model that you expect to be exactly identical (initializing a BertForSequenceClassification model from a BertForSequenceClassification model).\n"
          ]
        }
      ],
      "source": [
        "from sentence_transformers import SentenceTransformer\n",
        "\n",
        "model_embedding = SentenceTransformer('VoVanPhuc/sup-SimCSE-VietNamese-phobert-base')\n",
        "\n",
        "def embed_text(batch_text):\n",
        "    batch_embedding = model_embedding.encode(batch_text)\n",
        "    return [vector.tolist() for vector in batch_embedding]\n"
      ]
    },
    {
      "cell_type": "code",
      "source": [
        "!pip install pyvi"
      ],
      "metadata": {
        "colab": {
          "base_uri": "https://localhost:8080/"
        },
        "id": "IJ4OpOp8dlYA",
        "outputId": "625f904a-f5fe-4a58-e4ba-9f17e27e1511"
      },
      "execution_count": null,
      "outputs": [
        {
          "output_type": "stream",
          "name": "stdout",
          "text": [
            "Looking in indexes: https://pypi.org/simple, https://us-python.pkg.dev/colab-wheels/public/simple/\n",
            "Requirement already satisfied: pyvi in /usr/local/lib/python3.7/dist-packages (0.1.1)\n",
            "Requirement already satisfied: scikit-learn in /usr/local/lib/python3.7/dist-packages (from pyvi) (1.0.2)\n",
            "Requirement already satisfied: sklearn-crfsuite in /usr/local/lib/python3.7/dist-packages (from pyvi) (0.3.6)\n",
            "Requirement already satisfied: joblib>=0.11 in /usr/local/lib/python3.7/dist-packages (from scikit-learn->pyvi) (1.1.0)\n",
            "Requirement already satisfied: scipy>=1.1.0 in /usr/local/lib/python3.7/dist-packages (from scikit-learn->pyvi) (1.4.1)\n",
            "Requirement already satisfied: threadpoolctl>=2.0.0 in /usr/local/lib/python3.7/dist-packages (from scikit-learn->pyvi) (3.1.0)\n",
            "Requirement already satisfied: numpy>=1.14.6 in /usr/local/lib/python3.7/dist-packages (from scikit-learn->pyvi) (1.21.6)\n",
            "Requirement already satisfied: tabulate in /usr/local/lib/python3.7/dist-packages (from sklearn-crfsuite->pyvi) (0.8.9)\n",
            "Requirement already satisfied: tqdm>=2.0 in /usr/local/lib/python3.7/dist-packages (from sklearn-crfsuite->pyvi) (4.64.0)\n",
            "Requirement already satisfied: python-crfsuite>=0.8.3 in /usr/local/lib/python3.7/dist-packages (from sklearn-crfsuite->pyvi) (0.9.8)\n",
            "Requirement already satisfied: six in /usr/local/lib/python3.7/dist-packages (from sklearn-crfsuite->pyvi) (1.15.0)\n"
          ]
        }
      ]
    },
    {
      "cell_type": "code",
      "execution_count": null,
      "metadata": {
        "id": "zFnfcgRQHZR9",
        "colab": {
          "base_uri": "https://localhost:8080/",
          "height": 200
        },
        "outputId": "de0df683-cf47-447b-fae1-0610d9639197"
      },
      "outputs": [
        {
          "output_type": "error",
          "ename": "AttributeError",
          "evalue": "ignored",
          "traceback": [
            "\u001b[0;31m---------------------------------------------------------------------------\u001b[0m",
            "\u001b[0;31mAttributeError\u001b[0m                            Traceback (most recent call last)",
            "\u001b[0;32m<ipython-input-27-93479902c311>\u001b[0m in \u001b[0;36m<module>\u001b[0;34m()\u001b[0m\n\u001b[1;32m      7\u001b[0m     \u001b[0;32mreturn\u001b[0m \u001b[0membedding\u001b[0m\u001b[0;34m\u001b[0m\u001b[0;34m\u001b[0m\u001b[0m\n\u001b[1;32m      8\u001b[0m \u001b[0msentence_embeddings\u001b[0m \u001b[0;34m=\u001b[0m \u001b[0mindex_batch\u001b[0m\u001b[0;34m(\u001b[0m\u001b[0msentences\u001b[0m\u001b[0;34m)\u001b[0m\u001b[0;34m\u001b[0m\u001b[0;34m\u001b[0m\u001b[0m\n\u001b[0;32m----> 9\u001b[0;31m \u001b[0msentence_embeddings\u001b[0m\u001b[0;34m.\u001b[0m\u001b[0mshape\u001b[0m\u001b[0;34m\u001b[0m\u001b[0;34m\u001b[0m\u001b[0m\n\u001b[0m",
            "\u001b[0;31mAttributeError\u001b[0m: 'list' object has no attribute 'shape'"
          ]
        }
      ],
      "source": [
        "from pyvi.ViTokenizer import tokenize\n",
        "import pandas as pd\n",
        "def index_batch(sentences):\n",
        "    requests = []\n",
        "    titles = [tokenize(sentence) for sentence in sentences]\n",
        "    embedding = embed_text(titles)\n",
        "    return embedding\n",
        "sentence_embeddings = index_batch(sentences)\n",
        "sentence_embeddings.shape"
      ]
    },
    {
      "cell_type": "code",
      "source": [
        "len(sentence_embeddings)"
      ],
      "metadata": {
        "colab": {
          "base_uri": "https://localhost:8080/"
        },
        "id": "B-04ymL0XATs",
        "outputId": "6a78d53c-fa7b-466e-fce6-d120782d5e55"
      },
      "execution_count": null,
      "outputs": [
        {
          "output_type": "execute_result",
          "data": {
            "text/plain": [
              "60703"
            ]
          },
          "metadata": {},
          "execution_count": 30
        }
      ]
    },
    {
      "cell_type": "code",
      "source": [
        "import numpy as np\n",
        "np.savetxt('/content/drive/MyDrive/Tài liệu học kỳ/Học kỳ 20222/Đồ án tốt nghiệp/Training Data/token_corpus_faiss_sup-SimCSE-VietNamese-phobert-base.out', sentence_embeddings)   # X is an array"
      ],
      "metadata": {
        "id": "745kwM89V-Cw"
      },
      "execution_count": null,
      "outputs": []
    },
    {
      "cell_type": "code",
      "source": [
        "import faiss\n",
        "d = sentence_embeddings_all.shape[1]\n",
        "index = faiss.IndexFlatL2(d)\n",
        "index.is_trained"
      ],
      "metadata": {
        "colab": {
          "base_uri": "https://localhost:8080/"
        },
        "id": "HUGinnEVVmpR",
        "outputId": "eadea889-b6a8-4689-ac4a-42d04bb161ae"
      },
      "execution_count": null,
      "outputs": [
        {
          "output_type": "execute_result",
          "data": {
            "text/plain": [
              "True"
            ]
          },
          "metadata": {},
          "execution_count": 44
        }
      ]
    },
    {
      "cell_type": "code",
      "source": [
        "index.add(sentence_embeddings_all)\n",
        "index.ntotal"
      ],
      "metadata": {
        "colab": {
          "base_uri": "https://localhost:8080/"
        },
        "id": "3ZkyTaGGVpqd",
        "outputId": "52134628-61ef-48fb-8cdc-56cf199dfe86"
      },
      "execution_count": null,
      "outputs": [
        {
          "output_type": "execute_result",
          "data": {
            "text/plain": [
              "60703"
            ]
          },
          "metadata": {},
          "execution_count": 45
        }
      ]
    },
    {
      "cell_type": "code",
      "source": [
        "%%time\n",
        "k = 4\n",
        "xq = model.encode([\"Những dịch vụ nào được cung cấp trực tuyến trong việc kiểm soát hộ chiếu công dân Việt Nam?\"])\n",
        "D, I = index.search(xq, k)  # search\n",
        "print(I)"
      ],
      "metadata": {
        "colab": {
          "base_uri": "https://localhost:8080/"
        },
        "id": "lzXfdvvIVuIl",
        "outputId": "29fe1fab-5cac-4cad-f0fc-1f334d0a4209"
      },
      "execution_count": null,
      "outputs": [
        {
          "output_type": "stream",
          "name": "stdout",
          "text": [
            "[[43979 31663 26149 11020]]\n",
            "CPU times: user 76 ms, sys: 999 µs, total: 77 ms\n",
            "Wall time: 106 ms\n"
          ]
        }
      ]
    },
    {
      "cell_type": "code",
      "source": [
        "#data['sentence_A'].iloc[[ 374, 1364, 2060 ,  13]]\n",
        "for i in I: \n",
        "  for x in i:\n",
        "    print(doc_refers[x])\n",
        "    print(sentences[x])"
      ],
      "metadata": {
        "colab": {
          "base_uri": "https://localhost:8080/"
        },
        "id": "rmJaD7ybVui0",
        "outputId": "47e1ef8f-97d7-449b-9ccc-2d16307a71d3"
      },
      "execution_count": null,
      "outputs": [
        {
          "output_type": "stream",
          "name": "stdout",
          "text": [
            "['43/2018/nđ-cp', '13', 'Điều 13. Cơ quan được giao quản lý tài sản trực tiếp tổ chức khai thác tài sản kết cấu hạ tầng hàng hải 1. Cơ quan được giao quản lý tài sản trực tiếp tổ chức khai thác tài sản trong các trường hợp sau:\\na) Tài sản kết cấu hạ tầng hàng hải liên quan đến an ninh quốc gia;\\nb) Áp dụng phương thức trực tiếp khai thác hiệu quả hơn phương thức quy định tại các điểm b, điểm c khoản 1 Điều 12 Nghị định này;\\nc) Không có tổ chức đăng ký thực hiện phương thức quy định tại các điểm b, điểm c khoản 1 Điều 12 Nghị định này.\\n2. Thẩm quyền phê duyệt Đề án khai thác tài sản kết cấu hạ tầng hàng hải:\\na) Thủ tướng Chính phủ phê duyệt Đề án khai thác tài sản kết cấu hạ tầng hàng hải liên quan đến quốc phòng, an ninh quốc gia, tài sản hình thành từ dự án do Thủ tướng Chính phủ quyết định đầu tư theo quy định trên cơ sở đề nghị của Bộ trưởng Bộ Giao thông vận tải, ý kiến của Bộ Tài chính và các cơ quan có liên quan;\\nb) Bộ trưởng Bộ Giao thông vận tải phê duyệt Đề án khai thác tài sản kết cấu hạ tầng hàng hải không thuộc phạm vi quy định tại điểm a khoản này.\\n3. Hồ sơ đề nghị phê duyệt Đề án khai thác tài sản kết cấu hạ tầng hàng hải gồm:\\na) Văn bản đề nghị của cơ quan được giao quản lý tài sản: 01 bản chính;\\nb) Đề án khai thác tài sản theo Mẫu số 07 quy định tại Phụ lục ban hành kèm theo Nghị định này: 01 bản chính;\\nc) Hồ sơ có liên quan khác (nếu có): 01 bản sao.\\n4. Lập, phê duyệt Đề án khai thác tài sản kết cấu hạ tầng hàng hải:\\na) Cơ quan được giao quản lý tài sản lập 01 bộ hồ sơ đề nghị khai thác tài sản kết cấu hạ tầng hàng hải quy định tại khoản 3 Điều này, báo cáo Bộ Giao thông vận tải;\\nb) Trong thời hạn 30 ngày, kể từ ngày nhận được đầy đủ hồ sơ hợp lệ, Bộ trưởng Bộ Giao thông vận tải xem xét, quyết định phê duyệt Đề án khai thác tài sản kết cấu hạ tầng hàng hải theo thẩm quyền hoặc có văn bản hồi đáp trong trường hợp Đề án chưa phù hợp;\\nc) Trong thời hạn 30 ngày, kể từ ngày nhận được đầy đủ hồ sơ hợp lệ, Bộ Giao thông vận tải có văn bản kèm theo bản sao hồ sơ quy định tại khoản 3 Điều này gửi lấy ý kiến của Bộ Tài chính và các cơ quan liên quan đối với tài sản thuộc thẩm quyền quyết định của Thủ tướng Chính phủ.\\nTrong thời hạn 30 ngày, kể từ ngày nhận được đầy đủ hồ sơ hợp lệ của Bộ Giao thông vận tải, Bộ Tài chính và các cơ quan liên quan có trách nhiệm cho ý kiến theo chức năng, nhiệm vụ về Đề án khai thác tài sản kết cấu hạ tầng hàng hải;\\nTrong thời hạn 30 ngày, kể từ ngày nhận được ý kiến tham gia của Bộ Tài chính và các cơ quan có liên quan, Bộ trưởng Bộ Giao thông vận tải có văn bản (kèm theo bản sao hồ sơ quy định tại khoản 3 Điều này và ý kiến của các cơ quan có liên quan) báo cáo Thủ tướng Chính phủ xem xét, quyết định phê duyệt Đề án khai thác tài sản kết cấu hạ tầng hàng hải hoặc có văn bản chỉ đạo trong trường hợp Đề án chưa phù hợp.\\n5. Căn cứ Đề án khai thác tài sản kết cấu hạ tầng hàng hải được cơ quan, người có thẩm quyền phê duyệt, cơ quan được giao quản lý tài sản tổ chức thực hiện việc khai thác tài sản theo Đề án được duyệt và quy định của pháp luật.']\n",
            "Điều 21. Thí điểm hệ thống báo cáo, thống kê tai nạn lao động, tư vấn hỗ trợ pháp luật an toàn, vệ sinh lao động đối với người lao động làm việc không theo hợp đồng lao động 1. Nội dung chi\n",
            "a) Khảo sát, đánh giá thực trạng địa bàn thí điểm;\n",
            "b) Tập huấn, hướng dẫn triển khai thực hiện mô hình thí điểm;\n",
            "c) Kiểm tra, đánh giá kết quả thí điểm;\n",
            "2. Mức chi\n",
            "Căn cứ chế độ chi tiêu hiện hành của Nhà nước và dự kiến chi phí thực tế phát sinh, Bộ trưởng, Thủ trưởng trung ương và Chủ tịch Ủy ban nhân dân cấp tỉnh quyết định mức hỗ trợ cụ thể trong phạm vi dự toán đã được cấp có thẩm quyền phê duyệt, tối đa 350 triệu đồng/mô hình.\n",
            "['22/2018/qh14', '35', 'Điều 35. Nhiệm vụ, quyền hạn của Bộ Quốc phòng Bộ Quốc phòng chịu trách nhiệm trước Chính phủ thực hiện quản lý nhà nước về quốc phòng và có nhiệm vụ, quyền hạn sau đây:\\n1. Tham mưu, giúp việc Hội đồng Quốc phòng và An ninh;\\n2. Chủ trì, phối hợp với Bộ Ngoại giao, Bộ Công an chịu trách nhiệm trước Chính phủ thực hiện quản lý nhà nước về biên giới quốc gia; duy trì an ninh, trật tự, an toàn xã hội ở khu vực biên giới, cửa khẩu, hải đảo, vùng biển và vùng trời của nước Cộng hòa xã hội chủ nghĩa Việt Nam theo quy định của pháp luật Việt Nam và điều ước quốc tế mà nước Cộng hòa xã hội chủ nghĩa Việt Nam là thành viên;\\n3. Chủ trì, phối hợp với Bộ, ngành trung ương, chính quyền địa phương lập, xây dựng chiến lược, quy hoạch, kế hoạch, đề án về quốc phòng, trình cấp có thẩm quyền quyết định;\\n4. Xây dựng, quản lý, chỉ huy Quân đội nhân dân và Dân quân tự vệ trong thực hiện nhiệm vụ quốc phòng;\\n5. Chỉ đạo, hướng dẫn Bộ, ngành trung ương và địa phương thực hiện xây dựng nền quốc phòng toàn dân, phòng thủ quân khu, khu vực phòng thủ và công tác quốc phòng.']\n",
            "Điều 11. Chi sàng lọc, phát hiện sớm yếu tố nguy cơ đối với sức khỏe của người uống rượu, bia; người mắc bệnh, rối loạn chức năng do uống rượu, bia; người nghiện rượu, bia 1. Chi hỗ trợ mua sắm trang thiết bị, vật tư, tài liệu, văn phòng phẩm thực hiện theo quy định của pháp luật về ngân sách, đấu thầu.\n",
            "2. Chi xây dựng và in tài liệu phục vụ hoạt động sàng lọc, phát hiện sớm theo thực tế và phù hợp với nội dung chuyên môn.\n",
            "3. Chi thù lao cho người thực hiện sàng lọc:\n",
            "a) Chi cho nhân viên theo hợp đồng lao động: Mức tiền công và các khoản phụ cấp của người lao động được trả theo thỏa thuận dựa trên năng suất, chất lượng, hiệu quả công việc của người lao động và các quy định của pháp luật về chế độ tiền lương, tiền công;\n",
            "b) Chi bồi dưỡng hỗ trợ cho cán bộ y tế, cộng tác viên tham gia công tác sàng lọc: 20.000 đồng/lần/người;\n",
            "c) Chi bồi dưỡng cho cán bộ y tế tham gia công tác sàng lọc làm đêm, thêm giờ thực hiện theo quy định của Bộ luật Lao động và văn bản hướng dẫn về thực hiện chế độ trả lương làm việc vào ban đêm, làm thêm giờ đối với cán bộ, công chức, viên chức, người lao động.\n",
            "4. Chi thực hiện các kỹ thuật cận lâm sàng theo quy trình chuyên môn của Bộ Y tế đối với người có thẻ bảo hiểm y tế được bảo hiểm y tế thanh toán theo quy định của Bộ trưởng Bộ Y tế.\n",
            "['17/2014/tt-nhnn', '6', 'Điều 6. Xác định số lượng, khối lượng, kích cỡ, chất lượng kim khí quý, đá quý 1. Xác định số lượng:\\na) Loại đếm được: đếm theo đơn vị thỏi, lá, cái, viên, miếng, mảnh.\\nb) Loại không đếm được (dạng cốm, hạt, bột): xác định theo món, gói.\\n2. Xác định khối lượng, kích cỡ:\\na) Các loại kim khí quý: Xác định khối lượng theo đơn vị đo pháp định là kilôgam (kg), gam (g), miligam (mg) hoặc lượng, đồng cân (chỉ), phân.\\nb) Các loại đá quý: Xác định khối lượng theo carat (ct), 01ct = 0,2 g = 200 mg; xác định đường kính, kích cỡ ngọc trai theo milimét (mm).\\nc) Các loại đồ trang sức hoặc đồ mỹ nghệ có gắn đá quý làm cho giá trị của đồ vật tăng lên so với giá trị đồ vật sau khi tách rời thân ra khỏi đá quý; khi kiểm nhận phải giữ nguyên hình dạng và cân khối lượng chung của đồ vật, sau đó xác định khối lượng của từng bộ phận (nếu có thể được).\\n3. Xác định chất lượng:\\na) Các loại kim khí quý: Xác định theo tỷ lệ phần trăm (%) nguyên chất kim loại quý.\\nb) Các loại đá quý: Xác định chất lượng căn cứ vào thành phần hóa học, giá trị sử dụng để phân ra loại I, loại II, loại III, loại IV theo TCVN 5855:1994  , Đá quý - Thuật ngữ và phân loại.\\n4. Phương tiện, dụng cụ cân, đo được sử dụng để xác định khối lượng, kích cỡ kim loại quý, đá quý phải bảo đảm các yêu cầu sau đây:\\na) Có phạm vi đo, độ chính xác phù hợp với giới hạn sai số của kết quả phép đo do cơ quan quản lý nhà nước về đo lường quy định hoặc do tổ chức, cá nhân sản xuất, nhập khẩu kim khí quý, đá quý đó công bố;\\nb) Đã được kiểm định hoặc hiệu chuẩn theo quy định của pháp luật về đo lường. Giấy chứng nhận kiểm định, hiệu chuẩn phải còn thời hạn giá trị.']\n",
            "Điều 23. Chi tổ chức các hội nghị cấp dưới cấp Bộ trưởng (như: Hội nghị SOM, SEOM và các hội nghị tương tự khác) 1. Đối với đại biểu và các đoàn khách dự các hội nghị\n",
            "a) Đối tượng được Việt Nam đài thọ: Thực hiện các nội dung và mức chi theo quyết định của Lãnh đạo Đảng, Nhà nước chủ trì hội nghị quốc tế tổ chức luân phiên tại Việt Nam hoặc quyết định của Thủ tướng Chính phủ;\n",
            "b) Các đoàn khách nước ngoài thuộc đối tượng không được Việt Nam đài thọ thì tự chi tiền ăn, ở, đi lại (ngân sách nhà nước không chi).\n",
            "2. Đối với cán bộ, công chức, viên chức và nhân viên phục vụ hội nghị\n",
            "a) Tiền bồi dưỡng phục vụ hội nghị:\n",
            "- Cán bộ, công chức, viên chức, nhân viên (bao gồm cả lực lượng bảo vệ, lái xe (trừ lái xe của xe đi thuê), lễ tân, tình nguyện viên, sỹ quan liên lạc và các nhân viên khác) trực tiếp tham gia phục vụ hội nghị (bao gồm cả ngày lễ và ngày nghỉ theo quy định) được hưởng tiền bồi dưỡng làm nhiệm vụ theo danh sách phê duyệt của người có thẩm quyền, mức chi từ 150.000 đồng/ngày/người đến 300.000 đồng/ngày/người. Số lượng và mức chi cụ thể cho mỗi cán bộ, công chức, viên chức và nhân viên phục vụ hội nghị được quy định trong kế hoạch, đề án tổ chức hội nghị. Trường hợp một người làm nhiều nhiệm vụ khác nhau trong một ngày, thì chỉ được hưởng một mức bồi dưỡng cao nhất.\n",
            "- Số ngày được hưởng tiền bồi dưỡng là số ngày chính thức diễn ra các hội nghị. Trường hợp công việc phải triển khai sớm hoặc kết thúc muộn hơn so với số ngày hội nghị chính thức, thì được thanh toán theo số ngày thực tế thực hiện nhiệm vụ theo quyết định phê duyệt của người có thẩm quyền được quy định trong kế hoạch, đề án tổ chức hội nghị. Tổng thời gian thanh toán tối đa không quá 15 ngày; đồng thời không được thanh toán tiền lương làm việc vào ban đêm, làm thêm giờ.\n",
            "b) Trường hợp cán bộ, công chức, viên chức và nhân viên phục vụ hội nghị tại địa phương khác không phải nơi cư trú nếu đã được hưởng bồi dưỡng làm nhiệm vụ thì không thanh toán phụ cấp lưu trú theo quy định tại Thông tư số 40/2017/TT-BTC  ngày 28/4/2017 của Bộ Tài chính;\n",
            "c) Chế độ thuê phòng nghỉ: Thực hiện theo quy định tại Khoản 2 Điều 13 Thông tư này;\n",
            "d) Trường hợp cần thiết, Ban tổ chức hội nghị bố trí ăn tập trung cho bảo vệ, lái xe (trừ lái xe của xe đi thuê), lễ tân, tình nguyện viên, sỹ quan liên lạc và các nhân viên khác trực tiếp tham gia phục vụ hội nghị theo kế hoạch, đề án tổ chức hội nghị, thì thực hiện mức chi tiền ăn là 260.000 đồng/người/ngày (đã bao gồm đồ uống); không phát tiền nếu không ăn tập trung;\n",
            "đ) Chi hỗ trợ cước điện thoại đối với cán bộ, công chức, viên chức và nhân viên phục vụ hội nghị thực hiện theo quy định như đối với hội nghị cấp thượng đỉnh quy định tại quy định tại điểm đ Khoản 2 Điều 20 Thông tư này.\n",
            "['101/2017/nđ-cp', '43', 'Điều 43. Trách nhiệm của đơn vị sử dụng cán bộ, công chức, viên chức 1. Thực hiện các quy định về đào tạo, bồi dưỡng cán bộ, công chức, viên chức.\\n2. Đề xuất biên soạn và lựa chọn chương trình đào tạo, bồi dưỡng phù hợp với yêu cầu vị trí việc làm của cán bộ, công chức, viên chức.\\n3. Tạo điều kiện để cán bộ, công chức, viên chức thực hiện chế độ đào tạo, bồi dưỡng theo quy định.']\n",
            "Điều 19. Chế độ đối với người được huy động làm nhiệm vụ ứng phó sự cố, thiên tai và tìm kiếm cứu nạn 1. Người không hưởng lương từ ngân sách nhà nước trong thời gian được huy động thực hiện nhiệm vụ ứng phó sự cố, thiên tai và tìm kiếm cứu nạn theo quyết định của cấp có thẩm quyền được hưởng chế độ như sau:\n",
            "a) Được trợ cấp ngày công lao động từng ngành nghề theo mức do Ủy ban nhân dân cấp tỉnh quy định. Đối với lao động phổ thông, mức trợ cấp ngày công thấp nhất bằng 0,1 lần mức lương cơ sở, đối với lao động có liên quan trực tiếp đến chất phóng xạ, tác nhân sinh học, hóa chất độc hại mức trợ cấp thấp nhất bằng 0,1 lần mức lương cơ sở; nếu làm nhiệm vụ từ 22 giờ ngày hôm trước đến 06 giờ sáng ngày hôm sau được tính gấp đôi; làm nhiệm vụ trong điều kiện có yếu tố độc hại, nguy hiểm thì được bồi dưỡng tại chỗ theo quy định của pháp luật;\n",
            "b) Khi làm nhiệm vụ cách xa nơi cư trú, không có điều kiện đi, về hàng ngày thì được cấp huy động bố trí nơi ăn, nghỉ, hỗ trợ phương tiện, chi phí đi lại hoặc thanh toán tiền tàu xe một lần đi và về theo quy định chế độ công tác của Bộ Tài chính; được hỗ trợ tiền ăn theo mức do Ủy ban nhân dân cấp tỉnh quy định;\n",
            "c) Cấp nào huy động thì cấp đó bảo đảm chi trả.\n",
            "2. Người được hưởng lương từ ngân sách nhà nước, trong thời gian được huy động thực hiện nhiệm vụ ứng phó sự cố, thiên tai và tìm kiếm cứu nạn theo quyết định của cấp có thẩm quyền được cơ quan, tổ chức nơi người đó làm việc trả nguyên lương và các khoản phụ cấp, được thanh toán phụ cấp đi đường và tiền tàu xe, khi làm việc trong môi trường độc hại và nơi có phụ cấp khu vực, được hưởng theo chế độ hiện hành.\n",
            "Chi phí cho các khoản nói trên được tính vào ngân sách chi hoạt động thường xuyên của cơ quan, đơn vị.\n",
            "3. Cán bộ, chiến sĩ dân quân tự vệ, dự bị động viên được huy động thực hiện nhiệm vụ ứng phó sự cố, thiên tai và tìm kiếm cứu nạn theo quyết định của cấp có thẩm quyền được hưởng chế độ theo quy định của pháp luật.\n"
          ]
        }
      ]
    },
    {
      "cell_type": "code",
      "execution_count": null,
      "metadata": {
        "id": "k0GLKSFQVhVZ"
      },
      "outputs": [],
      "source": [
        "# Calculate length of maximal list\n",
        "n = len(max(sentence_embeddings, key=len))\n",
        "# Make the lists equal in length\n",
        "sentence_embeddings_2 = [x + [0]*(n-len(x)) for x in sentence_embeddings]"
      ]
    },
    {
      "cell_type": "code",
      "source": [
        "import numpy as np\n",
        "sentence_embeddings_all = np.array(sentence_embeddings_2, dtype=np.float32)"
      ],
      "metadata": {
        "id": "HKnVst3PXord"
      },
      "execution_count": null,
      "outputs": []
    },
    {
      "cell_type": "code",
      "source": [
        "sentence_embeddings_all.shape"
      ],
      "metadata": {
        "colab": {
          "base_uri": "https://localhost:8080/"
        },
        "id": "RIyeS3AMX4yl",
        "outputId": "2f591750-e9fb-4bce-ead0-32338f695705"
      },
      "execution_count": null,
      "outputs": [
        {
          "output_type": "execute_result",
          "data": {
            "text/plain": [
              "(60703, 768)"
            ]
          },
          "metadata": {},
          "execution_count": 43
        }
      ]
    },
    {
      "cell_type": "code",
      "execution_count": null,
      "metadata": {
        "id": "DjFcuB0BSdzF"
      },
      "outputs": [],
      "source": [
        "import numpy\n",
        "# converting list to array\n",
        "arr = numpy.array(sentence_embeddings)\n",
        "arr.shape"
      ]
    },
    {
      "cell_type": "code",
      "execution_count": null,
      "metadata": {
        "colab": {
          "base_uri": "https://localhost:8080/"
        },
        "id": "DS9sqJT1Sn0j",
        "outputId": "60ffbb39-ff12-43ce-e587-900633fd8aea"
      },
      "outputs": [
        {
          "data": {
            "text/plain": [
              "60703"
            ]
          },
          "execution_count": 105,
          "metadata": {},
          "output_type": "execute_result"
        }
      ],
      "source": [
        "d = arr.shape[1]\n",
        "d"
      ]
    },
    {
      "cell_type": "code",
      "execution_count": null,
      "metadata": {
        "colab": {
          "base_uri": "https://localhost:8080/"
        },
        "id": "BHiULTLdMz4X",
        "outputId": "acea13e7-af68-4b3c-bc87-4e0d77fa9681"
      },
      "outputs": [
        {
          "data": {
            "text/plain": [
              "True"
            ]
          },
          "execution_count": 106,
          "metadata": {},
          "output_type": "execute_result"
        }
      ],
      "source": [
        "index = faiss.IndexFlatL2(d)\n",
        "index.is_trained"
      ]
    },
    {
      "cell_type": "code",
      "execution_count": null,
      "metadata": {
        "id": "Zg3buTEUM8LG"
      },
      "outputs": [],
      "source": [
        "k = 4\n",
        "questions_train_path = os.path.join(dest_path, \"questions_train.json\")\n",
        "with open(questions_train_path) as json_file:\n",
        "    questions_train = json.load(json_file)\n",
        "\n",
        "xq = model.encode([\"Someone sprints with a football\"])"
      ]
    },
    {
      "cell_type": "code",
      "execution_count": null,
      "metadata": {
        "id": "HPwGU1PWNPun"
      },
      "outputs": [],
      "source": [
        "%%time\n",
        "# Đánh giá Training question với top 5\n",
        "top_k_bm25 = 5\n",
        "total_f2 = 0\n",
        "total_precision = 0\n",
        "total_recall = 0\n",
        "questions_train_path = os.path.join(dest_path, \"questions_train.json\")\n",
        "with open(questions_train_path) as json_file:\n",
        "    questions_train = json.load(json_file)\n",
        "for idx, item in tqdm(enumerate(questions_train[:1])):\n",
        "    question_id = item[\"question_id\"]\n",
        "    question = item[\"question\"]\n",
        "    relevant_articles = item[\"relevant_articles\"]\n",
        "    actual_positive = len(relevant_articles)\n",
        "    # Tokenizer câu query\n",
        "    tokenized_query = bm25_tokenizer(question)\n",
        "    D, I = index.search(xq, k)  # search\n",
        "    print(I)\n"
      ]
    },
    {
      "cell_type": "code",
      "execution_count": null,
      "metadata": {
        "id": "0vSQS34lNd1l"
      },
      "outputs": [],
      "source": [
        "doc_refers.iloc[[4586, 10252, 12465, 190]]\n"
      ]
    },
    {
      "cell_type": "markdown",
      "source": [
        "# Predict\n"
      ],
      "metadata": {
        "id": "Aol1F-HhslyH"
      }
    },
    {
      "cell_type": "code",
      "source": [
        "!pip install rank_bm25"
      ],
      "metadata": {
        "colab": {
          "base_uri": "https://localhost:8080/"
        },
        "id": "7wfsjI2Ytpmz",
        "outputId": "3480ab5f-9d79-426e-a3af-6a6351ea462f"
      },
      "execution_count": 11,
      "outputs": [
        {
          "output_type": "stream",
          "name": "stdout",
          "text": [
            "Looking in indexes: https://pypi.org/simple, https://us-python.pkg.dev/colab-wheels/public/simple/\n",
            "Collecting rank_bm25\n",
            "  Downloading rank_bm25-0.2.2-py3-none-any.whl (8.6 kB)\n",
            "Requirement already satisfied: numpy in /usr/local/lib/python3.7/dist-packages (from rank_bm25) (1.21.6)\n",
            "Installing collected packages: rank-bm25\n",
            "Successfully installed rank-bm25-0.2.2\n"
          ]
        }
      ]
    },
    {
      "cell_type": "code",
      "source": [
        "!pip install sentence_transformers"
      ],
      "metadata": {
        "colab": {
          "base_uri": "https://localhost:8080/"
        },
        "id": "t81WBu0duBjD",
        "outputId": "bad3577a-a640-4aa0-bd18-aafde25b7171"
      },
      "execution_count": 17,
      "outputs": [
        {
          "output_type": "stream",
          "name": "stdout",
          "text": [
            "Looking in indexes: https://pypi.org/simple, https://us-python.pkg.dev/colab-wheels/public/simple/\n",
            "Collecting sentence_transformers\n",
            "  Downloading sentence-transformers-2.2.0.tar.gz (79 kB)\n",
            "\u001b[K     |████████████████████████████████| 79 kB 5.2 MB/s \n",
            "\u001b[?25hCollecting transformers<5.0.0,>=4.6.0\n",
            "  Downloading transformers-4.19.2-py3-none-any.whl (4.2 MB)\n",
            "\u001b[K     |████████████████████████████████| 4.2 MB 17.3 MB/s \n",
            "\u001b[?25hRequirement already satisfied: tqdm in /usr/local/lib/python3.7/dist-packages (from sentence_transformers) (4.64.0)\n",
            "Requirement already satisfied: torch>=1.6.0 in /usr/local/lib/python3.7/dist-packages (from sentence_transformers) (1.11.0+cu113)\n",
            "Requirement already satisfied: torchvision in /usr/local/lib/python3.7/dist-packages (from sentence_transformers) (0.12.0+cu113)\n",
            "Requirement already satisfied: numpy in /usr/local/lib/python3.7/dist-packages (from sentence_transformers) (1.21.6)\n",
            "Requirement already satisfied: scikit-learn in /usr/local/lib/python3.7/dist-packages (from sentence_transformers) (1.0.2)\n",
            "Requirement already satisfied: scipy in /usr/local/lib/python3.7/dist-packages (from sentence_transformers) (1.4.1)\n",
            "Requirement already satisfied: nltk in /usr/local/lib/python3.7/dist-packages (from sentence_transformers) (3.2.5)\n",
            "Collecting sentencepiece\n",
            "  Downloading sentencepiece-0.1.96-cp37-cp37m-manylinux_2_17_x86_64.manylinux2014_x86_64.whl (1.2 MB)\n",
            "\u001b[K     |████████████████████████████████| 1.2 MB 62.4 MB/s \n",
            "\u001b[?25hCollecting huggingface-hub\n",
            "  Downloading huggingface_hub-0.7.0-py3-none-any.whl (86 kB)\n",
            "\u001b[K     |████████████████████████████████| 86 kB 6.2 MB/s \n",
            "\u001b[?25hRequirement already satisfied: typing-extensions in /usr/local/lib/python3.7/dist-packages (from torch>=1.6.0->sentence_transformers) (4.2.0)\n",
            "Requirement already satisfied: requests in /usr/local/lib/python3.7/dist-packages (from transformers<5.0.0,>=4.6.0->sentence_transformers) (2.23.0)\n",
            "Collecting tokenizers!=0.11.3,<0.13,>=0.11.1\n",
            "  Downloading tokenizers-0.12.1-cp37-cp37m-manylinux_2_12_x86_64.manylinux2010_x86_64.whl (6.6 MB)\n",
            "\u001b[K     |████████████████████████████████| 6.6 MB 59.3 MB/s \n",
            "\u001b[?25hRequirement already satisfied: filelock in /usr/local/lib/python3.7/dist-packages (from transformers<5.0.0,>=4.6.0->sentence_transformers) (3.7.0)\n",
            "Requirement already satisfied: packaging>=20.0 in /usr/local/lib/python3.7/dist-packages (from transformers<5.0.0,>=4.6.0->sentence_transformers) (21.3)\n",
            "Requirement already satisfied: regex!=2019.12.17 in /usr/local/lib/python3.7/dist-packages (from transformers<5.0.0,>=4.6.0->sentence_transformers) (2019.12.20)\n",
            "Requirement already satisfied: importlib-metadata in /usr/local/lib/python3.7/dist-packages (from transformers<5.0.0,>=4.6.0->sentence_transformers) (4.11.3)\n",
            "Collecting pyyaml>=5.1\n",
            "  Downloading PyYAML-6.0-cp37-cp37m-manylinux_2_5_x86_64.manylinux1_x86_64.manylinux_2_12_x86_64.manylinux2010_x86_64.whl (596 kB)\n",
            "\u001b[K     |████████████████████████████████| 596 kB 61.0 MB/s \n",
            "\u001b[?25hRequirement already satisfied: pyparsing!=3.0.5,>=2.0.2 in /usr/local/lib/python3.7/dist-packages (from packaging>=20.0->transformers<5.0.0,>=4.6.0->sentence_transformers) (3.0.9)\n",
            "Requirement already satisfied: zipp>=0.5 in /usr/local/lib/python3.7/dist-packages (from importlib-metadata->transformers<5.0.0,>=4.6.0->sentence_transformers) (3.8.0)\n",
            "Requirement already satisfied: six in /usr/local/lib/python3.7/dist-packages (from nltk->sentence_transformers) (1.15.0)\n",
            "Requirement already satisfied: idna<3,>=2.5 in /usr/local/lib/python3.7/dist-packages (from requests->transformers<5.0.0,>=4.6.0->sentence_transformers) (2.10)\n",
            "Requirement already satisfied: urllib3!=1.25.0,!=1.25.1,<1.26,>=1.21.1 in /usr/local/lib/python3.7/dist-packages (from requests->transformers<5.0.0,>=4.6.0->sentence_transformers) (1.24.3)\n",
            "Requirement already satisfied: chardet<4,>=3.0.2 in /usr/local/lib/python3.7/dist-packages (from requests->transformers<5.0.0,>=4.6.0->sentence_transformers) (3.0.4)\n",
            "Requirement already satisfied: certifi>=2017.4.17 in /usr/local/lib/python3.7/dist-packages (from requests->transformers<5.0.0,>=4.6.0->sentence_transformers) (2022.5.18.1)\n",
            "Requirement already satisfied: threadpoolctl>=2.0.0 in /usr/local/lib/python3.7/dist-packages (from scikit-learn->sentence_transformers) (3.1.0)\n",
            "Requirement already satisfied: joblib>=0.11 in /usr/local/lib/python3.7/dist-packages (from scikit-learn->sentence_transformers) (1.1.0)\n",
            "Requirement already satisfied: pillow!=8.3.*,>=5.3.0 in /usr/local/lib/python3.7/dist-packages (from torchvision->sentence_transformers) (7.1.2)\n",
            "Building wheels for collected packages: sentence-transformers\n",
            "  Building wheel for sentence-transformers (setup.py) ... \u001b[?25l\u001b[?25hdone\n",
            "  Created wheel for sentence-transformers: filename=sentence_transformers-2.2.0-py3-none-any.whl size=120747 sha256=a1436c74b3ae0761676804d7dd228c582c361538bebd78b60d40081ff8a723e8\n",
            "  Stored in directory: /root/.cache/pip/wheels/83/c0/df/b6873ab7aac3f2465aa9144b6b4c41c4391cfecc027c8b07e7\n",
            "Successfully built sentence-transformers\n",
            "Installing collected packages: pyyaml, tokenizers, huggingface-hub, transformers, sentencepiece, sentence-transformers\n",
            "  Attempting uninstall: pyyaml\n",
            "    Found existing installation: PyYAML 3.13\n",
            "    Uninstalling PyYAML-3.13:\n",
            "      Successfully uninstalled PyYAML-3.13\n",
            "Successfully installed huggingface-hub-0.7.0 pyyaml-6.0 sentence-transformers-2.2.0 sentencepiece-0.1.96 tokenizers-0.12.1 transformers-4.19.2\n"
          ]
        }
      ]
    },
    {
      "cell_type": "code",
      "source": [
        "!pip install underthesea"
      ],
      "metadata": {
        "colab": {
          "base_uri": "https://localhost:8080/"
        },
        "id": "gkOm6W0V2QI9",
        "outputId": "299da420-cd0b-45da-94bd-669a95f9791a"
      },
      "execution_count": 40,
      "outputs": [
        {
          "output_type": "stream",
          "name": "stdout",
          "text": [
            "Looking in indexes: https://pypi.org/simple, https://us-python.pkg.dev/colab-wheels/public/simple/\n",
            "Collecting underthesea\n",
            "  Downloading underthesea-1.3.4-py3-none-any.whl (7.6 MB)\n",
            "\u001b[K     |████████████████████████████████| 7.6 MB 6.9 MB/s \n",
            "\u001b[?25hRequirement already satisfied: Click>=6.0 in /usr/local/lib/python3.7/dist-packages (from underthesea) (7.1.2)\n",
            "Requirement already satisfied: scikit-learn in /usr/local/lib/python3.7/dist-packages (from underthesea) (1.0.2)\n",
            "Requirement already satisfied: requests in /usr/local/lib/python3.7/dist-packages (from underthesea) (2.23.0)\n",
            "Collecting python-crfsuite>=0.9.6\n",
            "  Downloading python_crfsuite-0.9.8-cp37-cp37m-manylinux_2_17_x86_64.manylinux2014_x86_64.whl (965 kB)\n",
            "\u001b[K     |████████████████████████████████| 965 kB 59.6 MB/s \n",
            "\u001b[?25hRequirement already satisfied: tqdm in /usr/local/lib/python3.7/dist-packages (from underthesea) (4.64.0)\n",
            "Requirement already satisfied: nltk in /usr/local/lib/python3.7/dist-packages (from underthesea) (3.2.5)\n",
            "Collecting unidecode\n",
            "  Downloading Unidecode-1.3.4-py3-none-any.whl (235 kB)\n",
            "\u001b[K     |████████████████████████████████| 235 kB 70.7 MB/s \n",
            "\u001b[?25hRequirement already satisfied: PyYAML in /usr/local/lib/python3.7/dist-packages (from underthesea) (6.0)\n",
            "Collecting underthesea-core==0.0.4_alpha.10\n",
            "  Downloading underthesea_core-0.0.4_alpha.10-cp37-cp37m-manylinux2010_x86_64.whl (581 kB)\n",
            "\u001b[K     |████████████████████████████████| 581 kB 87.2 MB/s \n",
            "\u001b[?25hRequirement already satisfied: joblib in /usr/local/lib/python3.7/dist-packages (from underthesea) (1.1.0)\n",
            "Requirement already satisfied: six in /usr/local/lib/python3.7/dist-packages (from nltk->underthesea) (1.15.0)\n",
            "Requirement already satisfied: idna<3,>=2.5 in /usr/local/lib/python3.7/dist-packages (from requests->underthesea) (2.10)\n",
            "Requirement already satisfied: urllib3!=1.25.0,!=1.25.1,<1.26,>=1.21.1 in /usr/local/lib/python3.7/dist-packages (from requests->underthesea) (1.24.3)\n",
            "Requirement already satisfied: chardet<4,>=3.0.2 in /usr/local/lib/python3.7/dist-packages (from requests->underthesea) (3.0.4)\n",
            "Requirement already satisfied: certifi>=2017.4.17 in /usr/local/lib/python3.7/dist-packages (from requests->underthesea) (2022.5.18.1)\n",
            "Requirement already satisfied: numpy>=1.14.6 in /usr/local/lib/python3.7/dist-packages (from scikit-learn->underthesea) (1.21.6)\n",
            "Requirement already satisfied: threadpoolctl>=2.0.0 in /usr/local/lib/python3.7/dist-packages (from scikit-learn->underthesea) (3.1.0)\n",
            "Requirement already satisfied: scipy>=1.1.0 in /usr/local/lib/python3.7/dist-packages (from scikit-learn->underthesea) (1.4.1)\n",
            "Installing collected packages: unidecode, underthesea-core, python-crfsuite, underthesea\n",
            "Successfully installed python-crfsuite-0.9.8 underthesea-1.3.4 underthesea-core-0.0.4a10 unidecode-1.3.4\n"
          ]
        }
      ]
    },
    {
      "cell_type": "code",
      "source": [
        "import numpy as np\n",
        "import json\n",
        "import torch\n",
        "from tqdm import tqdm\n",
        "from rank_bm25 import *\n",
        "import argparse\n",
        "import os\n",
        "import pickle\n",
        "import glob\n",
        "from sentence_transformers import SentenceTransformer, util"
      ],
      "metadata": {
        "id": "4l5FnHpitlQM"
      },
      "execution_count": 18,
      "outputs": []
    },
    {
      "cell_type": "code",
      "source": [
        "def encode_legal_data(legal_dict_json, models):\n",
        "    # print(legal_dict_json)\n",
        "    doc_data = json.load(open(legal_dict_json))\n",
        "    # print(len(doc_data))\n",
        "    list_emb_models = []\n",
        "    for model in models:\n",
        "        emb2_list = []\n",
        "        for k, doc in tqdm(doc_data.items()):\n",
        "            emb2 = model.encode(doc_data[k][\"title\"] + \" \" + doc_data[k][\"text\"])\n",
        "            emb2_list.append(emb2)\n",
        "        emb2_arr = np.array(emb2_list)\n",
        "        list_emb_models.append(emb2_arr)\n",
        "    return list_emb_models"
      ],
      "metadata": {
        "id": "7wb2NcYBsm8V"
      },
      "execution_count": 1,
      "outputs": []
    },
    {
      "cell_type": "code",
      "source": [
        "def encode_question(question_data, models):\n",
        "    print(\"Start encoding questions.\")\n",
        "    question_embs = []\n",
        "    for model in models:\n",
        "        emb_quest_dict = {}\n",
        "        for _, item in tqdm(enumerate(question_data)):\n",
        "            question_id = item[\"question_id\"]\n",
        "            question = item[\"question\"]\n",
        "            emb_quest_dict[question_id] = model.encode(question)\n",
        "        question_embs.append(emb_quest_dict)\n",
        "    return question_embs"
      ],
      "metadata": {
        "id": "DLgt7OGcs1-W"
      },
      "execution_count": 2,
      "outputs": []
    },
    {
      "cell_type": "code",
      "source": [
        "def load_encoded_legal_corpus(legal_data_path):\n",
        "    print(\"Start loading legal corpus.\")\n",
        "    with open(legal_data_path, \"rb\") as f1:\n",
        "        emb_legal_data = pickle.load(f1)\n",
        "    return emb_legal_data"
      ],
      "metadata": {
        "id": "f8kpYSXKs4Zt"
      },
      "execution_count": 3,
      "outputs": []
    },
    {
      "cell_type": "code",
      "source": [
        "def load_bm25(bm25_path):\n",
        "    with open(bm25_path, \"rb\") as bm_file:\n",
        "        bm25 = pickle.load(bm_file)\n",
        "    return bm25"
      ],
      "metadata": {
        "id": "R4-kV6kUs5t3"
      },
      "execution_count": 4,
      "outputs": []
    },
    {
      "cell_type": "code",
      "source": [
        "def load_models(root, model_names):\n",
        "    models = []\n",
        "    for model_path in tqdm(model_names):\n",
        "        model_path = os.path.join(dest_path, model_path)\n",
        "        models.append(SentenceTransformer(model_path))\n",
        "    return models"
      ],
      "metadata": {
        "id": "cUi4Nr3ds64s"
      },
      "execution_count": 14,
      "outputs": []
    },
    {
      "cell_type": "code",
      "source": [
        "def load_question_json(question_path):\n",
        "    question_path = glob.glob(f\"{question_path}/*.json\")[0]\n",
        "    question_data = json.load(open(question_path))\n",
        "    return question_data"
      ],
      "metadata": {
        "id": "TlljXur9s8Bs"
      },
      "execution_count": 6,
      "outputs": []
    },
    {
      "cell_type": "markdown",
      "source": [
        "## Load model\n"
      ],
      "metadata": {
        "id": "BNgCEUANtFe0"
      }
    },
    {
      "cell_type": "code",
      "source": [
        "print(\"Start loading model.\")\n",
        "dest_path = '/content/drive/MyDrive/Tài liệu học kỳ/Học kỳ 20222/Đồ án tốt nghiệp/Training Data'\n",
        "model_name = ['pho_bert_base_with_pair_top_50_constractive_loss']\n",
        "models = load_models(dest_path, model_name)\n",
        "print(\"Number of pretrained models: \", len(models))"
      ],
      "metadata": {
        "colab": {
          "base_uri": "https://localhost:8080/"
        },
        "id": "IFACwUEas9kk",
        "outputId": "d6aa5a33-d3d7-46af-b602-fd6d0a4016b3"
      },
      "execution_count": 22,
      "outputs": [
        {
          "output_type": "stream",
          "name": "stdout",
          "text": [
            "Start loading model.\n"
          ]
        },
        {
          "output_type": "stream",
          "name": "stderr",
          "text": [
            "100%|██████████| 1/1 [00:15<00:00, 15.57s/it]"
          ]
        },
        {
          "output_type": "stream",
          "name": "stdout",
          "text": [
            "Number of pretrained models:  1\n"
          ]
        },
        {
          "output_type": "stream",
          "name": "stderr",
          "text": [
            "\n"
          ]
        }
      ]
    },
    {
      "cell_type": "code",
      "source": [
        "# load question from json file\n",
        "dest_path = '/content/drive/MyDrive/Tài liệu học kỳ/Học kỳ 20222/Đồ án tốt nghiệp/Training Data'\n",
        "questions_train_path = os.path.join(dest_path, \"questions_train.json\")\n",
        "with open(questions_train_path) as json_file:\n",
        "    questions_train = json.load(json_file)"
      ],
      "metadata": {
        "id": "5jFEysLOta2m"
      },
      "execution_count": 23,
      "outputs": []
    },
    {
      "cell_type": "code",
      "source": [
        "# load question from json file\n",
        "dest_path = '/content/drive/MyDrive/Tài liệu học kỳ/Học kỳ 20222/Đồ án tốt nghiệp/Training Data'\n",
        "questions_test_path = os.path.join(dest_path, \"questions_test.json\")\n",
        "with open(questions_test_path) as json_file:\n",
        "    questions_test = json.load(json_file)"
      ],
      "metadata": {
        "id": "tl9NYXnz8MiE"
      },
      "execution_count": 62,
      "outputs": []
    },
    {
      "cell_type": "code",
      "source": [
        "print(\"Number of questions: \", len(questions_train))"
      ],
      "metadata": {
        "colab": {
          "base_uri": "https://localhost:8080/"
        },
        "id": "bsbgIxynu3Ez",
        "outputId": "7b351468-5e3f-4797-a6e0-c8c3bad769ed"
      },
      "execution_count": 24,
      "outputs": [
        {
          "output_type": "stream",
          "name": "stdout",
          "text": [
            "Number of questions:  2716\n"
          ]
        }
      ]
    },
    {
      "cell_type": "code",
      "source": [
        "# load bm25 model \n",
        "model_path = '/content/drive/MyDrive/Tài liệu học kỳ/Học kỳ 20222/Đồ án tốt nghiệp/Model'\n",
        "with open(os.path.join(model_path, \"bm25_Plus_with_tokenizer_stopword_manual\"), \"rb\") as bm_file:\n",
        "    bm25 = pickle.load(bm_file)"
      ],
      "metadata": {
        "id": "0X6Xc1Yiu87a"
      },
      "execution_count": 26,
      "outputs": []
    },
    {
      "cell_type": "code",
      "source": [
        "# load corpus to search\n",
        "print(\"Load legal data.\")\n",
        "with open(os.path.join(dest_path,\"doc_refers_saved\"), \"rb\") as doc_refer_file:\n",
        "    doc_refers = pickle.load(doc_refer_file)"
      ],
      "metadata": {
        "colab": {
          "base_uri": "https://localhost:8080/"
        },
        "id": "P9dYUWNFvOt5",
        "outputId": "05afce6c-60c2-4992-cc69-eeab9c19f000"
      },
      "execution_count": 27,
      "outputs": [
        {
          "output_type": "stream",
          "name": "stdout",
          "text": [
            "Load legal data.\n"
          ]
        }
      ]
    },
    {
      "cell_type": "code",
      "source": [
        "# load pre encoded for legal corpus\n",
        "if 1:\n",
        "    emb_legal_data = encode_legal_data(dest_path + \"/legal_dict.json\", models)\n",
        "else:\n",
        "    emb_legal_data = load_encoded_legal_corpus('encoded_legal_data.pkl')"
      ],
      "metadata": {
        "colab": {
          "base_uri": "https://localhost:8080/"
        },
        "id": "wXd4AKBnv3tp",
        "outputId": "4152753c-d8a7-4215-c1cd-837c10c10bc4"
      },
      "execution_count": 29,
      "outputs": [
        {
          "output_type": "stream",
          "name": "stderr",
          "text": [
            "100%|██████████| 61425/61425 [14:11<00:00, 72.14it/s]\n"
          ]
        }
      ]
    },
    {
      "cell_type": "code",
      "source": [
        "type(emb_legal_data)"
      ],
      "metadata": {
        "colab": {
          "base_uri": "https://localhost:8080/"
        },
        "id": "Hyb0yeXV0CHC",
        "outputId": "bec18d7c-3551-4ba2-ef56-b7d8321bffa1"
      },
      "execution_count": 30,
      "outputs": [
        {
          "output_type": "execute_result",
          "data": {
            "text/plain": [
              "list"
            ]
          },
          "metadata": {},
          "execution_count": 30
        }
      ]
    },
    {
      "cell_type": "code",
      "source": [
        "with open(os.path.join(dest_path,\"encoded_legal_data.pkl\"),'wb') as f:\n",
        "  pickle.dump(emb_legal_data, f)\n",
        " "
      ],
      "metadata": {
        "id": "3gEsewJg03Qq"
      },
      "execution_count": 34,
      "outputs": []
    },
    {
      "cell_type": "code",
      "source": [
        "# encode question for query\n",
        "question_embs = encode_question(questions_train, models)"
      ],
      "metadata": {
        "colab": {
          "base_uri": "https://localhost:8080/"
        },
        "id": "1NJ41z6swl6Y",
        "outputId": "5a4a3fb8-1d22-4beb-fdf5-60dabe485957"
      },
      "execution_count": 35,
      "outputs": [
        {
          "output_type": "stream",
          "name": "stdout",
          "text": [
            "Start encoding questions.\n"
          ]
        },
        {
          "output_type": "stream",
          "name": "stderr",
          "text": [
            "2716it [00:26, 101.62it/s]\n"
          ]
        }
      ]
    },
    {
      "cell_type": "code",
      "source": [
        "question_embs_test = encode_question(questions_test, models)"
      ],
      "metadata": {
        "colab": {
          "base_uri": "https://localhost:8080/"
        },
        "id": "xlaWgRPW8I-e",
        "outputId": "a679c1f9-ccb5-4927-e24c-9ad9c3747a79"
      },
      "execution_count": 63,
      "outputs": [
        {
          "output_type": "stream",
          "name": "stdout",
          "text": [
            "Start encoding questions.\n"
          ]
        },
        {
          "output_type": "stream",
          "name": "stderr",
          "text": [
            "480it [00:05, 92.34it/s] \n"
          ]
        }
      ]
    },
    {
      "cell_type": "code",
      "source": [
        "# define top n for compare and range of score\n",
        "top_n = 61425\n",
        "range_score = 2.6\n"
      ],
      "metadata": {
        "id": "sjQlsMbEy4qs"
      },
      "execution_count": 36,
      "outputs": []
    },
    {
      "cell_type": "code",
      "source": [
        "# Tiến xử lý văn bản\n",
        "from underthesea import word_tokenize\n",
        "import string\n",
        "def remove_stopword(w):\n",
        "    stop_word = [\"1\", \"2\", \"3\", \"4\", \"5\", \"6\", \"7\", \"8\", \"9\", \"10\" ,\n",
        "            \"của\", \"và\", \"các\", \"có\", \"được\", \"theo\", \"tại\", \"trong\", \"về\", \n",
        "            \"hoặc\", \"người\",  \"này\", \"khoản\", \"cho\", \"không\", \"từ\", \"phải\", \n",
        "            \"ngày\", \"việc\", \"sau\",  \"để\",  \"đến\", \"bộ\",  \"với\", \"là\", \"năm\", \n",
        "            \"khi\", \"số\", \"trên\", \"khác\", \"đã\", \"thì\", \"thuộc\", \"điểm\", \"đồng\",\n",
        "            \"do\", \"một\", \"bị\", \"vào\", \"lại\", \"ở\", \"nếu\", \"làm\", \"đây\", \n",
        "            \"như\", \"đó\", \"mà\", \"nơi\", \"”\", \"“\"]\n",
        "    return w not in stop_word\n",
        "\n",
        "def remove_punctuation(w):\n",
        "    return w not in string.punctuation\n",
        "\n",
        "def lower_case(w):\n",
        "    return w.lower()\n",
        "# BM25 Tokenizer\n",
        "def bm25_tokenizer(text):\n",
        "    tokens = word_tokenize(text)\n",
        "    tokens = list(map(lower_case, tokens))\n",
        "    tokens = list(filter(remove_punctuation, tokens))\n",
        "    tokens = list(filter(remove_stopword, tokens))\n",
        "    return tokens"
      ],
      "metadata": {
        "id": "ndDBaqdpzRKc"
      },
      "execution_count": 43,
      "outputs": []
    },
    {
      "cell_type": "code",
      "source": [
        ""
      ],
      "metadata": {
        "id": "Nky6SZsl8ALR"
      },
      "execution_count": null,
      "outputs": []
    },
    {
      "cell_type": "code",
      "source": [
        "pred_list = []\n",
        "\n",
        "print(\"Start calculating results.\")\n",
        "for idx, item in tqdm(enumerate(questions_train)):\n",
        "    question_id = item[\"question_id\"]\n",
        "    question = item[\"question\"]\n",
        "\n",
        "    tokenized_query = bm25_tokenizer(question)\n",
        "    doc_scores = bm25.get_scores(tokenized_query)\n",
        "\n",
        "    weighted = [1] \n",
        "    cos_sim = []\n",
        "\n",
        "    for idx_2, model in enumerate(models):\n",
        "        emb1 = question_embs[idx_2][question_id]\n",
        "        emb2 = emb_legal_data[idx_2]\n",
        "        scores = util.cos_sim(emb1, emb2)\n",
        "        cos_sim.append(weighted[idx_2] * scores)\n",
        "    cos_sim = torch.cat(cos_sim, dim=0)\n",
        "\n",
        "    cos_sim = torch.sum(cos_sim, dim=0).squeeze(0).numpy()\n",
        "    new_scores = doc_scores * cos_sim\n",
        "    max_score = np.max(new_scores)\n",
        "\n",
        "    predictions = np.argpartition(new_scores, len(new_scores) - top_n)[-top_n:]\n",
        "    new_scores = new_scores[predictions]\n",
        "\n",
        "    new_predictions = np.where(new_scores >= (max_score - range_score))[0]\n",
        "    map_ids = predictions[new_predictions]\n",
        "    new_scores = new_scores[new_scores >= (max_score - range_score)]\n",
        "\n",
        "    if new_scores.shape[0] > 5:\n",
        "        predictions_2 = np.argpartition(new_scores, len(new_scores) - 5)[-5:]\n",
        "        map_ids = map_ids[predictions_2]\n",
        "        \n",
        "    pred_dict = {}\n",
        "    pred_dict[\"question_id\"] = question_id\n",
        "    pred_dict[\"relevant_articles\"] = []\n",
        "\n",
        "    # post processing character error\n",
        "    dup_ans = []\n",
        "    for idx, idx_pred in enumerate(map_ids):\n",
        "        pred = doc_refers[idx_pred]\n",
        "        law_id = pred[0]\n",
        "        article_id = pred[1]\n",
        "        \n",
        "        if law_id.endswith(\"nd-cp\"):\n",
        "            law_id = law_id.replace(\"nd-cp\", \"nđ-cp\")\n",
        "        if law_id.endswith(\"nđ-\"):\n",
        "            law_id = law_id.replace(\"nđ-\", \"nđ-cp\")\n",
        "        if law_id.endswith(\"nð-cp\"):\n",
        "            law_id = law_id.replace(\"nð-cp\", \"nđ-cp\")\n",
        "        if law_id == \"09/2014/ttlt-btp-tandtc-vksndtc\":\n",
        "            law_id = \"09/2014/ttlt-btp-tandtc-vksndtc-btc\"\n",
        "        if law_id + \"_\" + article_id not in dup_ans:\n",
        "            dup_ans.append(law_id + \"_\" + article_id)\n",
        "            pred_dict[\"relevant_articles\"].append({\"law_id\": law_id, \"article_id\": article_id})\n",
        "    pred_list.append(pred_dict)"
      ],
      "metadata": {
        "colab": {
          "base_uri": "https://localhost:8080/"
        },
        "id": "awrM2XZNzAq7",
        "outputId": "fef8f446-50d6-40f8-fce0-f7470a0e6e52"
      },
      "execution_count": 44,
      "outputs": [
        {
          "output_type": "stream",
          "name": "stdout",
          "text": [
            "Start calculating results.\n"
          ]
        },
        {
          "output_type": "stream",
          "name": "stderr",
          "text": [
            "2716it [15:18,  2.96it/s]\n"
          ]
        }
      ]
    },
    {
      "cell_type": "code",
      "source": [
        "# extract result\n",
        "with open(os.path.join(dest_path,\"submission_question_train.json\"), 'w') as outfile:\n",
        "    json.dump(pred_list, outfile)"
      ],
      "metadata": {
        "id": "E9WlzqtZznlU"
      },
      "execution_count": 46,
      "outputs": []
    },
    {
      "cell_type": "code",
      "source": [
        "print(pred_list[0])"
      ],
      "metadata": {
        "colab": {
          "base_uri": "https://localhost:8080/"
        },
        "id": "uV6EF5v06Nu1",
        "outputId": "d54ce2d2-3587-4de0-f593-5aa9b0241a37"
      },
      "execution_count": 51,
      "outputs": [
        {
          "output_type": "stream",
          "name": "stdout",
          "text": [
            "{'question_id': '0637bf82c8b290c7875c5bfddbf91df5', 'relevant_articles': [{'law_id': '100/2019/nđ-cp', 'article_id': '37'}, {'law_id': '100/2019/nđ-cp', 'article_id': '82'}, {'law_id': '12/2010/tt-bca', 'article_id': '17'}, {'law_id': '47/2011/tt-bca', 'article_id': '7'}]}\n"
          ]
        }
      ]
    },
    {
      "cell_type": "code",
      "source": [
        "questions_train[0]"
      ],
      "metadata": {
        "colab": {
          "base_uri": "https://localhost:8080/"
        },
        "id": "w71EoO-j6XCs",
        "outputId": "f31b3085-12c1-45de-d57b-43ec8a1b159c"
      },
      "execution_count": 50,
      "outputs": [
        {
          "output_type": "execute_result",
          "data": {
            "text/plain": [
              "{'question': 'Công an xã xử phạt lỗi không mang bằng lái xe có đúng không?',\n",
              " 'question_id': '0637bf82c8b290c7875c5bfddbf91df5',\n",
              " 'relevant_articles': [{'article_id': '7', 'law_id': '47/2011/tt-bca'}]}"
            ]
          },
          "metadata": {},
          "execution_count": 50
        }
      ]
    },
    {
      "cell_type": "code",
      "source": [
        "# Chỉ số F2\n",
        "def calculate_f2(precision, recall):        \n",
        "    return (5 * precision * recall) / (4 * precision + recall + 1e-20)"
      ],
      "metadata": {
        "id": "ybSs8H5x7y-q"
      },
      "execution_count": 58,
      "outputs": []
    },
    {
      "cell_type": "code",
      "source": [
        "true_positive = 0\n",
        "false_positive = 0\n",
        "actual_positive = len(questions_train)\n",
        "for idx, predict in enumerate(pred_list):\n",
        "    pred = predict['relevant_articles'][0]\n",
        "    relevant_articles = questions_train[idx]['relevant_articles']\n",
        "    # Remove prediction with too low score: 20\n",
        "    # if doc_scores[idx_pred] >= 20:\n",
        "    for article in relevant_articles:\n",
        "        if pred[\"law_id\"] == article[\"law_id\"] and pred[\"article_id\"] == article[\"article_id\"]:\n",
        "            true_positive += 1\n",
        "        else:\n",
        "            false_positive += 1\n",
        "precision = true_positive/(true_positive + false_positive + 1e-20)\n",
        "recall = true_positive/actual_positive\n",
        "f2 = calculate_f2(precision, recall)"
      ],
      "metadata": {
        "id": "ezdjrG3xz3ID"
      },
      "execution_count": 60,
      "outputs": []
    },
    {
      "cell_type": "code",
      "source": [
        "print(precision)\n",
        "print(recall)\n",
        "print(f2)"
      ],
      "metadata": {
        "colab": {
          "base_uri": "https://localhost:8080/"
        },
        "id": "hyH6BqpA1DRK",
        "outputId": "714eeef5-4826-42fe-b9b4-8bca2ad4c3c8"
      },
      "execution_count": 61,
      "outputs": [
        {
          "output_type": "stream",
          "name": "stdout",
          "text": [
            "0.8332145402708482\n",
            "0.8608247422680413\n",
            "0.8551572787125092\n"
          ]
        }
      ]
    },
    {
      "cell_type": "code",
      "source": [
        "pred_list = []\n",
        "\n",
        "print(\"Start calculating results.\")\n",
        "for idx, item in tqdm(enumerate(questions_test)):\n",
        "    question_id = item[\"question_id\"]\n",
        "    question = item[\"question\"]\n",
        "\n",
        "    tokenized_query = bm25_tokenizer(question)\n",
        "    doc_scores = bm25.get_scores(tokenized_query)\n",
        "\n",
        "    weighted = [1] \n",
        "    cos_sim = []\n",
        "\n",
        "    for idx_2, model in enumerate(models):\n",
        "        emb1 = question_embs_test[idx_2][question_id]\n",
        "        emb2 = emb_legal_data[idx_2]\n",
        "        scores = util.cos_sim(emb1, emb2)\n",
        "        cos_sim.append(weighted[idx_2] * scores)\n",
        "    cos_sim = torch.cat(cos_sim, dim=0)\n",
        "\n",
        "    cos_sim = torch.sum(cos_sim, dim=0).squeeze(0).numpy()\n",
        "    new_scores = doc_scores * cos_sim\n",
        "    max_score = np.max(new_scores)\n",
        "\n",
        "    predictions = np.argpartition(new_scores, len(new_scores) - top_n)[-top_n:]\n",
        "    new_scores = new_scores[predictions]\n",
        "\n",
        "    new_predictions = np.where(new_scores >= (max_score - range_score))[0]\n",
        "    map_ids = predictions[new_predictions]\n",
        "    new_scores = new_scores[new_scores >= (max_score - range_score)]\n",
        "\n",
        "    if new_scores.shape[0] > 5:\n",
        "        predictions_2 = np.argpartition(new_scores, len(new_scores) - 5)[-5:]\n",
        "        map_ids = map_ids[predictions_2]\n",
        "        \n",
        "    pred_dict = {}\n",
        "    pred_dict[\"question_id\"] = question_id\n",
        "    pred_dict[\"relevant_articles\"] = []\n",
        "\n",
        "    # post processing character error\n",
        "    dup_ans = []\n",
        "    for idx, idx_pred in enumerate(map_ids):\n",
        "        pred = doc_refers[idx_pred]\n",
        "        law_id = pred[0]\n",
        "        article_id = pred[1]\n",
        "        \n",
        "        if law_id.endswith(\"nd-cp\"):\n",
        "            law_id = law_id.replace(\"nd-cp\", \"nđ-cp\")\n",
        "        if law_id.endswith(\"nđ-\"):\n",
        "            law_id = law_id.replace(\"nđ-\", \"nđ-cp\")\n",
        "        if law_id.endswith(\"nð-cp\"):\n",
        "            law_id = law_id.replace(\"nð-cp\", \"nđ-cp\")\n",
        "        if law_id == \"09/2014/ttlt-btp-tandtc-vksndtc\":\n",
        "            law_id = \"09/2014/ttlt-btp-tandtc-vksndtc-btc\"\n",
        "        if law_id + \"_\" + article_id not in dup_ans:\n",
        "            dup_ans.append(law_id + \"_\" + article_id)\n",
        "            pred_dict[\"relevant_articles\"].append({\"law_id\": law_id, \"article_id\": article_id})\n",
        "    pred_list.append(pred_dict)"
      ],
      "metadata": {
        "colab": {
          "base_uri": "https://localhost:8080/"
        },
        "id": "9P5L6lWc77UK",
        "outputId": "4c09c3a1-2efa-4c5e-cfbf-337e36bb37be"
      },
      "execution_count": 64,
      "outputs": [
        {
          "output_type": "stream",
          "name": "stdout",
          "text": [
            "Start calculating results.\n"
          ]
        },
        {
          "output_type": "stream",
          "name": "stderr",
          "text": [
            "480it [02:42,  2.95it/s]\n"
          ]
        }
      ]
    },
    {
      "cell_type": "code",
      "source": [
        "true_positive = 0\n",
        "false_positive = 0\n",
        "actual_positive = len(questions_test)\n",
        "for idx, predict in enumerate(pred_list):\n",
        "    pred = predict['relevant_articles'][0]\n",
        "    relevant_articles = questions_test[idx]['relevant_articles']\n",
        "    # Remove prediction with too low score: 20\n",
        "    # if doc_scores[idx_pred] >= 20:\n",
        "    for article in relevant_articles:\n",
        "        if pred[\"law_id\"] == article[\"law_id\"] and pred[\"article_id\"] == article[\"article_id\"]:\n",
        "            true_positive += 1\n",
        "        else:\n",
        "            false_positive += 1\n",
        "precision_test = true_positive/(true_positive + false_positive + 1e-20)\n",
        "recall_test = true_positive/actual_positive\n",
        "f2_test = calculate_f2(precision_test, recall_test)"
      ],
      "metadata": {
        "id": "Wkrbi6mk-pYQ"
      },
      "execution_count": 70,
      "outputs": []
    },
    {
      "cell_type": "code",
      "source": [
        "print(precision_test)\n",
        "print(recall_test)\n",
        "print(f2_test)"
      ],
      "metadata": {
        "colab": {
          "base_uri": "https://localhost:8080/"
        },
        "id": "6fotvHkZ8c14",
        "outputId": "7605cd73-4c64-4a12-d9bc-9ca33d9e9f95"
      },
      "execution_count": 71,
      "outputs": [
        {
          "output_type": "stream",
          "name": "stdout",
          "text": [
            "0.6382113821138211\n",
            "0.6541666666666667\n",
            "0.6509121061359867\n"
          ]
        }
      ]
    },
    {
      "cell_type": "code",
      "source": [
        ""
      ],
      "metadata": {
        "id": "8s0LpHID8lva"
      },
      "execution_count": null,
      "outputs": []
    }
  ],
  "metadata": {
    "colab": {
      "collapsed_sections": [],
      "name": "preprocess.ipynb",
      "provenance": [],
      "machine_shape": "hm",
      "toc_visible": true
    },
    "kernelspec": {
      "display_name": "Python 3",
      "name": "python3"
    },
    "language_info": {
      "name": "python"
    },
    "widgets": {
      "application/vnd.jupyter.widget-state+json": {
        "034b8a6f790a4710a22c86ae9343b950": {
          "model_module": "@jupyter-widgets/base",
          "model_module_version": "1.2.0",
          "model_name": "LayoutModel",
          "state": {
            "_model_module": "@jupyter-widgets/base",
            "_model_module_version": "1.2.0",
            "_model_name": "LayoutModel",
            "_view_count": null,
            "_view_module": "@jupyter-widgets/base",
            "_view_module_version": "1.2.0",
            "_view_name": "LayoutView",
            "align_content": null,
            "align_items": null,
            "align_self": null,
            "border": null,
            "bottom": null,
            "display": null,
            "flex": null,
            "flex_flow": null,
            "grid_area": null,
            "grid_auto_columns": null,
            "grid_auto_flow": null,
            "grid_auto_rows": null,
            "grid_column": null,
            "grid_gap": null,
            "grid_row": null,
            "grid_template_areas": null,
            "grid_template_columns": null,
            "grid_template_rows": null,
            "height": null,
            "justify_content": null,
            "justify_items": null,
            "left": null,
            "margin": null,
            "max_height": null,
            "max_width": null,
            "min_height": null,
            "min_width": null,
            "object_fit": null,
            "object_position": null,
            "order": null,
            "overflow": null,
            "overflow_x": null,
            "overflow_y": null,
            "padding": null,
            "right": null,
            "top": null,
            "visibility": null,
            "width": null
          }
        },
        "03dd88595b2f496cb4ad039294942525": {
          "model_module": "@jupyter-widgets/controls",
          "model_module_version": "1.5.0",
          "model_name": "DescriptionStyleModel",
          "state": {
            "_model_module": "@jupyter-widgets/controls",
            "_model_module_version": "1.5.0",
            "_model_name": "DescriptionStyleModel",
            "_view_count": null,
            "_view_module": "@jupyter-widgets/base",
            "_view_module_version": "1.2.0",
            "_view_name": "StyleView",
            "description_width": ""
          }
        },
        "0508828316614dd09eb0711593a0d531": {
          "model_module": "@jupyter-widgets/base",
          "model_module_version": "1.2.0",
          "model_name": "LayoutModel",
          "state": {
            "_model_module": "@jupyter-widgets/base",
            "_model_module_version": "1.2.0",
            "_model_name": "LayoutModel",
            "_view_count": null,
            "_view_module": "@jupyter-widgets/base",
            "_view_module_version": "1.2.0",
            "_view_name": "LayoutView",
            "align_content": null,
            "align_items": null,
            "align_self": null,
            "border": null,
            "bottom": null,
            "display": null,
            "flex": null,
            "flex_flow": null,
            "grid_area": null,
            "grid_auto_columns": null,
            "grid_auto_flow": null,
            "grid_auto_rows": null,
            "grid_column": null,
            "grid_gap": null,
            "grid_row": null,
            "grid_template_areas": null,
            "grid_template_columns": null,
            "grid_template_rows": null,
            "height": null,
            "justify_content": null,
            "justify_items": null,
            "left": null,
            "margin": null,
            "max_height": null,
            "max_width": null,
            "min_height": null,
            "min_width": null,
            "object_fit": null,
            "object_position": null,
            "order": null,
            "overflow": null,
            "overflow_x": null,
            "overflow_y": null,
            "padding": null,
            "right": null,
            "top": null,
            "visibility": null,
            "width": null
          }
        },
        "0650b8f4b1484338939011ea8238fcba": {
          "model_module": "@jupyter-widgets/base",
          "model_module_version": "1.2.0",
          "model_name": "LayoutModel",
          "state": {
            "_model_module": "@jupyter-widgets/base",
            "_model_module_version": "1.2.0",
            "_model_name": "LayoutModel",
            "_view_count": null,
            "_view_module": "@jupyter-widgets/base",
            "_view_module_version": "1.2.0",
            "_view_name": "LayoutView",
            "align_content": null,
            "align_items": null,
            "align_self": null,
            "border": null,
            "bottom": null,
            "display": null,
            "flex": null,
            "flex_flow": null,
            "grid_area": null,
            "grid_auto_columns": null,
            "grid_auto_flow": null,
            "grid_auto_rows": null,
            "grid_column": null,
            "grid_gap": null,
            "grid_row": null,
            "grid_template_areas": null,
            "grid_template_columns": null,
            "grid_template_rows": null,
            "height": null,
            "justify_content": null,
            "justify_items": null,
            "left": null,
            "margin": null,
            "max_height": null,
            "max_width": null,
            "min_height": null,
            "min_width": null,
            "object_fit": null,
            "object_position": null,
            "order": null,
            "overflow": null,
            "overflow_x": null,
            "overflow_y": null,
            "padding": null,
            "right": null,
            "top": null,
            "visibility": null,
            "width": null
          }
        },
        "0679d5d7e28f4629a275814e5fe7ce11": {
          "model_module": "@jupyter-widgets/controls",
          "model_module_version": "1.5.0",
          "model_name": "HBoxModel",
          "state": {
            "_dom_classes": [],
            "_model_module": "@jupyter-widgets/controls",
            "_model_module_version": "1.5.0",
            "_model_name": "HBoxModel",
            "_view_count": null,
            "_view_module": "@jupyter-widgets/controls",
            "_view_module_version": "1.5.0",
            "_view_name": "HBoxView",
            "box_style": "",
            "children": [
              "IPY_MODEL_d5f9b932a74048838d8d551536eac5ec",
              "IPY_MODEL_14ca63e16469436b93679daf7908cfbc",
              "IPY_MODEL_2e9312262e344bf7b09a85440e2707c9"
            ],
            "layout": "IPY_MODEL_4ff2abd81fab4df29e17f28082cf0c9c"
          }
        },
        "068f0e5144874378ab537bb3fa04d27f": {
          "model_module": "@jupyter-widgets/controls",
          "model_module_version": "1.5.0",
          "model_name": "DescriptionStyleModel",
          "state": {
            "_model_module": "@jupyter-widgets/controls",
            "_model_module_version": "1.5.0",
            "_model_name": "DescriptionStyleModel",
            "_view_count": null,
            "_view_module": "@jupyter-widgets/base",
            "_view_module_version": "1.2.0",
            "_view_name": "StyleView",
            "description_width": ""
          }
        },
        "06d20d609e0641a385849741dba7f4fd": {
          "model_module": "@jupyter-widgets/base",
          "model_module_version": "1.2.0",
          "model_name": "LayoutModel",
          "state": {
            "_model_module": "@jupyter-widgets/base",
            "_model_module_version": "1.2.0",
            "_model_name": "LayoutModel",
            "_view_count": null,
            "_view_module": "@jupyter-widgets/base",
            "_view_module_version": "1.2.0",
            "_view_name": "LayoutView",
            "align_content": null,
            "align_items": null,
            "align_self": null,
            "border": null,
            "bottom": null,
            "display": null,
            "flex": null,
            "flex_flow": null,
            "grid_area": null,
            "grid_auto_columns": null,
            "grid_auto_flow": null,
            "grid_auto_rows": null,
            "grid_column": null,
            "grid_gap": null,
            "grid_row": null,
            "grid_template_areas": null,
            "grid_template_columns": null,
            "grid_template_rows": null,
            "height": null,
            "justify_content": null,
            "justify_items": null,
            "left": null,
            "margin": null,
            "max_height": null,
            "max_width": null,
            "min_height": null,
            "min_width": null,
            "object_fit": null,
            "object_position": null,
            "order": null,
            "overflow": null,
            "overflow_x": null,
            "overflow_y": null,
            "padding": null,
            "right": null,
            "top": null,
            "visibility": null,
            "width": null
          }
        },
        "071ecbcadb3d462f81a44a9c238c4a0e": {
          "model_module": "@jupyter-widgets/controls",
          "model_module_version": "1.5.0",
          "model_name": "HTMLModel",
          "state": {
            "_dom_classes": [],
            "_model_module": "@jupyter-widgets/controls",
            "_model_module_version": "1.5.0",
            "_model_name": "HTMLModel",
            "_view_count": null,
            "_view_module": "@jupyter-widgets/controls",
            "_view_module_version": "1.5.0",
            "_view_name": "HTMLView",
            "description": "",
            "description_tooltip": null,
            "layout": "IPY_MODEL_2bef942a20fe4e978bc7b1b3f09d6f90",
            "placeholder": "​",
            "style": "IPY_MODEL_9379e29031e8474288a5629250e58193",
            "value": "Downloading: 100%"
          }
        },
        "0785cedc05bc4786bd9002a0ac060404": {
          "model_module": "@jupyter-widgets/base",
          "model_module_version": "1.2.0",
          "model_name": "LayoutModel",
          "state": {
            "_model_module": "@jupyter-widgets/base",
            "_model_module_version": "1.2.0",
            "_model_name": "LayoutModel",
            "_view_count": null,
            "_view_module": "@jupyter-widgets/base",
            "_view_module_version": "1.2.0",
            "_view_name": "LayoutView",
            "align_content": null,
            "align_items": null,
            "align_self": null,
            "border": null,
            "bottom": null,
            "display": null,
            "flex": null,
            "flex_flow": null,
            "grid_area": null,
            "grid_auto_columns": null,
            "grid_auto_flow": null,
            "grid_auto_rows": null,
            "grid_column": null,
            "grid_gap": null,
            "grid_row": null,
            "grid_template_areas": null,
            "grid_template_columns": null,
            "grid_template_rows": null,
            "height": null,
            "justify_content": null,
            "justify_items": null,
            "left": null,
            "margin": null,
            "max_height": null,
            "max_width": null,
            "min_height": null,
            "min_width": null,
            "object_fit": null,
            "object_position": null,
            "order": null,
            "overflow": null,
            "overflow_x": null,
            "overflow_y": null,
            "padding": null,
            "right": null,
            "top": null,
            "visibility": null,
            "width": null
          }
        },
        "07ea1d2c46124156b346f748f561a15e": {
          "model_module": "@jupyter-widgets/controls",
          "model_module_version": "1.5.0",
          "model_name": "ProgressStyleModel",
          "state": {
            "_model_module": "@jupyter-widgets/controls",
            "_model_module_version": "1.5.0",
            "_model_name": "ProgressStyleModel",
            "_view_count": null,
            "_view_module": "@jupyter-widgets/base",
            "_view_module_version": "1.2.0",
            "_view_name": "StyleView",
            "bar_color": null,
            "description_width": ""
          }
        },
        "089270610f804990aa5244f0e3d4efb5": {
          "model_module": "@jupyter-widgets/base",
          "model_module_version": "1.2.0",
          "model_name": "LayoutModel",
          "state": {
            "_model_module": "@jupyter-widgets/base",
            "_model_module_version": "1.2.0",
            "_model_name": "LayoutModel",
            "_view_count": null,
            "_view_module": "@jupyter-widgets/base",
            "_view_module_version": "1.2.0",
            "_view_name": "LayoutView",
            "align_content": null,
            "align_items": null,
            "align_self": null,
            "border": null,
            "bottom": null,
            "display": null,
            "flex": null,
            "flex_flow": null,
            "grid_area": null,
            "grid_auto_columns": null,
            "grid_auto_flow": null,
            "grid_auto_rows": null,
            "grid_column": null,
            "grid_gap": null,
            "grid_row": null,
            "grid_template_areas": null,
            "grid_template_columns": null,
            "grid_template_rows": null,
            "height": null,
            "justify_content": null,
            "justify_items": null,
            "left": null,
            "margin": null,
            "max_height": null,
            "max_width": null,
            "min_height": null,
            "min_width": null,
            "object_fit": null,
            "object_position": null,
            "order": null,
            "overflow": null,
            "overflow_x": null,
            "overflow_y": null,
            "padding": null,
            "right": null,
            "top": null,
            "visibility": null,
            "width": null
          }
        },
        "0a86c6a22372494fb4f8b5e18376e35b": {
          "model_module": "@jupyter-widgets/controls",
          "model_module_version": "1.5.0",
          "model_name": "ProgressStyleModel",
          "state": {
            "_model_module": "@jupyter-widgets/controls",
            "_model_module_version": "1.5.0",
            "_model_name": "ProgressStyleModel",
            "_view_count": null,
            "_view_module": "@jupyter-widgets/base",
            "_view_module_version": "1.2.0",
            "_view_name": "StyleView",
            "bar_color": null,
            "description_width": ""
          }
        },
        "0b799aae39f64f4da9a53a9ae63bede3": {
          "model_module": "@jupyter-widgets/controls",
          "model_module_version": "1.5.0",
          "model_name": "DescriptionStyleModel",
          "state": {
            "_model_module": "@jupyter-widgets/controls",
            "_model_module_version": "1.5.0",
            "_model_name": "DescriptionStyleModel",
            "_view_count": null,
            "_view_module": "@jupyter-widgets/base",
            "_view_module_version": "1.2.0",
            "_view_name": "StyleView",
            "description_width": ""
          }
        },
        "0be6bc3b16e84a3cb3e9790260b9dfdb": {
          "model_module": "@jupyter-widgets/base",
          "model_module_version": "1.2.0",
          "model_name": "LayoutModel",
          "state": {
            "_model_module": "@jupyter-widgets/base",
            "_model_module_version": "1.2.0",
            "_model_name": "LayoutModel",
            "_view_count": null,
            "_view_module": "@jupyter-widgets/base",
            "_view_module_version": "1.2.0",
            "_view_name": "LayoutView",
            "align_content": null,
            "align_items": null,
            "align_self": null,
            "border": null,
            "bottom": null,
            "display": null,
            "flex": null,
            "flex_flow": null,
            "grid_area": null,
            "grid_auto_columns": null,
            "grid_auto_flow": null,
            "grid_auto_rows": null,
            "grid_column": null,
            "grid_gap": null,
            "grid_row": null,
            "grid_template_areas": null,
            "grid_template_columns": null,
            "grid_template_rows": null,
            "height": null,
            "justify_content": null,
            "justify_items": null,
            "left": null,
            "margin": null,
            "max_height": null,
            "max_width": null,
            "min_height": null,
            "min_width": null,
            "object_fit": null,
            "object_position": null,
            "order": null,
            "overflow": null,
            "overflow_x": null,
            "overflow_y": null,
            "padding": null,
            "right": null,
            "top": null,
            "visibility": null,
            "width": null
          }
        },
        "0c25f846d7014daa876cd53dd0eb9b67": {
          "model_module": "@jupyter-widgets/base",
          "model_module_version": "1.2.0",
          "model_name": "LayoutModel",
          "state": {
            "_model_module": "@jupyter-widgets/base",
            "_model_module_version": "1.2.0",
            "_model_name": "LayoutModel",
            "_view_count": null,
            "_view_module": "@jupyter-widgets/base",
            "_view_module_version": "1.2.0",
            "_view_name": "LayoutView",
            "align_content": null,
            "align_items": null,
            "align_self": null,
            "border": null,
            "bottom": null,
            "display": null,
            "flex": null,
            "flex_flow": null,
            "grid_area": null,
            "grid_auto_columns": null,
            "grid_auto_flow": null,
            "grid_auto_rows": null,
            "grid_column": null,
            "grid_gap": null,
            "grid_row": null,
            "grid_template_areas": null,
            "grid_template_columns": null,
            "grid_template_rows": null,
            "height": null,
            "justify_content": null,
            "justify_items": null,
            "left": null,
            "margin": null,
            "max_height": null,
            "max_width": null,
            "min_height": null,
            "min_width": null,
            "object_fit": null,
            "object_position": null,
            "order": null,
            "overflow": null,
            "overflow_x": null,
            "overflow_y": null,
            "padding": null,
            "right": null,
            "top": null,
            "visibility": null,
            "width": null
          }
        },
        "0f2d79d14baf419098f4857a93d0cdcc": {
          "model_module": "@jupyter-widgets/base",
          "model_module_version": "1.2.0",
          "model_name": "LayoutModel",
          "state": {
            "_model_module": "@jupyter-widgets/base",
            "_model_module_version": "1.2.0",
            "_model_name": "LayoutModel",
            "_view_count": null,
            "_view_module": "@jupyter-widgets/base",
            "_view_module_version": "1.2.0",
            "_view_name": "LayoutView",
            "align_content": null,
            "align_items": null,
            "align_self": null,
            "border": null,
            "bottom": null,
            "display": null,
            "flex": null,
            "flex_flow": null,
            "grid_area": null,
            "grid_auto_columns": null,
            "grid_auto_flow": null,
            "grid_auto_rows": null,
            "grid_column": null,
            "grid_gap": null,
            "grid_row": null,
            "grid_template_areas": null,
            "grid_template_columns": null,
            "grid_template_rows": null,
            "height": null,
            "justify_content": null,
            "justify_items": null,
            "left": null,
            "margin": null,
            "max_height": null,
            "max_width": null,
            "min_height": null,
            "min_width": null,
            "object_fit": null,
            "object_position": null,
            "order": null,
            "overflow": null,
            "overflow_x": null,
            "overflow_y": null,
            "padding": null,
            "right": null,
            "top": null,
            "visibility": null,
            "width": null
          }
        },
        "117a3c66cb304a29ab86ca03ad0da1fe": {
          "model_module": "@jupyter-widgets/controls",
          "model_module_version": "1.5.0",
          "model_name": "HTMLModel",
          "state": {
            "_dom_classes": [],
            "_model_module": "@jupyter-widgets/controls",
            "_model_module_version": "1.5.0",
            "_model_name": "HTMLModel",
            "_view_count": null,
            "_view_module": "@jupyter-widgets/controls",
            "_view_module_version": "1.5.0",
            "_view_name": "HTMLView",
            "description": "",
            "description_tooltip": null,
            "layout": "IPY_MODEL_b81ead8ba83541008b2518e8948c974d",
            "placeholder": "​",
            "style": "IPY_MODEL_600ac169c1844305ab2533f3d1fef657",
            "value": " 239/239 [00:00&lt;00:00, 5.85kB/s]"
          }
        },
        "1317ca6ee55d4a2da7e94cb53457b2cd": {
          "model_module": "@jupyter-widgets/base",
          "model_module_version": "1.2.0",
          "model_name": "LayoutModel",
          "state": {
            "_model_module": "@jupyter-widgets/base",
            "_model_module_version": "1.2.0",
            "_model_name": "LayoutModel",
            "_view_count": null,
            "_view_module": "@jupyter-widgets/base",
            "_view_module_version": "1.2.0",
            "_view_name": "LayoutView",
            "align_content": null,
            "align_items": null,
            "align_self": null,
            "border": null,
            "bottom": null,
            "display": null,
            "flex": null,
            "flex_flow": null,
            "grid_area": null,
            "grid_auto_columns": null,
            "grid_auto_flow": null,
            "grid_auto_rows": null,
            "grid_column": null,
            "grid_gap": null,
            "grid_row": null,
            "grid_template_areas": null,
            "grid_template_columns": null,
            "grid_template_rows": null,
            "height": null,
            "justify_content": null,
            "justify_items": null,
            "left": null,
            "margin": null,
            "max_height": null,
            "max_width": null,
            "min_height": null,
            "min_width": null,
            "object_fit": null,
            "object_position": null,
            "order": null,
            "overflow": null,
            "overflow_x": null,
            "overflow_y": null,
            "padding": null,
            "right": null,
            "top": null,
            "visibility": null,
            "width": null
          }
        },
        "134002cdae534cb093d61e2d07d204c3": {
          "model_module": "@jupyter-widgets/controls",
          "model_module_version": "1.5.0",
          "model_name": "DescriptionStyleModel",
          "state": {
            "_model_module": "@jupyter-widgets/controls",
            "_model_module_version": "1.5.0",
            "_model_name": "DescriptionStyleModel",
            "_view_count": null,
            "_view_module": "@jupyter-widgets/base",
            "_view_module_version": "1.2.0",
            "_view_name": "StyleView",
            "description_width": ""
          }
        },
        "14ca63e16469436b93679daf7908cfbc": {
          "model_module": "@jupyter-widgets/controls",
          "model_module_version": "1.5.0",
          "model_name": "FloatProgressModel",
          "state": {
            "_dom_classes": [],
            "_model_module": "@jupyter-widgets/controls",
            "_model_module_version": "1.5.0",
            "_model_name": "FloatProgressModel",
            "_view_count": null,
            "_view_module": "@jupyter-widgets/controls",
            "_view_module_version": "1.5.0",
            "_view_name": "ProgressView",
            "bar_style": "success",
            "description": "",
            "description_tooltip": null,
            "layout": "IPY_MODEL_655e3ac9915644eab0ff28e8c1a6af97",
            "max": 688,
            "min": 0,
            "orientation": "horizontal",
            "style": "IPY_MODEL_8e5035d5d73c404183e3f3529f08656b",
            "value": 688
          }
        },
        "154269b46a724ee09716cc2e6e37d462": {
          "model_module": "@jupyter-widgets/controls",
          "model_module_version": "1.5.0",
          "model_name": "ProgressStyleModel",
          "state": {
            "_model_module": "@jupyter-widgets/controls",
            "_model_module_version": "1.5.0",
            "_model_name": "ProgressStyleModel",
            "_view_count": null,
            "_view_module": "@jupyter-widgets/base",
            "_view_module_version": "1.2.0",
            "_view_name": "StyleView",
            "bar_color": null,
            "description_width": ""
          }
        },
        "169ac27561c04b8193c6812a0aafacb7": {
          "model_module": "@jupyter-widgets/controls",
          "model_module_version": "1.5.0",
          "model_name": "DescriptionStyleModel",
          "state": {
            "_model_module": "@jupyter-widgets/controls",
            "_model_module_version": "1.5.0",
            "_model_name": "DescriptionStyleModel",
            "_view_count": null,
            "_view_module": "@jupyter-widgets/base",
            "_view_module_version": "1.2.0",
            "_view_name": "StyleView",
            "description_width": ""
          }
        },
        "1714f1652a634e7688dc1a81aa3d5ac4": {
          "model_module": "@jupyter-widgets/base",
          "model_module_version": "1.2.0",
          "model_name": "LayoutModel",
          "state": {
            "_model_module": "@jupyter-widgets/base",
            "_model_module_version": "1.2.0",
            "_model_name": "LayoutModel",
            "_view_count": null,
            "_view_module": "@jupyter-widgets/base",
            "_view_module_version": "1.2.0",
            "_view_name": "LayoutView",
            "align_content": null,
            "align_items": null,
            "align_self": null,
            "border": null,
            "bottom": null,
            "display": null,
            "flex": null,
            "flex_flow": null,
            "grid_area": null,
            "grid_auto_columns": null,
            "grid_auto_flow": null,
            "grid_auto_rows": null,
            "grid_column": null,
            "grid_gap": null,
            "grid_row": null,
            "grid_template_areas": null,
            "grid_template_columns": null,
            "grid_template_rows": null,
            "height": null,
            "justify_content": null,
            "justify_items": null,
            "left": null,
            "margin": null,
            "max_height": null,
            "max_width": null,
            "min_height": null,
            "min_width": null,
            "object_fit": null,
            "object_position": null,
            "order": null,
            "overflow": null,
            "overflow_x": null,
            "overflow_y": null,
            "padding": null,
            "right": null,
            "top": null,
            "visibility": null,
            "width": null
          }
        },
        "1821efad23a84a149f9c028ff225e4f4": {
          "model_module": "@jupyter-widgets/base",
          "model_module_version": "1.2.0",
          "model_name": "LayoutModel",
          "state": {
            "_model_module": "@jupyter-widgets/base",
            "_model_module_version": "1.2.0",
            "_model_name": "LayoutModel",
            "_view_count": null,
            "_view_module": "@jupyter-widgets/base",
            "_view_module_version": "1.2.0",
            "_view_name": "LayoutView",
            "align_content": null,
            "align_items": null,
            "align_self": null,
            "border": null,
            "bottom": null,
            "display": null,
            "flex": null,
            "flex_flow": null,
            "grid_area": null,
            "grid_auto_columns": null,
            "grid_auto_flow": null,
            "grid_auto_rows": null,
            "grid_column": null,
            "grid_gap": null,
            "grid_row": null,
            "grid_template_areas": null,
            "grid_template_columns": null,
            "grid_template_rows": null,
            "height": null,
            "justify_content": null,
            "justify_items": null,
            "left": null,
            "margin": null,
            "max_height": null,
            "max_width": null,
            "min_height": null,
            "min_width": null,
            "object_fit": null,
            "object_position": null,
            "order": null,
            "overflow": null,
            "overflow_x": null,
            "overflow_y": null,
            "padding": null,
            "right": null,
            "top": null,
            "visibility": null,
            "width": null
          }
        },
        "1a5f9f0f9f1c4289ae90afe9e2b08ea7": {
          "model_module": "@jupyter-widgets/controls",
          "model_module_version": "1.5.0",
          "model_name": "HBoxModel",
          "state": {
            "_dom_classes": [],
            "_model_module": "@jupyter-widgets/controls",
            "_model_module_version": "1.5.0",
            "_model_name": "HBoxModel",
            "_view_count": null,
            "_view_module": "@jupyter-widgets/controls",
            "_view_module_version": "1.5.0",
            "_view_name": "HBoxView",
            "box_style": "",
            "children": [
              "IPY_MODEL_fd6939799ec84d689883335b4ccd250e",
              "IPY_MODEL_24b720a7a23e4f72bb050c335773b0b7",
              "IPY_MODEL_468759a406664060b5eb774dfa35b332"
            ],
            "layout": "IPY_MODEL_9fb74c1c08be40ec9e6d092176b32d66"
          }
        },
        "1b5dd8ccd7444cd3a90aeae1a5e87e3e": {
          "model_module": "@jupyter-widgets/base",
          "model_module_version": "1.2.0",
          "model_name": "LayoutModel",
          "state": {
            "_model_module": "@jupyter-widgets/base",
            "_model_module_version": "1.2.0",
            "_model_name": "LayoutModel",
            "_view_count": null,
            "_view_module": "@jupyter-widgets/base",
            "_view_module_version": "1.2.0",
            "_view_name": "LayoutView",
            "align_content": null,
            "align_items": null,
            "align_self": null,
            "border": null,
            "bottom": null,
            "display": null,
            "flex": null,
            "flex_flow": null,
            "grid_area": null,
            "grid_auto_columns": null,
            "grid_auto_flow": null,
            "grid_auto_rows": null,
            "grid_column": null,
            "grid_gap": null,
            "grid_row": null,
            "grid_template_areas": null,
            "grid_template_columns": null,
            "grid_template_rows": null,
            "height": null,
            "justify_content": null,
            "justify_items": null,
            "left": null,
            "margin": null,
            "max_height": null,
            "max_width": null,
            "min_height": null,
            "min_width": null,
            "object_fit": null,
            "object_position": null,
            "order": null,
            "overflow": null,
            "overflow_x": null,
            "overflow_y": null,
            "padding": null,
            "right": null,
            "top": null,
            "visibility": null,
            "width": null
          }
        },
        "1c3519a59c28498da88038486a6b8002": {
          "model_module": "@jupyter-widgets/base",
          "model_module_version": "1.2.0",
          "model_name": "LayoutModel",
          "state": {
            "_model_module": "@jupyter-widgets/base",
            "_model_module_version": "1.2.0",
            "_model_name": "LayoutModel",
            "_view_count": null,
            "_view_module": "@jupyter-widgets/base",
            "_view_module_version": "1.2.0",
            "_view_name": "LayoutView",
            "align_content": null,
            "align_items": null,
            "align_self": null,
            "border": null,
            "bottom": null,
            "display": null,
            "flex": null,
            "flex_flow": null,
            "grid_area": null,
            "grid_auto_columns": null,
            "grid_auto_flow": null,
            "grid_auto_rows": null,
            "grid_column": null,
            "grid_gap": null,
            "grid_row": null,
            "grid_template_areas": null,
            "grid_template_columns": null,
            "grid_template_rows": null,
            "height": null,
            "justify_content": null,
            "justify_items": null,
            "left": null,
            "margin": null,
            "max_height": null,
            "max_width": null,
            "min_height": null,
            "min_width": null,
            "object_fit": null,
            "object_position": null,
            "order": null,
            "overflow": null,
            "overflow_x": null,
            "overflow_y": null,
            "padding": null,
            "right": null,
            "top": null,
            "visibility": null,
            "width": null
          }
        },
        "1dd86ce0662145cd83861201fb429a64": {
          "model_module": "@jupyter-widgets/controls",
          "model_module_version": "1.5.0",
          "model_name": "FloatProgressModel",
          "state": {
            "_dom_classes": [],
            "_model_module": "@jupyter-widgets/controls",
            "_model_module_version": "1.5.0",
            "_model_name": "FloatProgressModel",
            "_view_count": null,
            "_view_module": "@jupyter-widgets/controls",
            "_view_module_version": "1.5.0",
            "_view_name": "ProgressView",
            "bar_style": "success",
            "description": "",
            "description_tooltip": null,
            "layout": "IPY_MODEL_e8e92c6fae6d41a7b92e009718665289",
            "max": 231508,
            "min": 0,
            "orientation": "horizontal",
            "style": "IPY_MODEL_9cd521805dd446538b347976a4abe12d",
            "value": 231508
          }
        },
        "217d2a2410e942ac9f62fe693f937718": {
          "model_module": "@jupyter-widgets/controls",
          "model_module_version": "1.5.0",
          "model_name": "DescriptionStyleModel",
          "state": {
            "_model_module": "@jupyter-widgets/controls",
            "_model_module_version": "1.5.0",
            "_model_name": "DescriptionStyleModel",
            "_view_count": null,
            "_view_module": "@jupyter-widgets/base",
            "_view_module_version": "1.2.0",
            "_view_name": "StyleView",
            "description_width": ""
          }
        },
        "2374ba318a144754970f308b684e8b3f": {
          "model_module": "@jupyter-widgets/base",
          "model_module_version": "1.2.0",
          "model_name": "LayoutModel",
          "state": {
            "_model_module": "@jupyter-widgets/base",
            "_model_module_version": "1.2.0",
            "_model_name": "LayoutModel",
            "_view_count": null,
            "_view_module": "@jupyter-widgets/base",
            "_view_module_version": "1.2.0",
            "_view_name": "LayoutView",
            "align_content": null,
            "align_items": null,
            "align_self": null,
            "border": null,
            "bottom": null,
            "display": null,
            "flex": null,
            "flex_flow": null,
            "grid_area": null,
            "grid_auto_columns": null,
            "grid_auto_flow": null,
            "grid_auto_rows": null,
            "grid_column": null,
            "grid_gap": null,
            "grid_row": null,
            "grid_template_areas": null,
            "grid_template_columns": null,
            "grid_template_rows": null,
            "height": null,
            "justify_content": null,
            "justify_items": null,
            "left": null,
            "margin": null,
            "max_height": null,
            "max_width": null,
            "min_height": null,
            "min_width": null,
            "object_fit": null,
            "object_position": null,
            "order": null,
            "overflow": null,
            "overflow_x": null,
            "overflow_y": null,
            "padding": null,
            "right": null,
            "top": null,
            "visibility": null,
            "width": null
          }
        },
        "24b720a7a23e4f72bb050c335773b0b7": {
          "model_module": "@jupyter-widgets/controls",
          "model_module_version": "1.5.0",
          "model_name": "FloatProgressModel",
          "state": {
            "_dom_classes": [],
            "_model_module": "@jupyter-widgets/controls",
            "_model_module_version": "1.5.0",
            "_model_name": "FloatProgressModel",
            "_view_count": null,
            "_view_module": "@jupyter-widgets/controls",
            "_view_module_version": "1.5.0",
            "_view_name": "ProgressView",
            "bar_style": "success",
            "description": "",
            "description_tooltip": null,
            "layout": "IPY_MODEL_54ef089d3dd84727a8152580ba289c11",
            "max": 3951,
            "min": 0,
            "orientation": "horizontal",
            "style": "IPY_MODEL_509625b182764d9284ad75ff92220b96",
            "value": 3951
          }
        },
        "2502b1a10f3b4974bb6b21ce942dbb5d": {
          "model_module": "@jupyter-widgets/base",
          "model_module_version": "1.2.0",
          "model_name": "LayoutModel",
          "state": {
            "_model_module": "@jupyter-widgets/base",
            "_model_module_version": "1.2.0",
            "_model_name": "LayoutModel",
            "_view_count": null,
            "_view_module": "@jupyter-widgets/base",
            "_view_module_version": "1.2.0",
            "_view_name": "LayoutView",
            "align_content": null,
            "align_items": null,
            "align_self": null,
            "border": null,
            "bottom": null,
            "display": null,
            "flex": null,
            "flex_flow": null,
            "grid_area": null,
            "grid_auto_columns": null,
            "grid_auto_flow": null,
            "grid_auto_rows": null,
            "grid_column": null,
            "grid_gap": null,
            "grid_row": null,
            "grid_template_areas": null,
            "grid_template_columns": null,
            "grid_template_rows": null,
            "height": null,
            "justify_content": null,
            "justify_items": null,
            "left": null,
            "margin": null,
            "max_height": null,
            "max_width": null,
            "min_height": null,
            "min_width": null,
            "object_fit": null,
            "object_position": null,
            "order": null,
            "overflow": null,
            "overflow_x": null,
            "overflow_y": null,
            "padding": null,
            "right": null,
            "top": null,
            "visibility": null,
            "width": null
          }
        },
        "2873dc047f454b0783aea8e1e070df5b": {
          "model_module": "@jupyter-widgets/controls",
          "model_module_version": "1.5.0",
          "model_name": "HBoxModel",
          "state": {
            "_dom_classes": [],
            "_model_module": "@jupyter-widgets/controls",
            "_model_module_version": "1.5.0",
            "_model_name": "HBoxModel",
            "_view_count": null,
            "_view_module": "@jupyter-widgets/controls",
            "_view_module_version": "1.5.0",
            "_view_name": "HBoxView",
            "box_style": "",
            "children": [
              "IPY_MODEL_5ecf7c71d6bf4b758c5a32d2b55e0166",
              "IPY_MODEL_9d71aa8007584c16be3ff8d1c883eb15",
              "IPY_MODEL_cc72c5f4063a4021bd132cb2a18eee92"
            ],
            "layout": "IPY_MODEL_978b75e108ce4639ae698d778086cd3b"
          }
        },
        "2baec8d9ca9140dcaf5c179eedd33cf7": {
          "model_module": "@jupyter-widgets/base",
          "model_module_version": "1.2.0",
          "model_name": "LayoutModel",
          "state": {
            "_model_module": "@jupyter-widgets/base",
            "_model_module_version": "1.2.0",
            "_model_name": "LayoutModel",
            "_view_count": null,
            "_view_module": "@jupyter-widgets/base",
            "_view_module_version": "1.2.0",
            "_view_name": "LayoutView",
            "align_content": null,
            "align_items": null,
            "align_self": null,
            "border": null,
            "bottom": null,
            "display": null,
            "flex": null,
            "flex_flow": null,
            "grid_area": null,
            "grid_auto_columns": null,
            "grid_auto_flow": null,
            "grid_auto_rows": null,
            "grid_column": null,
            "grid_gap": null,
            "grid_row": null,
            "grid_template_areas": null,
            "grid_template_columns": null,
            "grid_template_rows": null,
            "height": null,
            "justify_content": null,
            "justify_items": null,
            "left": null,
            "margin": null,
            "max_height": null,
            "max_width": null,
            "min_height": null,
            "min_width": null,
            "object_fit": null,
            "object_position": null,
            "order": null,
            "overflow": null,
            "overflow_x": null,
            "overflow_y": null,
            "padding": null,
            "right": null,
            "top": null,
            "visibility": null,
            "width": null
          }
        },
        "2bef942a20fe4e978bc7b1b3f09d6f90": {
          "model_module": "@jupyter-widgets/base",
          "model_module_version": "1.2.0",
          "model_name": "LayoutModel",
          "state": {
            "_model_module": "@jupyter-widgets/base",
            "_model_module_version": "1.2.0",
            "_model_name": "LayoutModel",
            "_view_count": null,
            "_view_module": "@jupyter-widgets/base",
            "_view_module_version": "1.2.0",
            "_view_name": "LayoutView",
            "align_content": null,
            "align_items": null,
            "align_self": null,
            "border": null,
            "bottom": null,
            "display": null,
            "flex": null,
            "flex_flow": null,
            "grid_area": null,
            "grid_auto_columns": null,
            "grid_auto_flow": null,
            "grid_auto_rows": null,
            "grid_column": null,
            "grid_gap": null,
            "grid_row": null,
            "grid_template_areas": null,
            "grid_template_columns": null,
            "grid_template_rows": null,
            "height": null,
            "justify_content": null,
            "justify_items": null,
            "left": null,
            "margin": null,
            "max_height": null,
            "max_width": null,
            "min_height": null,
            "min_width": null,
            "object_fit": null,
            "object_position": null,
            "order": null,
            "overflow": null,
            "overflow_x": null,
            "overflow_y": null,
            "padding": null,
            "right": null,
            "top": null,
            "visibility": null,
            "width": null
          }
        },
        "2e9312262e344bf7b09a85440e2707c9": {
          "model_module": "@jupyter-widgets/controls",
          "model_module_version": "1.5.0",
          "model_name": "HTMLModel",
          "state": {
            "_dom_classes": [],
            "_model_module": "@jupyter-widgets/controls",
            "_model_module_version": "1.5.0",
            "_model_name": "HTMLModel",
            "_view_count": null,
            "_view_module": "@jupyter-widgets/controls",
            "_view_module_version": "1.5.0",
            "_view_name": "HTMLView",
            "description": "",
            "description_tooltip": null,
            "layout": "IPY_MODEL_0508828316614dd09eb0711593a0d531",
            "placeholder": "​",
            "style": "IPY_MODEL_66dccd0b111445799255c07d3d2774be",
            "value": " 688/688 [00:00&lt;00:00, 10.9kB/s]"
          }
        },
        "3029a2167ebe453b9295999ecf0b42a6": {
          "model_module": "@jupyter-widgets/controls",
          "model_module_version": "1.5.0",
          "model_name": "DescriptionStyleModel",
          "state": {
            "_model_module": "@jupyter-widgets/controls",
            "_model_module_version": "1.5.0",
            "_model_name": "DescriptionStyleModel",
            "_view_count": null,
            "_view_module": "@jupyter-widgets/base",
            "_view_module_version": "1.2.0",
            "_view_name": "StyleView",
            "description_width": ""
          }
        },
        "309f4377e743471e8d7c225cd8574c92": {
          "model_module": "@jupyter-widgets/controls",
          "model_module_version": "1.5.0",
          "model_name": "DescriptionStyleModel",
          "state": {
            "_model_module": "@jupyter-widgets/controls",
            "_model_module_version": "1.5.0",
            "_model_name": "DescriptionStyleModel",
            "_view_count": null,
            "_view_module": "@jupyter-widgets/base",
            "_view_module_version": "1.2.0",
            "_view_name": "StyleView",
            "description_width": ""
          }
        },
        "3133217c4ee749b18146b051d2c9eeed": {
          "model_module": "@jupyter-widgets/controls",
          "model_module_version": "1.5.0",
          "model_name": "ProgressStyleModel",
          "state": {
            "_model_module": "@jupyter-widgets/controls",
            "_model_module_version": "1.5.0",
            "_model_name": "ProgressStyleModel",
            "_view_count": null,
            "_view_module": "@jupyter-widgets/base",
            "_view_module_version": "1.2.0",
            "_view_name": "StyleView",
            "bar_color": null,
            "description_width": ""
          }
        },
        "31bdf325c0ac485db466daab0cf0b412": {
          "model_module": "@jupyter-widgets/controls",
          "model_module_version": "1.5.0",
          "model_name": "ProgressStyleModel",
          "state": {
            "_model_module": "@jupyter-widgets/controls",
            "_model_module_version": "1.5.0",
            "_model_name": "ProgressStyleModel",
            "_view_count": null,
            "_view_module": "@jupyter-widgets/base",
            "_view_module_version": "1.2.0",
            "_view_name": "StyleView",
            "bar_color": null,
            "description_width": ""
          }
        },
        "3251f1c199114400a6de887337bc1cf0": {
          "model_module": "@jupyter-widgets/base",
          "model_module_version": "1.2.0",
          "model_name": "LayoutModel",
          "state": {
            "_model_module": "@jupyter-widgets/base",
            "_model_module_version": "1.2.0",
            "_model_name": "LayoutModel",
            "_view_count": null,
            "_view_module": "@jupyter-widgets/base",
            "_view_module_version": "1.2.0",
            "_view_name": "LayoutView",
            "align_content": null,
            "align_items": null,
            "align_self": null,
            "border": null,
            "bottom": null,
            "display": null,
            "flex": null,
            "flex_flow": null,
            "grid_area": null,
            "grid_auto_columns": null,
            "grid_auto_flow": null,
            "grid_auto_rows": null,
            "grid_column": null,
            "grid_gap": null,
            "grid_row": null,
            "grid_template_areas": null,
            "grid_template_columns": null,
            "grid_template_rows": null,
            "height": null,
            "justify_content": null,
            "justify_items": null,
            "left": null,
            "margin": null,
            "max_height": null,
            "max_width": null,
            "min_height": null,
            "min_width": null,
            "object_fit": null,
            "object_position": null,
            "order": null,
            "overflow": null,
            "overflow_x": null,
            "overflow_y": null,
            "padding": null,
            "right": null,
            "top": null,
            "visibility": null,
            "width": null
          }
        },
        "325c6461c4df44e68db30db35eaec8ac": {
          "model_module": "@jupyter-widgets/controls",
          "model_module_version": "1.5.0",
          "model_name": "HTMLModel",
          "state": {
            "_dom_classes": [],
            "_model_module": "@jupyter-widgets/controls",
            "_model_module_version": "1.5.0",
            "_model_name": "HTMLModel",
            "_view_count": null,
            "_view_module": "@jupyter-widgets/controls",
            "_view_module_version": "1.5.0",
            "_view_name": "HTMLView",
            "description": "",
            "description_tooltip": null,
            "layout": "IPY_MODEL_2374ba318a144754970f308b684e8b3f",
            "placeholder": "​",
            "style": "IPY_MODEL_217d2a2410e942ac9f62fe693f937718",
            "value": "Downloading: 100%"
          }
        },
        "3550ab1680c24058a8e8878df01fbfed": {
          "model_module": "@jupyter-widgets/base",
          "model_module_version": "1.2.0",
          "model_name": "LayoutModel",
          "state": {
            "_model_module": "@jupyter-widgets/base",
            "_model_module_version": "1.2.0",
            "_model_name": "LayoutModel",
            "_view_count": null,
            "_view_module": "@jupyter-widgets/base",
            "_view_module_version": "1.2.0",
            "_view_name": "LayoutView",
            "align_content": null,
            "align_items": null,
            "align_self": null,
            "border": null,
            "bottom": null,
            "display": null,
            "flex": null,
            "flex_flow": null,
            "grid_area": null,
            "grid_auto_columns": null,
            "grid_auto_flow": null,
            "grid_auto_rows": null,
            "grid_column": null,
            "grid_gap": null,
            "grid_row": null,
            "grid_template_areas": null,
            "grid_template_columns": null,
            "grid_template_rows": null,
            "height": null,
            "justify_content": null,
            "justify_items": null,
            "left": null,
            "margin": null,
            "max_height": null,
            "max_width": null,
            "min_height": null,
            "min_width": null,
            "object_fit": null,
            "object_position": null,
            "order": null,
            "overflow": null,
            "overflow_x": null,
            "overflow_y": null,
            "padding": null,
            "right": null,
            "top": null,
            "visibility": null,
            "width": null
          }
        },
        "383712e715784b27bd2859bd9d060149": {
          "model_module": "@jupyter-widgets/controls",
          "model_module_version": "1.5.0",
          "model_name": "DescriptionStyleModel",
          "state": {
            "_model_module": "@jupyter-widgets/controls",
            "_model_module_version": "1.5.0",
            "_model_name": "DescriptionStyleModel",
            "_view_count": null,
            "_view_module": "@jupyter-widgets/base",
            "_view_module_version": "1.2.0",
            "_view_name": "StyleView",
            "description_width": ""
          }
        },
        "38a98db91a6e40a4a1604730620dd487": {
          "model_module": "@jupyter-widgets/base",
          "model_module_version": "1.2.0",
          "model_name": "LayoutModel",
          "state": {
            "_model_module": "@jupyter-widgets/base",
            "_model_module_version": "1.2.0",
            "_model_name": "LayoutModel",
            "_view_count": null,
            "_view_module": "@jupyter-widgets/base",
            "_view_module_version": "1.2.0",
            "_view_name": "LayoutView",
            "align_content": null,
            "align_items": null,
            "align_self": null,
            "border": null,
            "bottom": null,
            "display": null,
            "flex": null,
            "flex_flow": null,
            "grid_area": null,
            "grid_auto_columns": null,
            "grid_auto_flow": null,
            "grid_auto_rows": null,
            "grid_column": null,
            "grid_gap": null,
            "grid_row": null,
            "grid_template_areas": null,
            "grid_template_columns": null,
            "grid_template_rows": null,
            "height": null,
            "justify_content": null,
            "justify_items": null,
            "left": null,
            "margin": null,
            "max_height": null,
            "max_width": null,
            "min_height": null,
            "min_width": null,
            "object_fit": null,
            "object_position": null,
            "order": null,
            "overflow": null,
            "overflow_x": null,
            "overflow_y": null,
            "padding": null,
            "right": null,
            "top": null,
            "visibility": null,
            "width": null
          }
        },
        "3af6c0c17969454f961069714c4df734": {
          "model_module": "@jupyter-widgets/controls",
          "model_module_version": "1.5.0",
          "model_name": "HTMLModel",
          "state": {
            "_dom_classes": [],
            "_model_module": "@jupyter-widgets/controls",
            "_model_module_version": "1.5.0",
            "_model_name": "HTMLModel",
            "_view_count": null,
            "_view_module": "@jupyter-widgets/controls",
            "_view_module_version": "1.5.0",
            "_view_name": "HTMLView",
            "description": "",
            "description_tooltip": null,
            "layout": "IPY_MODEL_ace6bb23179f4eb58b54cacf4a272500",
            "placeholder": "​",
            "style": "IPY_MODEL_f0f5deaaf6fb496d9ac68aa80ad97a28",
            "value": "Downloading: 100%"
          }
        },
        "3cdfe2e891494effbcc7ef3af4970374": {
          "model_module": "@jupyter-widgets/controls",
          "model_module_version": "1.5.0",
          "model_name": "HBoxModel",
          "state": {
            "_dom_classes": [],
            "_model_module": "@jupyter-widgets/controls",
            "_model_module_version": "1.5.0",
            "_model_name": "HBoxModel",
            "_view_count": null,
            "_view_module": "@jupyter-widgets/controls",
            "_view_module_version": "1.5.0",
            "_view_name": "HBoxView",
            "box_style": "",
            "children": [
              "IPY_MODEL_7f3b1795e32f435b9f4ec7f7bb118484",
              "IPY_MODEL_9e2a01681553418294cb5d028db28e7d",
              "IPY_MODEL_8e679292cd62468cae20f8f13a4ff8a3"
            ],
            "layout": "IPY_MODEL_682a83f0c78946a4add07e8836daa99d"
          }
        },
        "3d77848062744ee39bea546188755448": {
          "model_module": "@jupyter-widgets/controls",
          "model_module_version": "1.5.0",
          "model_name": "HBoxModel",
          "state": {
            "_dom_classes": [],
            "_model_module": "@jupyter-widgets/controls",
            "_model_module_version": "1.5.0",
            "_model_name": "HBoxModel",
            "_view_count": null,
            "_view_module": "@jupyter-widgets/controls",
            "_view_module_version": "1.5.0",
            "_view_name": "HBoxView",
            "box_style": "",
            "children": [
              "IPY_MODEL_db910439d1f4422b89f0a7ea91eecf6b",
              "IPY_MODEL_cb3adba8b9ea4dc1a377764edefac59e",
              "IPY_MODEL_ba4119ad7c4140899c6c570a140603c8"
            ],
            "layout": "IPY_MODEL_1c3519a59c28498da88038486a6b8002"
          }
        },
        "4530ade1762b47aaad9cf81ba9161a59": {
          "model_module": "@jupyter-widgets/base",
          "model_module_version": "1.2.0",
          "model_name": "LayoutModel",
          "state": {
            "_model_module": "@jupyter-widgets/base",
            "_model_module_version": "1.2.0",
            "_model_name": "LayoutModel",
            "_view_count": null,
            "_view_module": "@jupyter-widgets/base",
            "_view_module_version": "1.2.0",
            "_view_name": "LayoutView",
            "align_content": null,
            "align_items": null,
            "align_self": null,
            "border": null,
            "bottom": null,
            "display": null,
            "flex": null,
            "flex_flow": null,
            "grid_area": null,
            "grid_auto_columns": null,
            "grid_auto_flow": null,
            "grid_auto_rows": null,
            "grid_column": null,
            "grid_gap": null,
            "grid_row": null,
            "grid_template_areas": null,
            "grid_template_columns": null,
            "grid_template_rows": null,
            "height": null,
            "justify_content": null,
            "justify_items": null,
            "left": null,
            "margin": null,
            "max_height": null,
            "max_width": null,
            "min_height": null,
            "min_width": null,
            "object_fit": null,
            "object_position": null,
            "order": null,
            "overflow": null,
            "overflow_x": null,
            "overflow_y": null,
            "padding": null,
            "right": null,
            "top": null,
            "visibility": null,
            "width": null
          }
        },
        "4549af855555495591483a8e1003feb5": {
          "model_module": "@jupyter-widgets/controls",
          "model_module_version": "1.5.0",
          "model_name": "DescriptionStyleModel",
          "state": {
            "_model_module": "@jupyter-widgets/controls",
            "_model_module_version": "1.5.0",
            "_model_name": "DescriptionStyleModel",
            "_view_count": null,
            "_view_module": "@jupyter-widgets/base",
            "_view_module_version": "1.2.0",
            "_view_name": "StyleView",
            "description_width": ""
          }
        },
        "468759a406664060b5eb774dfa35b332": {
          "model_module": "@jupyter-widgets/controls",
          "model_module_version": "1.5.0",
          "model_name": "HTMLModel",
          "state": {
            "_dom_classes": [],
            "_model_module": "@jupyter-widgets/controls",
            "_model_module_version": "1.5.0",
            "_model_name": "HTMLModel",
            "_view_count": null,
            "_view_module": "@jupyter-widgets/controls",
            "_view_module_version": "1.5.0",
            "_view_name": "HTMLView",
            "description": "",
            "description_tooltip": null,
            "layout": "IPY_MODEL_0f2d79d14baf419098f4857a93d0cdcc",
            "placeholder": "​",
            "style": "IPY_MODEL_068f0e5144874378ab537bb3fa04d27f",
            "value": " 3.95k/3.95k [00:00&lt;00:00, 102kB/s]"
          }
        },
        "48a9509f54eb4b78a749bb030dc53ff8": {
          "model_module": "@jupyter-widgets/controls",
          "model_module_version": "1.5.0",
          "model_name": "HBoxModel",
          "state": {
            "_dom_classes": [],
            "_model_module": "@jupyter-widgets/controls",
            "_model_module_version": "1.5.0",
            "_model_name": "HBoxModel",
            "_view_count": null,
            "_view_module": "@jupyter-widgets/controls",
            "_view_module_version": "1.5.0",
            "_view_name": "HBoxView",
            "box_style": "",
            "children": [
              "IPY_MODEL_e0e34cb08fa04e7298016e3e7fd6b9eb",
              "IPY_MODEL_a2a9eb8e17074d5db4f1cab6ef805d14",
              "IPY_MODEL_4bbe5a4cbaa44da88b9540fa728b394e"
            ],
            "layout": "IPY_MODEL_dfb0c427bd574babb74c18f5d32edd8d"
          }
        },
        "4b16c7e398644a76b66b4f76efe156c0": {
          "model_module": "@jupyter-widgets/controls",
          "model_module_version": "1.5.0",
          "model_name": "HBoxModel",
          "state": {
            "_dom_classes": [],
            "_model_module": "@jupyter-widgets/controls",
            "_model_module_version": "1.5.0",
            "_model_name": "HBoxModel",
            "_view_count": null,
            "_view_module": "@jupyter-widgets/controls",
            "_view_module_version": "1.5.0",
            "_view_name": "HBoxView",
            "box_style": "",
            "children": [
              "IPY_MODEL_ca717599ea3a436f9e1d8f512f899536",
              "IPY_MODEL_be258d852b07488aa4d0e39f3b52d530",
              "IPY_MODEL_95886c991e164ebda03f9fe0755a6fe7"
            ],
            "layout": "IPY_MODEL_a2b36beacdac440b82cdfec0bf81caf9"
          }
        },
        "4bbe5a4cbaa44da88b9540fa728b394e": {
          "model_module": "@jupyter-widgets/controls",
          "model_module_version": "1.5.0",
          "model_name": "HTMLModel",
          "state": {
            "_dom_classes": [],
            "_model_module": "@jupyter-widgets/controls",
            "_model_module_version": "1.5.0",
            "_model_name": "HTMLModel",
            "_view_count": null,
            "_view_module": "@jupyter-widgets/controls",
            "_view_module_version": "1.5.0",
            "_view_name": "HTMLView",
            "description": "",
            "description_tooltip": null,
            "layout": "IPY_MODEL_1b5dd8ccd7444cd3a90aeae1a5e87e3e",
            "placeholder": "​",
            "style": "IPY_MODEL_e71cbc4a92bf407f9764b4ae5ccaf36a",
            "value": " 53.0/53.0 [00:00&lt;00:00, 1.56kB/s]"
          }
        },
        "4c60cfc7e52b4721bf705dbc550ee744": {
          "model_module": "@jupyter-widgets/controls",
          "model_module_version": "1.5.0",
          "model_name": "DescriptionStyleModel",
          "state": {
            "_model_module": "@jupyter-widgets/controls",
            "_model_module_version": "1.5.0",
            "_model_name": "DescriptionStyleModel",
            "_view_count": null,
            "_view_module": "@jupyter-widgets/base",
            "_view_module_version": "1.2.0",
            "_view_name": "StyleView",
            "description_width": ""
          }
        },
        "4d7d06ef41ac440cacce583d7ca046a6": {
          "model_module": "@jupyter-widgets/controls",
          "model_module_version": "1.5.0",
          "model_name": "FloatProgressModel",
          "state": {
            "_dom_classes": [],
            "_model_module": "@jupyter-widgets/controls",
            "_model_module_version": "1.5.0",
            "_model_name": "FloatProgressModel",
            "_view_count": null,
            "_view_module": "@jupyter-widgets/controls",
            "_view_module_version": "1.5.0",
            "_view_name": "ProgressView",
            "bar_style": "success",
            "description": "",
            "description_tooltip": null,
            "layout": "IPY_MODEL_6d6e7564a74041a5b2ec4a45275a4d65",
            "max": 391,
            "min": 0,
            "orientation": "horizontal",
            "style": "IPY_MODEL_07ea1d2c46124156b346f748f561a15e",
            "value": 391
          }
        },
        "4e6a4b12f7854935a774fc53dc535b12": {
          "model_module": "@jupyter-widgets/base",
          "model_module_version": "1.2.0",
          "model_name": "LayoutModel",
          "state": {
            "_model_module": "@jupyter-widgets/base",
            "_model_module_version": "1.2.0",
            "_model_name": "LayoutModel",
            "_view_count": null,
            "_view_module": "@jupyter-widgets/base",
            "_view_module_version": "1.2.0",
            "_view_name": "LayoutView",
            "align_content": null,
            "align_items": null,
            "align_self": null,
            "border": null,
            "bottom": null,
            "display": null,
            "flex": null,
            "flex_flow": null,
            "grid_area": null,
            "grid_auto_columns": null,
            "grid_auto_flow": null,
            "grid_auto_rows": null,
            "grid_column": null,
            "grid_gap": null,
            "grid_row": null,
            "grid_template_areas": null,
            "grid_template_columns": null,
            "grid_template_rows": null,
            "height": null,
            "justify_content": null,
            "justify_items": null,
            "left": null,
            "margin": null,
            "max_height": null,
            "max_width": null,
            "min_height": null,
            "min_width": null,
            "object_fit": null,
            "object_position": null,
            "order": null,
            "overflow": null,
            "overflow_x": null,
            "overflow_y": null,
            "padding": null,
            "right": null,
            "top": null,
            "visibility": null,
            "width": null
          }
        },
        "4ff2abd81fab4df29e17f28082cf0c9c": {
          "model_module": "@jupyter-widgets/base",
          "model_module_version": "1.2.0",
          "model_name": "LayoutModel",
          "state": {
            "_model_module": "@jupyter-widgets/base",
            "_model_module_version": "1.2.0",
            "_model_name": "LayoutModel",
            "_view_count": null,
            "_view_module": "@jupyter-widgets/base",
            "_view_module_version": "1.2.0",
            "_view_name": "LayoutView",
            "align_content": null,
            "align_items": null,
            "align_self": null,
            "border": null,
            "bottom": null,
            "display": null,
            "flex": null,
            "flex_flow": null,
            "grid_area": null,
            "grid_auto_columns": null,
            "grid_auto_flow": null,
            "grid_auto_rows": null,
            "grid_column": null,
            "grid_gap": null,
            "grid_row": null,
            "grid_template_areas": null,
            "grid_template_columns": null,
            "grid_template_rows": null,
            "height": null,
            "justify_content": null,
            "justify_items": null,
            "left": null,
            "margin": null,
            "max_height": null,
            "max_width": null,
            "min_height": null,
            "min_width": null,
            "object_fit": null,
            "object_position": null,
            "order": null,
            "overflow": null,
            "overflow_x": null,
            "overflow_y": null,
            "padding": null,
            "right": null,
            "top": null,
            "visibility": null,
            "width": null
          }
        },
        "509625b182764d9284ad75ff92220b96": {
          "model_module": "@jupyter-widgets/controls",
          "model_module_version": "1.5.0",
          "model_name": "ProgressStyleModel",
          "state": {
            "_model_module": "@jupyter-widgets/controls",
            "_model_module_version": "1.5.0",
            "_model_name": "ProgressStyleModel",
            "_view_count": null,
            "_view_module": "@jupyter-widgets/base",
            "_view_module_version": "1.2.0",
            "_view_name": "StyleView",
            "bar_color": null,
            "description_width": ""
          }
        },
        "539c1eecf028497194bc467a1f583e1e": {
          "model_module": "@jupyter-widgets/controls",
          "model_module_version": "1.5.0",
          "model_name": "DescriptionStyleModel",
          "state": {
            "_model_module": "@jupyter-widgets/controls",
            "_model_module_version": "1.5.0",
            "_model_name": "DescriptionStyleModel",
            "_view_count": null,
            "_view_module": "@jupyter-widgets/base",
            "_view_module_version": "1.2.0",
            "_view_name": "StyleView",
            "description_width": ""
          }
        },
        "545c7fa82cea400db89e18a4eae1e199": {
          "model_module": "@jupyter-widgets/base",
          "model_module_version": "1.2.0",
          "model_name": "LayoutModel",
          "state": {
            "_model_module": "@jupyter-widgets/base",
            "_model_module_version": "1.2.0",
            "_model_name": "LayoutModel",
            "_view_count": null,
            "_view_module": "@jupyter-widgets/base",
            "_view_module_version": "1.2.0",
            "_view_name": "LayoutView",
            "align_content": null,
            "align_items": null,
            "align_self": null,
            "border": null,
            "bottom": null,
            "display": null,
            "flex": null,
            "flex_flow": null,
            "grid_area": null,
            "grid_auto_columns": null,
            "grid_auto_flow": null,
            "grid_auto_rows": null,
            "grid_column": null,
            "grid_gap": null,
            "grid_row": null,
            "grid_template_areas": null,
            "grid_template_columns": null,
            "grid_template_rows": null,
            "height": null,
            "justify_content": null,
            "justify_items": null,
            "left": null,
            "margin": null,
            "max_height": null,
            "max_width": null,
            "min_height": null,
            "min_width": null,
            "object_fit": null,
            "object_position": null,
            "order": null,
            "overflow": null,
            "overflow_x": null,
            "overflow_y": null,
            "padding": null,
            "right": null,
            "top": null,
            "visibility": null,
            "width": null
          }
        },
        "54dfcfa9e7824907b0128f9b327b6927": {
          "model_module": "@jupyter-widgets/controls",
          "model_module_version": "1.5.0",
          "model_name": "DescriptionStyleModel",
          "state": {
            "_model_module": "@jupyter-widgets/controls",
            "_model_module_version": "1.5.0",
            "_model_name": "DescriptionStyleModel",
            "_view_count": null,
            "_view_module": "@jupyter-widgets/base",
            "_view_module_version": "1.2.0",
            "_view_name": "StyleView",
            "description_width": ""
          }
        },
        "54ef089d3dd84727a8152580ba289c11": {
          "model_module": "@jupyter-widgets/base",
          "model_module_version": "1.2.0",
          "model_name": "LayoutModel",
          "state": {
            "_model_module": "@jupyter-widgets/base",
            "_model_module_version": "1.2.0",
            "_model_name": "LayoutModel",
            "_view_count": null,
            "_view_module": "@jupyter-widgets/base",
            "_view_module_version": "1.2.0",
            "_view_name": "LayoutView",
            "align_content": null,
            "align_items": null,
            "align_self": null,
            "border": null,
            "bottom": null,
            "display": null,
            "flex": null,
            "flex_flow": null,
            "grid_area": null,
            "grid_auto_columns": null,
            "grid_auto_flow": null,
            "grid_auto_rows": null,
            "grid_column": null,
            "grid_gap": null,
            "grid_row": null,
            "grid_template_areas": null,
            "grid_template_columns": null,
            "grid_template_rows": null,
            "height": null,
            "justify_content": null,
            "justify_items": null,
            "left": null,
            "margin": null,
            "max_height": null,
            "max_width": null,
            "min_height": null,
            "min_width": null,
            "object_fit": null,
            "object_position": null,
            "order": null,
            "overflow": null,
            "overflow_x": null,
            "overflow_y": null,
            "padding": null,
            "right": null,
            "top": null,
            "visibility": null,
            "width": null
          }
        },
        "5a75f6af750b4673a67e5c47bc82ea4b": {
          "model_module": "@jupyter-widgets/controls",
          "model_module_version": "1.5.0",
          "model_name": "HTMLModel",
          "state": {
            "_dom_classes": [],
            "_model_module": "@jupyter-widgets/controls",
            "_model_module_version": "1.5.0",
            "_model_name": "HTMLModel",
            "_view_count": null,
            "_view_module": "@jupyter-widgets/controls",
            "_view_module_version": "1.5.0",
            "_view_name": "HTMLView",
            "description": "",
            "description_tooltip": null,
            "layout": "IPY_MODEL_1317ca6ee55d4a2da7e94cb53457b2cd",
            "placeholder": "​",
            "style": "IPY_MODEL_cc90a4b3d92c459098bdff0d4c569275",
            "value": " 2.00/2.00 [00:00&lt;00:00, 52.7B/s]"
          }
        },
        "5b5f07d7deb4413bb14ff96d6aca607d": {
          "model_module": "@jupyter-widgets/base",
          "model_module_version": "1.2.0",
          "model_name": "LayoutModel",
          "state": {
            "_model_module": "@jupyter-widgets/base",
            "_model_module_version": "1.2.0",
            "_model_name": "LayoutModel",
            "_view_count": null,
            "_view_module": "@jupyter-widgets/base",
            "_view_module_version": "1.2.0",
            "_view_name": "LayoutView",
            "align_content": null,
            "align_items": null,
            "align_self": null,
            "border": null,
            "bottom": null,
            "display": null,
            "flex": null,
            "flex_flow": null,
            "grid_area": null,
            "grid_auto_columns": null,
            "grid_auto_flow": null,
            "grid_auto_rows": null,
            "grid_column": null,
            "grid_gap": null,
            "grid_row": null,
            "grid_template_areas": null,
            "grid_template_columns": null,
            "grid_template_rows": null,
            "height": null,
            "justify_content": null,
            "justify_items": null,
            "left": null,
            "margin": null,
            "max_height": null,
            "max_width": null,
            "min_height": null,
            "min_width": null,
            "object_fit": null,
            "object_position": null,
            "order": null,
            "overflow": null,
            "overflow_x": null,
            "overflow_y": null,
            "padding": null,
            "right": null,
            "top": null,
            "visibility": null,
            "width": null
          }
        },
        "5bdb7a786f4e405c8fb9c4e051d7a53b": {
          "model_module": "@jupyter-widgets/controls",
          "model_module_version": "1.5.0",
          "model_name": "ProgressStyleModel",
          "state": {
            "_model_module": "@jupyter-widgets/controls",
            "_model_module_version": "1.5.0",
            "_model_name": "ProgressStyleModel",
            "_view_count": null,
            "_view_module": "@jupyter-widgets/base",
            "_view_module_version": "1.2.0",
            "_view_name": "StyleView",
            "bar_color": null,
            "description_width": ""
          }
        },
        "5ce3f7f5448f4807b44ea51626be8f48": {
          "model_module": "@jupyter-widgets/controls",
          "model_module_version": "1.5.0",
          "model_name": "DescriptionStyleModel",
          "state": {
            "_model_module": "@jupyter-widgets/controls",
            "_model_module_version": "1.5.0",
            "_model_name": "DescriptionStyleModel",
            "_view_count": null,
            "_view_module": "@jupyter-widgets/base",
            "_view_module_version": "1.2.0",
            "_view_name": "StyleView",
            "description_width": ""
          }
        },
        "5ecf7c71d6bf4b758c5a32d2b55e0166": {
          "model_module": "@jupyter-widgets/controls",
          "model_module_version": "1.5.0",
          "model_name": "HTMLModel",
          "state": {
            "_dom_classes": [],
            "_model_module": "@jupyter-widgets/controls",
            "_model_module_version": "1.5.0",
            "_model_name": "HTMLModel",
            "_view_count": null,
            "_view_module": "@jupyter-widgets/controls",
            "_view_module_version": "1.5.0",
            "_view_name": "HTMLView",
            "description": "",
            "description_tooltip": null,
            "layout": "IPY_MODEL_624f350af3684647b684903a5223fec6",
            "placeholder": "​",
            "style": "IPY_MODEL_927c738d185b48b1ae27ff9011e62c1d",
            "value": "Downloading: 100%"
          }
        },
        "600ac169c1844305ab2533f3d1fef657": {
          "model_module": "@jupyter-widgets/controls",
          "model_module_version": "1.5.0",
          "model_name": "DescriptionStyleModel",
          "state": {
            "_model_module": "@jupyter-widgets/controls",
            "_model_module_version": "1.5.0",
            "_model_name": "DescriptionStyleModel",
            "_view_count": null,
            "_view_module": "@jupyter-widgets/base",
            "_view_module_version": "1.2.0",
            "_view_name": "StyleView",
            "description_width": ""
          }
        },
        "60895c75daba4073a96332f7b617f6f1": {
          "model_module": "@jupyter-widgets/base",
          "model_module_version": "1.2.0",
          "model_name": "LayoutModel",
          "state": {
            "_model_module": "@jupyter-widgets/base",
            "_model_module_version": "1.2.0",
            "_model_name": "LayoutModel",
            "_view_count": null,
            "_view_module": "@jupyter-widgets/base",
            "_view_module_version": "1.2.0",
            "_view_name": "LayoutView",
            "align_content": null,
            "align_items": null,
            "align_self": null,
            "border": null,
            "bottom": null,
            "display": null,
            "flex": null,
            "flex_flow": null,
            "grid_area": null,
            "grid_auto_columns": null,
            "grid_auto_flow": null,
            "grid_auto_rows": null,
            "grid_column": null,
            "grid_gap": null,
            "grid_row": null,
            "grid_template_areas": null,
            "grid_template_columns": null,
            "grid_template_rows": null,
            "height": null,
            "justify_content": null,
            "justify_items": null,
            "left": null,
            "margin": null,
            "max_height": null,
            "max_width": null,
            "min_height": null,
            "min_width": null,
            "object_fit": null,
            "object_position": null,
            "order": null,
            "overflow": null,
            "overflow_x": null,
            "overflow_y": null,
            "padding": null,
            "right": null,
            "top": null,
            "visibility": null,
            "width": null
          }
        },
        "6096380c3bc94403bc7f6b473106cd5f": {
          "model_module": "@jupyter-widgets/controls",
          "model_module_version": "1.5.0",
          "model_name": "DescriptionStyleModel",
          "state": {
            "_model_module": "@jupyter-widgets/controls",
            "_model_module_version": "1.5.0",
            "_model_name": "DescriptionStyleModel",
            "_view_count": null,
            "_view_module": "@jupyter-widgets/base",
            "_view_module_version": "1.2.0",
            "_view_name": "StyleView",
            "description_width": ""
          }
        },
        "61f4c9efaa404ddc84dfdd95116ea731": {
          "model_module": "@jupyter-widgets/base",
          "model_module_version": "1.2.0",
          "model_name": "LayoutModel",
          "state": {
            "_model_module": "@jupyter-widgets/base",
            "_model_module_version": "1.2.0",
            "_model_name": "LayoutModel",
            "_view_count": null,
            "_view_module": "@jupyter-widgets/base",
            "_view_module_version": "1.2.0",
            "_view_name": "LayoutView",
            "align_content": null,
            "align_items": null,
            "align_self": null,
            "border": null,
            "bottom": null,
            "display": null,
            "flex": null,
            "flex_flow": null,
            "grid_area": null,
            "grid_auto_columns": null,
            "grid_auto_flow": null,
            "grid_auto_rows": null,
            "grid_column": null,
            "grid_gap": null,
            "grid_row": null,
            "grid_template_areas": null,
            "grid_template_columns": null,
            "grid_template_rows": null,
            "height": null,
            "justify_content": null,
            "justify_items": null,
            "left": null,
            "margin": null,
            "max_height": null,
            "max_width": null,
            "min_height": null,
            "min_width": null,
            "object_fit": null,
            "object_position": null,
            "order": null,
            "overflow": null,
            "overflow_x": null,
            "overflow_y": null,
            "padding": null,
            "right": null,
            "top": null,
            "visibility": null,
            "width": null
          }
        },
        "624f350af3684647b684903a5223fec6": {
          "model_module": "@jupyter-widgets/base",
          "model_module_version": "1.2.0",
          "model_name": "LayoutModel",
          "state": {
            "_model_module": "@jupyter-widgets/base",
            "_model_module_version": "1.2.0",
            "_model_name": "LayoutModel",
            "_view_count": null,
            "_view_module": "@jupyter-widgets/base",
            "_view_module_version": "1.2.0",
            "_view_name": "LayoutView",
            "align_content": null,
            "align_items": null,
            "align_self": null,
            "border": null,
            "bottom": null,
            "display": null,
            "flex": null,
            "flex_flow": null,
            "grid_area": null,
            "grid_auto_columns": null,
            "grid_auto_flow": null,
            "grid_auto_rows": null,
            "grid_column": null,
            "grid_gap": null,
            "grid_row": null,
            "grid_template_areas": null,
            "grid_template_columns": null,
            "grid_template_rows": null,
            "height": null,
            "justify_content": null,
            "justify_items": null,
            "left": null,
            "margin": null,
            "max_height": null,
            "max_width": null,
            "min_height": null,
            "min_width": null,
            "object_fit": null,
            "object_position": null,
            "order": null,
            "overflow": null,
            "overflow_x": null,
            "overflow_y": null,
            "padding": null,
            "right": null,
            "top": null,
            "visibility": null,
            "width": null
          }
        },
        "627408a4ca19471590efde2d58802cf7": {
          "model_module": "@jupyter-widgets/base",
          "model_module_version": "1.2.0",
          "model_name": "LayoutModel",
          "state": {
            "_model_module": "@jupyter-widgets/base",
            "_model_module_version": "1.2.0",
            "_model_name": "LayoutModel",
            "_view_count": null,
            "_view_module": "@jupyter-widgets/base",
            "_view_module_version": "1.2.0",
            "_view_name": "LayoutView",
            "align_content": null,
            "align_items": null,
            "align_self": null,
            "border": null,
            "bottom": null,
            "display": null,
            "flex": null,
            "flex_flow": null,
            "grid_area": null,
            "grid_auto_columns": null,
            "grid_auto_flow": null,
            "grid_auto_rows": null,
            "grid_column": null,
            "grid_gap": null,
            "grid_row": null,
            "grid_template_areas": null,
            "grid_template_columns": null,
            "grid_template_rows": null,
            "height": null,
            "justify_content": null,
            "justify_items": null,
            "left": null,
            "margin": null,
            "max_height": null,
            "max_width": null,
            "min_height": null,
            "min_width": null,
            "object_fit": null,
            "object_position": null,
            "order": null,
            "overflow": null,
            "overflow_x": null,
            "overflow_y": null,
            "padding": null,
            "right": null,
            "top": null,
            "visibility": null,
            "width": null
          }
        },
        "62b504213c7f402baeafbce8fd08f109": {
          "model_module": "@jupyter-widgets/controls",
          "model_module_version": "1.5.0",
          "model_name": "HBoxModel",
          "state": {
            "_dom_classes": [],
            "_model_module": "@jupyter-widgets/controls",
            "_model_module_version": "1.5.0",
            "_model_name": "HBoxModel",
            "_view_count": null,
            "_view_module": "@jupyter-widgets/controls",
            "_view_module_version": "1.5.0",
            "_view_name": "HBoxView",
            "box_style": "",
            "children": [
              "IPY_MODEL_dafb84a6ac094b59b1845d5f4cda3003",
              "IPY_MODEL_c839013d24ee4c47a490e29312aabc86",
              "IPY_MODEL_a0eb99f1d9794fcea157871b1b2836d4"
            ],
            "layout": "IPY_MODEL_ca9f4a1f927845eca010dc6174386dc8"
          }
        },
        "6370e63a7aa044c1a4c575932d894fdc": {
          "model_module": "@jupyter-widgets/base",
          "model_module_version": "1.2.0",
          "model_name": "LayoutModel",
          "state": {
            "_model_module": "@jupyter-widgets/base",
            "_model_module_version": "1.2.0",
            "_model_name": "LayoutModel",
            "_view_count": null,
            "_view_module": "@jupyter-widgets/base",
            "_view_module_version": "1.2.0",
            "_view_name": "LayoutView",
            "align_content": null,
            "align_items": null,
            "align_self": null,
            "border": null,
            "bottom": null,
            "display": null,
            "flex": null,
            "flex_flow": null,
            "grid_area": null,
            "grid_auto_columns": null,
            "grid_auto_flow": null,
            "grid_auto_rows": null,
            "grid_column": null,
            "grid_gap": null,
            "grid_row": null,
            "grid_template_areas": null,
            "grid_template_columns": null,
            "grid_template_rows": null,
            "height": null,
            "justify_content": null,
            "justify_items": null,
            "left": null,
            "margin": null,
            "max_height": null,
            "max_width": null,
            "min_height": null,
            "min_width": null,
            "object_fit": null,
            "object_position": null,
            "order": null,
            "overflow": null,
            "overflow_x": null,
            "overflow_y": null,
            "padding": null,
            "right": null,
            "top": null,
            "visibility": null,
            "width": null
          }
        },
        "642d94d2a1d64fc0b5c033126a0940bd": {
          "model_module": "@jupyter-widgets/controls",
          "model_module_version": "1.5.0",
          "model_name": "HTMLModel",
          "state": {
            "_dom_classes": [],
            "_model_module": "@jupyter-widgets/controls",
            "_model_module_version": "1.5.0",
            "_model_name": "HTMLModel",
            "_view_count": null,
            "_view_module": "@jupyter-widgets/controls",
            "_view_module_version": "1.5.0",
            "_view_name": "HTMLView",
            "description": "",
            "description_tooltip": null,
            "layout": "IPY_MODEL_d87716f61d574e9db9d801bf26c0e1fb",
            "placeholder": "​",
            "style": "IPY_MODEL_deec94c6ceb14fb4b3097969aaf30bad",
            "value": "Downloading: 100%"
          }
        },
        "655e3ac9915644eab0ff28e8c1a6af97": {
          "model_module": "@jupyter-widgets/base",
          "model_module_version": "1.2.0",
          "model_name": "LayoutModel",
          "state": {
            "_model_module": "@jupyter-widgets/base",
            "_model_module_version": "1.2.0",
            "_model_name": "LayoutModel",
            "_view_count": null,
            "_view_module": "@jupyter-widgets/base",
            "_view_module_version": "1.2.0",
            "_view_name": "LayoutView",
            "align_content": null,
            "align_items": null,
            "align_self": null,
            "border": null,
            "bottom": null,
            "display": null,
            "flex": null,
            "flex_flow": null,
            "grid_area": null,
            "grid_auto_columns": null,
            "grid_auto_flow": null,
            "grid_auto_rows": null,
            "grid_column": null,
            "grid_gap": null,
            "grid_row": null,
            "grid_template_areas": null,
            "grid_template_columns": null,
            "grid_template_rows": null,
            "height": null,
            "justify_content": null,
            "justify_items": null,
            "left": null,
            "margin": null,
            "max_height": null,
            "max_width": null,
            "min_height": null,
            "min_width": null,
            "object_fit": null,
            "object_position": null,
            "order": null,
            "overflow": null,
            "overflow_x": null,
            "overflow_y": null,
            "padding": null,
            "right": null,
            "top": null,
            "visibility": null,
            "width": null
          }
        },
        "66dccd0b111445799255c07d3d2774be": {
          "model_module": "@jupyter-widgets/controls",
          "model_module_version": "1.5.0",
          "model_name": "DescriptionStyleModel",
          "state": {
            "_model_module": "@jupyter-widgets/controls",
            "_model_module_version": "1.5.0",
            "_model_name": "DescriptionStyleModel",
            "_view_count": null,
            "_view_module": "@jupyter-widgets/base",
            "_view_module_version": "1.2.0",
            "_view_name": "StyleView",
            "description_width": ""
          }
        },
        "670199059d0848f1b86c847a7a823529": {
          "model_module": "@jupyter-widgets/controls",
          "model_module_version": "1.5.0",
          "model_name": "HTMLModel",
          "state": {
            "_dom_classes": [],
            "_model_module": "@jupyter-widgets/controls",
            "_model_module_version": "1.5.0",
            "_model_name": "HTMLModel",
            "_view_count": null,
            "_view_module": "@jupyter-widgets/controls",
            "_view_module_version": "1.5.0",
            "_view_name": "HTMLView",
            "description": "",
            "description_tooltip": null,
            "layout": "IPY_MODEL_aa2087786c8e497f8c7d0c1d95b48100",
            "placeholder": "​",
            "style": "IPY_MODEL_6d12edb40ceb44abbe75940baa5a2a62",
            "value": "Downloading: 100%"
          }
        },
        "679300d86a364d06a5d3267ef338153f": {
          "model_module": "@jupyter-widgets/controls",
          "model_module_version": "1.5.0",
          "model_name": "DescriptionStyleModel",
          "state": {
            "_model_module": "@jupyter-widgets/controls",
            "_model_module_version": "1.5.0",
            "_model_name": "DescriptionStyleModel",
            "_view_count": null,
            "_view_module": "@jupyter-widgets/base",
            "_view_module_version": "1.2.0",
            "_view_name": "StyleView",
            "description_width": ""
          }
        },
        "682a83f0c78946a4add07e8836daa99d": {
          "model_module": "@jupyter-widgets/base",
          "model_module_version": "1.2.0",
          "model_name": "LayoutModel",
          "state": {
            "_model_module": "@jupyter-widgets/base",
            "_model_module_version": "1.2.0",
            "_model_name": "LayoutModel",
            "_view_count": null,
            "_view_module": "@jupyter-widgets/base",
            "_view_module_version": "1.2.0",
            "_view_name": "LayoutView",
            "align_content": null,
            "align_items": null,
            "align_self": null,
            "border": null,
            "bottom": null,
            "display": null,
            "flex": null,
            "flex_flow": null,
            "grid_area": null,
            "grid_auto_columns": null,
            "grid_auto_flow": null,
            "grid_auto_rows": null,
            "grid_column": null,
            "grid_gap": null,
            "grid_row": null,
            "grid_template_areas": null,
            "grid_template_columns": null,
            "grid_template_rows": null,
            "height": null,
            "justify_content": null,
            "justify_items": null,
            "left": null,
            "margin": null,
            "max_height": null,
            "max_width": null,
            "min_height": null,
            "min_width": null,
            "object_fit": null,
            "object_position": null,
            "order": null,
            "overflow": null,
            "overflow_x": null,
            "overflow_y": null,
            "padding": null,
            "right": null,
            "top": null,
            "visibility": null,
            "width": null
          }
        },
        "6bf9e4b7179c4fffa03cee6d2978f728": {
          "model_module": "@jupyter-widgets/controls",
          "model_module_version": "1.5.0",
          "model_name": "ProgressStyleModel",
          "state": {
            "_model_module": "@jupyter-widgets/controls",
            "_model_module_version": "1.5.0",
            "_model_name": "ProgressStyleModel",
            "_view_count": null,
            "_view_module": "@jupyter-widgets/base",
            "_view_module_version": "1.2.0",
            "_view_name": "StyleView",
            "bar_color": null,
            "description_width": ""
          }
        },
        "6d12edb40ceb44abbe75940baa5a2a62": {
          "model_module": "@jupyter-widgets/controls",
          "model_module_version": "1.5.0",
          "model_name": "DescriptionStyleModel",
          "state": {
            "_model_module": "@jupyter-widgets/controls",
            "_model_module_version": "1.5.0",
            "_model_name": "DescriptionStyleModel",
            "_view_count": null,
            "_view_module": "@jupyter-widgets/base",
            "_view_module_version": "1.2.0",
            "_view_name": "StyleView",
            "description_width": ""
          }
        },
        "6d6e7564a74041a5b2ec4a45275a4d65": {
          "model_module": "@jupyter-widgets/base",
          "model_module_version": "1.2.0",
          "model_name": "LayoutModel",
          "state": {
            "_model_module": "@jupyter-widgets/base",
            "_model_module_version": "1.2.0",
            "_model_name": "LayoutModel",
            "_view_count": null,
            "_view_module": "@jupyter-widgets/base",
            "_view_module_version": "1.2.0",
            "_view_name": "LayoutView",
            "align_content": null,
            "align_items": null,
            "align_self": null,
            "border": null,
            "bottom": null,
            "display": null,
            "flex": null,
            "flex_flow": null,
            "grid_area": null,
            "grid_auto_columns": null,
            "grid_auto_flow": null,
            "grid_auto_rows": null,
            "grid_column": null,
            "grid_gap": null,
            "grid_row": null,
            "grid_template_areas": null,
            "grid_template_columns": null,
            "grid_template_rows": null,
            "height": null,
            "justify_content": null,
            "justify_items": null,
            "left": null,
            "margin": null,
            "max_height": null,
            "max_width": null,
            "min_height": null,
            "min_width": null,
            "object_fit": null,
            "object_position": null,
            "order": null,
            "overflow": null,
            "overflow_x": null,
            "overflow_y": null,
            "padding": null,
            "right": null,
            "top": null,
            "visibility": null,
            "width": null
          }
        },
        "72b081f0ca2a46e1a762f59b499cfbad": {
          "model_module": "@jupyter-widgets/base",
          "model_module_version": "1.2.0",
          "model_name": "LayoutModel",
          "state": {
            "_model_module": "@jupyter-widgets/base",
            "_model_module_version": "1.2.0",
            "_model_name": "LayoutModel",
            "_view_count": null,
            "_view_module": "@jupyter-widgets/base",
            "_view_module_version": "1.2.0",
            "_view_name": "LayoutView",
            "align_content": null,
            "align_items": null,
            "align_self": null,
            "border": null,
            "bottom": null,
            "display": null,
            "flex": null,
            "flex_flow": null,
            "grid_area": null,
            "grid_auto_columns": null,
            "grid_auto_flow": null,
            "grid_auto_rows": null,
            "grid_column": null,
            "grid_gap": null,
            "grid_row": null,
            "grid_template_areas": null,
            "grid_template_columns": null,
            "grid_template_rows": null,
            "height": null,
            "justify_content": null,
            "justify_items": null,
            "left": null,
            "margin": null,
            "max_height": null,
            "max_width": null,
            "min_height": null,
            "min_width": null,
            "object_fit": null,
            "object_position": null,
            "order": null,
            "overflow": null,
            "overflow_x": null,
            "overflow_y": null,
            "padding": null,
            "right": null,
            "top": null,
            "visibility": null,
            "width": null
          }
        },
        "74091f94f3df4812ae0f31b63e0a0cc3": {
          "model_module": "@jupyter-widgets/controls",
          "model_module_version": "1.5.0",
          "model_name": "HTMLModel",
          "state": {
            "_dom_classes": [],
            "_model_module": "@jupyter-widgets/controls",
            "_model_module_version": "1.5.0",
            "_model_name": "HTMLModel",
            "_view_count": null,
            "_view_module": "@jupyter-widgets/controls",
            "_view_module_version": "1.5.0",
            "_view_name": "HTMLView",
            "description": "",
            "description_tooltip": null,
            "layout": "IPY_MODEL_06d20d609e0641a385849741dba7f4fd",
            "placeholder": "​",
            "style": "IPY_MODEL_383712e715784b27bd2859bd9d060149",
            "value": "Downloading: 100%"
          }
        },
        "7469afe33f974e11810690300d0ca833": {
          "model_module": "@jupyter-widgets/controls",
          "model_module_version": "1.5.0",
          "model_name": "FloatProgressModel",
          "state": {
            "_dom_classes": [],
            "_model_module": "@jupyter-widgets/controls",
            "_model_module_version": "1.5.0",
            "_model_name": "FloatProgressModel",
            "_view_count": null,
            "_view_module": "@jupyter-widgets/controls",
            "_view_module_version": "1.5.0",
            "_view_name": "ProgressView",
            "bar_style": "success",
            "description": "",
            "description_tooltip": null,
            "layout": "IPY_MODEL_4530ade1762b47aaad9cf81ba9161a59",
            "max": 2,
            "min": 0,
            "orientation": "horizontal",
            "style": "IPY_MODEL_5bdb7a786f4e405c8fb9c4e051d7a53b",
            "value": 2
          }
        },
        "76e6dbf75efc4c83ada094ca282fe885": {
          "model_module": "@jupyter-widgets/base",
          "model_module_version": "1.2.0",
          "model_name": "LayoutModel",
          "state": {
            "_model_module": "@jupyter-widgets/base",
            "_model_module_version": "1.2.0",
            "_model_name": "LayoutModel",
            "_view_count": null,
            "_view_module": "@jupyter-widgets/base",
            "_view_module_version": "1.2.0",
            "_view_name": "LayoutView",
            "align_content": null,
            "align_items": null,
            "align_self": null,
            "border": null,
            "bottom": null,
            "display": null,
            "flex": null,
            "flex_flow": null,
            "grid_area": null,
            "grid_auto_columns": null,
            "grid_auto_flow": null,
            "grid_auto_rows": null,
            "grid_column": null,
            "grid_gap": null,
            "grid_row": null,
            "grid_template_areas": null,
            "grid_template_columns": null,
            "grid_template_rows": null,
            "height": null,
            "justify_content": null,
            "justify_items": null,
            "left": null,
            "margin": null,
            "max_height": null,
            "max_width": null,
            "min_height": null,
            "min_width": null,
            "object_fit": null,
            "object_position": null,
            "order": null,
            "overflow": null,
            "overflow_x": null,
            "overflow_y": null,
            "padding": null,
            "right": null,
            "top": null,
            "visibility": null,
            "width": null
          }
        },
        "7771df5cbb2b4f02aa8dc9dcf5092bbc": {
          "model_module": "@jupyter-widgets/controls",
          "model_module_version": "1.5.0",
          "model_name": "HBoxModel",
          "state": {
            "_dom_classes": [],
            "_model_module": "@jupyter-widgets/controls",
            "_model_module_version": "1.5.0",
            "_model_name": "HBoxModel",
            "_view_count": null,
            "_view_module": "@jupyter-widgets/controls",
            "_view_module_version": "1.5.0",
            "_view_name": "HBoxView",
            "box_style": "",
            "children": [
              "IPY_MODEL_783a97b301b2409a8b14043542ce0455",
              "IPY_MODEL_a5241242436e4b8e8e1fcfd0ada55df7",
              "IPY_MODEL_117a3c66cb304a29ab86ca03ad0da1fe"
            ],
            "layout": "IPY_MODEL_0785cedc05bc4786bd9002a0ac060404"
          }
        },
        "783a97b301b2409a8b14043542ce0455": {
          "model_module": "@jupyter-widgets/controls",
          "model_module_version": "1.5.0",
          "model_name": "HTMLModel",
          "state": {
            "_dom_classes": [],
            "_model_module": "@jupyter-widgets/controls",
            "_model_module_version": "1.5.0",
            "_model_name": "HTMLModel",
            "_view_count": null,
            "_view_module": "@jupyter-widgets/controls",
            "_view_module_version": "1.5.0",
            "_view_name": "HTMLView",
            "description": "",
            "description_tooltip": null,
            "layout": "IPY_MODEL_2baec8d9ca9140dcaf5c179eedd33cf7",
            "placeholder": "​",
            "style": "IPY_MODEL_4549af855555495591483a8e1003feb5",
            "value": "Downloading: 100%"
          }
        },
        "7932562887734ca08721c66435e2b5e7": {
          "model_module": "@jupyter-widgets/controls",
          "model_module_version": "1.5.0",
          "model_name": "DescriptionStyleModel",
          "state": {
            "_model_module": "@jupyter-widgets/controls",
            "_model_module_version": "1.5.0",
            "_model_name": "DescriptionStyleModel",
            "_view_count": null,
            "_view_module": "@jupyter-widgets/base",
            "_view_module_version": "1.2.0",
            "_view_name": "StyleView",
            "description_width": ""
          }
        },
        "79a37b99e65644c6ac8bbf73cbdcfd3d": {
          "model_module": "@jupyter-widgets/controls",
          "model_module_version": "1.5.0",
          "model_name": "HBoxModel",
          "state": {
            "_dom_classes": [],
            "_model_module": "@jupyter-widgets/controls",
            "_model_module_version": "1.5.0",
            "_model_name": "HBoxModel",
            "_view_count": null,
            "_view_module": "@jupyter-widgets/controls",
            "_view_module_version": "1.5.0",
            "_view_name": "HBoxView",
            "box_style": "",
            "children": [
              "IPY_MODEL_670199059d0848f1b86c847a7a823529",
              "IPY_MODEL_7f7395d11236492d84df0dc1b397f278",
              "IPY_MODEL_ee928d4db6ce4ac89775a94d963f5ec4"
            ],
            "layout": "IPY_MODEL_9f426c0155f54c74a78ca663397b82c7"
          }
        },
        "7a2f050e4add4bff878c92695f0aa07e": {
          "model_module": "@jupyter-widgets/controls",
          "model_module_version": "1.5.0",
          "model_name": "HTMLModel",
          "state": {
            "_dom_classes": [],
            "_model_module": "@jupyter-widgets/controls",
            "_model_module_version": "1.5.0",
            "_model_name": "HTMLModel",
            "_view_count": null,
            "_view_module": "@jupyter-widgets/controls",
            "_view_module_version": "1.5.0",
            "_view_name": "HTMLView",
            "description": "",
            "description_tooltip": null,
            "layout": "IPY_MODEL_c84e0d1747f6495ebd291dbbfa9ecbe1",
            "placeholder": "​",
            "style": "IPY_MODEL_cfc43d9740494360b1637410a66867a9",
            "value": "Downloading: 100%"
          }
        },
        "7afefd32e69d49e6a0accce2072107a5": {
          "model_module": "@jupyter-widgets/base",
          "model_module_version": "1.2.0",
          "model_name": "LayoutModel",
          "state": {
            "_model_module": "@jupyter-widgets/base",
            "_model_module_version": "1.2.0",
            "_model_name": "LayoutModel",
            "_view_count": null,
            "_view_module": "@jupyter-widgets/base",
            "_view_module_version": "1.2.0",
            "_view_name": "LayoutView",
            "align_content": null,
            "align_items": null,
            "align_self": null,
            "border": null,
            "bottom": null,
            "display": null,
            "flex": null,
            "flex_flow": null,
            "grid_area": null,
            "grid_auto_columns": null,
            "grid_auto_flow": null,
            "grid_auto_rows": null,
            "grid_column": null,
            "grid_gap": null,
            "grid_row": null,
            "grid_template_areas": null,
            "grid_template_columns": null,
            "grid_template_rows": null,
            "height": null,
            "justify_content": null,
            "justify_items": null,
            "left": null,
            "margin": null,
            "max_height": null,
            "max_width": null,
            "min_height": null,
            "min_width": null,
            "object_fit": null,
            "object_position": null,
            "order": null,
            "overflow": null,
            "overflow_x": null,
            "overflow_y": null,
            "padding": null,
            "right": null,
            "top": null,
            "visibility": null,
            "width": null
          }
        },
        "7e2881a1ee20417e84ca16cf6a3db3e3": {
          "model_module": "@jupyter-widgets/base",
          "model_module_version": "1.2.0",
          "model_name": "LayoutModel",
          "state": {
            "_model_module": "@jupyter-widgets/base",
            "_model_module_version": "1.2.0",
            "_model_name": "LayoutModel",
            "_view_count": null,
            "_view_module": "@jupyter-widgets/base",
            "_view_module_version": "1.2.0",
            "_view_name": "LayoutView",
            "align_content": null,
            "align_items": null,
            "align_self": null,
            "border": null,
            "bottom": null,
            "display": null,
            "flex": null,
            "flex_flow": null,
            "grid_area": null,
            "grid_auto_columns": null,
            "grid_auto_flow": null,
            "grid_auto_rows": null,
            "grid_column": null,
            "grid_gap": null,
            "grid_row": null,
            "grid_template_areas": null,
            "grid_template_columns": null,
            "grid_template_rows": null,
            "height": null,
            "justify_content": null,
            "justify_items": null,
            "left": null,
            "margin": null,
            "max_height": null,
            "max_width": null,
            "min_height": null,
            "min_width": null,
            "object_fit": null,
            "object_position": null,
            "order": null,
            "overflow": null,
            "overflow_x": null,
            "overflow_y": null,
            "padding": null,
            "right": null,
            "top": null,
            "visibility": null,
            "width": null
          }
        },
        "7f3b1795e32f435b9f4ec7f7bb118484": {
          "model_module": "@jupyter-widgets/controls",
          "model_module_version": "1.5.0",
          "model_name": "HTMLModel",
          "state": {
            "_dom_classes": [],
            "_model_module": "@jupyter-widgets/controls",
            "_model_module_version": "1.5.0",
            "_model_name": "HTMLModel",
            "_view_count": null,
            "_view_module": "@jupyter-widgets/controls",
            "_view_module_version": "1.5.0",
            "_view_name": "HTMLView",
            "description": "",
            "description_tooltip": null,
            "layout": "IPY_MODEL_545c7fa82cea400db89e18a4eae1e199",
            "placeholder": "​",
            "style": "IPY_MODEL_679300d86a364d06a5d3267ef338153f",
            "value": "Downloading: 100%"
          }
        },
        "7f53fbba1e024f8095fd2da16eae8172": {
          "model_module": "@jupyter-widgets/controls",
          "model_module_version": "1.5.0",
          "model_name": "HTMLModel",
          "state": {
            "_dom_classes": [],
            "_model_module": "@jupyter-widgets/controls",
            "_model_module_version": "1.5.0",
            "_model_name": "HTMLModel",
            "_view_count": null,
            "_view_module": "@jupyter-widgets/controls",
            "_view_module_version": "1.5.0",
            "_view_name": "HTMLView",
            "description": "",
            "description_tooltip": null,
            "layout": "IPY_MODEL_e5e4a8b5b35846f78140c286a03f22bc",
            "placeholder": "​",
            "style": "IPY_MODEL_309f4377e743471e8d7c225cd8574c92",
            "value": "Downloading: 100%"
          }
        },
        "7f7395d11236492d84df0dc1b397f278": {
          "model_module": "@jupyter-widgets/controls",
          "model_module_version": "1.5.0",
          "model_name": "FloatProgressModel",
          "state": {
            "_dom_classes": [],
            "_model_module": "@jupyter-widgets/controls",
            "_model_module_version": "1.5.0",
            "_model_name": "FloatProgressModel",
            "_view_count": null,
            "_view_module": "@jupyter-widgets/controls",
            "_view_module_version": "1.5.0",
            "_view_name": "ProgressView",
            "bar_style": "success",
            "description": "",
            "description_tooltip": null,
            "layout": "IPY_MODEL_af43f94f638f4bc9b9657ecb6ef8ce1c",
            "max": 438007537,
            "min": 0,
            "orientation": "horizontal",
            "style": "IPY_MODEL_eecaa295ba284a2081bb094fe996edd7",
            "value": 438007537
          }
        },
        "8169b3d5b79349c78193cddfaeb35bb0": {
          "model_module": "@jupyter-widgets/controls",
          "model_module_version": "1.5.0",
          "model_name": "DescriptionStyleModel",
          "state": {
            "_model_module": "@jupyter-widgets/controls",
            "_model_module_version": "1.5.0",
            "_model_name": "DescriptionStyleModel",
            "_view_count": null,
            "_view_module": "@jupyter-widgets/base",
            "_view_module_version": "1.2.0",
            "_view_name": "StyleView",
            "description_width": ""
          }
        },
        "844c53701af043f1940d975721576807": {
          "model_module": "@jupyter-widgets/controls",
          "model_module_version": "1.5.0",
          "model_name": "HBoxModel",
          "state": {
            "_dom_classes": [],
            "_model_module": "@jupyter-widgets/controls",
            "_model_module_version": "1.5.0",
            "_model_name": "HBoxModel",
            "_view_count": null,
            "_view_module": "@jupyter-widgets/controls",
            "_view_module_version": "1.5.0",
            "_view_name": "HBoxView",
            "box_style": "",
            "children": [
              "IPY_MODEL_642d94d2a1d64fc0b5c033126a0940bd",
              "IPY_MODEL_a0dff078a4e04fab8e25ed4aa6360f16",
              "IPY_MODEL_b949057065854dad9436439ade8b81cc"
            ],
            "layout": "IPY_MODEL_bd0c0bd362904668b1eca039827a3d7c"
          }
        },
        "89729ae9f8ee460bb4d4f04e3ae547a7": {
          "model_module": "@jupyter-widgets/controls",
          "model_module_version": "1.5.0",
          "model_name": "ProgressStyleModel",
          "state": {
            "_model_module": "@jupyter-widgets/controls",
            "_model_module_version": "1.5.0",
            "_model_name": "ProgressStyleModel",
            "_view_count": null,
            "_view_module": "@jupyter-widgets/base",
            "_view_module_version": "1.2.0",
            "_view_name": "StyleView",
            "bar_color": null,
            "description_width": ""
          }
        },
        "8e5035d5d73c404183e3f3529f08656b": {
          "model_module": "@jupyter-widgets/controls",
          "model_module_version": "1.5.0",
          "model_name": "ProgressStyleModel",
          "state": {
            "_model_module": "@jupyter-widgets/controls",
            "_model_module_version": "1.5.0",
            "_model_name": "ProgressStyleModel",
            "_view_count": null,
            "_view_module": "@jupyter-widgets/base",
            "_view_module_version": "1.2.0",
            "_view_name": "StyleView",
            "bar_color": null,
            "description_width": ""
          }
        },
        "8e679292cd62468cae20f8f13a4ff8a3": {
          "model_module": "@jupyter-widgets/controls",
          "model_module_version": "1.5.0",
          "model_name": "HTMLModel",
          "state": {
            "_dom_classes": [],
            "_model_module": "@jupyter-widgets/controls",
            "_model_module_version": "1.5.0",
            "_model_name": "HTMLModel",
            "_view_count": null,
            "_view_module": "@jupyter-widgets/controls",
            "_view_module_version": "1.5.0",
            "_view_name": "HTMLView",
            "description": "",
            "description_tooltip": null,
            "layout": "IPY_MODEL_0650b8f4b1484338939011ea8238fcba",
            "placeholder": "​",
            "style": "IPY_MODEL_7932562887734ca08721c66435e2b5e7",
            "value": " 112/112 [00:00&lt;00:00, 2.94kB/s]"
          }
        },
        "900369e3f4544596859fe641f1685d6e": {
          "model_module": "@jupyter-widgets/controls",
          "model_module_version": "1.5.0",
          "model_name": "HTMLModel",
          "state": {
            "_dom_classes": [],
            "_model_module": "@jupyter-widgets/controls",
            "_model_module_version": "1.5.0",
            "_model_name": "HTMLModel",
            "_view_count": null,
            "_view_module": "@jupyter-widgets/controls",
            "_view_module_version": "1.5.0",
            "_view_name": "HTMLView",
            "description": "",
            "description_tooltip": null,
            "layout": "IPY_MODEL_1821efad23a84a149f9c028ff225e4f4",
            "placeholder": "​",
            "style": "IPY_MODEL_03dd88595b2f496cb4ad039294942525",
            "value": " 391/391 [00:00&lt;00:00, 10.3kB/s]"
          }
        },
        "91a49e86ca494ec28a96a789926c5853": {
          "model_module": "@jupyter-widgets/controls",
          "model_module_version": "1.5.0",
          "model_name": "HTMLModel",
          "state": {
            "_dom_classes": [],
            "_model_module": "@jupyter-widgets/controls",
            "_model_module_version": "1.5.0",
            "_model_name": "HTMLModel",
            "_view_count": null,
            "_view_module": "@jupyter-widgets/controls",
            "_view_module_version": "1.5.0",
            "_view_name": "HTMLView",
            "description": "",
            "description_tooltip": null,
            "layout": "IPY_MODEL_627408a4ca19471590efde2d58802cf7",
            "placeholder": "​",
            "style": "IPY_MODEL_169ac27561c04b8193c6812a0aafacb7",
            "value": " 466k/466k [00:00&lt;00:00, 754kB/s]"
          }
        },
        "927c738d185b48b1ae27ff9011e62c1d": {
          "model_module": "@jupyter-widgets/controls",
          "model_module_version": "1.5.0",
          "model_name": "DescriptionStyleModel",
          "state": {
            "_model_module": "@jupyter-widgets/controls",
            "_model_module_version": "1.5.0",
            "_model_name": "DescriptionStyleModel",
            "_view_count": null,
            "_view_module": "@jupyter-widgets/base",
            "_view_module_version": "1.2.0",
            "_view_name": "StyleView",
            "description_width": ""
          }
        },
        "9379e29031e8474288a5629250e58193": {
          "model_module": "@jupyter-widgets/controls",
          "model_module_version": "1.5.0",
          "model_name": "DescriptionStyleModel",
          "state": {
            "_model_module": "@jupyter-widgets/controls",
            "_model_module_version": "1.5.0",
            "_model_name": "DescriptionStyleModel",
            "_view_count": null,
            "_view_module": "@jupyter-widgets/base",
            "_view_module_version": "1.2.0",
            "_view_name": "StyleView",
            "description_width": ""
          }
        },
        "94c74f62cac84389ab3c3ae5298c58d1": {
          "model_module": "@jupyter-widgets/base",
          "model_module_version": "1.2.0",
          "model_name": "LayoutModel",
          "state": {
            "_model_module": "@jupyter-widgets/base",
            "_model_module_version": "1.2.0",
            "_model_name": "LayoutModel",
            "_view_count": null,
            "_view_module": "@jupyter-widgets/base",
            "_view_module_version": "1.2.0",
            "_view_name": "LayoutView",
            "align_content": null,
            "align_items": null,
            "align_self": null,
            "border": null,
            "bottom": null,
            "display": null,
            "flex": null,
            "flex_flow": null,
            "grid_area": null,
            "grid_auto_columns": null,
            "grid_auto_flow": null,
            "grid_auto_rows": null,
            "grid_column": null,
            "grid_gap": null,
            "grid_row": null,
            "grid_template_areas": null,
            "grid_template_columns": null,
            "grid_template_rows": null,
            "height": null,
            "justify_content": null,
            "justify_items": null,
            "left": null,
            "margin": null,
            "max_height": null,
            "max_width": null,
            "min_height": null,
            "min_width": null,
            "object_fit": null,
            "object_position": null,
            "order": null,
            "overflow": null,
            "overflow_x": null,
            "overflow_y": null,
            "padding": null,
            "right": null,
            "top": null,
            "visibility": null,
            "width": null
          }
        },
        "95886c991e164ebda03f9fe0755a6fe7": {
          "model_module": "@jupyter-widgets/controls",
          "model_module_version": "1.5.0",
          "model_name": "HTMLModel",
          "state": {
            "_dom_classes": [],
            "_model_module": "@jupyter-widgets/controls",
            "_model_module_version": "1.5.0",
            "_model_name": "HTMLModel",
            "_view_count": null,
            "_view_module": "@jupyter-widgets/controls",
            "_view_module_version": "1.5.0",
            "_view_name": "HTMLView",
            "description": "",
            "description_tooltip": null,
            "layout": "IPY_MODEL_6370e63a7aa044c1a4c575932d894fdc",
            "placeholder": "​",
            "style": "IPY_MODEL_4c60cfc7e52b4721bf705dbc550ee744",
            "value": " 398/398 [00:00&lt;00:00, 7.54kB/s]"
          }
        },
        "978b75e108ce4639ae698d778086cd3b": {
          "model_module": "@jupyter-widgets/base",
          "model_module_version": "1.2.0",
          "model_name": "LayoutModel",
          "state": {
            "_model_module": "@jupyter-widgets/base",
            "_model_module_version": "1.2.0",
            "_model_name": "LayoutModel",
            "_view_count": null,
            "_view_module": "@jupyter-widgets/base",
            "_view_module_version": "1.2.0",
            "_view_name": "LayoutView",
            "align_content": null,
            "align_items": null,
            "align_self": null,
            "border": null,
            "bottom": null,
            "display": null,
            "flex": null,
            "flex_flow": null,
            "grid_area": null,
            "grid_auto_columns": null,
            "grid_auto_flow": null,
            "grid_auto_rows": null,
            "grid_column": null,
            "grid_gap": null,
            "grid_row": null,
            "grid_template_areas": null,
            "grid_template_columns": null,
            "grid_template_rows": null,
            "height": null,
            "justify_content": null,
            "justify_items": null,
            "left": null,
            "margin": null,
            "max_height": null,
            "max_width": null,
            "min_height": null,
            "min_width": null,
            "object_fit": null,
            "object_position": null,
            "order": null,
            "overflow": null,
            "overflow_x": null,
            "overflow_y": null,
            "padding": null,
            "right": null,
            "top": null,
            "visibility": null,
            "width": null
          }
        },
        "97cd434663cc467cbc3fb9076ea61365": {
          "model_module": "@jupyter-widgets/controls",
          "model_module_version": "1.5.0",
          "model_name": "ProgressStyleModel",
          "state": {
            "_model_module": "@jupyter-widgets/controls",
            "_model_module_version": "1.5.0",
            "_model_name": "ProgressStyleModel",
            "_view_count": null,
            "_view_module": "@jupyter-widgets/base",
            "_view_module_version": "1.2.0",
            "_view_name": "StyleView",
            "bar_color": null,
            "description_width": ""
          }
        },
        "99953428b7e144bf9fe3a741c2981c39": {
          "model_module": "@jupyter-widgets/controls",
          "model_module_version": "1.5.0",
          "model_name": "HTMLModel",
          "state": {
            "_dom_classes": [],
            "_model_module": "@jupyter-widgets/controls",
            "_model_module_version": "1.5.0",
            "_model_name": "HTMLModel",
            "_view_count": null,
            "_view_module": "@jupyter-widgets/controls",
            "_view_module_version": "1.5.0",
            "_view_name": "HTMLView",
            "description": "",
            "description_tooltip": null,
            "layout": "IPY_MODEL_e7d037601ee347a8ab2f4f379553a053",
            "placeholder": "​",
            "style": "IPY_MODEL_6096380c3bc94403bc7f6b473106cd5f",
            "value": " 229/229 [00:00&lt;00:00, 5.78kB/s]"
          }
        },
        "9a7c3a1c4c4448aea03a75a3d7b766b9": {
          "model_module": "@jupyter-widgets/base",
          "model_module_version": "1.2.0",
          "model_name": "LayoutModel",
          "state": {
            "_model_module": "@jupyter-widgets/base",
            "_model_module_version": "1.2.0",
            "_model_name": "LayoutModel",
            "_view_count": null,
            "_view_module": "@jupyter-widgets/base",
            "_view_module_version": "1.2.0",
            "_view_name": "LayoutView",
            "align_content": null,
            "align_items": null,
            "align_self": null,
            "border": null,
            "bottom": null,
            "display": null,
            "flex": null,
            "flex_flow": null,
            "grid_area": null,
            "grid_auto_columns": null,
            "grid_auto_flow": null,
            "grid_auto_rows": null,
            "grid_column": null,
            "grid_gap": null,
            "grid_row": null,
            "grid_template_areas": null,
            "grid_template_columns": null,
            "grid_template_rows": null,
            "height": null,
            "justify_content": null,
            "justify_items": null,
            "left": null,
            "margin": null,
            "max_height": null,
            "max_width": null,
            "min_height": null,
            "min_width": null,
            "object_fit": null,
            "object_position": null,
            "order": null,
            "overflow": null,
            "overflow_x": null,
            "overflow_y": null,
            "padding": null,
            "right": null,
            "top": null,
            "visibility": null,
            "width": null
          }
        },
        "9ab4a1ae763b496a8496142a9a0e3b33": {
          "model_module": "@jupyter-widgets/controls",
          "model_module_version": "1.5.0",
          "model_name": "HTMLModel",
          "state": {
            "_dom_classes": [],
            "_model_module": "@jupyter-widgets/controls",
            "_model_module_version": "1.5.0",
            "_model_name": "HTMLModel",
            "_view_count": null,
            "_view_module": "@jupyter-widgets/controls",
            "_view_module_version": "1.5.0",
            "_view_name": "HTMLView",
            "description": "",
            "description_tooltip": null,
            "layout": "IPY_MODEL_1714f1652a634e7688dc1a81aa3d5ac4",
            "placeholder": "​",
            "style": "IPY_MODEL_54dfcfa9e7824907b0128f9b327b6927",
            "value": " 232k/232k [00:00&lt;00:00, 769kB/s]"
          }
        },
        "9cd521805dd446538b347976a4abe12d": {
          "model_module": "@jupyter-widgets/controls",
          "model_module_version": "1.5.0",
          "model_name": "ProgressStyleModel",
          "state": {
            "_model_module": "@jupyter-widgets/controls",
            "_model_module_version": "1.5.0",
            "_model_name": "ProgressStyleModel",
            "_view_count": null,
            "_view_module": "@jupyter-widgets/base",
            "_view_module_version": "1.2.0",
            "_view_name": "StyleView",
            "bar_color": null,
            "description_width": ""
          }
        },
        "9d71aa8007584c16be3ff8d1c883eb15": {
          "model_module": "@jupyter-widgets/controls",
          "model_module_version": "1.5.0",
          "model_name": "FloatProgressModel",
          "state": {
            "_dom_classes": [],
            "_model_module": "@jupyter-widgets/controls",
            "_model_module_version": "1.5.0",
            "_model_name": "FloatProgressModel",
            "_view_count": null,
            "_view_module": "@jupyter-widgets/controls",
            "_view_module_version": "1.5.0",
            "_view_name": "ProgressView",
            "bar_style": "success",
            "description": "",
            "description_tooltip": null,
            "layout": "IPY_MODEL_38a98db91a6e40a4a1604730620dd487",
            "max": 625,
            "min": 0,
            "orientation": "horizontal",
            "style": "IPY_MODEL_6bf9e4b7179c4fffa03cee6d2978f728",
            "value": 625
          }
        },
        "9df924f4dc2f48c796062da4d4e89364": {
          "model_module": "@jupyter-widgets/controls",
          "model_module_version": "1.5.0",
          "model_name": "ProgressStyleModel",
          "state": {
            "_model_module": "@jupyter-widgets/controls",
            "_model_module_version": "1.5.0",
            "_model_name": "ProgressStyleModel",
            "_view_count": null,
            "_view_module": "@jupyter-widgets/base",
            "_view_module_version": "1.2.0",
            "_view_name": "StyleView",
            "bar_color": null,
            "description_width": ""
          }
        },
        "9e2a01681553418294cb5d028db28e7d": {
          "model_module": "@jupyter-widgets/controls",
          "model_module_version": "1.5.0",
          "model_name": "FloatProgressModel",
          "state": {
            "_dom_classes": [],
            "_model_module": "@jupyter-widgets/controls",
            "_model_module_version": "1.5.0",
            "_model_name": "FloatProgressModel",
            "_view_count": null,
            "_view_module": "@jupyter-widgets/controls",
            "_view_module_version": "1.5.0",
            "_view_name": "ProgressView",
            "bar_style": "success",
            "description": "",
            "description_tooltip": null,
            "layout": "IPY_MODEL_bcb93b2727f145d2957095f3c161e1b9",
            "max": 112,
            "min": 0,
            "orientation": "horizontal",
            "style": "IPY_MODEL_89729ae9f8ee460bb4d4f04e3ae547a7",
            "value": 112
          }
        },
        "9ea1c960dcd64a45936594ec7b6416e6": {
          "model_module": "@jupyter-widgets/controls",
          "model_module_version": "1.5.0",
          "model_name": "ProgressStyleModel",
          "state": {
            "_model_module": "@jupyter-widgets/controls",
            "_model_module_version": "1.5.0",
            "_model_name": "ProgressStyleModel",
            "_view_count": null,
            "_view_module": "@jupyter-widgets/base",
            "_view_module_version": "1.2.0",
            "_view_name": "StyleView",
            "bar_color": null,
            "description_width": ""
          }
        },
        "9f426c0155f54c74a78ca663397b82c7": {
          "model_module": "@jupyter-widgets/base",
          "model_module_version": "1.2.0",
          "model_name": "LayoutModel",
          "state": {
            "_model_module": "@jupyter-widgets/base",
            "_model_module_version": "1.2.0",
            "_model_name": "LayoutModel",
            "_view_count": null,
            "_view_module": "@jupyter-widgets/base",
            "_view_module_version": "1.2.0",
            "_view_name": "LayoutView",
            "align_content": null,
            "align_items": null,
            "align_self": null,
            "border": null,
            "bottom": null,
            "display": null,
            "flex": null,
            "flex_flow": null,
            "grid_area": null,
            "grid_auto_columns": null,
            "grid_auto_flow": null,
            "grid_auto_rows": null,
            "grid_column": null,
            "grid_gap": null,
            "grid_row": null,
            "grid_template_areas": null,
            "grid_template_columns": null,
            "grid_template_rows": null,
            "height": null,
            "justify_content": null,
            "justify_items": null,
            "left": null,
            "margin": null,
            "max_height": null,
            "max_width": null,
            "min_height": null,
            "min_width": null,
            "object_fit": null,
            "object_position": null,
            "order": null,
            "overflow": null,
            "overflow_x": null,
            "overflow_y": null,
            "padding": null,
            "right": null,
            "top": null,
            "visibility": null,
            "width": null
          }
        },
        "9fb74c1c08be40ec9e6d092176b32d66": {
          "model_module": "@jupyter-widgets/base",
          "model_module_version": "1.2.0",
          "model_name": "LayoutModel",
          "state": {
            "_model_module": "@jupyter-widgets/base",
            "_model_module_version": "1.2.0",
            "_model_name": "LayoutModel",
            "_view_count": null,
            "_view_module": "@jupyter-widgets/base",
            "_view_module_version": "1.2.0",
            "_view_name": "LayoutView",
            "align_content": null,
            "align_items": null,
            "align_self": null,
            "border": null,
            "bottom": null,
            "display": null,
            "flex": null,
            "flex_flow": null,
            "grid_area": null,
            "grid_auto_columns": null,
            "grid_auto_flow": null,
            "grid_auto_rows": null,
            "grid_column": null,
            "grid_gap": null,
            "grid_row": null,
            "grid_template_areas": null,
            "grid_template_columns": null,
            "grid_template_rows": null,
            "height": null,
            "justify_content": null,
            "justify_items": null,
            "left": null,
            "margin": null,
            "max_height": null,
            "max_width": null,
            "min_height": null,
            "min_width": null,
            "object_fit": null,
            "object_position": null,
            "order": null,
            "overflow": null,
            "overflow_x": null,
            "overflow_y": null,
            "padding": null,
            "right": null,
            "top": null,
            "visibility": null,
            "width": null
          }
        },
        "a0dff078a4e04fab8e25ed4aa6360f16": {
          "model_module": "@jupyter-widgets/controls",
          "model_module_version": "1.5.0",
          "model_name": "FloatProgressModel",
          "state": {
            "_dom_classes": [],
            "_model_module": "@jupyter-widgets/controls",
            "_model_module_version": "1.5.0",
            "_model_name": "FloatProgressModel",
            "_view_count": null,
            "_view_module": "@jupyter-widgets/controls",
            "_view_module_version": "1.5.0",
            "_view_name": "ProgressView",
            "bar_style": "success",
            "description": "",
            "description_tooltip": null,
            "layout": "IPY_MODEL_034b8a6f790a4710a22c86ae9343b950",
            "max": 1109903089,
            "min": 0,
            "orientation": "horizontal",
            "style": "IPY_MODEL_fe8ef96bd021437388dbc9e7e0e3e104",
            "value": 1109903089
          }
        },
        "a0eb99f1d9794fcea157871b1b2836d4": {
          "model_module": "@jupyter-widgets/controls",
          "model_module_version": "1.5.0",
          "model_name": "HTMLModel",
          "state": {
            "_dom_classes": [],
            "_model_module": "@jupyter-widgets/controls",
            "_model_module_version": "1.5.0",
            "_model_name": "HTMLModel",
            "_view_count": null,
            "_view_module": "@jupyter-widgets/controls",
            "_view_module_version": "1.5.0",
            "_view_name": "HTMLView",
            "description": "",
            "description_tooltip": null,
            "layout": "IPY_MODEL_e3d57956de5d42c8964812fe023e6475",
            "placeholder": "​",
            "style": "IPY_MODEL_ef9b43eb610740d7839b5ff9ab8ddefa",
            "value": " 399/399 [00:00&lt;00:00, 6.66kB/s]"
          }
        },
        "a11d951a7ad34fc0be3b585166ba611f": {
          "model_module": "@jupyter-widgets/controls",
          "model_module_version": "1.5.0",
          "model_name": "HTMLModel",
          "state": {
            "_dom_classes": [],
            "_model_module": "@jupyter-widgets/controls",
            "_model_module_version": "1.5.0",
            "_model_name": "HTMLModel",
            "_view_count": null,
            "_view_module": "@jupyter-widgets/controls",
            "_view_module_version": "1.5.0",
            "_view_name": "HTMLView",
            "description": "",
            "description_tooltip": null,
            "layout": "IPY_MODEL_3550ab1680c24058a8e8878df01fbfed",
            "placeholder": "​",
            "style": "IPY_MODEL_feb14dd040fc49ae9576870f6a88f3b6",
            "value": "Downloading: 100%"
          }
        },
        "a15fdff7e11946418d1622cc7fc55a87": {
          "model_module": "@jupyter-widgets/controls",
          "model_module_version": "1.5.0",
          "model_name": "DescriptionStyleModel",
          "state": {
            "_model_module": "@jupyter-widgets/controls",
            "_model_module_version": "1.5.0",
            "_model_name": "DescriptionStyleModel",
            "_view_count": null,
            "_view_module": "@jupyter-widgets/base",
            "_view_module_version": "1.2.0",
            "_view_name": "StyleView",
            "description_width": ""
          }
        },
        "a2a9eb8e17074d5db4f1cab6ef805d14": {
          "model_module": "@jupyter-widgets/controls",
          "model_module_version": "1.5.0",
          "model_name": "FloatProgressModel",
          "state": {
            "_dom_classes": [],
            "_model_module": "@jupyter-widgets/controls",
            "_model_module_version": "1.5.0",
            "_model_name": "FloatProgressModel",
            "_view_count": null,
            "_view_module": "@jupyter-widgets/controls",
            "_view_module_version": "1.5.0",
            "_view_name": "ProgressView",
            "bar_style": "success",
            "description": "",
            "description_tooltip": null,
            "layout": "IPY_MODEL_4e6a4b12f7854935a774fc53dc535b12",
            "max": 53,
            "min": 0,
            "orientation": "horizontal",
            "style": "IPY_MODEL_97cd434663cc467cbc3fb9076ea61365",
            "value": 53
          }
        },
        "a2b36beacdac440b82cdfec0bf81caf9": {
          "model_module": "@jupyter-widgets/base",
          "model_module_version": "1.2.0",
          "model_name": "LayoutModel",
          "state": {
            "_model_module": "@jupyter-widgets/base",
            "_model_module_version": "1.2.0",
            "_model_name": "LayoutModel",
            "_view_count": null,
            "_view_module": "@jupyter-widgets/base",
            "_view_module_version": "1.2.0",
            "_view_name": "LayoutView",
            "align_content": null,
            "align_items": null,
            "align_self": null,
            "border": null,
            "bottom": null,
            "display": null,
            "flex": null,
            "flex_flow": null,
            "grid_area": null,
            "grid_auto_columns": null,
            "grid_auto_flow": null,
            "grid_auto_rows": null,
            "grid_column": null,
            "grid_gap": null,
            "grid_row": null,
            "grid_template_areas": null,
            "grid_template_columns": null,
            "grid_template_rows": null,
            "height": null,
            "justify_content": null,
            "justify_items": null,
            "left": null,
            "margin": null,
            "max_height": null,
            "max_width": null,
            "min_height": null,
            "min_width": null,
            "object_fit": null,
            "object_position": null,
            "order": null,
            "overflow": null,
            "overflow_x": null,
            "overflow_y": null,
            "padding": null,
            "right": null,
            "top": null,
            "visibility": null,
            "width": null
          }
        },
        "a2d7f290ae3946f1a724396aecb20e41": {
          "model_module": "@jupyter-widgets/controls",
          "model_module_version": "1.5.0",
          "model_name": "ProgressStyleModel",
          "state": {
            "_model_module": "@jupyter-widgets/controls",
            "_model_module_version": "1.5.0",
            "_model_name": "ProgressStyleModel",
            "_view_count": null,
            "_view_module": "@jupyter-widgets/base",
            "_view_module_version": "1.2.0",
            "_view_name": "StyleView",
            "bar_color": null,
            "description_width": ""
          }
        },
        "a4201e608654450f912944757bb9d794": {
          "model_module": "@jupyter-widgets/controls",
          "model_module_version": "1.5.0",
          "model_name": "HBoxModel",
          "state": {
            "_dom_classes": [],
            "_model_module": "@jupyter-widgets/controls",
            "_model_module_version": "1.5.0",
            "_model_name": "HBoxModel",
            "_view_count": null,
            "_view_module": "@jupyter-widgets/controls",
            "_view_module_version": "1.5.0",
            "_view_name": "HBoxView",
            "box_style": "",
            "children": [
              "IPY_MODEL_74091f94f3df4812ae0f31b63e0a0cc3",
              "IPY_MODEL_7469afe33f974e11810690300d0ca833",
              "IPY_MODEL_5a75f6af750b4673a67e5c47bc82ea4b"
            ],
            "layout": "IPY_MODEL_3251f1c199114400a6de887337bc1cf0"
          }
        },
        "a51d8eb3e3c04ee29860f68c3adc295c": {
          "model_module": "@jupyter-widgets/base",
          "model_module_version": "1.2.0",
          "model_name": "LayoutModel",
          "state": {
            "_model_module": "@jupyter-widgets/base",
            "_model_module_version": "1.2.0",
            "_model_name": "LayoutModel",
            "_view_count": null,
            "_view_module": "@jupyter-widgets/base",
            "_view_module_version": "1.2.0",
            "_view_name": "LayoutView",
            "align_content": null,
            "align_items": null,
            "align_self": null,
            "border": null,
            "bottom": null,
            "display": null,
            "flex": null,
            "flex_flow": null,
            "grid_area": null,
            "grid_auto_columns": null,
            "grid_auto_flow": null,
            "grid_auto_rows": null,
            "grid_column": null,
            "grid_gap": null,
            "grid_row": null,
            "grid_template_areas": null,
            "grid_template_columns": null,
            "grid_template_rows": null,
            "height": null,
            "justify_content": null,
            "justify_items": null,
            "left": null,
            "margin": null,
            "max_height": null,
            "max_width": null,
            "min_height": null,
            "min_width": null,
            "object_fit": null,
            "object_position": null,
            "order": null,
            "overflow": null,
            "overflow_x": null,
            "overflow_y": null,
            "padding": null,
            "right": null,
            "top": null,
            "visibility": null,
            "width": null
          }
        },
        "a5241242436e4b8e8e1fcfd0ada55df7": {
          "model_module": "@jupyter-widgets/controls",
          "model_module_version": "1.5.0",
          "model_name": "FloatProgressModel",
          "state": {
            "_dom_classes": [],
            "_model_module": "@jupyter-widgets/controls",
            "_model_module_version": "1.5.0",
            "_model_name": "FloatProgressModel",
            "_view_count": null,
            "_view_module": "@jupyter-widgets/controls",
            "_view_module_version": "1.5.0",
            "_view_name": "ProgressView",
            "bar_style": "success",
            "description": "",
            "description_tooltip": null,
            "layout": "IPY_MODEL_2502b1a10f3b4974bb6b21ce942dbb5d",
            "max": 239,
            "min": 0,
            "orientation": "horizontal",
            "style": "IPY_MODEL_a2d7f290ae3946f1a724396aecb20e41",
            "value": 239
          }
        },
        "aa2087786c8e497f8c7d0c1d95b48100": {
          "model_module": "@jupyter-widgets/base",
          "model_module_version": "1.2.0",
          "model_name": "LayoutModel",
          "state": {
            "_model_module": "@jupyter-widgets/base",
            "_model_module_version": "1.2.0",
            "_model_name": "LayoutModel",
            "_view_count": null,
            "_view_module": "@jupyter-widgets/base",
            "_view_module_version": "1.2.0",
            "_view_name": "LayoutView",
            "align_content": null,
            "align_items": null,
            "align_self": null,
            "border": null,
            "bottom": null,
            "display": null,
            "flex": null,
            "flex_flow": null,
            "grid_area": null,
            "grid_auto_columns": null,
            "grid_auto_flow": null,
            "grid_auto_rows": null,
            "grid_column": null,
            "grid_gap": null,
            "grid_row": null,
            "grid_template_areas": null,
            "grid_template_columns": null,
            "grid_template_rows": null,
            "height": null,
            "justify_content": null,
            "justify_items": null,
            "left": null,
            "margin": null,
            "max_height": null,
            "max_width": null,
            "min_height": null,
            "min_width": null,
            "object_fit": null,
            "object_position": null,
            "order": null,
            "overflow": null,
            "overflow_x": null,
            "overflow_y": null,
            "padding": null,
            "right": null,
            "top": null,
            "visibility": null,
            "width": null
          }
        },
        "aba3b00991b14babbff37eae078be759": {
          "model_module": "@jupyter-widgets/controls",
          "model_module_version": "1.5.0",
          "model_name": "HTMLModel",
          "state": {
            "_dom_classes": [],
            "_model_module": "@jupyter-widgets/controls",
            "_model_module_version": "1.5.0",
            "_model_name": "HTMLModel",
            "_view_count": null,
            "_view_module": "@jupyter-widgets/controls",
            "_view_module_version": "1.5.0",
            "_view_name": "HTMLView",
            "description": "",
            "description_tooltip": null,
            "layout": "IPY_MODEL_cef35ba71ea44da4aba415b84cc09354",
            "placeholder": "​",
            "style": "IPY_MODEL_0b799aae39f64f4da9a53a9ae63bede3",
            "value": " 8.66M/8.66M [00:01&lt;00:00, 10.0MB/s]"
          }
        },
        "ace6bb23179f4eb58b54cacf4a272500": {
          "model_module": "@jupyter-widgets/base",
          "model_module_version": "1.2.0",
          "model_name": "LayoutModel",
          "state": {
            "_model_module": "@jupyter-widgets/base",
            "_model_module_version": "1.2.0",
            "_model_name": "LayoutModel",
            "_view_count": null,
            "_view_module": "@jupyter-widgets/base",
            "_view_module_version": "1.2.0",
            "_view_name": "LayoutView",
            "align_content": null,
            "align_items": null,
            "align_self": null,
            "border": null,
            "bottom": null,
            "display": null,
            "flex": null,
            "flex_flow": null,
            "grid_area": null,
            "grid_auto_columns": null,
            "grid_auto_flow": null,
            "grid_auto_rows": null,
            "grid_column": null,
            "grid_gap": null,
            "grid_row": null,
            "grid_template_areas": null,
            "grid_template_columns": null,
            "grid_template_rows": null,
            "height": null,
            "justify_content": null,
            "justify_items": null,
            "left": null,
            "margin": null,
            "max_height": null,
            "max_width": null,
            "min_height": null,
            "min_width": null,
            "object_fit": null,
            "object_position": null,
            "order": null,
            "overflow": null,
            "overflow_x": null,
            "overflow_y": null,
            "padding": null,
            "right": null,
            "top": null,
            "visibility": null,
            "width": null
          }
        },
        "af43f94f638f4bc9b9657ecb6ef8ce1c": {
          "model_module": "@jupyter-widgets/base",
          "model_module_version": "1.2.0",
          "model_name": "LayoutModel",
          "state": {
            "_model_module": "@jupyter-widgets/base",
            "_model_module_version": "1.2.0",
            "_model_name": "LayoutModel",
            "_view_count": null,
            "_view_module": "@jupyter-widgets/base",
            "_view_module_version": "1.2.0",
            "_view_name": "LayoutView",
            "align_content": null,
            "align_items": null,
            "align_self": null,
            "border": null,
            "bottom": null,
            "display": null,
            "flex": null,
            "flex_flow": null,
            "grid_area": null,
            "grid_auto_columns": null,
            "grid_auto_flow": null,
            "grid_auto_rows": null,
            "grid_column": null,
            "grid_gap": null,
            "grid_row": null,
            "grid_template_areas": null,
            "grid_template_columns": null,
            "grid_template_rows": null,
            "height": null,
            "justify_content": null,
            "justify_items": null,
            "left": null,
            "margin": null,
            "max_height": null,
            "max_width": null,
            "min_height": null,
            "min_width": null,
            "object_fit": null,
            "object_position": null,
            "order": null,
            "overflow": null,
            "overflow_x": null,
            "overflow_y": null,
            "padding": null,
            "right": null,
            "top": null,
            "visibility": null,
            "width": null
          }
        },
        "af446ab8e5134d898695c1a6343d7be5": {
          "model_module": "@jupyter-widgets/controls",
          "model_module_version": "1.5.0",
          "model_name": "FloatProgressModel",
          "state": {
            "_dom_classes": [],
            "_model_module": "@jupyter-widgets/controls",
            "_model_module_version": "1.5.0",
            "_model_name": "FloatProgressModel",
            "_view_count": null,
            "_view_module": "@jupyter-widgets/controls",
            "_view_module_version": "1.5.0",
            "_view_name": "ProgressView",
            "bar_style": "success",
            "description": "",
            "description_tooltip": null,
            "layout": "IPY_MODEL_da76ef6a9c224100a7ed07fe37673215",
            "max": 9081351,
            "min": 0,
            "orientation": "horizontal",
            "style": "IPY_MODEL_31bdf325c0ac485db466daab0cf0b412",
            "value": 9081351
          }
        },
        "b22ac4f5b8ca4a28ad11dd84890e2193": {
          "model_module": "@jupyter-widgets/controls",
          "model_module_version": "1.5.0",
          "model_name": "HBoxModel",
          "state": {
            "_dom_classes": [],
            "_model_module": "@jupyter-widgets/controls",
            "_model_module_version": "1.5.0",
            "_model_name": "HBoxModel",
            "_view_count": null,
            "_view_module": "@jupyter-widgets/controls",
            "_view_module_version": "1.5.0",
            "_view_name": "HBoxView",
            "box_style": "",
            "children": [
              "IPY_MODEL_7a2f050e4add4bff878c92695f0aa07e",
              "IPY_MODEL_4d7d06ef41ac440cacce583d7ca046a6",
              "IPY_MODEL_900369e3f4544596859fe641f1685d6e"
            ],
            "layout": "IPY_MODEL_bd7416d3ff104e0b9b906977eb6f6117"
          }
        },
        "b27faebaaf4d419788ad1cdf7d7b5618": {
          "model_module": "@jupyter-widgets/controls",
          "model_module_version": "1.5.0",
          "model_name": "DescriptionStyleModel",
          "state": {
            "_model_module": "@jupyter-widgets/controls",
            "_model_module_version": "1.5.0",
            "_model_name": "DescriptionStyleModel",
            "_view_count": null,
            "_view_module": "@jupyter-widgets/base",
            "_view_module_version": "1.2.0",
            "_view_name": "StyleView",
            "description_width": ""
          }
        },
        "b31fe5e5ba1345b79a0162c12e12c803": {
          "model_module": "@jupyter-widgets/controls",
          "model_module_version": "1.5.0",
          "model_name": "HTMLModel",
          "state": {
            "_dom_classes": [],
            "_model_module": "@jupyter-widgets/controls",
            "_model_module_version": "1.5.0",
            "_model_name": "HTMLModel",
            "_view_count": null,
            "_view_module": "@jupyter-widgets/controls",
            "_view_module_version": "1.5.0",
            "_view_name": "HTMLView",
            "description": "",
            "description_tooltip": null,
            "layout": "IPY_MODEL_94c74f62cac84389ab3c3ae5298c58d1",
            "placeholder": "​",
            "style": "IPY_MODEL_5ce3f7f5448f4807b44ea51626be8f48",
            "value": " 122/122 [00:00&lt;00:00, 3.36kB/s]"
          }
        },
        "b32b68ad185840dcbbd5198f9db90882": {
          "model_module": "@jupyter-widgets/base",
          "model_module_version": "1.2.0",
          "model_name": "LayoutModel",
          "state": {
            "_model_module": "@jupyter-widgets/base",
            "_model_module_version": "1.2.0",
            "_model_name": "LayoutModel",
            "_view_count": null,
            "_view_module": "@jupyter-widgets/base",
            "_view_module_version": "1.2.0",
            "_view_name": "LayoutView",
            "align_content": null,
            "align_items": null,
            "align_self": null,
            "border": null,
            "bottom": null,
            "display": null,
            "flex": null,
            "flex_flow": null,
            "grid_area": null,
            "grid_auto_columns": null,
            "grid_auto_flow": null,
            "grid_auto_rows": null,
            "grid_column": null,
            "grid_gap": null,
            "grid_row": null,
            "grid_template_areas": null,
            "grid_template_columns": null,
            "grid_template_rows": null,
            "height": null,
            "justify_content": null,
            "justify_items": null,
            "left": null,
            "margin": null,
            "max_height": null,
            "max_width": null,
            "min_height": null,
            "min_width": null,
            "object_fit": null,
            "object_position": null,
            "order": null,
            "overflow": null,
            "overflow_x": null,
            "overflow_y": null,
            "padding": null,
            "right": null,
            "top": null,
            "visibility": null,
            "width": null
          }
        },
        "b50d93d47dfe44989675a429d321c4cf": {
          "model_module": "@jupyter-widgets/controls",
          "model_module_version": "1.5.0",
          "model_name": "DescriptionStyleModel",
          "state": {
            "_model_module": "@jupyter-widgets/controls",
            "_model_module_version": "1.5.0",
            "_model_name": "DescriptionStyleModel",
            "_view_count": null,
            "_view_module": "@jupyter-widgets/base",
            "_view_module_version": "1.2.0",
            "_view_name": "StyleView",
            "description_width": ""
          }
        },
        "b6c1e8df855e4538ac3ab0a56072a67d": {
          "model_module": "@jupyter-widgets/base",
          "model_module_version": "1.2.0",
          "model_name": "LayoutModel",
          "state": {
            "_model_module": "@jupyter-widgets/base",
            "_model_module_version": "1.2.0",
            "_model_name": "LayoutModel",
            "_view_count": null,
            "_view_module": "@jupyter-widgets/base",
            "_view_module_version": "1.2.0",
            "_view_name": "LayoutView",
            "align_content": null,
            "align_items": null,
            "align_self": null,
            "border": null,
            "bottom": null,
            "display": null,
            "flex": null,
            "flex_flow": null,
            "grid_area": null,
            "grid_auto_columns": null,
            "grid_auto_flow": null,
            "grid_auto_rows": null,
            "grid_column": null,
            "grid_gap": null,
            "grid_row": null,
            "grid_template_areas": null,
            "grid_template_columns": null,
            "grid_template_rows": null,
            "height": null,
            "justify_content": null,
            "justify_items": null,
            "left": null,
            "margin": null,
            "max_height": null,
            "max_width": null,
            "min_height": null,
            "min_width": null,
            "object_fit": null,
            "object_position": null,
            "order": null,
            "overflow": null,
            "overflow_x": null,
            "overflow_y": null,
            "padding": null,
            "right": null,
            "top": null,
            "visibility": null,
            "width": null
          }
        },
        "b6c8c78f5d69433792a43a5baf4bc75d": {
          "model_module": "@jupyter-widgets/base",
          "model_module_version": "1.2.0",
          "model_name": "LayoutModel",
          "state": {
            "_model_module": "@jupyter-widgets/base",
            "_model_module_version": "1.2.0",
            "_model_name": "LayoutModel",
            "_view_count": null,
            "_view_module": "@jupyter-widgets/base",
            "_view_module_version": "1.2.0",
            "_view_name": "LayoutView",
            "align_content": null,
            "align_items": null,
            "align_self": null,
            "border": null,
            "bottom": null,
            "display": null,
            "flex": null,
            "flex_flow": null,
            "grid_area": null,
            "grid_auto_columns": null,
            "grid_auto_flow": null,
            "grid_auto_rows": null,
            "grid_column": null,
            "grid_gap": null,
            "grid_row": null,
            "grid_template_areas": null,
            "grid_template_columns": null,
            "grid_template_rows": null,
            "height": null,
            "justify_content": null,
            "justify_items": null,
            "left": null,
            "margin": null,
            "max_height": null,
            "max_width": null,
            "min_height": null,
            "min_width": null,
            "object_fit": null,
            "object_position": null,
            "order": null,
            "overflow": null,
            "overflow_x": null,
            "overflow_y": null,
            "padding": null,
            "right": null,
            "top": null,
            "visibility": null,
            "width": null
          }
        },
        "b74ec19063be48d2ad107d03c9e6f079": {
          "model_module": "@jupyter-widgets/base",
          "model_module_version": "1.2.0",
          "model_name": "LayoutModel",
          "state": {
            "_model_module": "@jupyter-widgets/base",
            "_model_module_version": "1.2.0",
            "_model_name": "LayoutModel",
            "_view_count": null,
            "_view_module": "@jupyter-widgets/base",
            "_view_module_version": "1.2.0",
            "_view_name": "LayoutView",
            "align_content": null,
            "align_items": null,
            "align_self": null,
            "border": null,
            "bottom": null,
            "display": null,
            "flex": null,
            "flex_flow": null,
            "grid_area": null,
            "grid_auto_columns": null,
            "grid_auto_flow": null,
            "grid_auto_rows": null,
            "grid_column": null,
            "grid_gap": null,
            "grid_row": null,
            "grid_template_areas": null,
            "grid_template_columns": null,
            "grid_template_rows": null,
            "height": null,
            "justify_content": null,
            "justify_items": null,
            "left": null,
            "margin": null,
            "max_height": null,
            "max_width": null,
            "min_height": null,
            "min_width": null,
            "object_fit": null,
            "object_position": null,
            "order": null,
            "overflow": null,
            "overflow_x": null,
            "overflow_y": null,
            "padding": null,
            "right": null,
            "top": null,
            "visibility": null,
            "width": null
          }
        },
        "b81ead8ba83541008b2518e8948c974d": {
          "model_module": "@jupyter-widgets/base",
          "model_module_version": "1.2.0",
          "model_name": "LayoutModel",
          "state": {
            "_model_module": "@jupyter-widgets/base",
            "_model_module_version": "1.2.0",
            "_model_name": "LayoutModel",
            "_view_count": null,
            "_view_module": "@jupyter-widgets/base",
            "_view_module_version": "1.2.0",
            "_view_name": "LayoutView",
            "align_content": null,
            "align_items": null,
            "align_self": null,
            "border": null,
            "bottom": null,
            "display": null,
            "flex": null,
            "flex_flow": null,
            "grid_area": null,
            "grid_auto_columns": null,
            "grid_auto_flow": null,
            "grid_auto_rows": null,
            "grid_column": null,
            "grid_gap": null,
            "grid_row": null,
            "grid_template_areas": null,
            "grid_template_columns": null,
            "grid_template_rows": null,
            "height": null,
            "justify_content": null,
            "justify_items": null,
            "left": null,
            "margin": null,
            "max_height": null,
            "max_width": null,
            "min_height": null,
            "min_width": null,
            "object_fit": null,
            "object_position": null,
            "order": null,
            "overflow": null,
            "overflow_x": null,
            "overflow_y": null,
            "padding": null,
            "right": null,
            "top": null,
            "visibility": null,
            "width": null
          }
        },
        "b949057065854dad9436439ade8b81cc": {
          "model_module": "@jupyter-widgets/controls",
          "model_module_version": "1.5.0",
          "model_name": "HTMLModel",
          "state": {
            "_dom_classes": [],
            "_model_module": "@jupyter-widgets/controls",
            "_model_module_version": "1.5.0",
            "_model_name": "HTMLModel",
            "_view_count": null,
            "_view_module": "@jupyter-widgets/controls",
            "_view_module_version": "1.5.0",
            "_view_name": "HTMLView",
            "description": "",
            "description_tooltip": null,
            "layout": "IPY_MODEL_b74ec19063be48d2ad107d03c9e6f079",
            "placeholder": "​",
            "style": "IPY_MODEL_b50d93d47dfe44989675a429d321c4cf",
            "value": " 1.03G/1.03G [00:30&lt;00:00, 32.6MB/s]"
          }
        },
        "ba4119ad7c4140899c6c570a140603c8": {
          "model_module": "@jupyter-widgets/controls",
          "model_module_version": "1.5.0",
          "model_name": "HTMLModel",
          "state": {
            "_dom_classes": [],
            "_model_module": "@jupyter-widgets/controls",
            "_model_module_version": "1.5.0",
            "_model_name": "HTMLModel",
            "_view_count": null,
            "_view_module": "@jupyter-widgets/controls",
            "_view_module_version": "1.5.0",
            "_view_name": "HTMLView",
            "description": "",
            "description_tooltip": null,
            "layout": "IPY_MODEL_fa8b8f3b034144b49eeb73162da854da",
            "placeholder": "​",
            "style": "IPY_MODEL_539c1eecf028497194bc467a1f583e1e",
            "value": " 190/190 [00:00&lt;00:00, 3.41kB/s]"
          }
        },
        "bcb93b2727f145d2957095f3c161e1b9": {
          "model_module": "@jupyter-widgets/base",
          "model_module_version": "1.2.0",
          "model_name": "LayoutModel",
          "state": {
            "_model_module": "@jupyter-widgets/base",
            "_model_module_version": "1.2.0",
            "_model_name": "LayoutModel",
            "_view_count": null,
            "_view_module": "@jupyter-widgets/base",
            "_view_module_version": "1.2.0",
            "_view_name": "LayoutView",
            "align_content": null,
            "align_items": null,
            "align_self": null,
            "border": null,
            "bottom": null,
            "display": null,
            "flex": null,
            "flex_flow": null,
            "grid_area": null,
            "grid_auto_columns": null,
            "grid_auto_flow": null,
            "grid_auto_rows": null,
            "grid_column": null,
            "grid_gap": null,
            "grid_row": null,
            "grid_template_areas": null,
            "grid_template_columns": null,
            "grid_template_rows": null,
            "height": null,
            "justify_content": null,
            "justify_items": null,
            "left": null,
            "margin": null,
            "max_height": null,
            "max_width": null,
            "min_height": null,
            "min_width": null,
            "object_fit": null,
            "object_position": null,
            "order": null,
            "overflow": null,
            "overflow_x": null,
            "overflow_y": null,
            "padding": null,
            "right": null,
            "top": null,
            "visibility": null,
            "width": null
          }
        },
        "bd0c0bd362904668b1eca039827a3d7c": {
          "model_module": "@jupyter-widgets/base",
          "model_module_version": "1.2.0",
          "model_name": "LayoutModel",
          "state": {
            "_model_module": "@jupyter-widgets/base",
            "_model_module_version": "1.2.0",
            "_model_name": "LayoutModel",
            "_view_count": null,
            "_view_module": "@jupyter-widgets/base",
            "_view_module_version": "1.2.0",
            "_view_name": "LayoutView",
            "align_content": null,
            "align_items": null,
            "align_self": null,
            "border": null,
            "bottom": null,
            "display": null,
            "flex": null,
            "flex_flow": null,
            "grid_area": null,
            "grid_auto_columns": null,
            "grid_auto_flow": null,
            "grid_auto_rows": null,
            "grid_column": null,
            "grid_gap": null,
            "grid_row": null,
            "grid_template_areas": null,
            "grid_template_columns": null,
            "grid_template_rows": null,
            "height": null,
            "justify_content": null,
            "justify_items": null,
            "left": null,
            "margin": null,
            "max_height": null,
            "max_width": null,
            "min_height": null,
            "min_width": null,
            "object_fit": null,
            "object_position": null,
            "order": null,
            "overflow": null,
            "overflow_x": null,
            "overflow_y": null,
            "padding": null,
            "right": null,
            "top": null,
            "visibility": null,
            "width": null
          }
        },
        "bd7416d3ff104e0b9b906977eb6f6117": {
          "model_module": "@jupyter-widgets/base",
          "model_module_version": "1.2.0",
          "model_name": "LayoutModel",
          "state": {
            "_model_module": "@jupyter-widgets/base",
            "_model_module_version": "1.2.0",
            "_model_name": "LayoutModel",
            "_view_count": null,
            "_view_module": "@jupyter-widgets/base",
            "_view_module_version": "1.2.0",
            "_view_name": "LayoutView",
            "align_content": null,
            "align_items": null,
            "align_self": null,
            "border": null,
            "bottom": null,
            "display": null,
            "flex": null,
            "flex_flow": null,
            "grid_area": null,
            "grid_auto_columns": null,
            "grid_auto_flow": null,
            "grid_auto_rows": null,
            "grid_column": null,
            "grid_gap": null,
            "grid_row": null,
            "grid_template_areas": null,
            "grid_template_columns": null,
            "grid_template_rows": null,
            "height": null,
            "justify_content": null,
            "justify_items": null,
            "left": null,
            "margin": null,
            "max_height": null,
            "max_width": null,
            "min_height": null,
            "min_width": null,
            "object_fit": null,
            "object_position": null,
            "order": null,
            "overflow": null,
            "overflow_x": null,
            "overflow_y": null,
            "padding": null,
            "right": null,
            "top": null,
            "visibility": null,
            "width": null
          }
        },
        "be258d852b07488aa4d0e39f3b52d530": {
          "model_module": "@jupyter-widgets/controls",
          "model_module_version": "1.5.0",
          "model_name": "FloatProgressModel",
          "state": {
            "_dom_classes": [],
            "_model_module": "@jupyter-widgets/controls",
            "_model_module_version": "1.5.0",
            "_model_name": "FloatProgressModel",
            "_view_count": null,
            "_view_module": "@jupyter-widgets/controls",
            "_view_module_version": "1.5.0",
            "_view_name": "ProgressView",
            "bar_style": "success",
            "description": "",
            "description_tooltip": null,
            "layout": "IPY_MODEL_b6c1e8df855e4538ac3ab0a56072a67d",
            "max": 398,
            "min": 0,
            "orientation": "horizontal",
            "style": "IPY_MODEL_9ea1c960dcd64a45936594ec7b6416e6",
            "value": 398
          }
        },
        "bf4e0ce8ad154abb9b85f5635f0d8847": {
          "model_module": "@jupyter-widgets/controls",
          "model_module_version": "1.5.0",
          "model_name": "HBoxModel",
          "state": {
            "_dom_classes": [],
            "_model_module": "@jupyter-widgets/controls",
            "_model_module_version": "1.5.0",
            "_model_name": "HBoxModel",
            "_view_count": null,
            "_view_module": "@jupyter-widgets/controls",
            "_view_module_version": "1.5.0",
            "_view_name": "HBoxView",
            "box_style": "",
            "children": [
              "IPY_MODEL_7f53fbba1e024f8095fd2da16eae8172",
              "IPY_MODEL_d37191eb14964682ae8d955711717454",
              "IPY_MODEL_b31fe5e5ba1345b79a0162c12e12c803"
            ],
            "layout": "IPY_MODEL_9a7c3a1c4c4448aea03a75a3d7b766b9"
          }
        },
        "c30b82f4ca604169b843a9775d15a680": {
          "model_module": "@jupyter-widgets/base",
          "model_module_version": "1.2.0",
          "model_name": "LayoutModel",
          "state": {
            "_model_module": "@jupyter-widgets/base",
            "_model_module_version": "1.2.0",
            "_model_name": "LayoutModel",
            "_view_count": null,
            "_view_module": "@jupyter-widgets/base",
            "_view_module_version": "1.2.0",
            "_view_name": "LayoutView",
            "align_content": null,
            "align_items": null,
            "align_self": null,
            "border": null,
            "bottom": null,
            "display": null,
            "flex": null,
            "flex_flow": null,
            "grid_area": null,
            "grid_auto_columns": null,
            "grid_auto_flow": null,
            "grid_auto_rows": null,
            "grid_column": null,
            "grid_gap": null,
            "grid_row": null,
            "grid_template_areas": null,
            "grid_template_columns": null,
            "grid_template_rows": null,
            "height": null,
            "justify_content": null,
            "justify_items": null,
            "left": null,
            "margin": null,
            "max_height": null,
            "max_width": null,
            "min_height": null,
            "min_width": null,
            "object_fit": null,
            "object_position": null,
            "order": null,
            "overflow": null,
            "overflow_x": null,
            "overflow_y": null,
            "padding": null,
            "right": null,
            "top": null,
            "visibility": null,
            "width": null
          }
        },
        "c839013d24ee4c47a490e29312aabc86": {
          "model_module": "@jupyter-widgets/controls",
          "model_module_version": "1.5.0",
          "model_name": "FloatProgressModel",
          "state": {
            "_dom_classes": [],
            "_model_module": "@jupyter-widgets/controls",
            "_model_module_version": "1.5.0",
            "_model_name": "FloatProgressModel",
            "_view_count": null,
            "_view_module": "@jupyter-widgets/controls",
            "_view_module_version": "1.5.0",
            "_view_name": "ProgressView",
            "bar_style": "success",
            "description": "",
            "description_tooltip": null,
            "layout": "IPY_MODEL_61f4c9efaa404ddc84dfdd95116ea731",
            "max": 399,
            "min": 0,
            "orientation": "horizontal",
            "style": "IPY_MODEL_3133217c4ee749b18146b051d2c9eeed",
            "value": 399
          }
        },
        "c84e0d1747f6495ebd291dbbfa9ecbe1": {
          "model_module": "@jupyter-widgets/base",
          "model_module_version": "1.2.0",
          "model_name": "LayoutModel",
          "state": {
            "_model_module": "@jupyter-widgets/base",
            "_model_module_version": "1.2.0",
            "_model_name": "LayoutModel",
            "_view_count": null,
            "_view_module": "@jupyter-widgets/base",
            "_view_module_version": "1.2.0",
            "_view_name": "LayoutView",
            "align_content": null,
            "align_items": null,
            "align_self": null,
            "border": null,
            "bottom": null,
            "display": null,
            "flex": null,
            "flex_flow": null,
            "grid_area": null,
            "grid_auto_columns": null,
            "grid_auto_flow": null,
            "grid_auto_rows": null,
            "grid_column": null,
            "grid_gap": null,
            "grid_row": null,
            "grid_template_areas": null,
            "grid_template_columns": null,
            "grid_template_rows": null,
            "height": null,
            "justify_content": null,
            "justify_items": null,
            "left": null,
            "margin": null,
            "max_height": null,
            "max_width": null,
            "min_height": null,
            "min_width": null,
            "object_fit": null,
            "object_position": null,
            "order": null,
            "overflow": null,
            "overflow_x": null,
            "overflow_y": null,
            "padding": null,
            "right": null,
            "top": null,
            "visibility": null,
            "width": null
          }
        },
        "c98ce63490274bd18a55eac86921a3f1": {
          "model_module": "@jupyter-widgets/controls",
          "model_module_version": "1.5.0",
          "model_name": "HBoxModel",
          "state": {
            "_dom_classes": [],
            "_model_module": "@jupyter-widgets/controls",
            "_model_module_version": "1.5.0",
            "_model_name": "HBoxModel",
            "_view_count": null,
            "_view_module": "@jupyter-widgets/controls",
            "_view_module_version": "1.5.0",
            "_view_name": "HBoxView",
            "box_style": "",
            "children": [
              "IPY_MODEL_071ecbcadb3d462f81a44a9c238c4a0e",
              "IPY_MODEL_1dd86ce0662145cd83861201fb429a64",
              "IPY_MODEL_9ab4a1ae763b496a8496142a9a0e3b33"
            ],
            "layout": "IPY_MODEL_a51d8eb3e3c04ee29860f68c3adc295c"
          }
        },
        "ca717599ea3a436f9e1d8f512f899536": {
          "model_module": "@jupyter-widgets/controls",
          "model_module_version": "1.5.0",
          "model_name": "HTMLModel",
          "state": {
            "_dom_classes": [],
            "_model_module": "@jupyter-widgets/controls",
            "_model_module_version": "1.5.0",
            "_model_name": "HTMLModel",
            "_view_count": null,
            "_view_module": "@jupyter-widgets/controls",
            "_view_module_version": "1.5.0",
            "_view_name": "HTMLView",
            "description": "",
            "description_tooltip": null,
            "layout": "IPY_MODEL_089270610f804990aa5244f0e3d4efb5",
            "placeholder": "​",
            "style": "IPY_MODEL_3029a2167ebe453b9295999ecf0b42a6",
            "value": "Downloading: 100%"
          }
        },
        "ca9f4a1f927845eca010dc6174386dc8": {
          "model_module": "@jupyter-widgets/base",
          "model_module_version": "1.2.0",
          "model_name": "LayoutModel",
          "state": {
            "_model_module": "@jupyter-widgets/base",
            "_model_module_version": "1.2.0",
            "_model_name": "LayoutModel",
            "_view_count": null,
            "_view_module": "@jupyter-widgets/base",
            "_view_module_version": "1.2.0",
            "_view_name": "LayoutView",
            "align_content": null,
            "align_items": null,
            "align_self": null,
            "border": null,
            "bottom": null,
            "display": null,
            "flex": null,
            "flex_flow": null,
            "grid_area": null,
            "grid_auto_columns": null,
            "grid_auto_flow": null,
            "grid_auto_rows": null,
            "grid_column": null,
            "grid_gap": null,
            "grid_row": null,
            "grid_template_areas": null,
            "grid_template_columns": null,
            "grid_template_rows": null,
            "height": null,
            "justify_content": null,
            "justify_items": null,
            "left": null,
            "margin": null,
            "max_height": null,
            "max_width": null,
            "min_height": null,
            "min_width": null,
            "object_fit": null,
            "object_position": null,
            "order": null,
            "overflow": null,
            "overflow_x": null,
            "overflow_y": null,
            "padding": null,
            "right": null,
            "top": null,
            "visibility": null,
            "width": null
          }
        },
        "cb3adba8b9ea4dc1a377764edefac59e": {
          "model_module": "@jupyter-widgets/controls",
          "model_module_version": "1.5.0",
          "model_name": "FloatProgressModel",
          "state": {
            "_dom_classes": [],
            "_model_module": "@jupyter-widgets/controls",
            "_model_module_version": "1.5.0",
            "_model_name": "FloatProgressModel",
            "_view_count": null,
            "_view_module": "@jupyter-widgets/controls",
            "_view_module_version": "1.5.0",
            "_view_name": "ProgressView",
            "bar_style": "success",
            "description": "",
            "description_tooltip": null,
            "layout": "IPY_MODEL_b6c8c78f5d69433792a43a5baf4bc75d",
            "max": 190,
            "min": 0,
            "orientation": "horizontal",
            "style": "IPY_MODEL_154269b46a724ee09716cc2e6e37d462",
            "value": 190
          }
        },
        "cc72c5f4063a4021bd132cb2a18eee92": {
          "model_module": "@jupyter-widgets/controls",
          "model_module_version": "1.5.0",
          "model_name": "HTMLModel",
          "state": {
            "_dom_classes": [],
            "_model_module": "@jupyter-widgets/controls",
            "_model_module_version": "1.5.0",
            "_model_name": "HTMLModel",
            "_view_count": null,
            "_view_module": "@jupyter-widgets/controls",
            "_view_module_version": "1.5.0",
            "_view_name": "HTMLView",
            "description": "",
            "description_tooltip": null,
            "layout": "IPY_MODEL_5b5f07d7deb4413bb14ff96d6aca607d",
            "placeholder": "​",
            "style": "IPY_MODEL_b27faebaaf4d419788ad1cdf7d7b5618",
            "value": " 625/625 [00:00&lt;00:00, 16.1kB/s]"
          }
        },
        "cc90a4b3d92c459098bdff0d4c569275": {
          "model_module": "@jupyter-widgets/controls",
          "model_module_version": "1.5.0",
          "model_name": "DescriptionStyleModel",
          "state": {
            "_model_module": "@jupyter-widgets/controls",
            "_model_module_version": "1.5.0",
            "_model_name": "DescriptionStyleModel",
            "_view_count": null,
            "_view_module": "@jupyter-widgets/base",
            "_view_module_version": "1.2.0",
            "_view_name": "StyleView",
            "description_width": ""
          }
        },
        "cef35ba71ea44da4aba415b84cc09354": {
          "model_module": "@jupyter-widgets/base",
          "model_module_version": "1.2.0",
          "model_name": "LayoutModel",
          "state": {
            "_model_module": "@jupyter-widgets/base",
            "_model_module_version": "1.2.0",
            "_model_name": "LayoutModel",
            "_view_count": null,
            "_view_module": "@jupyter-widgets/base",
            "_view_module_version": "1.2.0",
            "_view_name": "LayoutView",
            "align_content": null,
            "align_items": null,
            "align_self": null,
            "border": null,
            "bottom": null,
            "display": null,
            "flex": null,
            "flex_flow": null,
            "grid_area": null,
            "grid_auto_columns": null,
            "grid_auto_flow": null,
            "grid_auto_rows": null,
            "grid_column": null,
            "grid_gap": null,
            "grid_row": null,
            "grid_template_areas": null,
            "grid_template_columns": null,
            "grid_template_rows": null,
            "height": null,
            "justify_content": null,
            "justify_items": null,
            "left": null,
            "margin": null,
            "max_height": null,
            "max_width": null,
            "min_height": null,
            "min_width": null,
            "object_fit": null,
            "object_position": null,
            "order": null,
            "overflow": null,
            "overflow_x": null,
            "overflow_y": null,
            "padding": null,
            "right": null,
            "top": null,
            "visibility": null,
            "width": null
          }
        },
        "cfc43d9740494360b1637410a66867a9": {
          "model_module": "@jupyter-widgets/controls",
          "model_module_version": "1.5.0",
          "model_name": "DescriptionStyleModel",
          "state": {
            "_model_module": "@jupyter-widgets/controls",
            "_model_module_version": "1.5.0",
            "_model_name": "DescriptionStyleModel",
            "_view_count": null,
            "_view_module": "@jupyter-widgets/base",
            "_view_module_version": "1.2.0",
            "_view_name": "StyleView",
            "description_width": ""
          }
        },
        "d105fc0f7aa44d9c94982a55756bcafc": {
          "model_module": "@jupyter-widgets/controls",
          "model_module_version": "1.5.0",
          "model_name": "DescriptionStyleModel",
          "state": {
            "_model_module": "@jupyter-widgets/controls",
            "_model_module_version": "1.5.0",
            "_model_name": "DescriptionStyleModel",
            "_view_count": null,
            "_view_module": "@jupyter-widgets/base",
            "_view_module_version": "1.2.0",
            "_view_name": "StyleView",
            "description_width": ""
          }
        },
        "d1b368038173420bbcbbce620fb07a2e": {
          "model_module": "@jupyter-widgets/controls",
          "model_module_version": "1.5.0",
          "model_name": "ProgressStyleModel",
          "state": {
            "_model_module": "@jupyter-widgets/controls",
            "_model_module_version": "1.5.0",
            "_model_name": "ProgressStyleModel",
            "_view_count": null,
            "_view_module": "@jupyter-widgets/base",
            "_view_module_version": "1.2.0",
            "_view_name": "StyleView",
            "bar_color": null,
            "description_width": ""
          }
        },
        "d37191eb14964682ae8d955711717454": {
          "model_module": "@jupyter-widgets/controls",
          "model_module_version": "1.5.0",
          "model_name": "FloatProgressModel",
          "state": {
            "_dom_classes": [],
            "_model_module": "@jupyter-widgets/controls",
            "_model_module_version": "1.5.0",
            "_model_name": "FloatProgressModel",
            "_view_count": null,
            "_view_module": "@jupyter-widgets/controls",
            "_view_module_version": "1.5.0",
            "_view_name": "ProgressView",
            "bar_style": "success",
            "description": "",
            "description_tooltip": null,
            "layout": "IPY_MODEL_b32b68ad185840dcbbd5198f9db90882",
            "max": 122,
            "min": 0,
            "orientation": "horizontal",
            "style": "IPY_MODEL_9df924f4dc2f48c796062da4d4e89364",
            "value": 122
          }
        },
        "d5f9b932a74048838d8d551536eac5ec": {
          "model_module": "@jupyter-widgets/controls",
          "model_module_version": "1.5.0",
          "model_name": "HTMLModel",
          "state": {
            "_dom_classes": [],
            "_model_module": "@jupyter-widgets/controls",
            "_model_module_version": "1.5.0",
            "_model_name": "HTMLModel",
            "_view_count": null,
            "_view_module": "@jupyter-widgets/controls",
            "_view_module_version": "1.5.0",
            "_view_name": "HTMLView",
            "description": "",
            "description_tooltip": null,
            "layout": "IPY_MODEL_7e2881a1ee20417e84ca16cf6a3db3e3",
            "placeholder": "​",
            "style": "IPY_MODEL_f513f440ff0e419991e99080d583851f",
            "value": "Downloading: 100%"
          }
        },
        "d87716f61d574e9db9d801bf26c0e1fb": {
          "model_module": "@jupyter-widgets/base",
          "model_module_version": "1.2.0",
          "model_name": "LayoutModel",
          "state": {
            "_model_module": "@jupyter-widgets/base",
            "_model_module_version": "1.2.0",
            "_model_name": "LayoutModel",
            "_view_count": null,
            "_view_module": "@jupyter-widgets/base",
            "_view_module_version": "1.2.0",
            "_view_name": "LayoutView",
            "align_content": null,
            "align_items": null,
            "align_self": null,
            "border": null,
            "bottom": null,
            "display": null,
            "flex": null,
            "flex_flow": null,
            "grid_area": null,
            "grid_auto_columns": null,
            "grid_auto_flow": null,
            "grid_auto_rows": null,
            "grid_column": null,
            "grid_gap": null,
            "grid_row": null,
            "grid_template_areas": null,
            "grid_template_columns": null,
            "grid_template_rows": null,
            "height": null,
            "justify_content": null,
            "justify_items": null,
            "left": null,
            "margin": null,
            "max_height": null,
            "max_width": null,
            "min_height": null,
            "min_width": null,
            "object_fit": null,
            "object_position": null,
            "order": null,
            "overflow": null,
            "overflow_x": null,
            "overflow_y": null,
            "padding": null,
            "right": null,
            "top": null,
            "visibility": null,
            "width": null
          }
        },
        "d88c4ad404cb4b77b315bb5b34cff6eb": {
          "model_module": "@jupyter-widgets/controls",
          "model_module_version": "1.5.0",
          "model_name": "HBoxModel",
          "state": {
            "_dom_classes": [],
            "_model_module": "@jupyter-widgets/controls",
            "_model_module_version": "1.5.0",
            "_model_name": "HBoxModel",
            "_view_count": null,
            "_view_module": "@jupyter-widgets/controls",
            "_view_module_version": "1.5.0",
            "_view_name": "HBoxView",
            "box_style": "",
            "children": [
              "IPY_MODEL_a11d951a7ad34fc0be3b585166ba611f",
              "IPY_MODEL_e1ff291842c344f287b3837d1e3d555d",
              "IPY_MODEL_91a49e86ca494ec28a96a789926c5853"
            ],
            "layout": "IPY_MODEL_c30b82f4ca604169b843a9775d15a680"
          }
        },
        "da76ef6a9c224100a7ed07fe37673215": {
          "model_module": "@jupyter-widgets/base",
          "model_module_version": "1.2.0",
          "model_name": "LayoutModel",
          "state": {
            "_model_module": "@jupyter-widgets/base",
            "_model_module_version": "1.2.0",
            "_model_name": "LayoutModel",
            "_view_count": null,
            "_view_module": "@jupyter-widgets/base",
            "_view_module_version": "1.2.0",
            "_view_name": "LayoutView",
            "align_content": null,
            "align_items": null,
            "align_self": null,
            "border": null,
            "bottom": null,
            "display": null,
            "flex": null,
            "flex_flow": null,
            "grid_area": null,
            "grid_auto_columns": null,
            "grid_auto_flow": null,
            "grid_auto_rows": null,
            "grid_column": null,
            "grid_gap": null,
            "grid_row": null,
            "grid_template_areas": null,
            "grid_template_columns": null,
            "grid_template_rows": null,
            "height": null,
            "justify_content": null,
            "justify_items": null,
            "left": null,
            "margin": null,
            "max_height": null,
            "max_width": null,
            "min_height": null,
            "min_width": null,
            "object_fit": null,
            "object_position": null,
            "order": null,
            "overflow": null,
            "overflow_x": null,
            "overflow_y": null,
            "padding": null,
            "right": null,
            "top": null,
            "visibility": null,
            "width": null
          }
        },
        "dafb84a6ac094b59b1845d5f4cda3003": {
          "model_module": "@jupyter-widgets/controls",
          "model_module_version": "1.5.0",
          "model_name": "HTMLModel",
          "state": {
            "_dom_classes": [],
            "_model_module": "@jupyter-widgets/controls",
            "_model_module_version": "1.5.0",
            "_model_name": "HTMLModel",
            "_view_count": null,
            "_view_module": "@jupyter-widgets/controls",
            "_view_module_version": "1.5.0",
            "_view_name": "HTMLView",
            "description": "",
            "description_tooltip": null,
            "layout": "IPY_MODEL_f3b9bfb5a71d4cb9a8ed3d644aa23b06",
            "placeholder": "​",
            "style": "IPY_MODEL_dc1588cf7fd843fbaf488cf863329ca4",
            "value": "Downloading: 100%"
          }
        },
        "db910439d1f4422b89f0a7ea91eecf6b": {
          "model_module": "@jupyter-widgets/controls",
          "model_module_version": "1.5.0",
          "model_name": "HTMLModel",
          "state": {
            "_dom_classes": [],
            "_model_module": "@jupyter-widgets/controls",
            "_model_module_version": "1.5.0",
            "_model_name": "HTMLModel",
            "_view_count": null,
            "_view_module": "@jupyter-widgets/controls",
            "_view_module_version": "1.5.0",
            "_view_name": "HTMLView",
            "description": "",
            "description_tooltip": null,
            "layout": "IPY_MODEL_72b081f0ca2a46e1a762f59b499cfbad",
            "placeholder": "​",
            "style": "IPY_MODEL_a15fdff7e11946418d1622cc7fc55a87",
            "value": "Downloading: 100%"
          }
        },
        "dc1588cf7fd843fbaf488cf863329ca4": {
          "model_module": "@jupyter-widgets/controls",
          "model_module_version": "1.5.0",
          "model_name": "DescriptionStyleModel",
          "state": {
            "_model_module": "@jupyter-widgets/controls",
            "_model_module_version": "1.5.0",
            "_model_name": "DescriptionStyleModel",
            "_view_count": null,
            "_view_module": "@jupyter-widgets/base",
            "_view_module_version": "1.2.0",
            "_view_name": "StyleView",
            "description_width": ""
          }
        },
        "deec94c6ceb14fb4b3097969aaf30bad": {
          "model_module": "@jupyter-widgets/controls",
          "model_module_version": "1.5.0",
          "model_name": "DescriptionStyleModel",
          "state": {
            "_model_module": "@jupyter-widgets/controls",
            "_model_module_version": "1.5.0",
            "_model_name": "DescriptionStyleModel",
            "_view_count": null,
            "_view_module": "@jupyter-widgets/base",
            "_view_module_version": "1.2.0",
            "_view_name": "StyleView",
            "description_width": ""
          }
        },
        "dfb0c427bd574babb74c18f5d32edd8d": {
          "model_module": "@jupyter-widgets/base",
          "model_module_version": "1.2.0",
          "model_name": "LayoutModel",
          "state": {
            "_model_module": "@jupyter-widgets/base",
            "_model_module_version": "1.2.0",
            "_model_name": "LayoutModel",
            "_view_count": null,
            "_view_module": "@jupyter-widgets/base",
            "_view_module_version": "1.2.0",
            "_view_name": "LayoutView",
            "align_content": null,
            "align_items": null,
            "align_self": null,
            "border": null,
            "bottom": null,
            "display": null,
            "flex": null,
            "flex_flow": null,
            "grid_area": null,
            "grid_auto_columns": null,
            "grid_auto_flow": null,
            "grid_auto_rows": null,
            "grid_column": null,
            "grid_gap": null,
            "grid_row": null,
            "grid_template_areas": null,
            "grid_template_columns": null,
            "grid_template_rows": null,
            "height": null,
            "justify_content": null,
            "justify_items": null,
            "left": null,
            "margin": null,
            "max_height": null,
            "max_width": null,
            "min_height": null,
            "min_width": null,
            "object_fit": null,
            "object_position": null,
            "order": null,
            "overflow": null,
            "overflow_x": null,
            "overflow_y": null,
            "padding": null,
            "right": null,
            "top": null,
            "visibility": null,
            "width": null
          }
        },
        "dfb9ff1874f14c30b920414ec8667df8": {
          "model_module": "@jupyter-widgets/base",
          "model_module_version": "1.2.0",
          "model_name": "LayoutModel",
          "state": {
            "_model_module": "@jupyter-widgets/base",
            "_model_module_version": "1.2.0",
            "_model_name": "LayoutModel",
            "_view_count": null,
            "_view_module": "@jupyter-widgets/base",
            "_view_module_version": "1.2.0",
            "_view_name": "LayoutView",
            "align_content": null,
            "align_items": null,
            "align_self": null,
            "border": null,
            "bottom": null,
            "display": null,
            "flex": null,
            "flex_flow": null,
            "grid_area": null,
            "grid_auto_columns": null,
            "grid_auto_flow": null,
            "grid_auto_rows": null,
            "grid_column": null,
            "grid_gap": null,
            "grid_row": null,
            "grid_template_areas": null,
            "grid_template_columns": null,
            "grid_template_rows": null,
            "height": null,
            "justify_content": null,
            "justify_items": null,
            "left": null,
            "margin": null,
            "max_height": null,
            "max_width": null,
            "min_height": null,
            "min_width": null,
            "object_fit": null,
            "object_position": null,
            "order": null,
            "overflow": null,
            "overflow_x": null,
            "overflow_y": null,
            "padding": null,
            "right": null,
            "top": null,
            "visibility": null,
            "width": null
          }
        },
        "e0e34cb08fa04e7298016e3e7fd6b9eb": {
          "model_module": "@jupyter-widgets/controls",
          "model_module_version": "1.5.0",
          "model_name": "HTMLModel",
          "state": {
            "_dom_classes": [],
            "_model_module": "@jupyter-widgets/controls",
            "_model_module_version": "1.5.0",
            "_model_name": "HTMLModel",
            "_view_count": null,
            "_view_module": "@jupyter-widgets/controls",
            "_view_module_version": "1.5.0",
            "_view_name": "HTMLView",
            "description": "",
            "description_tooltip": null,
            "layout": "IPY_MODEL_0c25f846d7014daa876cd53dd0eb9b67",
            "placeholder": "​",
            "style": "IPY_MODEL_d105fc0f7aa44d9c94982a55756bcafc",
            "value": "Downloading: 100%"
          }
        },
        "e1ff291842c344f287b3837d1e3d555d": {
          "model_module": "@jupyter-widgets/controls",
          "model_module_version": "1.5.0",
          "model_name": "FloatProgressModel",
          "state": {
            "_dom_classes": [],
            "_model_module": "@jupyter-widgets/controls",
            "_model_module_version": "1.5.0",
            "_model_name": "FloatProgressModel",
            "_view_count": null,
            "_view_module": "@jupyter-widgets/controls",
            "_view_module_version": "1.5.0",
            "_view_name": "ProgressView",
            "bar_style": "success",
            "description": "",
            "description_tooltip": null,
            "layout": "IPY_MODEL_fc0613cbcca84862a7fce2f91b9dec10",
            "max": 466081,
            "min": 0,
            "orientation": "horizontal",
            "style": "IPY_MODEL_d1b368038173420bbcbbce620fb07a2e",
            "value": 466081
          }
        },
        "e28fb890819244e79b6ab2e454b950c9": {
          "model_module": "@jupyter-widgets/controls",
          "model_module_version": "1.5.0",
          "model_name": "HBoxModel",
          "state": {
            "_dom_classes": [],
            "_model_module": "@jupyter-widgets/controls",
            "_model_module_version": "1.5.0",
            "_model_name": "HBoxModel",
            "_view_count": null,
            "_view_module": "@jupyter-widgets/controls",
            "_view_module_version": "1.5.0",
            "_view_name": "HBoxView",
            "box_style": "",
            "children": [
              "IPY_MODEL_3af6c0c17969454f961069714c4df734",
              "IPY_MODEL_fda3522d5d1243deb3c0b2c9e827f34b",
              "IPY_MODEL_99953428b7e144bf9fe3a741c2981c39"
            ],
            "layout": "IPY_MODEL_0be6bc3b16e84a3cb3e9790260b9dfdb"
          }
        },
        "e3d57956de5d42c8964812fe023e6475": {
          "model_module": "@jupyter-widgets/base",
          "model_module_version": "1.2.0",
          "model_name": "LayoutModel",
          "state": {
            "_model_module": "@jupyter-widgets/base",
            "_model_module_version": "1.2.0",
            "_model_name": "LayoutModel",
            "_view_count": null,
            "_view_module": "@jupyter-widgets/base",
            "_view_module_version": "1.2.0",
            "_view_name": "LayoutView",
            "align_content": null,
            "align_items": null,
            "align_self": null,
            "border": null,
            "bottom": null,
            "display": null,
            "flex": null,
            "flex_flow": null,
            "grid_area": null,
            "grid_auto_columns": null,
            "grid_auto_flow": null,
            "grid_auto_rows": null,
            "grid_column": null,
            "grid_gap": null,
            "grid_row": null,
            "grid_template_areas": null,
            "grid_template_columns": null,
            "grid_template_rows": null,
            "height": null,
            "justify_content": null,
            "justify_items": null,
            "left": null,
            "margin": null,
            "max_height": null,
            "max_width": null,
            "min_height": null,
            "min_width": null,
            "object_fit": null,
            "object_position": null,
            "order": null,
            "overflow": null,
            "overflow_x": null,
            "overflow_y": null,
            "padding": null,
            "right": null,
            "top": null,
            "visibility": null,
            "width": null
          }
        },
        "e5e4a8b5b35846f78140c286a03f22bc": {
          "model_module": "@jupyter-widgets/base",
          "model_module_version": "1.2.0",
          "model_name": "LayoutModel",
          "state": {
            "_model_module": "@jupyter-widgets/base",
            "_model_module_version": "1.2.0",
            "_model_name": "LayoutModel",
            "_view_count": null,
            "_view_module": "@jupyter-widgets/base",
            "_view_module_version": "1.2.0",
            "_view_name": "LayoutView",
            "align_content": null,
            "align_items": null,
            "align_self": null,
            "border": null,
            "bottom": null,
            "display": null,
            "flex": null,
            "flex_flow": null,
            "grid_area": null,
            "grid_auto_columns": null,
            "grid_auto_flow": null,
            "grid_auto_rows": null,
            "grid_column": null,
            "grid_gap": null,
            "grid_row": null,
            "grid_template_areas": null,
            "grid_template_columns": null,
            "grid_template_rows": null,
            "height": null,
            "justify_content": null,
            "justify_items": null,
            "left": null,
            "margin": null,
            "max_height": null,
            "max_width": null,
            "min_height": null,
            "min_width": null,
            "object_fit": null,
            "object_position": null,
            "order": null,
            "overflow": null,
            "overflow_x": null,
            "overflow_y": null,
            "padding": null,
            "right": null,
            "top": null,
            "visibility": null,
            "width": null
          }
        },
        "e71cbc4a92bf407f9764b4ae5ccaf36a": {
          "model_module": "@jupyter-widgets/controls",
          "model_module_version": "1.5.0",
          "model_name": "DescriptionStyleModel",
          "state": {
            "_model_module": "@jupyter-widgets/controls",
            "_model_module_version": "1.5.0",
            "_model_name": "DescriptionStyleModel",
            "_view_count": null,
            "_view_module": "@jupyter-widgets/base",
            "_view_module_version": "1.2.0",
            "_view_name": "StyleView",
            "description_width": ""
          }
        },
        "e7d037601ee347a8ab2f4f379553a053": {
          "model_module": "@jupyter-widgets/base",
          "model_module_version": "1.2.0",
          "model_name": "LayoutModel",
          "state": {
            "_model_module": "@jupyter-widgets/base",
            "_model_module_version": "1.2.0",
            "_model_name": "LayoutModel",
            "_view_count": null,
            "_view_module": "@jupyter-widgets/base",
            "_view_module_version": "1.2.0",
            "_view_name": "LayoutView",
            "align_content": null,
            "align_items": null,
            "align_self": null,
            "border": null,
            "bottom": null,
            "display": null,
            "flex": null,
            "flex_flow": null,
            "grid_area": null,
            "grid_auto_columns": null,
            "grid_auto_flow": null,
            "grid_auto_rows": null,
            "grid_column": null,
            "grid_gap": null,
            "grid_row": null,
            "grid_template_areas": null,
            "grid_template_columns": null,
            "grid_template_rows": null,
            "height": null,
            "justify_content": null,
            "justify_items": null,
            "left": null,
            "margin": null,
            "max_height": null,
            "max_width": null,
            "min_height": null,
            "min_width": null,
            "object_fit": null,
            "object_position": null,
            "order": null,
            "overflow": null,
            "overflow_x": null,
            "overflow_y": null,
            "padding": null,
            "right": null,
            "top": null,
            "visibility": null,
            "width": null
          }
        },
        "e8e92c6fae6d41a7b92e009718665289": {
          "model_module": "@jupyter-widgets/base",
          "model_module_version": "1.2.0",
          "model_name": "LayoutModel",
          "state": {
            "_model_module": "@jupyter-widgets/base",
            "_model_module_version": "1.2.0",
            "_model_name": "LayoutModel",
            "_view_count": null,
            "_view_module": "@jupyter-widgets/base",
            "_view_module_version": "1.2.0",
            "_view_name": "LayoutView",
            "align_content": null,
            "align_items": null,
            "align_self": null,
            "border": null,
            "bottom": null,
            "display": null,
            "flex": null,
            "flex_flow": null,
            "grid_area": null,
            "grid_auto_columns": null,
            "grid_auto_flow": null,
            "grid_auto_rows": null,
            "grid_column": null,
            "grid_gap": null,
            "grid_row": null,
            "grid_template_areas": null,
            "grid_template_columns": null,
            "grid_template_rows": null,
            "height": null,
            "justify_content": null,
            "justify_items": null,
            "left": null,
            "margin": null,
            "max_height": null,
            "max_width": null,
            "min_height": null,
            "min_width": null,
            "object_fit": null,
            "object_position": null,
            "order": null,
            "overflow": null,
            "overflow_x": null,
            "overflow_y": null,
            "padding": null,
            "right": null,
            "top": null,
            "visibility": null,
            "width": null
          }
        },
        "ee928d4db6ce4ac89775a94d963f5ec4": {
          "model_module": "@jupyter-widgets/controls",
          "model_module_version": "1.5.0",
          "model_name": "HTMLModel",
          "state": {
            "_dom_classes": [],
            "_model_module": "@jupyter-widgets/controls",
            "_model_module_version": "1.5.0",
            "_model_name": "HTMLModel",
            "_view_count": null,
            "_view_module": "@jupyter-widgets/controls",
            "_view_module_version": "1.5.0",
            "_view_name": "HTMLView",
            "description": "",
            "description_tooltip": null,
            "layout": "IPY_MODEL_dfb9ff1874f14c30b920414ec8667df8",
            "placeholder": "​",
            "style": "IPY_MODEL_134002cdae534cb093d61e2d07d204c3",
            "value": " 438M/438M [00:09&lt;00:00, 45.7MB/s]"
          }
        },
        "eecaa295ba284a2081bb094fe996edd7": {
          "model_module": "@jupyter-widgets/controls",
          "model_module_version": "1.5.0",
          "model_name": "ProgressStyleModel",
          "state": {
            "_model_module": "@jupyter-widgets/controls",
            "_model_module_version": "1.5.0",
            "_model_name": "ProgressStyleModel",
            "_view_count": null,
            "_view_module": "@jupyter-widgets/base",
            "_view_module_version": "1.2.0",
            "_view_name": "StyleView",
            "bar_color": null,
            "description_width": ""
          }
        },
        "ef9b43eb610740d7839b5ff9ab8ddefa": {
          "model_module": "@jupyter-widgets/controls",
          "model_module_version": "1.5.0",
          "model_name": "DescriptionStyleModel",
          "state": {
            "_model_module": "@jupyter-widgets/controls",
            "_model_module_version": "1.5.0",
            "_model_name": "DescriptionStyleModel",
            "_view_count": null,
            "_view_module": "@jupyter-widgets/base",
            "_view_module_version": "1.2.0",
            "_view_name": "StyleView",
            "description_width": ""
          }
        },
        "f0f5deaaf6fb496d9ac68aa80ad97a28": {
          "model_module": "@jupyter-widgets/controls",
          "model_module_version": "1.5.0",
          "model_name": "DescriptionStyleModel",
          "state": {
            "_model_module": "@jupyter-widgets/controls",
            "_model_module_version": "1.5.0",
            "_model_name": "DescriptionStyleModel",
            "_view_count": null,
            "_view_module": "@jupyter-widgets/base",
            "_view_module_version": "1.2.0",
            "_view_name": "StyleView",
            "description_width": ""
          }
        },
        "f3b9bfb5a71d4cb9a8ed3d644aa23b06": {
          "model_module": "@jupyter-widgets/base",
          "model_module_version": "1.2.0",
          "model_name": "LayoutModel",
          "state": {
            "_model_module": "@jupyter-widgets/base",
            "_model_module_version": "1.2.0",
            "_model_name": "LayoutModel",
            "_view_count": null,
            "_view_module": "@jupyter-widgets/base",
            "_view_module_version": "1.2.0",
            "_view_name": "LayoutView",
            "align_content": null,
            "align_items": null,
            "align_self": null,
            "border": null,
            "bottom": null,
            "display": null,
            "flex": null,
            "flex_flow": null,
            "grid_area": null,
            "grid_auto_columns": null,
            "grid_auto_flow": null,
            "grid_auto_rows": null,
            "grid_column": null,
            "grid_gap": null,
            "grid_row": null,
            "grid_template_areas": null,
            "grid_template_columns": null,
            "grid_template_rows": null,
            "height": null,
            "justify_content": null,
            "justify_items": null,
            "left": null,
            "margin": null,
            "max_height": null,
            "max_width": null,
            "min_height": null,
            "min_width": null,
            "object_fit": null,
            "object_position": null,
            "order": null,
            "overflow": null,
            "overflow_x": null,
            "overflow_y": null,
            "padding": null,
            "right": null,
            "top": null,
            "visibility": null,
            "width": null
          }
        },
        "f513f440ff0e419991e99080d583851f": {
          "model_module": "@jupyter-widgets/controls",
          "model_module_version": "1.5.0",
          "model_name": "DescriptionStyleModel",
          "state": {
            "_model_module": "@jupyter-widgets/controls",
            "_model_module_version": "1.5.0",
            "_model_name": "DescriptionStyleModel",
            "_view_count": null,
            "_view_module": "@jupyter-widgets/base",
            "_view_module_version": "1.2.0",
            "_view_name": "StyleView",
            "description_width": ""
          }
        },
        "f53fdfb7eb6d4db9ae3cc4ff40eb04fa": {
          "model_module": "@jupyter-widgets/controls",
          "model_module_version": "1.5.0",
          "model_name": "HBoxModel",
          "state": {
            "_dom_classes": [],
            "_model_module": "@jupyter-widgets/controls",
            "_model_module_version": "1.5.0",
            "_model_name": "HBoxModel",
            "_view_count": null,
            "_view_module": "@jupyter-widgets/controls",
            "_view_module_version": "1.5.0",
            "_view_name": "HBoxView",
            "box_style": "",
            "children": [
              "IPY_MODEL_325c6461c4df44e68db30db35eaec8ac",
              "IPY_MODEL_af446ab8e5134d898695c1a6343d7be5",
              "IPY_MODEL_aba3b00991b14babbff37eae078be759"
            ],
            "layout": "IPY_MODEL_76e6dbf75efc4c83ada094ca282fe885"
          }
        },
        "fa8b8f3b034144b49eeb73162da854da": {
          "model_module": "@jupyter-widgets/base",
          "model_module_version": "1.2.0",
          "model_name": "LayoutModel",
          "state": {
            "_model_module": "@jupyter-widgets/base",
            "_model_module_version": "1.2.0",
            "_model_name": "LayoutModel",
            "_view_count": null,
            "_view_module": "@jupyter-widgets/base",
            "_view_module_version": "1.2.0",
            "_view_name": "LayoutView",
            "align_content": null,
            "align_items": null,
            "align_self": null,
            "border": null,
            "bottom": null,
            "display": null,
            "flex": null,
            "flex_flow": null,
            "grid_area": null,
            "grid_auto_columns": null,
            "grid_auto_flow": null,
            "grid_auto_rows": null,
            "grid_column": null,
            "grid_gap": null,
            "grid_row": null,
            "grid_template_areas": null,
            "grid_template_columns": null,
            "grid_template_rows": null,
            "height": null,
            "justify_content": null,
            "justify_items": null,
            "left": null,
            "margin": null,
            "max_height": null,
            "max_width": null,
            "min_height": null,
            "min_width": null,
            "object_fit": null,
            "object_position": null,
            "order": null,
            "overflow": null,
            "overflow_x": null,
            "overflow_y": null,
            "padding": null,
            "right": null,
            "top": null,
            "visibility": null,
            "width": null
          }
        },
        "fc0613cbcca84862a7fce2f91b9dec10": {
          "model_module": "@jupyter-widgets/base",
          "model_module_version": "1.2.0",
          "model_name": "LayoutModel",
          "state": {
            "_model_module": "@jupyter-widgets/base",
            "_model_module_version": "1.2.0",
            "_model_name": "LayoutModel",
            "_view_count": null,
            "_view_module": "@jupyter-widgets/base",
            "_view_module_version": "1.2.0",
            "_view_name": "LayoutView",
            "align_content": null,
            "align_items": null,
            "align_self": null,
            "border": null,
            "bottom": null,
            "display": null,
            "flex": null,
            "flex_flow": null,
            "grid_area": null,
            "grid_auto_columns": null,
            "grid_auto_flow": null,
            "grid_auto_rows": null,
            "grid_column": null,
            "grid_gap": null,
            "grid_row": null,
            "grid_template_areas": null,
            "grid_template_columns": null,
            "grid_template_rows": null,
            "height": null,
            "justify_content": null,
            "justify_items": null,
            "left": null,
            "margin": null,
            "max_height": null,
            "max_width": null,
            "min_height": null,
            "min_width": null,
            "object_fit": null,
            "object_position": null,
            "order": null,
            "overflow": null,
            "overflow_x": null,
            "overflow_y": null,
            "padding": null,
            "right": null,
            "top": null,
            "visibility": null,
            "width": null
          }
        },
        "fd6939799ec84d689883335b4ccd250e": {
          "model_module": "@jupyter-widgets/controls",
          "model_module_version": "1.5.0",
          "model_name": "HTMLModel",
          "state": {
            "_dom_classes": [],
            "_model_module": "@jupyter-widgets/controls",
            "_model_module_version": "1.5.0",
            "_model_name": "HTMLModel",
            "_view_count": null,
            "_view_module": "@jupyter-widgets/controls",
            "_view_module_version": "1.5.0",
            "_view_name": "HTMLView",
            "description": "",
            "description_tooltip": null,
            "layout": "IPY_MODEL_7afefd32e69d49e6a0accce2072107a5",
            "placeholder": "​",
            "style": "IPY_MODEL_8169b3d5b79349c78193cddfaeb35bb0",
            "value": "Downloading: 100%"
          }
        },
        "fda3522d5d1243deb3c0b2c9e827f34b": {
          "model_module": "@jupyter-widgets/controls",
          "model_module_version": "1.5.0",
          "model_name": "FloatProgressModel",
          "state": {
            "_dom_classes": [],
            "_model_module": "@jupyter-widgets/controls",
            "_model_module_version": "1.5.0",
            "_model_name": "FloatProgressModel",
            "_view_count": null,
            "_view_module": "@jupyter-widgets/controls",
            "_view_module_version": "1.5.0",
            "_view_name": "ProgressView",
            "bar_style": "success",
            "description": "",
            "description_tooltip": null,
            "layout": "IPY_MODEL_60895c75daba4073a96332f7b617f6f1",
            "max": 229,
            "min": 0,
            "orientation": "horizontal",
            "style": "IPY_MODEL_0a86c6a22372494fb4f8b5e18376e35b",
            "value": 229
          }
        },
        "fe8ef96bd021437388dbc9e7e0e3e104": {
          "model_module": "@jupyter-widgets/controls",
          "model_module_version": "1.5.0",
          "model_name": "ProgressStyleModel",
          "state": {
            "_model_module": "@jupyter-widgets/controls",
            "_model_module_version": "1.5.0",
            "_model_name": "ProgressStyleModel",
            "_view_count": null,
            "_view_module": "@jupyter-widgets/base",
            "_view_module_version": "1.2.0",
            "_view_name": "StyleView",
            "bar_color": null,
            "description_width": ""
          }
        },
        "feb14dd040fc49ae9576870f6a88f3b6": {
          "model_module": "@jupyter-widgets/controls",
          "model_module_version": "1.5.0",
          "model_name": "DescriptionStyleModel",
          "state": {
            "_model_module": "@jupyter-widgets/controls",
            "_model_module_version": "1.5.0",
            "_model_name": "DescriptionStyleModel",
            "_view_count": null,
            "_view_module": "@jupyter-widgets/base",
            "_view_module_version": "1.2.0",
            "_view_name": "StyleView",
            "description_width": ""
          }
        },
        "f9c9d0f699724ea8850c87b0c4bf50fd": {
          "model_module": "@jupyter-widgets/controls",
          "model_name": "HBoxModel",
          "model_module_version": "1.5.0",
          "state": {
            "_dom_classes": [],
            "_model_module": "@jupyter-widgets/controls",
            "_model_module_version": "1.5.0",
            "_model_name": "HBoxModel",
            "_view_count": null,
            "_view_module": "@jupyter-widgets/controls",
            "_view_module_version": "1.5.0",
            "_view_name": "HBoxView",
            "box_style": "",
            "children": [
              "IPY_MODEL_d6e77240136e46f3b7a580e45aacd814",
              "IPY_MODEL_0f35055a9c9746408ca3b85e6299827d",
              "IPY_MODEL_14e58234d4574384b1e7b111bedb94e3"
            ],
            "layout": "IPY_MODEL_5de51b5e1a0945ea9522145e62df2838"
          }
        },
        "d6e77240136e46f3b7a580e45aacd814": {
          "model_module": "@jupyter-widgets/controls",
          "model_name": "HTMLModel",
          "model_module_version": "1.5.0",
          "state": {
            "_dom_classes": [],
            "_model_module": "@jupyter-widgets/controls",
            "_model_module_version": "1.5.0",
            "_model_name": "HTMLModel",
            "_view_count": null,
            "_view_module": "@jupyter-widgets/controls",
            "_view_module_version": "1.5.0",
            "_view_name": "HTMLView",
            "description": "",
            "description_tooltip": null,
            "layout": "IPY_MODEL_1c4d4fd671334718a3cf87079533abfa",
            "placeholder": "​",
            "style": "IPY_MODEL_52e8ab6c402f4860a46d3a6531c61ead",
            "value": "Downloading: 100%"
          }
        },
        "0f35055a9c9746408ca3b85e6299827d": {
          "model_module": "@jupyter-widgets/controls",
          "model_name": "FloatProgressModel",
          "model_module_version": "1.5.0",
          "state": {
            "_dom_classes": [],
            "_model_module": "@jupyter-widgets/controls",
            "_model_module_version": "1.5.0",
            "_model_name": "FloatProgressModel",
            "_view_count": null,
            "_view_module": "@jupyter-widgets/controls",
            "_view_module_version": "1.5.0",
            "_view_name": "ProgressView",
            "bar_style": "success",
            "description": "",
            "description_tooltip": null,
            "layout": "IPY_MODEL_812c3aa967524621852d041a9926389d",
            "max": 557,
            "min": 0,
            "orientation": "horizontal",
            "style": "IPY_MODEL_5cfd6c5ecd204b34a3c29cbb3a99604c",
            "value": 557
          }
        },
        "14e58234d4574384b1e7b111bedb94e3": {
          "model_module": "@jupyter-widgets/controls",
          "model_name": "HTMLModel",
          "model_module_version": "1.5.0",
          "state": {
            "_dom_classes": [],
            "_model_module": "@jupyter-widgets/controls",
            "_model_module_version": "1.5.0",
            "_model_name": "HTMLModel",
            "_view_count": null,
            "_view_module": "@jupyter-widgets/controls",
            "_view_module_version": "1.5.0",
            "_view_name": "HTMLView",
            "description": "",
            "description_tooltip": null,
            "layout": "IPY_MODEL_6f2d6030fe3649d2b30aabc0fd5ddf6a",
            "placeholder": "​",
            "style": "IPY_MODEL_c775e609bfa54c73b1bed035541e3539",
            "value": " 557/557 [00:00&lt;00:00, 8.30kB/s]"
          }
        },
        "5de51b5e1a0945ea9522145e62df2838": {
          "model_module": "@jupyter-widgets/base",
          "model_name": "LayoutModel",
          "model_module_version": "1.2.0",
          "state": {
            "_model_module": "@jupyter-widgets/base",
            "_model_module_version": "1.2.0",
            "_model_name": "LayoutModel",
            "_view_count": null,
            "_view_module": "@jupyter-widgets/base",
            "_view_module_version": "1.2.0",
            "_view_name": "LayoutView",
            "align_content": null,
            "align_items": null,
            "align_self": null,
            "border": null,
            "bottom": null,
            "display": null,
            "flex": null,
            "flex_flow": null,
            "grid_area": null,
            "grid_auto_columns": null,
            "grid_auto_flow": null,
            "grid_auto_rows": null,
            "grid_column": null,
            "grid_gap": null,
            "grid_row": null,
            "grid_template_areas": null,
            "grid_template_columns": null,
            "grid_template_rows": null,
            "height": null,
            "justify_content": null,
            "justify_items": null,
            "left": null,
            "margin": null,
            "max_height": null,
            "max_width": null,
            "min_height": null,
            "min_width": null,
            "object_fit": null,
            "object_position": null,
            "order": null,
            "overflow": null,
            "overflow_x": null,
            "overflow_y": null,
            "padding": null,
            "right": null,
            "top": null,
            "visibility": null,
            "width": null
          }
        },
        "1c4d4fd671334718a3cf87079533abfa": {
          "model_module": "@jupyter-widgets/base",
          "model_name": "LayoutModel",
          "model_module_version": "1.2.0",
          "state": {
            "_model_module": "@jupyter-widgets/base",
            "_model_module_version": "1.2.0",
            "_model_name": "LayoutModel",
            "_view_count": null,
            "_view_module": "@jupyter-widgets/base",
            "_view_module_version": "1.2.0",
            "_view_name": "LayoutView",
            "align_content": null,
            "align_items": null,
            "align_self": null,
            "border": null,
            "bottom": null,
            "display": null,
            "flex": null,
            "flex_flow": null,
            "grid_area": null,
            "grid_auto_columns": null,
            "grid_auto_flow": null,
            "grid_auto_rows": null,
            "grid_column": null,
            "grid_gap": null,
            "grid_row": null,
            "grid_template_areas": null,
            "grid_template_columns": null,
            "grid_template_rows": null,
            "height": null,
            "justify_content": null,
            "justify_items": null,
            "left": null,
            "margin": null,
            "max_height": null,
            "max_width": null,
            "min_height": null,
            "min_width": null,
            "object_fit": null,
            "object_position": null,
            "order": null,
            "overflow": null,
            "overflow_x": null,
            "overflow_y": null,
            "padding": null,
            "right": null,
            "top": null,
            "visibility": null,
            "width": null
          }
        },
        "52e8ab6c402f4860a46d3a6531c61ead": {
          "model_module": "@jupyter-widgets/controls",
          "model_name": "DescriptionStyleModel",
          "model_module_version": "1.5.0",
          "state": {
            "_model_module": "@jupyter-widgets/controls",
            "_model_module_version": "1.5.0",
            "_model_name": "DescriptionStyleModel",
            "_view_count": null,
            "_view_module": "@jupyter-widgets/base",
            "_view_module_version": "1.2.0",
            "_view_name": "StyleView",
            "description_width": ""
          }
        },
        "812c3aa967524621852d041a9926389d": {
          "model_module": "@jupyter-widgets/base",
          "model_name": "LayoutModel",
          "model_module_version": "1.2.0",
          "state": {
            "_model_module": "@jupyter-widgets/base",
            "_model_module_version": "1.2.0",
            "_model_name": "LayoutModel",
            "_view_count": null,
            "_view_module": "@jupyter-widgets/base",
            "_view_module_version": "1.2.0",
            "_view_name": "LayoutView",
            "align_content": null,
            "align_items": null,
            "align_self": null,
            "border": null,
            "bottom": null,
            "display": null,
            "flex": null,
            "flex_flow": null,
            "grid_area": null,
            "grid_auto_columns": null,
            "grid_auto_flow": null,
            "grid_auto_rows": null,
            "grid_column": null,
            "grid_gap": null,
            "grid_row": null,
            "grid_template_areas": null,
            "grid_template_columns": null,
            "grid_template_rows": null,
            "height": null,
            "justify_content": null,
            "justify_items": null,
            "left": null,
            "margin": null,
            "max_height": null,
            "max_width": null,
            "min_height": null,
            "min_width": null,
            "object_fit": null,
            "object_position": null,
            "order": null,
            "overflow": null,
            "overflow_x": null,
            "overflow_y": null,
            "padding": null,
            "right": null,
            "top": null,
            "visibility": null,
            "width": null
          }
        },
        "5cfd6c5ecd204b34a3c29cbb3a99604c": {
          "model_module": "@jupyter-widgets/controls",
          "model_name": "ProgressStyleModel",
          "model_module_version": "1.5.0",
          "state": {
            "_model_module": "@jupyter-widgets/controls",
            "_model_module_version": "1.5.0",
            "_model_name": "ProgressStyleModel",
            "_view_count": null,
            "_view_module": "@jupyter-widgets/base",
            "_view_module_version": "1.2.0",
            "_view_name": "StyleView",
            "bar_color": null,
            "description_width": ""
          }
        },
        "6f2d6030fe3649d2b30aabc0fd5ddf6a": {
          "model_module": "@jupyter-widgets/base",
          "model_name": "LayoutModel",
          "model_module_version": "1.2.0",
          "state": {
            "_model_module": "@jupyter-widgets/base",
            "_model_module_version": "1.2.0",
            "_model_name": "LayoutModel",
            "_view_count": null,
            "_view_module": "@jupyter-widgets/base",
            "_view_module_version": "1.2.0",
            "_view_name": "LayoutView",
            "align_content": null,
            "align_items": null,
            "align_self": null,
            "border": null,
            "bottom": null,
            "display": null,
            "flex": null,
            "flex_flow": null,
            "grid_area": null,
            "grid_auto_columns": null,
            "grid_auto_flow": null,
            "grid_auto_rows": null,
            "grid_column": null,
            "grid_gap": null,
            "grid_row": null,
            "grid_template_areas": null,
            "grid_template_columns": null,
            "grid_template_rows": null,
            "height": null,
            "justify_content": null,
            "justify_items": null,
            "left": null,
            "margin": null,
            "max_height": null,
            "max_width": null,
            "min_height": null,
            "min_width": null,
            "object_fit": null,
            "object_position": null,
            "order": null,
            "overflow": null,
            "overflow_x": null,
            "overflow_y": null,
            "padding": null,
            "right": null,
            "top": null,
            "visibility": null,
            "width": null
          }
        },
        "c775e609bfa54c73b1bed035541e3539": {
          "model_module": "@jupyter-widgets/controls",
          "model_name": "DescriptionStyleModel",
          "model_module_version": "1.5.0",
          "state": {
            "_model_module": "@jupyter-widgets/controls",
            "_model_module_version": "1.5.0",
            "_model_name": "DescriptionStyleModel",
            "_view_count": null,
            "_view_module": "@jupyter-widgets/base",
            "_view_module_version": "1.2.0",
            "_view_name": "StyleView",
            "description_width": ""
          }
        },
        "cbad7671fc0843fb84eb50ebd6c4db17": {
          "model_module": "@jupyter-widgets/controls",
          "model_name": "HBoxModel",
          "model_module_version": "1.5.0",
          "state": {
            "_dom_classes": [],
            "_model_module": "@jupyter-widgets/controls",
            "_model_module_version": "1.5.0",
            "_model_name": "HBoxModel",
            "_view_count": null,
            "_view_module": "@jupyter-widgets/controls",
            "_view_module_version": "1.5.0",
            "_view_name": "HBoxView",
            "box_style": "",
            "children": [
              "IPY_MODEL_da0dbbd100cc44c9a1ca96446341ae9e",
              "IPY_MODEL_2526133cf8ce49118046ef16b4981f60",
              "IPY_MODEL_daff7d4d73e149ae8360d47e718edf56"
            ],
            "layout": "IPY_MODEL_6b945dc989fc484b9bb3ac0db5c89d32"
          }
        },
        "da0dbbd100cc44c9a1ca96446341ae9e": {
          "model_module": "@jupyter-widgets/controls",
          "model_name": "HTMLModel",
          "model_module_version": "1.5.0",
          "state": {
            "_dom_classes": [],
            "_model_module": "@jupyter-widgets/controls",
            "_model_module_version": "1.5.0",
            "_model_name": "HTMLModel",
            "_view_count": null,
            "_view_module": "@jupyter-widgets/controls",
            "_view_module_version": "1.5.0",
            "_view_name": "HTMLView",
            "description": "",
            "description_tooltip": null,
            "layout": "IPY_MODEL_8dbb490e979d4395b371da9dd4d7747d",
            "placeholder": "​",
            "style": "IPY_MODEL_5f728fac364340b29f635e553b8f7f5a",
            "value": "Downloading: 100%"
          }
        },
        "2526133cf8ce49118046ef16b4981f60": {
          "model_module": "@jupyter-widgets/controls",
          "model_name": "FloatProgressModel",
          "model_module_version": "1.5.0",
          "state": {
            "_dom_classes": [],
            "_model_module": "@jupyter-widgets/controls",
            "_model_module_version": "1.5.0",
            "_model_name": "FloatProgressModel",
            "_view_count": null,
            "_view_module": "@jupyter-widgets/controls",
            "_view_module_version": "1.5.0",
            "_view_name": "ProgressView",
            "bar_style": "success",
            "description": "",
            "description_tooltip": null,
            "layout": "IPY_MODEL_233e352ecb05463592fe264fc24409a8",
            "max": 542923308,
            "min": 0,
            "orientation": "horizontal",
            "style": "IPY_MODEL_c155a7cf60984a46bd379ad771277ebd",
            "value": 542923308
          }
        },
        "daff7d4d73e149ae8360d47e718edf56": {
          "model_module": "@jupyter-widgets/controls",
          "model_name": "HTMLModel",
          "model_module_version": "1.5.0",
          "state": {
            "_dom_classes": [],
            "_model_module": "@jupyter-widgets/controls",
            "_model_module_version": "1.5.0",
            "_model_name": "HTMLModel",
            "_view_count": null,
            "_view_module": "@jupyter-widgets/controls",
            "_view_module_version": "1.5.0",
            "_view_name": "HTMLView",
            "description": "",
            "description_tooltip": null,
            "layout": "IPY_MODEL_0d0740894a964331a9981b6eb5aca663",
            "placeholder": "​",
            "style": "IPY_MODEL_cb9b23b87fcb4444bb43bb0a442b4668",
            "value": " 518M/518M [00:10&lt;00:00, 45.9MB/s]"
          }
        },
        "6b945dc989fc484b9bb3ac0db5c89d32": {
          "model_module": "@jupyter-widgets/base",
          "model_name": "LayoutModel",
          "model_module_version": "1.2.0",
          "state": {
            "_model_module": "@jupyter-widgets/base",
            "_model_module_version": "1.2.0",
            "_model_name": "LayoutModel",
            "_view_count": null,
            "_view_module": "@jupyter-widgets/base",
            "_view_module_version": "1.2.0",
            "_view_name": "LayoutView",
            "align_content": null,
            "align_items": null,
            "align_self": null,
            "border": null,
            "bottom": null,
            "display": null,
            "flex": null,
            "flex_flow": null,
            "grid_area": null,
            "grid_auto_columns": null,
            "grid_auto_flow": null,
            "grid_auto_rows": null,
            "grid_column": null,
            "grid_gap": null,
            "grid_row": null,
            "grid_template_areas": null,
            "grid_template_columns": null,
            "grid_template_rows": null,
            "height": null,
            "justify_content": null,
            "justify_items": null,
            "left": null,
            "margin": null,
            "max_height": null,
            "max_width": null,
            "min_height": null,
            "min_width": null,
            "object_fit": null,
            "object_position": null,
            "order": null,
            "overflow": null,
            "overflow_x": null,
            "overflow_y": null,
            "padding": null,
            "right": null,
            "top": null,
            "visibility": null,
            "width": null
          }
        },
        "8dbb490e979d4395b371da9dd4d7747d": {
          "model_module": "@jupyter-widgets/base",
          "model_name": "LayoutModel",
          "model_module_version": "1.2.0",
          "state": {
            "_model_module": "@jupyter-widgets/base",
            "_model_module_version": "1.2.0",
            "_model_name": "LayoutModel",
            "_view_count": null,
            "_view_module": "@jupyter-widgets/base",
            "_view_module_version": "1.2.0",
            "_view_name": "LayoutView",
            "align_content": null,
            "align_items": null,
            "align_self": null,
            "border": null,
            "bottom": null,
            "display": null,
            "flex": null,
            "flex_flow": null,
            "grid_area": null,
            "grid_auto_columns": null,
            "grid_auto_flow": null,
            "grid_auto_rows": null,
            "grid_column": null,
            "grid_gap": null,
            "grid_row": null,
            "grid_template_areas": null,
            "grid_template_columns": null,
            "grid_template_rows": null,
            "height": null,
            "justify_content": null,
            "justify_items": null,
            "left": null,
            "margin": null,
            "max_height": null,
            "max_width": null,
            "min_height": null,
            "min_width": null,
            "object_fit": null,
            "object_position": null,
            "order": null,
            "overflow": null,
            "overflow_x": null,
            "overflow_y": null,
            "padding": null,
            "right": null,
            "top": null,
            "visibility": null,
            "width": null
          }
        },
        "5f728fac364340b29f635e553b8f7f5a": {
          "model_module": "@jupyter-widgets/controls",
          "model_name": "DescriptionStyleModel",
          "model_module_version": "1.5.0",
          "state": {
            "_model_module": "@jupyter-widgets/controls",
            "_model_module_version": "1.5.0",
            "_model_name": "DescriptionStyleModel",
            "_view_count": null,
            "_view_module": "@jupyter-widgets/base",
            "_view_module_version": "1.2.0",
            "_view_name": "StyleView",
            "description_width": ""
          }
        },
        "233e352ecb05463592fe264fc24409a8": {
          "model_module": "@jupyter-widgets/base",
          "model_name": "LayoutModel",
          "model_module_version": "1.2.0",
          "state": {
            "_model_module": "@jupyter-widgets/base",
            "_model_module_version": "1.2.0",
            "_model_name": "LayoutModel",
            "_view_count": null,
            "_view_module": "@jupyter-widgets/base",
            "_view_module_version": "1.2.0",
            "_view_name": "LayoutView",
            "align_content": null,
            "align_items": null,
            "align_self": null,
            "border": null,
            "bottom": null,
            "display": null,
            "flex": null,
            "flex_flow": null,
            "grid_area": null,
            "grid_auto_columns": null,
            "grid_auto_flow": null,
            "grid_auto_rows": null,
            "grid_column": null,
            "grid_gap": null,
            "grid_row": null,
            "grid_template_areas": null,
            "grid_template_columns": null,
            "grid_template_rows": null,
            "height": null,
            "justify_content": null,
            "justify_items": null,
            "left": null,
            "margin": null,
            "max_height": null,
            "max_width": null,
            "min_height": null,
            "min_width": null,
            "object_fit": null,
            "object_position": null,
            "order": null,
            "overflow": null,
            "overflow_x": null,
            "overflow_y": null,
            "padding": null,
            "right": null,
            "top": null,
            "visibility": null,
            "width": null
          }
        },
        "c155a7cf60984a46bd379ad771277ebd": {
          "model_module": "@jupyter-widgets/controls",
          "model_name": "ProgressStyleModel",
          "model_module_version": "1.5.0",
          "state": {
            "_model_module": "@jupyter-widgets/controls",
            "_model_module_version": "1.5.0",
            "_model_name": "ProgressStyleModel",
            "_view_count": null,
            "_view_module": "@jupyter-widgets/base",
            "_view_module_version": "1.2.0",
            "_view_name": "StyleView",
            "bar_color": null,
            "description_width": ""
          }
        },
        "0d0740894a964331a9981b6eb5aca663": {
          "model_module": "@jupyter-widgets/base",
          "model_name": "LayoutModel",
          "model_module_version": "1.2.0",
          "state": {
            "_model_module": "@jupyter-widgets/base",
            "_model_module_version": "1.2.0",
            "_model_name": "LayoutModel",
            "_view_count": null,
            "_view_module": "@jupyter-widgets/base",
            "_view_module_version": "1.2.0",
            "_view_name": "LayoutView",
            "align_content": null,
            "align_items": null,
            "align_self": null,
            "border": null,
            "bottom": null,
            "display": null,
            "flex": null,
            "flex_flow": null,
            "grid_area": null,
            "grid_auto_columns": null,
            "grid_auto_flow": null,
            "grid_auto_rows": null,
            "grid_column": null,
            "grid_gap": null,
            "grid_row": null,
            "grid_template_areas": null,
            "grid_template_columns": null,
            "grid_template_rows": null,
            "height": null,
            "justify_content": null,
            "justify_items": null,
            "left": null,
            "margin": null,
            "max_height": null,
            "max_width": null,
            "min_height": null,
            "min_width": null,
            "object_fit": null,
            "object_position": null,
            "order": null,
            "overflow": null,
            "overflow_x": null,
            "overflow_y": null,
            "padding": null,
            "right": null,
            "top": null,
            "visibility": null,
            "width": null
          }
        },
        "cb9b23b87fcb4444bb43bb0a442b4668": {
          "model_module": "@jupyter-widgets/controls",
          "model_name": "DescriptionStyleModel",
          "model_module_version": "1.5.0",
          "state": {
            "_model_module": "@jupyter-widgets/controls",
            "_model_module_version": "1.5.0",
            "_model_name": "DescriptionStyleModel",
            "_view_count": null,
            "_view_module": "@jupyter-widgets/base",
            "_view_module_version": "1.2.0",
            "_view_name": "StyleView",
            "description_width": ""
          }
        },
        "74ac215f26574ab79c50224d99595d16": {
          "model_module": "@jupyter-widgets/controls",
          "model_name": "HBoxModel",
          "model_module_version": "1.5.0",
          "state": {
            "_dom_classes": [],
            "_model_module": "@jupyter-widgets/controls",
            "_model_module_version": "1.5.0",
            "_model_name": "HBoxModel",
            "_view_count": null,
            "_view_module": "@jupyter-widgets/controls",
            "_view_module_version": "1.5.0",
            "_view_name": "HBoxView",
            "box_style": "",
            "children": [
              "IPY_MODEL_d567813e2bd74325b45300e2112e43f1",
              "IPY_MODEL_56a747e5c995405ba19952dd51e3c826",
              "IPY_MODEL_373a0b505d4c456c860221c98ff676a5"
            ],
            "layout": "IPY_MODEL_3ebb2d6574ab4d8798fdef78d3ffe86f"
          }
        },
        "d567813e2bd74325b45300e2112e43f1": {
          "model_module": "@jupyter-widgets/controls",
          "model_name": "HTMLModel",
          "model_module_version": "1.5.0",
          "state": {
            "_dom_classes": [],
            "_model_module": "@jupyter-widgets/controls",
            "_model_module_version": "1.5.0",
            "_model_name": "HTMLModel",
            "_view_count": null,
            "_view_module": "@jupyter-widgets/controls",
            "_view_module_version": "1.5.0",
            "_view_name": "HTMLView",
            "description": "",
            "description_tooltip": null,
            "layout": "IPY_MODEL_6a2f91cba3854cdebc88068ac4fbc8ce",
            "placeholder": "​",
            "style": "IPY_MODEL_6d37d12df6c141a1b868041c53ea378b",
            "value": "Downloading: 100%"
          }
        },
        "56a747e5c995405ba19952dd51e3c826": {
          "model_module": "@jupyter-widgets/controls",
          "model_name": "FloatProgressModel",
          "model_module_version": "1.5.0",
          "state": {
            "_dom_classes": [],
            "_model_module": "@jupyter-widgets/controls",
            "_model_module_version": "1.5.0",
            "_model_name": "FloatProgressModel",
            "_view_count": null,
            "_view_module": "@jupyter-widgets/controls",
            "_view_module_version": "1.5.0",
            "_view_name": "ProgressView",
            "bar_style": "success",
            "description": "",
            "description_tooltip": null,
            "layout": "IPY_MODEL_b9710e5871144adba704885f5f9cc7f2",
            "max": 895321,
            "min": 0,
            "orientation": "horizontal",
            "style": "IPY_MODEL_1ab1fc09759d4bd69bec47f7cd559113",
            "value": 895321
          }
        },
        "373a0b505d4c456c860221c98ff676a5": {
          "model_module": "@jupyter-widgets/controls",
          "model_name": "HTMLModel",
          "model_module_version": "1.5.0",
          "state": {
            "_dom_classes": [],
            "_model_module": "@jupyter-widgets/controls",
            "_model_module_version": "1.5.0",
            "_model_name": "HTMLModel",
            "_view_count": null,
            "_view_module": "@jupyter-widgets/controls",
            "_view_module_version": "1.5.0",
            "_view_name": "HTMLView",
            "description": "",
            "description_tooltip": null,
            "layout": "IPY_MODEL_c57aad35437946f99e57e332f6c5b926",
            "placeholder": "​",
            "style": "IPY_MODEL_4ce5a24c41c74544bce4bc26abc1e3a9",
            "value": " 874k/874k [00:00&lt;00:00, 1.37MB/s]"
          }
        },
        "3ebb2d6574ab4d8798fdef78d3ffe86f": {
          "model_module": "@jupyter-widgets/base",
          "model_name": "LayoutModel",
          "model_module_version": "1.2.0",
          "state": {
            "_model_module": "@jupyter-widgets/base",
            "_model_module_version": "1.2.0",
            "_model_name": "LayoutModel",
            "_view_count": null,
            "_view_module": "@jupyter-widgets/base",
            "_view_module_version": "1.2.0",
            "_view_name": "LayoutView",
            "align_content": null,
            "align_items": null,
            "align_self": null,
            "border": null,
            "bottom": null,
            "display": null,
            "flex": null,
            "flex_flow": null,
            "grid_area": null,
            "grid_auto_columns": null,
            "grid_auto_flow": null,
            "grid_auto_rows": null,
            "grid_column": null,
            "grid_gap": null,
            "grid_row": null,
            "grid_template_areas": null,
            "grid_template_columns": null,
            "grid_template_rows": null,
            "height": null,
            "justify_content": null,
            "justify_items": null,
            "left": null,
            "margin": null,
            "max_height": null,
            "max_width": null,
            "min_height": null,
            "min_width": null,
            "object_fit": null,
            "object_position": null,
            "order": null,
            "overflow": null,
            "overflow_x": null,
            "overflow_y": null,
            "padding": null,
            "right": null,
            "top": null,
            "visibility": null,
            "width": null
          }
        },
        "6a2f91cba3854cdebc88068ac4fbc8ce": {
          "model_module": "@jupyter-widgets/base",
          "model_name": "LayoutModel",
          "model_module_version": "1.2.0",
          "state": {
            "_model_module": "@jupyter-widgets/base",
            "_model_module_version": "1.2.0",
            "_model_name": "LayoutModel",
            "_view_count": null,
            "_view_module": "@jupyter-widgets/base",
            "_view_module_version": "1.2.0",
            "_view_name": "LayoutView",
            "align_content": null,
            "align_items": null,
            "align_self": null,
            "border": null,
            "bottom": null,
            "display": null,
            "flex": null,
            "flex_flow": null,
            "grid_area": null,
            "grid_auto_columns": null,
            "grid_auto_flow": null,
            "grid_auto_rows": null,
            "grid_column": null,
            "grid_gap": null,
            "grid_row": null,
            "grid_template_areas": null,
            "grid_template_columns": null,
            "grid_template_rows": null,
            "height": null,
            "justify_content": null,
            "justify_items": null,
            "left": null,
            "margin": null,
            "max_height": null,
            "max_width": null,
            "min_height": null,
            "min_width": null,
            "object_fit": null,
            "object_position": null,
            "order": null,
            "overflow": null,
            "overflow_x": null,
            "overflow_y": null,
            "padding": null,
            "right": null,
            "top": null,
            "visibility": null,
            "width": null
          }
        },
        "6d37d12df6c141a1b868041c53ea378b": {
          "model_module": "@jupyter-widgets/controls",
          "model_name": "DescriptionStyleModel",
          "model_module_version": "1.5.0",
          "state": {
            "_model_module": "@jupyter-widgets/controls",
            "_model_module_version": "1.5.0",
            "_model_name": "DescriptionStyleModel",
            "_view_count": null,
            "_view_module": "@jupyter-widgets/base",
            "_view_module_version": "1.2.0",
            "_view_name": "StyleView",
            "description_width": ""
          }
        },
        "b9710e5871144adba704885f5f9cc7f2": {
          "model_module": "@jupyter-widgets/base",
          "model_name": "LayoutModel",
          "model_module_version": "1.2.0",
          "state": {
            "_model_module": "@jupyter-widgets/base",
            "_model_module_version": "1.2.0",
            "_model_name": "LayoutModel",
            "_view_count": null,
            "_view_module": "@jupyter-widgets/base",
            "_view_module_version": "1.2.0",
            "_view_name": "LayoutView",
            "align_content": null,
            "align_items": null,
            "align_self": null,
            "border": null,
            "bottom": null,
            "display": null,
            "flex": null,
            "flex_flow": null,
            "grid_area": null,
            "grid_auto_columns": null,
            "grid_auto_flow": null,
            "grid_auto_rows": null,
            "grid_column": null,
            "grid_gap": null,
            "grid_row": null,
            "grid_template_areas": null,
            "grid_template_columns": null,
            "grid_template_rows": null,
            "height": null,
            "justify_content": null,
            "justify_items": null,
            "left": null,
            "margin": null,
            "max_height": null,
            "max_width": null,
            "min_height": null,
            "min_width": null,
            "object_fit": null,
            "object_position": null,
            "order": null,
            "overflow": null,
            "overflow_x": null,
            "overflow_y": null,
            "padding": null,
            "right": null,
            "top": null,
            "visibility": null,
            "width": null
          }
        },
        "1ab1fc09759d4bd69bec47f7cd559113": {
          "model_module": "@jupyter-widgets/controls",
          "model_name": "ProgressStyleModel",
          "model_module_version": "1.5.0",
          "state": {
            "_model_module": "@jupyter-widgets/controls",
            "_model_module_version": "1.5.0",
            "_model_name": "ProgressStyleModel",
            "_view_count": null,
            "_view_module": "@jupyter-widgets/base",
            "_view_module_version": "1.2.0",
            "_view_name": "StyleView",
            "bar_color": null,
            "description_width": ""
          }
        },
        "c57aad35437946f99e57e332f6c5b926": {
          "model_module": "@jupyter-widgets/base",
          "model_name": "LayoutModel",
          "model_module_version": "1.2.0",
          "state": {
            "_model_module": "@jupyter-widgets/base",
            "_model_module_version": "1.2.0",
            "_model_name": "LayoutModel",
            "_view_count": null,
            "_view_module": "@jupyter-widgets/base",
            "_view_module_version": "1.2.0",
            "_view_name": "LayoutView",
            "align_content": null,
            "align_items": null,
            "align_self": null,
            "border": null,
            "bottom": null,
            "display": null,
            "flex": null,
            "flex_flow": null,
            "grid_area": null,
            "grid_auto_columns": null,
            "grid_auto_flow": null,
            "grid_auto_rows": null,
            "grid_column": null,
            "grid_gap": null,
            "grid_row": null,
            "grid_template_areas": null,
            "grid_template_columns": null,
            "grid_template_rows": null,
            "height": null,
            "justify_content": null,
            "justify_items": null,
            "left": null,
            "margin": null,
            "max_height": null,
            "max_width": null,
            "min_height": null,
            "min_width": null,
            "object_fit": null,
            "object_position": null,
            "order": null,
            "overflow": null,
            "overflow_x": null,
            "overflow_y": null,
            "padding": null,
            "right": null,
            "top": null,
            "visibility": null,
            "width": null
          }
        },
        "4ce5a24c41c74544bce4bc26abc1e3a9": {
          "model_module": "@jupyter-widgets/controls",
          "model_name": "DescriptionStyleModel",
          "model_module_version": "1.5.0",
          "state": {
            "_model_module": "@jupyter-widgets/controls",
            "_model_module_version": "1.5.0",
            "_model_name": "DescriptionStyleModel",
            "_view_count": null,
            "_view_module": "@jupyter-widgets/base",
            "_view_module_version": "1.2.0",
            "_view_name": "StyleView",
            "description_width": ""
          }
        },
        "6016ec21b2fb4b25bea8929606985c2d": {
          "model_module": "@jupyter-widgets/controls",
          "model_name": "HBoxModel",
          "model_module_version": "1.5.0",
          "state": {
            "_dom_classes": [],
            "_model_module": "@jupyter-widgets/controls",
            "_model_module_version": "1.5.0",
            "_model_name": "HBoxModel",
            "_view_count": null,
            "_view_module": "@jupyter-widgets/controls",
            "_view_module_version": "1.5.0",
            "_view_name": "HBoxView",
            "box_style": "",
            "children": [
              "IPY_MODEL_adbb8fd87d844836bf4c35cf7bd1466d",
              "IPY_MODEL_95e740e0b7e54f56839150452f9b5492",
              "IPY_MODEL_5d050b6db2b14a7a8562c121ce9b0da3"
            ],
            "layout": "IPY_MODEL_e772ad9948e44f1ca09dd64b402a72f7"
          }
        },
        "adbb8fd87d844836bf4c35cf7bd1466d": {
          "model_module": "@jupyter-widgets/controls",
          "model_name": "HTMLModel",
          "model_module_version": "1.5.0",
          "state": {
            "_dom_classes": [],
            "_model_module": "@jupyter-widgets/controls",
            "_model_module_version": "1.5.0",
            "_model_name": "HTMLModel",
            "_view_count": null,
            "_view_module": "@jupyter-widgets/controls",
            "_view_module_version": "1.5.0",
            "_view_name": "HTMLView",
            "description": "",
            "description_tooltip": null,
            "layout": "IPY_MODEL_d030144f8765492eb13958728fe6cc50",
            "placeholder": "​",
            "style": "IPY_MODEL_70bc59ca8a064640a956d55b37cce9b2",
            "value": "Downloading: 100%"
          }
        },
        "95e740e0b7e54f56839150452f9b5492": {
          "model_module": "@jupyter-widgets/controls",
          "model_name": "FloatProgressModel",
          "model_module_version": "1.5.0",
          "state": {
            "_dom_classes": [],
            "_model_module": "@jupyter-widgets/controls",
            "_model_module_version": "1.5.0",
            "_model_name": "FloatProgressModel",
            "_view_count": null,
            "_view_module": "@jupyter-widgets/controls",
            "_view_module_version": "1.5.0",
            "_view_name": "ProgressView",
            "bar_style": "success",
            "description": "",
            "description_tooltip": null,
            "layout": "IPY_MODEL_ca7e2cf37e144a76ac55a287d5668ad3",
            "max": 1135173,
            "min": 0,
            "orientation": "horizontal",
            "style": "IPY_MODEL_42c3419e638f40d4a74bfa357110f7d8",
            "value": 1135173
          }
        },
        "5d050b6db2b14a7a8562c121ce9b0da3": {
          "model_module": "@jupyter-widgets/controls",
          "model_name": "HTMLModel",
          "model_module_version": "1.5.0",
          "state": {
            "_dom_classes": [],
            "_model_module": "@jupyter-widgets/controls",
            "_model_module_version": "1.5.0",
            "_model_name": "HTMLModel",
            "_view_count": null,
            "_view_module": "@jupyter-widgets/controls",
            "_view_module_version": "1.5.0",
            "_view_name": "HTMLView",
            "description": "",
            "description_tooltip": null,
            "layout": "IPY_MODEL_45992ac16a164e0f8a4bc271324bbe49",
            "placeholder": "​",
            "style": "IPY_MODEL_5142b5ab73104651a0fb8b32e0a9b0be",
            "value": " 1.08M/1.08M [00:00&lt;00:00, 907kB/s]"
          }
        },
        "e772ad9948e44f1ca09dd64b402a72f7": {
          "model_module": "@jupyter-widgets/base",
          "model_name": "LayoutModel",
          "model_module_version": "1.2.0",
          "state": {
            "_model_module": "@jupyter-widgets/base",
            "_model_module_version": "1.2.0",
            "_model_name": "LayoutModel",
            "_view_count": null,
            "_view_module": "@jupyter-widgets/base",
            "_view_module_version": "1.2.0",
            "_view_name": "LayoutView",
            "align_content": null,
            "align_items": null,
            "align_self": null,
            "border": null,
            "bottom": null,
            "display": null,
            "flex": null,
            "flex_flow": null,
            "grid_area": null,
            "grid_auto_columns": null,
            "grid_auto_flow": null,
            "grid_auto_rows": null,
            "grid_column": null,
            "grid_gap": null,
            "grid_row": null,
            "grid_template_areas": null,
            "grid_template_columns": null,
            "grid_template_rows": null,
            "height": null,
            "justify_content": null,
            "justify_items": null,
            "left": null,
            "margin": null,
            "max_height": null,
            "max_width": null,
            "min_height": null,
            "min_width": null,
            "object_fit": null,
            "object_position": null,
            "order": null,
            "overflow": null,
            "overflow_x": null,
            "overflow_y": null,
            "padding": null,
            "right": null,
            "top": null,
            "visibility": null,
            "width": null
          }
        },
        "d030144f8765492eb13958728fe6cc50": {
          "model_module": "@jupyter-widgets/base",
          "model_name": "LayoutModel",
          "model_module_version": "1.2.0",
          "state": {
            "_model_module": "@jupyter-widgets/base",
            "_model_module_version": "1.2.0",
            "_model_name": "LayoutModel",
            "_view_count": null,
            "_view_module": "@jupyter-widgets/base",
            "_view_module_version": "1.2.0",
            "_view_name": "LayoutView",
            "align_content": null,
            "align_items": null,
            "align_self": null,
            "border": null,
            "bottom": null,
            "display": null,
            "flex": null,
            "flex_flow": null,
            "grid_area": null,
            "grid_auto_columns": null,
            "grid_auto_flow": null,
            "grid_auto_rows": null,
            "grid_column": null,
            "grid_gap": null,
            "grid_row": null,
            "grid_template_areas": null,
            "grid_template_columns": null,
            "grid_template_rows": null,
            "height": null,
            "justify_content": null,
            "justify_items": null,
            "left": null,
            "margin": null,
            "max_height": null,
            "max_width": null,
            "min_height": null,
            "min_width": null,
            "object_fit": null,
            "object_position": null,
            "order": null,
            "overflow": null,
            "overflow_x": null,
            "overflow_y": null,
            "padding": null,
            "right": null,
            "top": null,
            "visibility": null,
            "width": null
          }
        },
        "70bc59ca8a064640a956d55b37cce9b2": {
          "model_module": "@jupyter-widgets/controls",
          "model_name": "DescriptionStyleModel",
          "model_module_version": "1.5.0",
          "state": {
            "_model_module": "@jupyter-widgets/controls",
            "_model_module_version": "1.5.0",
            "_model_name": "DescriptionStyleModel",
            "_view_count": null,
            "_view_module": "@jupyter-widgets/base",
            "_view_module_version": "1.2.0",
            "_view_name": "StyleView",
            "description_width": ""
          }
        },
        "ca7e2cf37e144a76ac55a287d5668ad3": {
          "model_module": "@jupyter-widgets/base",
          "model_name": "LayoutModel",
          "model_module_version": "1.2.0",
          "state": {
            "_model_module": "@jupyter-widgets/base",
            "_model_module_version": "1.2.0",
            "_model_name": "LayoutModel",
            "_view_count": null,
            "_view_module": "@jupyter-widgets/base",
            "_view_module_version": "1.2.0",
            "_view_name": "LayoutView",
            "align_content": null,
            "align_items": null,
            "align_self": null,
            "border": null,
            "bottom": null,
            "display": null,
            "flex": null,
            "flex_flow": null,
            "grid_area": null,
            "grid_auto_columns": null,
            "grid_auto_flow": null,
            "grid_auto_rows": null,
            "grid_column": null,
            "grid_gap": null,
            "grid_row": null,
            "grid_template_areas": null,
            "grid_template_columns": null,
            "grid_template_rows": null,
            "height": null,
            "justify_content": null,
            "justify_items": null,
            "left": null,
            "margin": null,
            "max_height": null,
            "max_width": null,
            "min_height": null,
            "min_width": null,
            "object_fit": null,
            "object_position": null,
            "order": null,
            "overflow": null,
            "overflow_x": null,
            "overflow_y": null,
            "padding": null,
            "right": null,
            "top": null,
            "visibility": null,
            "width": null
          }
        },
        "42c3419e638f40d4a74bfa357110f7d8": {
          "model_module": "@jupyter-widgets/controls",
          "model_name": "ProgressStyleModel",
          "model_module_version": "1.5.0",
          "state": {
            "_model_module": "@jupyter-widgets/controls",
            "_model_module_version": "1.5.0",
            "_model_name": "ProgressStyleModel",
            "_view_count": null,
            "_view_module": "@jupyter-widgets/base",
            "_view_module_version": "1.2.0",
            "_view_name": "StyleView",
            "bar_color": null,
            "description_width": ""
          }
        },
        "45992ac16a164e0f8a4bc271324bbe49": {
          "model_module": "@jupyter-widgets/base",
          "model_name": "LayoutModel",
          "model_module_version": "1.2.0",
          "state": {
            "_model_module": "@jupyter-widgets/base",
            "_model_module_version": "1.2.0",
            "_model_name": "LayoutModel",
            "_view_count": null,
            "_view_module": "@jupyter-widgets/base",
            "_view_module_version": "1.2.0",
            "_view_name": "LayoutView",
            "align_content": null,
            "align_items": null,
            "align_self": null,
            "border": null,
            "bottom": null,
            "display": null,
            "flex": null,
            "flex_flow": null,
            "grid_area": null,
            "grid_auto_columns": null,
            "grid_auto_flow": null,
            "grid_auto_rows": null,
            "grid_column": null,
            "grid_gap": null,
            "grid_row": null,
            "grid_template_areas": null,
            "grid_template_columns": null,
            "grid_template_rows": null,
            "height": null,
            "justify_content": null,
            "justify_items": null,
            "left": null,
            "margin": null,
            "max_height": null,
            "max_width": null,
            "min_height": null,
            "min_width": null,
            "object_fit": null,
            "object_position": null,
            "order": null,
            "overflow": null,
            "overflow_x": null,
            "overflow_y": null,
            "padding": null,
            "right": null,
            "top": null,
            "visibility": null,
            "width": null
          }
        },
        "5142b5ab73104651a0fb8b32e0a9b0be": {
          "model_module": "@jupyter-widgets/controls",
          "model_name": "DescriptionStyleModel",
          "model_module_version": "1.5.0",
          "state": {
            "_model_module": "@jupyter-widgets/controls",
            "_model_module_version": "1.5.0",
            "_model_name": "DescriptionStyleModel",
            "_view_count": null,
            "_view_module": "@jupyter-widgets/base",
            "_view_module_version": "1.2.0",
            "_view_name": "StyleView",
            "description_width": ""
          }
        },
        "0e72d5e6f5b94b6bbe3e9986372d733d": {
          "model_module": "@jupyter-widgets/controls",
          "model_name": "HBoxModel",
          "model_module_version": "1.5.0",
          "state": {
            "_dom_classes": [],
            "_model_module": "@jupyter-widgets/controls",
            "_model_module_version": "1.5.0",
            "_model_name": "HBoxModel",
            "_view_count": null,
            "_view_module": "@jupyter-widgets/controls",
            "_view_module_version": "1.5.0",
            "_view_name": "HBoxView",
            "box_style": "",
            "children": [
              "IPY_MODEL_9c3dc696ad08418bbd96b965b31ee7ac",
              "IPY_MODEL_26ae66a4bdeb4950aa59a01eed565526",
              "IPY_MODEL_90327e9c51ca4a6ba4e813517210e1a4"
            ],
            "layout": "IPY_MODEL_a16300a642e046c58b2cbad9de1342c9"
          }
        },
        "9c3dc696ad08418bbd96b965b31ee7ac": {
          "model_module": "@jupyter-widgets/controls",
          "model_name": "HTMLModel",
          "model_module_version": "1.5.0",
          "state": {
            "_dom_classes": [],
            "_model_module": "@jupyter-widgets/controls",
            "_model_module_version": "1.5.0",
            "_model_name": "HTMLModel",
            "_view_count": null,
            "_view_module": "@jupyter-widgets/controls",
            "_view_module_version": "1.5.0",
            "_view_name": "HTMLView",
            "description": "",
            "description_tooltip": null,
            "layout": "IPY_MODEL_d8d16462e80a49978406b457464dce95",
            "placeholder": "​",
            "style": "IPY_MODEL_c27a6c0cf04a4cb98153432c7c0be0d8",
            "value": "Epoch: 100%"
          }
        },
        "26ae66a4bdeb4950aa59a01eed565526": {
          "model_module": "@jupyter-widgets/controls",
          "model_name": "FloatProgressModel",
          "model_module_version": "1.5.0",
          "state": {
            "_dom_classes": [],
            "_model_module": "@jupyter-widgets/controls",
            "_model_module_version": "1.5.0",
            "_model_name": "FloatProgressModel",
            "_view_count": null,
            "_view_module": "@jupyter-widgets/controls",
            "_view_module_version": "1.5.0",
            "_view_name": "ProgressView",
            "bar_style": "success",
            "description": "",
            "description_tooltip": null,
            "layout": "IPY_MODEL_b7ab3490ef874eafb6221131ff154613",
            "max": 5,
            "min": 0,
            "orientation": "horizontal",
            "style": "IPY_MODEL_e66854245eaa4ce69ca2667cd9a01d0e",
            "value": 5
          }
        },
        "90327e9c51ca4a6ba4e813517210e1a4": {
          "model_module": "@jupyter-widgets/controls",
          "model_name": "HTMLModel",
          "model_module_version": "1.5.0",
          "state": {
            "_dom_classes": [],
            "_model_module": "@jupyter-widgets/controls",
            "_model_module_version": "1.5.0",
            "_model_name": "HTMLModel",
            "_view_count": null,
            "_view_module": "@jupyter-widgets/controls",
            "_view_module_version": "1.5.0",
            "_view_name": "HTMLView",
            "description": "",
            "description_tooltip": null,
            "layout": "IPY_MODEL_d38812ae88cb48a999351ff3e5079938",
            "placeholder": "​",
            "style": "IPY_MODEL_a59cd619b3174d7c87efd3df1add8937",
            "value": " 5/5 [1:30:39&lt;00:00, 1086.86s/it]"
          }
        },
        "a16300a642e046c58b2cbad9de1342c9": {
          "model_module": "@jupyter-widgets/base",
          "model_name": "LayoutModel",
          "model_module_version": "1.2.0",
          "state": {
            "_model_module": "@jupyter-widgets/base",
            "_model_module_version": "1.2.0",
            "_model_name": "LayoutModel",
            "_view_count": null,
            "_view_module": "@jupyter-widgets/base",
            "_view_module_version": "1.2.0",
            "_view_name": "LayoutView",
            "align_content": null,
            "align_items": null,
            "align_self": null,
            "border": null,
            "bottom": null,
            "display": null,
            "flex": null,
            "flex_flow": null,
            "grid_area": null,
            "grid_auto_columns": null,
            "grid_auto_flow": null,
            "grid_auto_rows": null,
            "grid_column": null,
            "grid_gap": null,
            "grid_row": null,
            "grid_template_areas": null,
            "grid_template_columns": null,
            "grid_template_rows": null,
            "height": null,
            "justify_content": null,
            "justify_items": null,
            "left": null,
            "margin": null,
            "max_height": null,
            "max_width": null,
            "min_height": null,
            "min_width": null,
            "object_fit": null,
            "object_position": null,
            "order": null,
            "overflow": null,
            "overflow_x": null,
            "overflow_y": null,
            "padding": null,
            "right": null,
            "top": null,
            "visibility": null,
            "width": null
          }
        },
        "d8d16462e80a49978406b457464dce95": {
          "model_module": "@jupyter-widgets/base",
          "model_name": "LayoutModel",
          "model_module_version": "1.2.0",
          "state": {
            "_model_module": "@jupyter-widgets/base",
            "_model_module_version": "1.2.0",
            "_model_name": "LayoutModel",
            "_view_count": null,
            "_view_module": "@jupyter-widgets/base",
            "_view_module_version": "1.2.0",
            "_view_name": "LayoutView",
            "align_content": null,
            "align_items": null,
            "align_self": null,
            "border": null,
            "bottom": null,
            "display": null,
            "flex": null,
            "flex_flow": null,
            "grid_area": null,
            "grid_auto_columns": null,
            "grid_auto_flow": null,
            "grid_auto_rows": null,
            "grid_column": null,
            "grid_gap": null,
            "grid_row": null,
            "grid_template_areas": null,
            "grid_template_columns": null,
            "grid_template_rows": null,
            "height": null,
            "justify_content": null,
            "justify_items": null,
            "left": null,
            "margin": null,
            "max_height": null,
            "max_width": null,
            "min_height": null,
            "min_width": null,
            "object_fit": null,
            "object_position": null,
            "order": null,
            "overflow": null,
            "overflow_x": null,
            "overflow_y": null,
            "padding": null,
            "right": null,
            "top": null,
            "visibility": null,
            "width": null
          }
        },
        "c27a6c0cf04a4cb98153432c7c0be0d8": {
          "model_module": "@jupyter-widgets/controls",
          "model_name": "DescriptionStyleModel",
          "model_module_version": "1.5.0",
          "state": {
            "_model_module": "@jupyter-widgets/controls",
            "_model_module_version": "1.5.0",
            "_model_name": "DescriptionStyleModel",
            "_view_count": null,
            "_view_module": "@jupyter-widgets/base",
            "_view_module_version": "1.2.0",
            "_view_name": "StyleView",
            "description_width": ""
          }
        },
        "b7ab3490ef874eafb6221131ff154613": {
          "model_module": "@jupyter-widgets/base",
          "model_name": "LayoutModel",
          "model_module_version": "1.2.0",
          "state": {
            "_model_module": "@jupyter-widgets/base",
            "_model_module_version": "1.2.0",
            "_model_name": "LayoutModel",
            "_view_count": null,
            "_view_module": "@jupyter-widgets/base",
            "_view_module_version": "1.2.0",
            "_view_name": "LayoutView",
            "align_content": null,
            "align_items": null,
            "align_self": null,
            "border": null,
            "bottom": null,
            "display": null,
            "flex": null,
            "flex_flow": null,
            "grid_area": null,
            "grid_auto_columns": null,
            "grid_auto_flow": null,
            "grid_auto_rows": null,
            "grid_column": null,
            "grid_gap": null,
            "grid_row": null,
            "grid_template_areas": null,
            "grid_template_columns": null,
            "grid_template_rows": null,
            "height": null,
            "justify_content": null,
            "justify_items": null,
            "left": null,
            "margin": null,
            "max_height": null,
            "max_width": null,
            "min_height": null,
            "min_width": null,
            "object_fit": null,
            "object_position": null,
            "order": null,
            "overflow": null,
            "overflow_x": null,
            "overflow_y": null,
            "padding": null,
            "right": null,
            "top": null,
            "visibility": null,
            "width": null
          }
        },
        "e66854245eaa4ce69ca2667cd9a01d0e": {
          "model_module": "@jupyter-widgets/controls",
          "model_name": "ProgressStyleModel",
          "model_module_version": "1.5.0",
          "state": {
            "_model_module": "@jupyter-widgets/controls",
            "_model_module_version": "1.5.0",
            "_model_name": "ProgressStyleModel",
            "_view_count": null,
            "_view_module": "@jupyter-widgets/base",
            "_view_module_version": "1.2.0",
            "_view_name": "StyleView",
            "bar_color": null,
            "description_width": ""
          }
        },
        "d38812ae88cb48a999351ff3e5079938": {
          "model_module": "@jupyter-widgets/base",
          "model_name": "LayoutModel",
          "model_module_version": "1.2.0",
          "state": {
            "_model_module": "@jupyter-widgets/base",
            "_model_module_version": "1.2.0",
            "_model_name": "LayoutModel",
            "_view_count": null,
            "_view_module": "@jupyter-widgets/base",
            "_view_module_version": "1.2.0",
            "_view_name": "LayoutView",
            "align_content": null,
            "align_items": null,
            "align_self": null,
            "border": null,
            "bottom": null,
            "display": null,
            "flex": null,
            "flex_flow": null,
            "grid_area": null,
            "grid_auto_columns": null,
            "grid_auto_flow": null,
            "grid_auto_rows": null,
            "grid_column": null,
            "grid_gap": null,
            "grid_row": null,
            "grid_template_areas": null,
            "grid_template_columns": null,
            "grid_template_rows": null,
            "height": null,
            "justify_content": null,
            "justify_items": null,
            "left": null,
            "margin": null,
            "max_height": null,
            "max_width": null,
            "min_height": null,
            "min_width": null,
            "object_fit": null,
            "object_position": null,
            "order": null,
            "overflow": null,
            "overflow_x": null,
            "overflow_y": null,
            "padding": null,
            "right": null,
            "top": null,
            "visibility": null,
            "width": null
          }
        },
        "a59cd619b3174d7c87efd3df1add8937": {
          "model_module": "@jupyter-widgets/controls",
          "model_name": "DescriptionStyleModel",
          "model_module_version": "1.5.0",
          "state": {
            "_model_module": "@jupyter-widgets/controls",
            "_model_module_version": "1.5.0",
            "_model_name": "DescriptionStyleModel",
            "_view_count": null,
            "_view_module": "@jupyter-widgets/base",
            "_view_module_version": "1.2.0",
            "_view_name": "StyleView",
            "description_width": ""
          }
        },
        "1fc74fb37a2d4159a6a5ca1b16f03120": {
          "model_module": "@jupyter-widgets/controls",
          "model_name": "HBoxModel",
          "model_module_version": "1.5.0",
          "state": {
            "_dom_classes": [],
            "_model_module": "@jupyter-widgets/controls",
            "_model_module_version": "1.5.0",
            "_model_name": "HBoxModel",
            "_view_count": null,
            "_view_module": "@jupyter-widgets/controls",
            "_view_module_version": "1.5.0",
            "_view_name": "HBoxView",
            "box_style": "",
            "children": [
              "IPY_MODEL_3d074da0c09b481d8eb8d31aaef5251f",
              "IPY_MODEL_04ce087ea2cb4428a7c60f5b45d8c383",
              "IPY_MODEL_d1005494ba08465384922dbf911bfc9d"
            ],
            "layout": "IPY_MODEL_18a99df853ae4894a96a743942671c37"
          }
        },
        "3d074da0c09b481d8eb8d31aaef5251f": {
          "model_module": "@jupyter-widgets/controls",
          "model_name": "HTMLModel",
          "model_module_version": "1.5.0",
          "state": {
            "_dom_classes": [],
            "_model_module": "@jupyter-widgets/controls",
            "_model_module_version": "1.5.0",
            "_model_name": "HTMLModel",
            "_view_count": null,
            "_view_module": "@jupyter-widgets/controls",
            "_view_module_version": "1.5.0",
            "_view_name": "HTMLView",
            "description": "",
            "description_tooltip": null,
            "layout": "IPY_MODEL_bc6097d28b8941bb87c00ceb419f5ebd",
            "placeholder": "​",
            "style": "IPY_MODEL_7da56ae2f6a744c9b9e049a8e781c6f2",
            "value": "Iteration: 100%"
          }
        },
        "04ce087ea2cb4428a7c60f5b45d8c383": {
          "model_module": "@jupyter-widgets/controls",
          "model_name": "FloatProgressModel",
          "model_module_version": "1.5.0",
          "state": {
            "_dom_classes": [],
            "_model_module": "@jupyter-widgets/controls",
            "_model_module_version": "1.5.0",
            "_model_name": "FloatProgressModel",
            "_view_count": null,
            "_view_module": "@jupyter-widgets/controls",
            "_view_module_version": "1.5.0",
            "_view_name": "ProgressView",
            "bar_style": "success",
            "description": "",
            "description_tooltip": null,
            "layout": "IPY_MODEL_726ba83dd4d041089b132abbc5501f2d",
            "max": 1632,
            "min": 0,
            "orientation": "horizontal",
            "style": "IPY_MODEL_0eec3737e5c349aeb1f463f2c4d9e0f7",
            "value": 1632
          }
        },
        "d1005494ba08465384922dbf911bfc9d": {
          "model_module": "@jupyter-widgets/controls",
          "model_name": "HTMLModel",
          "model_module_version": "1.5.0",
          "state": {
            "_dom_classes": [],
            "_model_module": "@jupyter-widgets/controls",
            "_model_module_version": "1.5.0",
            "_model_name": "HTMLModel",
            "_view_count": null,
            "_view_module": "@jupyter-widgets/controls",
            "_view_module_version": "1.5.0",
            "_view_name": "HTMLView",
            "description": "",
            "description_tooltip": null,
            "layout": "IPY_MODEL_e594ae43d9ab4c558f55cbf6f04f3e67",
            "placeholder": "​",
            "style": "IPY_MODEL_c95321139377407ea9ba984631de02b4",
            "value": " 1632/1632 [17:31&lt;00:00,  1.60it/s]"
          }
        },
        "18a99df853ae4894a96a743942671c37": {
          "model_module": "@jupyter-widgets/base",
          "model_name": "LayoutModel",
          "model_module_version": "1.2.0",
          "state": {
            "_model_module": "@jupyter-widgets/base",
            "_model_module_version": "1.2.0",
            "_model_name": "LayoutModel",
            "_view_count": null,
            "_view_module": "@jupyter-widgets/base",
            "_view_module_version": "1.2.0",
            "_view_name": "LayoutView",
            "align_content": null,
            "align_items": null,
            "align_self": null,
            "border": null,
            "bottom": null,
            "display": null,
            "flex": null,
            "flex_flow": null,
            "grid_area": null,
            "grid_auto_columns": null,
            "grid_auto_flow": null,
            "grid_auto_rows": null,
            "grid_column": null,
            "grid_gap": null,
            "grid_row": null,
            "grid_template_areas": null,
            "grid_template_columns": null,
            "grid_template_rows": null,
            "height": null,
            "justify_content": null,
            "justify_items": null,
            "left": null,
            "margin": null,
            "max_height": null,
            "max_width": null,
            "min_height": null,
            "min_width": null,
            "object_fit": null,
            "object_position": null,
            "order": null,
            "overflow": null,
            "overflow_x": null,
            "overflow_y": null,
            "padding": null,
            "right": null,
            "top": null,
            "visibility": null,
            "width": null
          }
        },
        "bc6097d28b8941bb87c00ceb419f5ebd": {
          "model_module": "@jupyter-widgets/base",
          "model_name": "LayoutModel",
          "model_module_version": "1.2.0",
          "state": {
            "_model_module": "@jupyter-widgets/base",
            "_model_module_version": "1.2.0",
            "_model_name": "LayoutModel",
            "_view_count": null,
            "_view_module": "@jupyter-widgets/base",
            "_view_module_version": "1.2.0",
            "_view_name": "LayoutView",
            "align_content": null,
            "align_items": null,
            "align_self": null,
            "border": null,
            "bottom": null,
            "display": null,
            "flex": null,
            "flex_flow": null,
            "grid_area": null,
            "grid_auto_columns": null,
            "grid_auto_flow": null,
            "grid_auto_rows": null,
            "grid_column": null,
            "grid_gap": null,
            "grid_row": null,
            "grid_template_areas": null,
            "grid_template_columns": null,
            "grid_template_rows": null,
            "height": null,
            "justify_content": null,
            "justify_items": null,
            "left": null,
            "margin": null,
            "max_height": null,
            "max_width": null,
            "min_height": null,
            "min_width": null,
            "object_fit": null,
            "object_position": null,
            "order": null,
            "overflow": null,
            "overflow_x": null,
            "overflow_y": null,
            "padding": null,
            "right": null,
            "top": null,
            "visibility": null,
            "width": null
          }
        },
        "7da56ae2f6a744c9b9e049a8e781c6f2": {
          "model_module": "@jupyter-widgets/controls",
          "model_name": "DescriptionStyleModel",
          "model_module_version": "1.5.0",
          "state": {
            "_model_module": "@jupyter-widgets/controls",
            "_model_module_version": "1.5.0",
            "_model_name": "DescriptionStyleModel",
            "_view_count": null,
            "_view_module": "@jupyter-widgets/base",
            "_view_module_version": "1.2.0",
            "_view_name": "StyleView",
            "description_width": ""
          }
        },
        "726ba83dd4d041089b132abbc5501f2d": {
          "model_module": "@jupyter-widgets/base",
          "model_name": "LayoutModel",
          "model_module_version": "1.2.0",
          "state": {
            "_model_module": "@jupyter-widgets/base",
            "_model_module_version": "1.2.0",
            "_model_name": "LayoutModel",
            "_view_count": null,
            "_view_module": "@jupyter-widgets/base",
            "_view_module_version": "1.2.0",
            "_view_name": "LayoutView",
            "align_content": null,
            "align_items": null,
            "align_self": null,
            "border": null,
            "bottom": null,
            "display": null,
            "flex": null,
            "flex_flow": null,
            "grid_area": null,
            "grid_auto_columns": null,
            "grid_auto_flow": null,
            "grid_auto_rows": null,
            "grid_column": null,
            "grid_gap": null,
            "grid_row": null,
            "grid_template_areas": null,
            "grid_template_columns": null,
            "grid_template_rows": null,
            "height": null,
            "justify_content": null,
            "justify_items": null,
            "left": null,
            "margin": null,
            "max_height": null,
            "max_width": null,
            "min_height": null,
            "min_width": null,
            "object_fit": null,
            "object_position": null,
            "order": null,
            "overflow": null,
            "overflow_x": null,
            "overflow_y": null,
            "padding": null,
            "right": null,
            "top": null,
            "visibility": null,
            "width": null
          }
        },
        "0eec3737e5c349aeb1f463f2c4d9e0f7": {
          "model_module": "@jupyter-widgets/controls",
          "model_name": "ProgressStyleModel",
          "model_module_version": "1.5.0",
          "state": {
            "_model_module": "@jupyter-widgets/controls",
            "_model_module_version": "1.5.0",
            "_model_name": "ProgressStyleModel",
            "_view_count": null,
            "_view_module": "@jupyter-widgets/base",
            "_view_module_version": "1.2.0",
            "_view_name": "StyleView",
            "bar_color": null,
            "description_width": ""
          }
        },
        "e594ae43d9ab4c558f55cbf6f04f3e67": {
          "model_module": "@jupyter-widgets/base",
          "model_name": "LayoutModel",
          "model_module_version": "1.2.0",
          "state": {
            "_model_module": "@jupyter-widgets/base",
            "_model_module_version": "1.2.0",
            "_model_name": "LayoutModel",
            "_view_count": null,
            "_view_module": "@jupyter-widgets/base",
            "_view_module_version": "1.2.0",
            "_view_name": "LayoutView",
            "align_content": null,
            "align_items": null,
            "align_self": null,
            "border": null,
            "bottom": null,
            "display": null,
            "flex": null,
            "flex_flow": null,
            "grid_area": null,
            "grid_auto_columns": null,
            "grid_auto_flow": null,
            "grid_auto_rows": null,
            "grid_column": null,
            "grid_gap": null,
            "grid_row": null,
            "grid_template_areas": null,
            "grid_template_columns": null,
            "grid_template_rows": null,
            "height": null,
            "justify_content": null,
            "justify_items": null,
            "left": null,
            "margin": null,
            "max_height": null,
            "max_width": null,
            "min_height": null,
            "min_width": null,
            "object_fit": null,
            "object_position": null,
            "order": null,
            "overflow": null,
            "overflow_x": null,
            "overflow_y": null,
            "padding": null,
            "right": null,
            "top": null,
            "visibility": null,
            "width": null
          }
        },
        "c95321139377407ea9ba984631de02b4": {
          "model_module": "@jupyter-widgets/controls",
          "model_name": "DescriptionStyleModel",
          "model_module_version": "1.5.0",
          "state": {
            "_model_module": "@jupyter-widgets/controls",
            "_model_module_version": "1.5.0",
            "_model_name": "DescriptionStyleModel",
            "_view_count": null,
            "_view_module": "@jupyter-widgets/base",
            "_view_module_version": "1.2.0",
            "_view_name": "StyleView",
            "description_width": ""
          }
        },
        "61bbb63689fe42a9bd36463cecfdda3d": {
          "model_module": "@jupyter-widgets/controls",
          "model_name": "HBoxModel",
          "model_module_version": "1.5.0",
          "state": {
            "_dom_classes": [],
            "_model_module": "@jupyter-widgets/controls",
            "_model_module_version": "1.5.0",
            "_model_name": "HBoxModel",
            "_view_count": null,
            "_view_module": "@jupyter-widgets/controls",
            "_view_module_version": "1.5.0",
            "_view_name": "HBoxView",
            "box_style": "",
            "children": [
              "IPY_MODEL_6ab1daa30dc84c89b82c68e367399668",
              "IPY_MODEL_7dc6cf89e6334eaaacaea7f10a46fa2a",
              "IPY_MODEL_6406cc4baabe4860b518d5ee396b85e6"
            ],
            "layout": "IPY_MODEL_f33f3045a8bc4028a9bddb7a5bff33be"
          }
        },
        "6ab1daa30dc84c89b82c68e367399668": {
          "model_module": "@jupyter-widgets/controls",
          "model_name": "HTMLModel",
          "model_module_version": "1.5.0",
          "state": {
            "_dom_classes": [],
            "_model_module": "@jupyter-widgets/controls",
            "_model_module_version": "1.5.0",
            "_model_name": "HTMLModel",
            "_view_count": null,
            "_view_module": "@jupyter-widgets/controls",
            "_view_module_version": "1.5.0",
            "_view_name": "HTMLView",
            "description": "",
            "description_tooltip": null,
            "layout": "IPY_MODEL_a0f9083008fe4b52a1a75456f14096df",
            "placeholder": "​",
            "style": "IPY_MODEL_c1f403fb233d4a5ea4b3e30293b5e41c",
            "value": "Iteration: 100%"
          }
        },
        "7dc6cf89e6334eaaacaea7f10a46fa2a": {
          "model_module": "@jupyter-widgets/controls",
          "model_name": "FloatProgressModel",
          "model_module_version": "1.5.0",
          "state": {
            "_dom_classes": [],
            "_model_module": "@jupyter-widgets/controls",
            "_model_module_version": "1.5.0",
            "_model_name": "FloatProgressModel",
            "_view_count": null,
            "_view_module": "@jupyter-widgets/controls",
            "_view_module_version": "1.5.0",
            "_view_name": "ProgressView",
            "bar_style": "success",
            "description": "",
            "description_tooltip": null,
            "layout": "IPY_MODEL_21d9dc4d8ea24acaa874e077bbea3e65",
            "max": 1632,
            "min": 0,
            "orientation": "horizontal",
            "style": "IPY_MODEL_d08d5769bc824d6ba3b46ce7218be8a0",
            "value": 1632
          }
        },
        "6406cc4baabe4860b518d5ee396b85e6": {
          "model_module": "@jupyter-widgets/controls",
          "model_name": "HTMLModel",
          "model_module_version": "1.5.0",
          "state": {
            "_dom_classes": [],
            "_model_module": "@jupyter-widgets/controls",
            "_model_module_version": "1.5.0",
            "_model_name": "HTMLModel",
            "_view_count": null,
            "_view_module": "@jupyter-widgets/controls",
            "_view_module_version": "1.5.0",
            "_view_name": "HTMLView",
            "description": "",
            "description_tooltip": null,
            "layout": "IPY_MODEL_78009b58157a43b7ae9ab35ae8589a9d",
            "placeholder": "​",
            "style": "IPY_MODEL_6eca4093bbd746d889308c0910c4e575",
            "value": " 1632/1632 [17:27&lt;00:00,  1.63it/s]"
          }
        },
        "f33f3045a8bc4028a9bddb7a5bff33be": {
          "model_module": "@jupyter-widgets/base",
          "model_name": "LayoutModel",
          "model_module_version": "1.2.0",
          "state": {
            "_model_module": "@jupyter-widgets/base",
            "_model_module_version": "1.2.0",
            "_model_name": "LayoutModel",
            "_view_count": null,
            "_view_module": "@jupyter-widgets/base",
            "_view_module_version": "1.2.0",
            "_view_name": "LayoutView",
            "align_content": null,
            "align_items": null,
            "align_self": null,
            "border": null,
            "bottom": null,
            "display": null,
            "flex": null,
            "flex_flow": null,
            "grid_area": null,
            "grid_auto_columns": null,
            "grid_auto_flow": null,
            "grid_auto_rows": null,
            "grid_column": null,
            "grid_gap": null,
            "grid_row": null,
            "grid_template_areas": null,
            "grid_template_columns": null,
            "grid_template_rows": null,
            "height": null,
            "justify_content": null,
            "justify_items": null,
            "left": null,
            "margin": null,
            "max_height": null,
            "max_width": null,
            "min_height": null,
            "min_width": null,
            "object_fit": null,
            "object_position": null,
            "order": null,
            "overflow": null,
            "overflow_x": null,
            "overflow_y": null,
            "padding": null,
            "right": null,
            "top": null,
            "visibility": null,
            "width": null
          }
        },
        "a0f9083008fe4b52a1a75456f14096df": {
          "model_module": "@jupyter-widgets/base",
          "model_name": "LayoutModel",
          "model_module_version": "1.2.0",
          "state": {
            "_model_module": "@jupyter-widgets/base",
            "_model_module_version": "1.2.0",
            "_model_name": "LayoutModel",
            "_view_count": null,
            "_view_module": "@jupyter-widgets/base",
            "_view_module_version": "1.2.0",
            "_view_name": "LayoutView",
            "align_content": null,
            "align_items": null,
            "align_self": null,
            "border": null,
            "bottom": null,
            "display": null,
            "flex": null,
            "flex_flow": null,
            "grid_area": null,
            "grid_auto_columns": null,
            "grid_auto_flow": null,
            "grid_auto_rows": null,
            "grid_column": null,
            "grid_gap": null,
            "grid_row": null,
            "grid_template_areas": null,
            "grid_template_columns": null,
            "grid_template_rows": null,
            "height": null,
            "justify_content": null,
            "justify_items": null,
            "left": null,
            "margin": null,
            "max_height": null,
            "max_width": null,
            "min_height": null,
            "min_width": null,
            "object_fit": null,
            "object_position": null,
            "order": null,
            "overflow": null,
            "overflow_x": null,
            "overflow_y": null,
            "padding": null,
            "right": null,
            "top": null,
            "visibility": null,
            "width": null
          }
        },
        "c1f403fb233d4a5ea4b3e30293b5e41c": {
          "model_module": "@jupyter-widgets/controls",
          "model_name": "DescriptionStyleModel",
          "model_module_version": "1.5.0",
          "state": {
            "_model_module": "@jupyter-widgets/controls",
            "_model_module_version": "1.5.0",
            "_model_name": "DescriptionStyleModel",
            "_view_count": null,
            "_view_module": "@jupyter-widgets/base",
            "_view_module_version": "1.2.0",
            "_view_name": "StyleView",
            "description_width": ""
          }
        },
        "21d9dc4d8ea24acaa874e077bbea3e65": {
          "model_module": "@jupyter-widgets/base",
          "model_name": "LayoutModel",
          "model_module_version": "1.2.0",
          "state": {
            "_model_module": "@jupyter-widgets/base",
            "_model_module_version": "1.2.0",
            "_model_name": "LayoutModel",
            "_view_count": null,
            "_view_module": "@jupyter-widgets/base",
            "_view_module_version": "1.2.0",
            "_view_name": "LayoutView",
            "align_content": null,
            "align_items": null,
            "align_self": null,
            "border": null,
            "bottom": null,
            "display": null,
            "flex": null,
            "flex_flow": null,
            "grid_area": null,
            "grid_auto_columns": null,
            "grid_auto_flow": null,
            "grid_auto_rows": null,
            "grid_column": null,
            "grid_gap": null,
            "grid_row": null,
            "grid_template_areas": null,
            "grid_template_columns": null,
            "grid_template_rows": null,
            "height": null,
            "justify_content": null,
            "justify_items": null,
            "left": null,
            "margin": null,
            "max_height": null,
            "max_width": null,
            "min_height": null,
            "min_width": null,
            "object_fit": null,
            "object_position": null,
            "order": null,
            "overflow": null,
            "overflow_x": null,
            "overflow_y": null,
            "padding": null,
            "right": null,
            "top": null,
            "visibility": null,
            "width": null
          }
        },
        "d08d5769bc824d6ba3b46ce7218be8a0": {
          "model_module": "@jupyter-widgets/controls",
          "model_name": "ProgressStyleModel",
          "model_module_version": "1.5.0",
          "state": {
            "_model_module": "@jupyter-widgets/controls",
            "_model_module_version": "1.5.0",
            "_model_name": "ProgressStyleModel",
            "_view_count": null,
            "_view_module": "@jupyter-widgets/base",
            "_view_module_version": "1.2.0",
            "_view_name": "StyleView",
            "bar_color": null,
            "description_width": ""
          }
        },
        "78009b58157a43b7ae9ab35ae8589a9d": {
          "model_module": "@jupyter-widgets/base",
          "model_name": "LayoutModel",
          "model_module_version": "1.2.0",
          "state": {
            "_model_module": "@jupyter-widgets/base",
            "_model_module_version": "1.2.0",
            "_model_name": "LayoutModel",
            "_view_count": null,
            "_view_module": "@jupyter-widgets/base",
            "_view_module_version": "1.2.0",
            "_view_name": "LayoutView",
            "align_content": null,
            "align_items": null,
            "align_self": null,
            "border": null,
            "bottom": null,
            "display": null,
            "flex": null,
            "flex_flow": null,
            "grid_area": null,
            "grid_auto_columns": null,
            "grid_auto_flow": null,
            "grid_auto_rows": null,
            "grid_column": null,
            "grid_gap": null,
            "grid_row": null,
            "grid_template_areas": null,
            "grid_template_columns": null,
            "grid_template_rows": null,
            "height": null,
            "justify_content": null,
            "justify_items": null,
            "left": null,
            "margin": null,
            "max_height": null,
            "max_width": null,
            "min_height": null,
            "min_width": null,
            "object_fit": null,
            "object_position": null,
            "order": null,
            "overflow": null,
            "overflow_x": null,
            "overflow_y": null,
            "padding": null,
            "right": null,
            "top": null,
            "visibility": null,
            "width": null
          }
        },
        "6eca4093bbd746d889308c0910c4e575": {
          "model_module": "@jupyter-widgets/controls",
          "model_name": "DescriptionStyleModel",
          "model_module_version": "1.5.0",
          "state": {
            "_model_module": "@jupyter-widgets/controls",
            "_model_module_version": "1.5.0",
            "_model_name": "DescriptionStyleModel",
            "_view_count": null,
            "_view_module": "@jupyter-widgets/base",
            "_view_module_version": "1.2.0",
            "_view_name": "StyleView",
            "description_width": ""
          }
        },
        "e61a29c24e0b4166848d345a212f74cd": {
          "model_module": "@jupyter-widgets/controls",
          "model_name": "HBoxModel",
          "model_module_version": "1.5.0",
          "state": {
            "_dom_classes": [],
            "_model_module": "@jupyter-widgets/controls",
            "_model_module_version": "1.5.0",
            "_model_name": "HBoxModel",
            "_view_count": null,
            "_view_module": "@jupyter-widgets/controls",
            "_view_module_version": "1.5.0",
            "_view_name": "HBoxView",
            "box_style": "",
            "children": [
              "IPY_MODEL_64812e6ab48549d8bf290bedcadeba0d",
              "IPY_MODEL_0721ca900bf24a13ad4c32434958e444",
              "IPY_MODEL_50d4392dfd8747be8c6a81208bb99244"
            ],
            "layout": "IPY_MODEL_5feb7522d3b042cba1a35b3b5bdef859"
          }
        },
        "64812e6ab48549d8bf290bedcadeba0d": {
          "model_module": "@jupyter-widgets/controls",
          "model_name": "HTMLModel",
          "model_module_version": "1.5.0",
          "state": {
            "_dom_classes": [],
            "_model_module": "@jupyter-widgets/controls",
            "_model_module_version": "1.5.0",
            "_model_name": "HTMLModel",
            "_view_count": null,
            "_view_module": "@jupyter-widgets/controls",
            "_view_module_version": "1.5.0",
            "_view_name": "HTMLView",
            "description": "",
            "description_tooltip": null,
            "layout": "IPY_MODEL_b4432845a73d4f10bdcffa73b9af7b58",
            "placeholder": "​",
            "style": "IPY_MODEL_f92ab3d8a13f4485829be90da7ef1865",
            "value": "Iteration: 100%"
          }
        },
        "0721ca900bf24a13ad4c32434958e444": {
          "model_module": "@jupyter-widgets/controls",
          "model_name": "FloatProgressModel",
          "model_module_version": "1.5.0",
          "state": {
            "_dom_classes": [],
            "_model_module": "@jupyter-widgets/controls",
            "_model_module_version": "1.5.0",
            "_model_name": "FloatProgressModel",
            "_view_count": null,
            "_view_module": "@jupyter-widgets/controls",
            "_view_module_version": "1.5.0",
            "_view_name": "ProgressView",
            "bar_style": "success",
            "description": "",
            "description_tooltip": null,
            "layout": "IPY_MODEL_f4cac11ad48744d69022f70627a0fb41",
            "max": 1632,
            "min": 0,
            "orientation": "horizontal",
            "style": "IPY_MODEL_bb5de55793ef49039ab8398084df18af",
            "value": 1632
          }
        },
        "50d4392dfd8747be8c6a81208bb99244": {
          "model_module": "@jupyter-widgets/controls",
          "model_name": "HTMLModel",
          "model_module_version": "1.5.0",
          "state": {
            "_dom_classes": [],
            "_model_module": "@jupyter-widgets/controls",
            "_model_module_version": "1.5.0",
            "_model_name": "HTMLModel",
            "_view_count": null,
            "_view_module": "@jupyter-widgets/controls",
            "_view_module_version": "1.5.0",
            "_view_name": "HTMLView",
            "description": "",
            "description_tooltip": null,
            "layout": "IPY_MODEL_d7a84e7af98c4de79650e2eab7dc9a0c",
            "placeholder": "​",
            "style": "IPY_MODEL_bd2f49d78d9a4b69baedd21254c386a3",
            "value": " 1632/1632 [17:23&lt;00:00,  1.60it/s]"
          }
        },
        "5feb7522d3b042cba1a35b3b5bdef859": {
          "model_module": "@jupyter-widgets/base",
          "model_name": "LayoutModel",
          "model_module_version": "1.2.0",
          "state": {
            "_model_module": "@jupyter-widgets/base",
            "_model_module_version": "1.2.0",
            "_model_name": "LayoutModel",
            "_view_count": null,
            "_view_module": "@jupyter-widgets/base",
            "_view_module_version": "1.2.0",
            "_view_name": "LayoutView",
            "align_content": null,
            "align_items": null,
            "align_self": null,
            "border": null,
            "bottom": null,
            "display": null,
            "flex": null,
            "flex_flow": null,
            "grid_area": null,
            "grid_auto_columns": null,
            "grid_auto_flow": null,
            "grid_auto_rows": null,
            "grid_column": null,
            "grid_gap": null,
            "grid_row": null,
            "grid_template_areas": null,
            "grid_template_columns": null,
            "grid_template_rows": null,
            "height": null,
            "justify_content": null,
            "justify_items": null,
            "left": null,
            "margin": null,
            "max_height": null,
            "max_width": null,
            "min_height": null,
            "min_width": null,
            "object_fit": null,
            "object_position": null,
            "order": null,
            "overflow": null,
            "overflow_x": null,
            "overflow_y": null,
            "padding": null,
            "right": null,
            "top": null,
            "visibility": null,
            "width": null
          }
        },
        "b4432845a73d4f10bdcffa73b9af7b58": {
          "model_module": "@jupyter-widgets/base",
          "model_name": "LayoutModel",
          "model_module_version": "1.2.0",
          "state": {
            "_model_module": "@jupyter-widgets/base",
            "_model_module_version": "1.2.0",
            "_model_name": "LayoutModel",
            "_view_count": null,
            "_view_module": "@jupyter-widgets/base",
            "_view_module_version": "1.2.0",
            "_view_name": "LayoutView",
            "align_content": null,
            "align_items": null,
            "align_self": null,
            "border": null,
            "bottom": null,
            "display": null,
            "flex": null,
            "flex_flow": null,
            "grid_area": null,
            "grid_auto_columns": null,
            "grid_auto_flow": null,
            "grid_auto_rows": null,
            "grid_column": null,
            "grid_gap": null,
            "grid_row": null,
            "grid_template_areas": null,
            "grid_template_columns": null,
            "grid_template_rows": null,
            "height": null,
            "justify_content": null,
            "justify_items": null,
            "left": null,
            "margin": null,
            "max_height": null,
            "max_width": null,
            "min_height": null,
            "min_width": null,
            "object_fit": null,
            "object_position": null,
            "order": null,
            "overflow": null,
            "overflow_x": null,
            "overflow_y": null,
            "padding": null,
            "right": null,
            "top": null,
            "visibility": null,
            "width": null
          }
        },
        "f92ab3d8a13f4485829be90da7ef1865": {
          "model_module": "@jupyter-widgets/controls",
          "model_name": "DescriptionStyleModel",
          "model_module_version": "1.5.0",
          "state": {
            "_model_module": "@jupyter-widgets/controls",
            "_model_module_version": "1.5.0",
            "_model_name": "DescriptionStyleModel",
            "_view_count": null,
            "_view_module": "@jupyter-widgets/base",
            "_view_module_version": "1.2.0",
            "_view_name": "StyleView",
            "description_width": ""
          }
        },
        "f4cac11ad48744d69022f70627a0fb41": {
          "model_module": "@jupyter-widgets/base",
          "model_name": "LayoutModel",
          "model_module_version": "1.2.0",
          "state": {
            "_model_module": "@jupyter-widgets/base",
            "_model_module_version": "1.2.0",
            "_model_name": "LayoutModel",
            "_view_count": null,
            "_view_module": "@jupyter-widgets/base",
            "_view_module_version": "1.2.0",
            "_view_name": "LayoutView",
            "align_content": null,
            "align_items": null,
            "align_self": null,
            "border": null,
            "bottom": null,
            "display": null,
            "flex": null,
            "flex_flow": null,
            "grid_area": null,
            "grid_auto_columns": null,
            "grid_auto_flow": null,
            "grid_auto_rows": null,
            "grid_column": null,
            "grid_gap": null,
            "grid_row": null,
            "grid_template_areas": null,
            "grid_template_columns": null,
            "grid_template_rows": null,
            "height": null,
            "justify_content": null,
            "justify_items": null,
            "left": null,
            "margin": null,
            "max_height": null,
            "max_width": null,
            "min_height": null,
            "min_width": null,
            "object_fit": null,
            "object_position": null,
            "order": null,
            "overflow": null,
            "overflow_x": null,
            "overflow_y": null,
            "padding": null,
            "right": null,
            "top": null,
            "visibility": null,
            "width": null
          }
        },
        "bb5de55793ef49039ab8398084df18af": {
          "model_module": "@jupyter-widgets/controls",
          "model_name": "ProgressStyleModel",
          "model_module_version": "1.5.0",
          "state": {
            "_model_module": "@jupyter-widgets/controls",
            "_model_module_version": "1.5.0",
            "_model_name": "ProgressStyleModel",
            "_view_count": null,
            "_view_module": "@jupyter-widgets/base",
            "_view_module_version": "1.2.0",
            "_view_name": "StyleView",
            "bar_color": null,
            "description_width": ""
          }
        },
        "d7a84e7af98c4de79650e2eab7dc9a0c": {
          "model_module": "@jupyter-widgets/base",
          "model_name": "LayoutModel",
          "model_module_version": "1.2.0",
          "state": {
            "_model_module": "@jupyter-widgets/base",
            "_model_module_version": "1.2.0",
            "_model_name": "LayoutModel",
            "_view_count": null,
            "_view_module": "@jupyter-widgets/base",
            "_view_module_version": "1.2.0",
            "_view_name": "LayoutView",
            "align_content": null,
            "align_items": null,
            "align_self": null,
            "border": null,
            "bottom": null,
            "display": null,
            "flex": null,
            "flex_flow": null,
            "grid_area": null,
            "grid_auto_columns": null,
            "grid_auto_flow": null,
            "grid_auto_rows": null,
            "grid_column": null,
            "grid_gap": null,
            "grid_row": null,
            "grid_template_areas": null,
            "grid_template_columns": null,
            "grid_template_rows": null,
            "height": null,
            "justify_content": null,
            "justify_items": null,
            "left": null,
            "margin": null,
            "max_height": null,
            "max_width": null,
            "min_height": null,
            "min_width": null,
            "object_fit": null,
            "object_position": null,
            "order": null,
            "overflow": null,
            "overflow_x": null,
            "overflow_y": null,
            "padding": null,
            "right": null,
            "top": null,
            "visibility": null,
            "width": null
          }
        },
        "bd2f49d78d9a4b69baedd21254c386a3": {
          "model_module": "@jupyter-widgets/controls",
          "model_name": "DescriptionStyleModel",
          "model_module_version": "1.5.0",
          "state": {
            "_model_module": "@jupyter-widgets/controls",
            "_model_module_version": "1.5.0",
            "_model_name": "DescriptionStyleModel",
            "_view_count": null,
            "_view_module": "@jupyter-widgets/base",
            "_view_module_version": "1.2.0",
            "_view_name": "StyleView",
            "description_width": ""
          }
        },
        "606fcac0c26942e5b98be066230aacc6": {
          "model_module": "@jupyter-widgets/controls",
          "model_name": "HBoxModel",
          "model_module_version": "1.5.0",
          "state": {
            "_dom_classes": [],
            "_model_module": "@jupyter-widgets/controls",
            "_model_module_version": "1.5.0",
            "_model_name": "HBoxModel",
            "_view_count": null,
            "_view_module": "@jupyter-widgets/controls",
            "_view_module_version": "1.5.0",
            "_view_name": "HBoxView",
            "box_style": "",
            "children": [
              "IPY_MODEL_5ba0bcb87dfc432f855e77ed2ed60548",
              "IPY_MODEL_8ebefe6f7ff343a68ac1f4ac8345a00a",
              "IPY_MODEL_ea013eb724e3436984d45eeaa6460906"
            ],
            "layout": "IPY_MODEL_235be755030543d0a9594940c792ead3"
          }
        },
        "5ba0bcb87dfc432f855e77ed2ed60548": {
          "model_module": "@jupyter-widgets/controls",
          "model_name": "HTMLModel",
          "model_module_version": "1.5.0",
          "state": {
            "_dom_classes": [],
            "_model_module": "@jupyter-widgets/controls",
            "_model_module_version": "1.5.0",
            "_model_name": "HTMLModel",
            "_view_count": null,
            "_view_module": "@jupyter-widgets/controls",
            "_view_module_version": "1.5.0",
            "_view_name": "HTMLView",
            "description": "",
            "description_tooltip": null,
            "layout": "IPY_MODEL_cee2cce7f5e04c8b80f8b0da8a1b1c17",
            "placeholder": "​",
            "style": "IPY_MODEL_304f0fc812ca4d7abc1c90b703ae79ef",
            "value": "Iteration: 100%"
          }
        },
        "8ebefe6f7ff343a68ac1f4ac8345a00a": {
          "model_module": "@jupyter-widgets/controls",
          "model_name": "FloatProgressModel",
          "model_module_version": "1.5.0",
          "state": {
            "_dom_classes": [],
            "_model_module": "@jupyter-widgets/controls",
            "_model_module_version": "1.5.0",
            "_model_name": "FloatProgressModel",
            "_view_count": null,
            "_view_module": "@jupyter-widgets/controls",
            "_view_module_version": "1.5.0",
            "_view_name": "ProgressView",
            "bar_style": "success",
            "description": "",
            "description_tooltip": null,
            "layout": "IPY_MODEL_be9fab77aa8a45aab90a980669cf1a14",
            "max": 1632,
            "min": 0,
            "orientation": "horizontal",
            "style": "IPY_MODEL_941780ce689242a88e9ed89b6f1fc1c6",
            "value": 1632
          }
        },
        "ea013eb724e3436984d45eeaa6460906": {
          "model_module": "@jupyter-widgets/controls",
          "model_name": "HTMLModel",
          "model_module_version": "1.5.0",
          "state": {
            "_dom_classes": [],
            "_model_module": "@jupyter-widgets/controls",
            "_model_module_version": "1.5.0",
            "_model_name": "HTMLModel",
            "_view_count": null,
            "_view_module": "@jupyter-widgets/controls",
            "_view_module_version": "1.5.0",
            "_view_name": "HTMLView",
            "description": "",
            "description_tooltip": null,
            "layout": "IPY_MODEL_62dd740d97ec4858b75f7ffec3addbbb",
            "placeholder": "​",
            "style": "IPY_MODEL_930cf9945d8e4567a029de686c49023e",
            "value": " 1632/1632 [17:23&lt;00:00,  1.63it/s]"
          }
        },
        "235be755030543d0a9594940c792ead3": {
          "model_module": "@jupyter-widgets/base",
          "model_name": "LayoutModel",
          "model_module_version": "1.2.0",
          "state": {
            "_model_module": "@jupyter-widgets/base",
            "_model_module_version": "1.2.0",
            "_model_name": "LayoutModel",
            "_view_count": null,
            "_view_module": "@jupyter-widgets/base",
            "_view_module_version": "1.2.0",
            "_view_name": "LayoutView",
            "align_content": null,
            "align_items": null,
            "align_self": null,
            "border": null,
            "bottom": null,
            "display": null,
            "flex": null,
            "flex_flow": null,
            "grid_area": null,
            "grid_auto_columns": null,
            "grid_auto_flow": null,
            "grid_auto_rows": null,
            "grid_column": null,
            "grid_gap": null,
            "grid_row": null,
            "grid_template_areas": null,
            "grid_template_columns": null,
            "grid_template_rows": null,
            "height": null,
            "justify_content": null,
            "justify_items": null,
            "left": null,
            "margin": null,
            "max_height": null,
            "max_width": null,
            "min_height": null,
            "min_width": null,
            "object_fit": null,
            "object_position": null,
            "order": null,
            "overflow": null,
            "overflow_x": null,
            "overflow_y": null,
            "padding": null,
            "right": null,
            "top": null,
            "visibility": null,
            "width": null
          }
        },
        "cee2cce7f5e04c8b80f8b0da8a1b1c17": {
          "model_module": "@jupyter-widgets/base",
          "model_name": "LayoutModel",
          "model_module_version": "1.2.0",
          "state": {
            "_model_module": "@jupyter-widgets/base",
            "_model_module_version": "1.2.0",
            "_model_name": "LayoutModel",
            "_view_count": null,
            "_view_module": "@jupyter-widgets/base",
            "_view_module_version": "1.2.0",
            "_view_name": "LayoutView",
            "align_content": null,
            "align_items": null,
            "align_self": null,
            "border": null,
            "bottom": null,
            "display": null,
            "flex": null,
            "flex_flow": null,
            "grid_area": null,
            "grid_auto_columns": null,
            "grid_auto_flow": null,
            "grid_auto_rows": null,
            "grid_column": null,
            "grid_gap": null,
            "grid_row": null,
            "grid_template_areas": null,
            "grid_template_columns": null,
            "grid_template_rows": null,
            "height": null,
            "justify_content": null,
            "justify_items": null,
            "left": null,
            "margin": null,
            "max_height": null,
            "max_width": null,
            "min_height": null,
            "min_width": null,
            "object_fit": null,
            "object_position": null,
            "order": null,
            "overflow": null,
            "overflow_x": null,
            "overflow_y": null,
            "padding": null,
            "right": null,
            "top": null,
            "visibility": null,
            "width": null
          }
        },
        "304f0fc812ca4d7abc1c90b703ae79ef": {
          "model_module": "@jupyter-widgets/controls",
          "model_name": "DescriptionStyleModel",
          "model_module_version": "1.5.0",
          "state": {
            "_model_module": "@jupyter-widgets/controls",
            "_model_module_version": "1.5.0",
            "_model_name": "DescriptionStyleModel",
            "_view_count": null,
            "_view_module": "@jupyter-widgets/base",
            "_view_module_version": "1.2.0",
            "_view_name": "StyleView",
            "description_width": ""
          }
        },
        "be9fab77aa8a45aab90a980669cf1a14": {
          "model_module": "@jupyter-widgets/base",
          "model_name": "LayoutModel",
          "model_module_version": "1.2.0",
          "state": {
            "_model_module": "@jupyter-widgets/base",
            "_model_module_version": "1.2.0",
            "_model_name": "LayoutModel",
            "_view_count": null,
            "_view_module": "@jupyter-widgets/base",
            "_view_module_version": "1.2.0",
            "_view_name": "LayoutView",
            "align_content": null,
            "align_items": null,
            "align_self": null,
            "border": null,
            "bottom": null,
            "display": null,
            "flex": null,
            "flex_flow": null,
            "grid_area": null,
            "grid_auto_columns": null,
            "grid_auto_flow": null,
            "grid_auto_rows": null,
            "grid_column": null,
            "grid_gap": null,
            "grid_row": null,
            "grid_template_areas": null,
            "grid_template_columns": null,
            "grid_template_rows": null,
            "height": null,
            "justify_content": null,
            "justify_items": null,
            "left": null,
            "margin": null,
            "max_height": null,
            "max_width": null,
            "min_height": null,
            "min_width": null,
            "object_fit": null,
            "object_position": null,
            "order": null,
            "overflow": null,
            "overflow_x": null,
            "overflow_y": null,
            "padding": null,
            "right": null,
            "top": null,
            "visibility": null,
            "width": null
          }
        },
        "941780ce689242a88e9ed89b6f1fc1c6": {
          "model_module": "@jupyter-widgets/controls",
          "model_name": "ProgressStyleModel",
          "model_module_version": "1.5.0",
          "state": {
            "_model_module": "@jupyter-widgets/controls",
            "_model_module_version": "1.5.0",
            "_model_name": "ProgressStyleModel",
            "_view_count": null,
            "_view_module": "@jupyter-widgets/base",
            "_view_module_version": "1.2.0",
            "_view_name": "StyleView",
            "bar_color": null,
            "description_width": ""
          }
        },
        "62dd740d97ec4858b75f7ffec3addbbb": {
          "model_module": "@jupyter-widgets/base",
          "model_name": "LayoutModel",
          "model_module_version": "1.2.0",
          "state": {
            "_model_module": "@jupyter-widgets/base",
            "_model_module_version": "1.2.0",
            "_model_name": "LayoutModel",
            "_view_count": null,
            "_view_module": "@jupyter-widgets/base",
            "_view_module_version": "1.2.0",
            "_view_name": "LayoutView",
            "align_content": null,
            "align_items": null,
            "align_self": null,
            "border": null,
            "bottom": null,
            "display": null,
            "flex": null,
            "flex_flow": null,
            "grid_area": null,
            "grid_auto_columns": null,
            "grid_auto_flow": null,
            "grid_auto_rows": null,
            "grid_column": null,
            "grid_gap": null,
            "grid_row": null,
            "grid_template_areas": null,
            "grid_template_columns": null,
            "grid_template_rows": null,
            "height": null,
            "justify_content": null,
            "justify_items": null,
            "left": null,
            "margin": null,
            "max_height": null,
            "max_width": null,
            "min_height": null,
            "min_width": null,
            "object_fit": null,
            "object_position": null,
            "order": null,
            "overflow": null,
            "overflow_x": null,
            "overflow_y": null,
            "padding": null,
            "right": null,
            "top": null,
            "visibility": null,
            "width": null
          }
        },
        "930cf9945d8e4567a029de686c49023e": {
          "model_module": "@jupyter-widgets/controls",
          "model_name": "DescriptionStyleModel",
          "model_module_version": "1.5.0",
          "state": {
            "_model_module": "@jupyter-widgets/controls",
            "_model_module_version": "1.5.0",
            "_model_name": "DescriptionStyleModel",
            "_view_count": null,
            "_view_module": "@jupyter-widgets/base",
            "_view_module_version": "1.2.0",
            "_view_name": "StyleView",
            "description_width": ""
          }
        },
        "e4d64e6d39754400830f3267f32c1606": {
          "model_module": "@jupyter-widgets/controls",
          "model_name": "HBoxModel",
          "model_module_version": "1.5.0",
          "state": {
            "_dom_classes": [],
            "_model_module": "@jupyter-widgets/controls",
            "_model_module_version": "1.5.0",
            "_model_name": "HBoxModel",
            "_view_count": null,
            "_view_module": "@jupyter-widgets/controls",
            "_view_module_version": "1.5.0",
            "_view_name": "HBoxView",
            "box_style": "",
            "children": [
              "IPY_MODEL_dd6055010bc34a9389cb57666fa8fa30",
              "IPY_MODEL_a0cf2bd5e92a4935896fabadc51039c5",
              "IPY_MODEL_05715a6d22414185aee5a6122b5da801"
            ],
            "layout": "IPY_MODEL_ea17030b019f47c094619a12636a63c8"
          }
        },
        "dd6055010bc34a9389cb57666fa8fa30": {
          "model_module": "@jupyter-widgets/controls",
          "model_name": "HTMLModel",
          "model_module_version": "1.5.0",
          "state": {
            "_dom_classes": [],
            "_model_module": "@jupyter-widgets/controls",
            "_model_module_version": "1.5.0",
            "_model_name": "HTMLModel",
            "_view_count": null,
            "_view_module": "@jupyter-widgets/controls",
            "_view_module_version": "1.5.0",
            "_view_name": "HTMLView",
            "description": "",
            "description_tooltip": null,
            "layout": "IPY_MODEL_5fef433e1a2c41b498f68081a17d99be",
            "placeholder": "​",
            "style": "IPY_MODEL_e944f2088abd49219a6ba75dbc60d186",
            "value": "Iteration: 100%"
          }
        },
        "a0cf2bd5e92a4935896fabadc51039c5": {
          "model_module": "@jupyter-widgets/controls",
          "model_name": "FloatProgressModel",
          "model_module_version": "1.5.0",
          "state": {
            "_dom_classes": [],
            "_model_module": "@jupyter-widgets/controls",
            "_model_module_version": "1.5.0",
            "_model_name": "FloatProgressModel",
            "_view_count": null,
            "_view_module": "@jupyter-widgets/controls",
            "_view_module_version": "1.5.0",
            "_view_name": "ProgressView",
            "bar_style": "success",
            "description": "",
            "description_tooltip": null,
            "layout": "IPY_MODEL_58be1662185142078be600b0fcd42360",
            "max": 1632,
            "min": 0,
            "orientation": "horizontal",
            "style": "IPY_MODEL_86976f37f7ea470fa4843be0b4e59cf1",
            "value": 1632
          }
        },
        "05715a6d22414185aee5a6122b5da801": {
          "model_module": "@jupyter-widgets/controls",
          "model_name": "HTMLModel",
          "model_module_version": "1.5.0",
          "state": {
            "_dom_classes": [],
            "_model_module": "@jupyter-widgets/controls",
            "_model_module_version": "1.5.0",
            "_model_name": "HTMLModel",
            "_view_count": null,
            "_view_module": "@jupyter-widgets/controls",
            "_view_module_version": "1.5.0",
            "_view_name": "HTMLView",
            "description": "",
            "description_tooltip": null,
            "layout": "IPY_MODEL_edf4317dc8894942b0a2a0af0488687b",
            "placeholder": "​",
            "style": "IPY_MODEL_be0e4d9887cf417d952899fbf54b14eb",
            "value": " 1632/1632 [17:23&lt;00:00,  1.58it/s]"
          }
        },
        "ea17030b019f47c094619a12636a63c8": {
          "model_module": "@jupyter-widgets/base",
          "model_name": "LayoutModel",
          "model_module_version": "1.2.0",
          "state": {
            "_model_module": "@jupyter-widgets/base",
            "_model_module_version": "1.2.0",
            "_model_name": "LayoutModel",
            "_view_count": null,
            "_view_module": "@jupyter-widgets/base",
            "_view_module_version": "1.2.0",
            "_view_name": "LayoutView",
            "align_content": null,
            "align_items": null,
            "align_self": null,
            "border": null,
            "bottom": null,
            "display": null,
            "flex": null,
            "flex_flow": null,
            "grid_area": null,
            "grid_auto_columns": null,
            "grid_auto_flow": null,
            "grid_auto_rows": null,
            "grid_column": null,
            "grid_gap": null,
            "grid_row": null,
            "grid_template_areas": null,
            "grid_template_columns": null,
            "grid_template_rows": null,
            "height": null,
            "justify_content": null,
            "justify_items": null,
            "left": null,
            "margin": null,
            "max_height": null,
            "max_width": null,
            "min_height": null,
            "min_width": null,
            "object_fit": null,
            "object_position": null,
            "order": null,
            "overflow": null,
            "overflow_x": null,
            "overflow_y": null,
            "padding": null,
            "right": null,
            "top": null,
            "visibility": null,
            "width": null
          }
        },
        "5fef433e1a2c41b498f68081a17d99be": {
          "model_module": "@jupyter-widgets/base",
          "model_name": "LayoutModel",
          "model_module_version": "1.2.0",
          "state": {
            "_model_module": "@jupyter-widgets/base",
            "_model_module_version": "1.2.0",
            "_model_name": "LayoutModel",
            "_view_count": null,
            "_view_module": "@jupyter-widgets/base",
            "_view_module_version": "1.2.0",
            "_view_name": "LayoutView",
            "align_content": null,
            "align_items": null,
            "align_self": null,
            "border": null,
            "bottom": null,
            "display": null,
            "flex": null,
            "flex_flow": null,
            "grid_area": null,
            "grid_auto_columns": null,
            "grid_auto_flow": null,
            "grid_auto_rows": null,
            "grid_column": null,
            "grid_gap": null,
            "grid_row": null,
            "grid_template_areas": null,
            "grid_template_columns": null,
            "grid_template_rows": null,
            "height": null,
            "justify_content": null,
            "justify_items": null,
            "left": null,
            "margin": null,
            "max_height": null,
            "max_width": null,
            "min_height": null,
            "min_width": null,
            "object_fit": null,
            "object_position": null,
            "order": null,
            "overflow": null,
            "overflow_x": null,
            "overflow_y": null,
            "padding": null,
            "right": null,
            "top": null,
            "visibility": null,
            "width": null
          }
        },
        "e944f2088abd49219a6ba75dbc60d186": {
          "model_module": "@jupyter-widgets/controls",
          "model_name": "DescriptionStyleModel",
          "model_module_version": "1.5.0",
          "state": {
            "_model_module": "@jupyter-widgets/controls",
            "_model_module_version": "1.5.0",
            "_model_name": "DescriptionStyleModel",
            "_view_count": null,
            "_view_module": "@jupyter-widgets/base",
            "_view_module_version": "1.2.0",
            "_view_name": "StyleView",
            "description_width": ""
          }
        },
        "58be1662185142078be600b0fcd42360": {
          "model_module": "@jupyter-widgets/base",
          "model_name": "LayoutModel",
          "model_module_version": "1.2.0",
          "state": {
            "_model_module": "@jupyter-widgets/base",
            "_model_module_version": "1.2.0",
            "_model_name": "LayoutModel",
            "_view_count": null,
            "_view_module": "@jupyter-widgets/base",
            "_view_module_version": "1.2.0",
            "_view_name": "LayoutView",
            "align_content": null,
            "align_items": null,
            "align_self": null,
            "border": null,
            "bottom": null,
            "display": null,
            "flex": null,
            "flex_flow": null,
            "grid_area": null,
            "grid_auto_columns": null,
            "grid_auto_flow": null,
            "grid_auto_rows": null,
            "grid_column": null,
            "grid_gap": null,
            "grid_row": null,
            "grid_template_areas": null,
            "grid_template_columns": null,
            "grid_template_rows": null,
            "height": null,
            "justify_content": null,
            "justify_items": null,
            "left": null,
            "margin": null,
            "max_height": null,
            "max_width": null,
            "min_height": null,
            "min_width": null,
            "object_fit": null,
            "object_position": null,
            "order": null,
            "overflow": null,
            "overflow_x": null,
            "overflow_y": null,
            "padding": null,
            "right": null,
            "top": null,
            "visibility": null,
            "width": null
          }
        },
        "86976f37f7ea470fa4843be0b4e59cf1": {
          "model_module": "@jupyter-widgets/controls",
          "model_name": "ProgressStyleModel",
          "model_module_version": "1.5.0",
          "state": {
            "_model_module": "@jupyter-widgets/controls",
            "_model_module_version": "1.5.0",
            "_model_name": "ProgressStyleModel",
            "_view_count": null,
            "_view_module": "@jupyter-widgets/base",
            "_view_module_version": "1.2.0",
            "_view_name": "StyleView",
            "bar_color": null,
            "description_width": ""
          }
        },
        "edf4317dc8894942b0a2a0af0488687b": {
          "model_module": "@jupyter-widgets/base",
          "model_name": "LayoutModel",
          "model_module_version": "1.2.0",
          "state": {
            "_model_module": "@jupyter-widgets/base",
            "_model_module_version": "1.2.0",
            "_model_name": "LayoutModel",
            "_view_count": null,
            "_view_module": "@jupyter-widgets/base",
            "_view_module_version": "1.2.0",
            "_view_name": "LayoutView",
            "align_content": null,
            "align_items": null,
            "align_self": null,
            "border": null,
            "bottom": null,
            "display": null,
            "flex": null,
            "flex_flow": null,
            "grid_area": null,
            "grid_auto_columns": null,
            "grid_auto_flow": null,
            "grid_auto_rows": null,
            "grid_column": null,
            "grid_gap": null,
            "grid_row": null,
            "grid_template_areas": null,
            "grid_template_columns": null,
            "grid_template_rows": null,
            "height": null,
            "justify_content": null,
            "justify_items": null,
            "left": null,
            "margin": null,
            "max_height": null,
            "max_width": null,
            "min_height": null,
            "min_width": null,
            "object_fit": null,
            "object_position": null,
            "order": null,
            "overflow": null,
            "overflow_x": null,
            "overflow_y": null,
            "padding": null,
            "right": null,
            "top": null,
            "visibility": null,
            "width": null
          }
        },
        "be0e4d9887cf417d952899fbf54b14eb": {
          "model_module": "@jupyter-widgets/controls",
          "model_name": "DescriptionStyleModel",
          "model_module_version": "1.5.0",
          "state": {
            "_model_module": "@jupyter-widgets/controls",
            "_model_module_version": "1.5.0",
            "_model_name": "DescriptionStyleModel",
            "_view_count": null,
            "_view_module": "@jupyter-widgets/base",
            "_view_module_version": "1.2.0",
            "_view_name": "StyleView",
            "description_width": ""
          }
        }
      }
    },
    "accelerator": "GPU"
  },
  "nbformat": 4,
  "nbformat_minor": 0
}